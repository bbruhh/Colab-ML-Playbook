{
  "nbformat": 4,
  "nbformat_minor": 0,
  "metadata": {
    "colab": {
      "name": "demo_breastcancer_neural_network.ipynb",
      "version": "0.3.2",
      "provenance": []
    },
    "kernelspec": {
      "name": "python3",
      "display_name": "Python 3"
    },
    "accelerator": "GPU"
  },
  "cells": [
    {
      "metadata": {
        "id": "L0dT79EZSDtB",
        "colab_type": "text"
      },
      "cell_type": "markdown",
      "source": [
        "<img height=\"60px\" src=\"https://colab.research.google.com/img/colab_favicon.ico\" align=\"left\" hspace=\"20px\" vspace=\"5px\">\n",
        "\n",
        "# Breast Cancer Neural Network Demo"
      ]
    },
    {
      "metadata": {
        "id": "j4gHxXEaSN4g",
        "colab_type": "text"
      },
      "cell_type": "markdown",
      "source": [
        "<table class=\"tfo-notebook-buttons\" align=\"left\">\n",
        "  <td>\n",
        "    <a target=\"_blank\" href=\"https://colab.research.google.com/github/learning-stack/Colab-ML-Playbook/blob/master/Breast%20Cancer%20Neural%20Network%20Demo/demo_breastcancer_neural_network.ipynb\"><img src=\"https://www.tensorflow.org/images/colab_logo_32px.png\" />Run in Google Colab</a>\n",
        "  </td>\n",
        "  <td>\n",
        "    <a target=\"_blank\" href=\"https://github.com/learning-stack/Colab-ML-Playbook/blob/master/Breast%20Cancer%20Neural%20Network%20Demo/demo_breastcancer_neural_network.ipynb\"><img src=\"https://www.tensorflow.org/images/GitHub-Mark-32px.png\" />View source on GitHub</a>\n",
        "  </td>\n",
        "</table>"
      ]
    },
    {
      "metadata": {
        "id": "WOxwQ_IqTDZN",
        "colab_type": "code",
        "colab": {
          "resources": {
            "http://localhost:8080/nbextensions/google.colab/files.js": {
              "data": "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",
              "ok": true,
              "headers": [
                [
                  "content-type",
                  "application/javascript"
                ]
              ],
              "status": 200,
              "status_text": ""
            }
          },
          "base_uri": "https://localhost:8080/",
          "height": 72
        },
        "outputId": "00d25130-16bc-4fc8-ad9a-009b4809dc8a"
      },
      "cell_type": "code",
      "source": [
        "from google.colab import files\n",
        "uploaded = files.upload()"
      ],
      "execution_count": 2,
      "outputs": [
        {
          "output_type": "display_data",
          "data": {
            "text/html": [
              "\n",
              "     <input type=\"file\" id=\"files-0669bc39-48c1-4649-9f69-988ebf180e74\" name=\"files[]\" multiple disabled />\n",
              "     <output id=\"result-0669bc39-48c1-4649-9f69-988ebf180e74\">\n",
              "      Upload widget is only available when the cell has been executed in the\n",
              "      current browser session. Please rerun this cell to enable.\n",
              "      </output>\n",
              "      <script src=\"/nbextensions/google.colab/files.js\"></script> "
            ],
            "text/plain": [
              "<IPython.core.display.HTML object>"
            ]
          },
          "metadata": {
            "tags": []
          }
        },
        {
          "output_type": "stream",
          "text": [
            "Saving breast_cancer.csv to breast_cancer.csv\n"
          ],
          "name": "stdout"
        }
      ]
    },
    {
      "metadata": {
        "id": "pSgrLQiIS3UL",
        "colab_type": "code",
        "colab": {
          "base_uri": "https://localhost:8080/",
          "height": 34
        },
        "outputId": "3edb6549-f9ec-470c-ef07-4368c573c504"
      },
      "cell_type": "code",
      "source": [
        "#Save uploaded file on the Virtual Machine's \n",
        "#Thanks to user3800642 from StackOverflow \n",
        "\n",
        "for fn in uploaded.keys():\n",
        "  print('User uploaded file \"{name}\" with length {length} bytes'.format(\n",
        "name=fn, length=len(uploaded[fn])))"
      ],
      "execution_count": 3,
      "outputs": [
        {
          "output_type": "stream",
          "text": [
            "User uploaded file \"breast_cancer.csv\" with length 125203 bytes\n"
          ],
          "name": "stdout"
        }
      ]
    },
    {
      "metadata": {
        "id": "YjAkyzSyCxDm",
        "colab_type": "code",
        "colab": {
          "base_uri": "https://localhost:8080/",
          "height": 34
        },
        "outputId": "d13cbac7-f349-4522-fc51-5c4b56b74113"
      },
      "cell_type": "code",
      "source": [
        "!ls"
      ],
      "execution_count": 4,
      "outputs": [
        {
          "output_type": "stream",
          "text": [
            "breast_cancer.csv  sample_data\r\n"
          ],
          "name": "stdout"
        }
      ]
    },
    {
      "metadata": {
        "id": "VsluPna2Cypl",
        "colab_type": "code",
        "colab": {}
      },
      "cell_type": "code",
      "source": [
        "import numpy as np\n",
        "import matplotlib.pyplot as plt\n",
        "import pandas as pd\n",
        "\n",
        "#Importing dataset\n",
        "dataset = pd.read_csv('breast_cancer.csv')"
      ],
      "execution_count": 0,
      "outputs": []
    },
    {
      "metadata": {
        "id": "JNMlD8egDEl1",
        "colab_type": "code",
        "colab": {
          "base_uri": "https://localhost:8080/",
          "height": 270
        },
        "outputId": "79dbeee3-fea8-476a-8345-6cf80db28436"
      },
      "cell_type": "code",
      "source": [
        "dataset.head(5)"
      ],
      "execution_count": 6,
      "outputs": [
        {
          "output_type": "execute_result",
          "data": {
            "text/html": [
              "<div>\n",
              "<style scoped>\n",
              "    .dataframe tbody tr th:only-of-type {\n",
              "        vertical-align: middle;\n",
              "    }\n",
              "\n",
              "    .dataframe tbody tr th {\n",
              "        vertical-align: top;\n",
              "    }\n",
              "\n",
              "    .dataframe thead th {\n",
              "        text-align: right;\n",
              "    }\n",
              "</style>\n",
              "<table border=\"1\" class=\"dataframe\">\n",
              "  <thead>\n",
              "    <tr style=\"text-align: right;\">\n",
              "      <th></th>\n",
              "      <th>id</th>\n",
              "      <th>diagnosis</th>\n",
              "      <th>radius_mean</th>\n",
              "      <th>texture_mean</th>\n",
              "      <th>perimeter_mean</th>\n",
              "      <th>area_mean</th>\n",
              "      <th>smoothness_mean</th>\n",
              "      <th>compactness_mean</th>\n",
              "      <th>concavity_mean</th>\n",
              "      <th>concave points_mean</th>\n",
              "      <th>...</th>\n",
              "      <th>radius_worst</th>\n",
              "      <th>texture_worst</th>\n",
              "      <th>perimeter_worst</th>\n",
              "      <th>area_worst</th>\n",
              "      <th>smoothness_worst</th>\n",
              "      <th>compactness_worst</th>\n",
              "      <th>concavity_worst</th>\n",
              "      <th>concave points_worst</th>\n",
              "      <th>symmetry_worst</th>\n",
              "      <th>fractal_dimension_worst</th>\n",
              "    </tr>\n",
              "  </thead>\n",
              "  <tbody>\n",
              "    <tr>\n",
              "      <th>0</th>\n",
              "      <td>842302</td>\n",
              "      <td>M</td>\n",
              "      <td>17.99</td>\n",
              "      <td>10.38</td>\n",
              "      <td>122.80</td>\n",
              "      <td>1001.0</td>\n",
              "      <td>0.11840</td>\n",
              "      <td>0.27760</td>\n",
              "      <td>0.3001</td>\n",
              "      <td>0.14710</td>\n",
              "      <td>...</td>\n",
              "      <td>25.38</td>\n",
              "      <td>17.33</td>\n",
              "      <td>184.60</td>\n",
              "      <td>2019.0</td>\n",
              "      <td>0.1622</td>\n",
              "      <td>0.6656</td>\n",
              "      <td>0.7119</td>\n",
              "      <td>0.2654</td>\n",
              "      <td>0.4601</td>\n",
              "      <td>0.11890</td>\n",
              "    </tr>\n",
              "    <tr>\n",
              "      <th>1</th>\n",
              "      <td>842517</td>\n",
              "      <td>M</td>\n",
              "      <td>20.57</td>\n",
              "      <td>17.77</td>\n",
              "      <td>132.90</td>\n",
              "      <td>1326.0</td>\n",
              "      <td>0.08474</td>\n",
              "      <td>0.07864</td>\n",
              "      <td>0.0869</td>\n",
              "      <td>0.07017</td>\n",
              "      <td>...</td>\n",
              "      <td>24.99</td>\n",
              "      <td>23.41</td>\n",
              "      <td>158.80</td>\n",
              "      <td>1956.0</td>\n",
              "      <td>0.1238</td>\n",
              "      <td>0.1866</td>\n",
              "      <td>0.2416</td>\n",
              "      <td>0.1860</td>\n",
              "      <td>0.2750</td>\n",
              "      <td>0.08902</td>\n",
              "    </tr>\n",
              "    <tr>\n",
              "      <th>2</th>\n",
              "      <td>84300903</td>\n",
              "      <td>M</td>\n",
              "      <td>19.69</td>\n",
              "      <td>21.25</td>\n",
              "      <td>130.00</td>\n",
              "      <td>1203.0</td>\n",
              "      <td>0.10960</td>\n",
              "      <td>0.15990</td>\n",
              "      <td>0.1974</td>\n",
              "      <td>0.12790</td>\n",
              "      <td>...</td>\n",
              "      <td>23.57</td>\n",
              "      <td>25.53</td>\n",
              "      <td>152.50</td>\n",
              "      <td>1709.0</td>\n",
              "      <td>0.1444</td>\n",
              "      <td>0.4245</td>\n",
              "      <td>0.4504</td>\n",
              "      <td>0.2430</td>\n",
              "      <td>0.3613</td>\n",
              "      <td>0.08758</td>\n",
              "    </tr>\n",
              "    <tr>\n",
              "      <th>3</th>\n",
              "      <td>84348301</td>\n",
              "      <td>M</td>\n",
              "      <td>11.42</td>\n",
              "      <td>20.38</td>\n",
              "      <td>77.58</td>\n",
              "      <td>386.1</td>\n",
              "      <td>0.14250</td>\n",
              "      <td>0.28390</td>\n",
              "      <td>0.2414</td>\n",
              "      <td>0.10520</td>\n",
              "      <td>...</td>\n",
              "      <td>14.91</td>\n",
              "      <td>26.50</td>\n",
              "      <td>98.87</td>\n",
              "      <td>567.7</td>\n",
              "      <td>0.2098</td>\n",
              "      <td>0.8663</td>\n",
              "      <td>0.6869</td>\n",
              "      <td>0.2575</td>\n",
              "      <td>0.6638</td>\n",
              "      <td>0.17300</td>\n",
              "    </tr>\n",
              "    <tr>\n",
              "      <th>4</th>\n",
              "      <td>84358402</td>\n",
              "      <td>M</td>\n",
              "      <td>20.29</td>\n",
              "      <td>14.34</td>\n",
              "      <td>135.10</td>\n",
              "      <td>1297.0</td>\n",
              "      <td>0.10030</td>\n",
              "      <td>0.13280</td>\n",
              "      <td>0.1980</td>\n",
              "      <td>0.10430</td>\n",
              "      <td>...</td>\n",
              "      <td>22.54</td>\n",
              "      <td>16.67</td>\n",
              "      <td>152.20</td>\n",
              "      <td>1575.0</td>\n",
              "      <td>0.1374</td>\n",
              "      <td>0.2050</td>\n",
              "      <td>0.4000</td>\n",
              "      <td>0.1625</td>\n",
              "      <td>0.2364</td>\n",
              "      <td>0.07678</td>\n",
              "    </tr>\n",
              "  </tbody>\n",
              "</table>\n",
              "<p>5 rows × 32 columns</p>\n",
              "</div>"
            ],
            "text/plain": [
              "         id diagnosis  radius_mean  texture_mean  perimeter_mean  area_mean  \\\n",
              "0    842302         M        17.99         10.38          122.80     1001.0   \n",
              "1    842517         M        20.57         17.77          132.90     1326.0   \n",
              "2  84300903         M        19.69         21.25          130.00     1203.0   \n",
              "3  84348301         M        11.42         20.38           77.58      386.1   \n",
              "4  84358402         M        20.29         14.34          135.10     1297.0   \n",
              "\n",
              "   smoothness_mean  compactness_mean  concavity_mean  concave points_mean  \\\n",
              "0          0.11840           0.27760          0.3001              0.14710   \n",
              "1          0.08474           0.07864          0.0869              0.07017   \n",
              "2          0.10960           0.15990          0.1974              0.12790   \n",
              "3          0.14250           0.28390          0.2414              0.10520   \n",
              "4          0.10030           0.13280          0.1980              0.10430   \n",
              "\n",
              "            ...             radius_worst  texture_worst  perimeter_worst  \\\n",
              "0           ...                    25.38          17.33           184.60   \n",
              "1           ...                    24.99          23.41           158.80   \n",
              "2           ...                    23.57          25.53           152.50   \n",
              "3           ...                    14.91          26.50            98.87   \n",
              "4           ...                    22.54          16.67           152.20   \n",
              "\n",
              "   area_worst  smoothness_worst  compactness_worst  concavity_worst  \\\n",
              "0      2019.0            0.1622             0.6656           0.7119   \n",
              "1      1956.0            0.1238             0.1866           0.2416   \n",
              "2      1709.0            0.1444             0.4245           0.4504   \n",
              "3       567.7            0.2098             0.8663           0.6869   \n",
              "4      1575.0            0.1374             0.2050           0.4000   \n",
              "\n",
              "   concave points_worst  symmetry_worst  fractal_dimension_worst  \n",
              "0                0.2654          0.4601                  0.11890  \n",
              "1                0.1860          0.2750                  0.08902  \n",
              "2                0.2430          0.3613                  0.08758  \n",
              "3                0.2575          0.6638                  0.17300  \n",
              "4                0.1625          0.2364                  0.07678  \n",
              "\n",
              "[5 rows x 32 columns]"
            ]
          },
          "metadata": {
            "tags": []
          },
          "execution_count": 6
        }
      ]
    },
    {
      "metadata": {
        "id": "jkRaEx4FDSoa",
        "colab_type": "code",
        "colab": {}
      },
      "cell_type": "code",
      "source": [
        "#Seperating dependent and independent variables. \n",
        "\n",
        "X = dataset.iloc[:, 2:32].values  #Note: Exclude Last column with all NaN values.\n",
        "y = dataset.iloc[:, 1].values"
      ],
      "execution_count": 0,
      "outputs": []
    },
    {
      "metadata": {
        "id": "Sy_XHjajzQD5",
        "colab_type": "code",
        "colab": {
          "base_uri": "https://localhost:8080/",
          "height": 34
        },
        "outputId": "cc31b27f-ac24-4a78-e35a-c89ff323de5b"
      },
      "cell_type": "code",
      "source": [
        "X.shape"
      ],
      "execution_count": 8,
      "outputs": [
        {
          "output_type": "execute_result",
          "data": {
            "text/plain": [
              "(569, 30)"
            ]
          },
          "metadata": {
            "tags": []
          },
          "execution_count": 8
        }
      ]
    },
    {
      "metadata": {
        "id": "tOC2Y4_2FdKg",
        "colab_type": "code",
        "colab": {}
      },
      "cell_type": "code",
      "source": [
        "#Encoding Categorical Data\n",
        "from sklearn.preprocessing import LabelEncoder\n",
        "labelencoder = LabelEncoder()\n",
        "\n",
        "y = labelencoder.fit_transform(y)"
      ],
      "execution_count": 0,
      "outputs": []
    },
    {
      "metadata": {
        "id": "KviqCj5KVyKR",
        "colab_type": "code",
        "colab": {
          "base_uri": "https://localhost:8080/",
          "height": 54
        },
        "outputId": "751654e8-f901-45cf-eb1c-dc117c5ce2c9"
      },
      "cell_type": "code",
      "source": [
        "'''#OneHotEncoder\n",
        "from sklearn.preprocessing import OneHotEncoder\n",
        "\n",
        "onehotencoder = OneHotEncoder()\n",
        "y = onehotencoder.fit_transform(y).toarray()\n",
        "y = y[:, 1:]'''"
      ],
      "execution_count": 11,
      "outputs": [
        {
          "output_type": "execute_result",
          "data": {
            "text/plain": [
              "'#OneHotEncoder\\nfrom sklearn.preprocessing import OneHotEncoder\\n\\nonehotencoder = OneHotEncoder()\\ny = onehotencoder.fit_transform(y).toarray()\\ny = y[:, 1:]'"
            ]
          },
          "metadata": {
            "tags": []
          },
          "execution_count": 11
        }
      ]
    },
    {
      "metadata": {
        "id": "pGEasn5XaGrH",
        "colab_type": "code",
        "colab": {
          "base_uri": "https://localhost:8080/",
          "height": 34
        },
        "outputId": "5df1ac4e-e3d8-4e65-a21d-f5460a10bf02"
      },
      "cell_type": "code",
      "source": [
        "y.shape"
      ],
      "execution_count": 12,
      "outputs": [
        {
          "output_type": "execute_result",
          "data": {
            "text/plain": [
              "(569,)"
            ]
          },
          "metadata": {
            "tags": []
          },
          "execution_count": 12
        }
      ]
    },
    {
      "metadata": {
        "id": "N-MZKcZ3LFhA",
        "colab_type": "code",
        "colab": {}
      },
      "cell_type": "code",
      "source": [
        "#Splitting into Training set and Test set\n",
        "from sklearn.model_selection import train_test_split\n",
        "X_train, X_test, y_train, y_test = train_test_split(X, y, test_size = 0.2, random_state = 42)"
      ],
      "execution_count": 0,
      "outputs": []
    },
    {
      "metadata": {
        "id": "_aePbHmfLKJU",
        "colab_type": "code",
        "colab": {}
      },
      "cell_type": "code",
      "source": [
        "#Feature Scaling\n",
        "from sklearn.preprocessing import StandardScaler\n",
        "sc = StandardScaler()\n",
        "X_train = sc.fit_transform(X_train)\n",
        "X_test = sc.fit_transform(X_test)"
      ],
      "execution_count": 0,
      "outputs": []
    },
    {
      "metadata": {
        "id": "qWkaZhrI2-xH",
        "colab_type": "text"
      },
      "cell_type": "markdown",
      "source": [
        "# ANN"
      ]
    },
    {
      "metadata": {
        "id": "0KUtiO2mLsLc",
        "colab_type": "code",
        "colab": {}
      },
      "cell_type": "code",
      "source": [
        "# https://keras.io/\n",
        "!pip install -q keras"
      ],
      "execution_count": 0,
      "outputs": []
    },
    {
      "metadata": {
        "id": "4NXuXJktLuTJ",
        "colab_type": "code",
        "colab": {
          "base_uri": "https://localhost:8080/",
          "height": 34
        },
        "outputId": "b4e83ed3-19f0-4628-ec9c-96c5bfb455fc"
      },
      "cell_type": "code",
      "source": [
        "# Importing the Keras libraries and packages\n",
        "import keras\n",
        "from keras.models import Sequential\n",
        "from keras.layers import Dense"
      ],
      "execution_count": 16,
      "outputs": [
        {
          "output_type": "stream",
          "text": [
            "Using TensorFlow backend.\n"
          ],
          "name": "stderr"
        }
      ]
    },
    {
      "metadata": {
        "id": "Z2K-DkZZLxfs",
        "colab_type": "code",
        "colab": {}
      },
      "cell_type": "code",
      "source": [
        "# Initialising the ANN\n",
        "classifier = Sequential()"
      ],
      "execution_count": 0,
      "outputs": []
    },
    {
      "metadata": {
        "id": "wGDheyKlL1De",
        "colab_type": "code",
        "colab": {}
      },
      "cell_type": "code",
      "source": [
        "# Adding the input layer and the first hidden layer\n",
        "# Input_dim = number of features in the csv file\n",
        "# Unit - defines the number of neurons the layer will consist. A simple way for a beginner is to add the total number of columns in X and y and \n",
        "# divide by 2. (30 + 1)/2 = 15.5 = 16\n",
        "classifier.add(Dense(units = 16, kernel_initializer = 'uniform', activation = 'relu', input_dim = 30))\n",
        "\n",
        "# Adding the second hidden layer. # units same as first layer\n",
        "classifier.add(Dense(units = 16, kernel_initializer = 'uniform', activation = 'relu'))\n",
        "\n",
        "# Adding the output layer\n",
        "classifier.add(Dense(units = 1, kernel_initializer = 'uniform', activation = 'sigmoid'))"
      ],
      "execution_count": 0,
      "outputs": []
    },
    {
      "metadata": {
        "id": "e8bdSoU7M8e_",
        "colab_type": "code",
        "colab": {}
      },
      "cell_type": "code",
      "source": [
        "# Compiling the ANN\n",
        "classifier.compile(optimizer = 'adam', loss = 'binary_crossentropy', metrics = ['accuracy'])"
      ],
      "execution_count": 0,
      "outputs": []
    },
    {
      "metadata": {
        "id": "wJ3Z7jPaM_I4",
        "colab_type": "code",
        "colab": {
          "base_uri": "https://localhost:8080/",
          "height": 3434
        },
        "outputId": "69b3aa77-59c7-43a7-c979-2a30aeb651a7"
      },
      "cell_type": "code",
      "source": [
        "# Fitting the ANN to the Training set\n",
        "# Batch size - number of inputs you wish to simultaneously process\n",
        "# Epoch - entire cycle in which all your data passes through the neural network once.\n",
        "classifier.fit(X_train, y_train, batch_size = 10, epochs = 100)"
      ],
      "execution_count": 21,
      "outputs": [
        {
          "output_type": "stream",
          "text": [
            "Epoch 1/100\n",
            "455/455 [==============================] - 2s 4ms/step - loss: 0.6911 - acc: 0.6154\n",
            "Epoch 2/100\n",
            "455/455 [==============================] - 0s 837us/step - loss: 0.6841 - acc: 0.6286\n",
            "Epoch 3/100\n",
            "455/455 [==============================] - 0s 870us/step - loss: 0.6587 - acc: 0.6286\n",
            "Epoch 4/100\n",
            "455/455 [==============================] - 0s 853us/step - loss: 0.5937 - acc: 0.6286\n",
            "Epoch 5/100\n",
            "455/455 [==============================] - 0s 839us/step - loss: 0.5141 - acc: 0.6286\n",
            "Epoch 6/100\n",
            "455/455 [==============================] - 0s 899us/step - loss: 0.4225 - acc: 0.6286\n",
            "Epoch 7/100\n",
            "455/455 [==============================] - 0s 838us/step - loss: 0.3407 - acc: 0.7451\n",
            "Epoch 8/100\n",
            "455/455 [==============================] - 0s 844us/step - loss: 0.3024 - acc: 0.9714\n",
            "Epoch 9/100\n",
            "455/455 [==============================] - 0s 923us/step - loss: 0.2768 - acc: 0.9846\n",
            "Epoch 10/100\n",
            "455/455 [==============================] - 0s 850us/step - loss: 0.2529 - acc: 0.9824\n",
            "Epoch 11/100\n",
            "455/455 [==============================] - 0s 872us/step - loss: 0.2340 - acc: 0.9846\n",
            "Epoch 12/100\n",
            "455/455 [==============================] - 0s 877us/step - loss: 0.2149 - acc: 0.9868\n",
            "Epoch 13/100\n",
            "455/455 [==============================] - 0s 831us/step - loss: 0.1986 - acc: 0.9824\n",
            "Epoch 14/100\n",
            "455/455 [==============================] - 0s 880us/step - loss: 0.1837 - acc: 0.9846\n",
            "Epoch 15/100\n",
            "455/455 [==============================] - 0s 876us/step - loss: 0.1693 - acc: 0.9846\n",
            "Epoch 16/100\n",
            "455/455 [==============================] - 0s 844us/step - loss: 0.1561 - acc: 0.9868\n",
            "Epoch 17/100\n",
            "455/455 [==============================] - 0s 856us/step - loss: 0.1446 - acc: 0.9868\n",
            "Epoch 18/100\n",
            "455/455 [==============================] - 0s 898us/step - loss: 0.1325 - acc: 0.9868\n",
            "Epoch 19/100\n",
            "455/455 [==============================] - 0s 847us/step - loss: 0.1207 - acc: 0.9868\n",
            "Epoch 20/100\n",
            "455/455 [==============================] - 0s 870us/step - loss: 0.1118 - acc: 0.9868\n",
            "Epoch 21/100\n",
            "455/455 [==============================] - 0s 838us/step - loss: 0.1039 - acc: 0.9890\n",
            "Epoch 22/100\n",
            "455/455 [==============================] - 0s 899us/step - loss: 0.0953 - acc: 0.9890\n",
            "Epoch 23/100\n",
            "455/455 [==============================] - 0s 849us/step - loss: 0.0885 - acc: 0.9890\n",
            "Epoch 24/100\n",
            "455/455 [==============================] - 0s 837us/step - loss: 0.0822 - acc: 0.9868\n",
            "Epoch 25/100\n",
            "455/455 [==============================] - 0s 873us/step - loss: 0.0775 - acc: 0.9890\n",
            "Epoch 26/100\n",
            "455/455 [==============================] - 0s 833us/step - loss: 0.0730 - acc: 0.9912\n",
            "Epoch 27/100\n",
            "455/455 [==============================] - 0s 847us/step - loss: 0.0708 - acc: 0.9890\n",
            "Epoch 28/100\n",
            "455/455 [==============================] - 0s 863us/step - loss: 0.0663 - acc: 0.9912\n",
            "Epoch 29/100\n",
            "455/455 [==============================] - 0s 885us/step - loss: 0.0625 - acc: 0.9912\n",
            "Epoch 30/100\n",
            "455/455 [==============================] - 0s 843us/step - loss: 0.0600 - acc: 0.9934\n",
            "Epoch 31/100\n",
            "455/455 [==============================] - 0s 859us/step - loss: 0.0584 - acc: 0.9912\n",
            "Epoch 32/100\n",
            "455/455 [==============================] - 0s 847us/step - loss: 0.0562 - acc: 0.9934\n",
            "Epoch 33/100\n",
            "455/455 [==============================] - 0s 860us/step - loss: 0.0540 - acc: 0.9934\n",
            "Epoch 34/100\n",
            "455/455 [==============================] - 0s 873us/step - loss: 0.0530 - acc: 0.9934\n",
            "Epoch 35/100\n",
            "455/455 [==============================] - 0s 825us/step - loss: 0.0510 - acc: 0.9934\n",
            "Epoch 36/100\n",
            "455/455 [==============================] - 0s 836us/step - loss: 0.0500 - acc: 0.9934\n",
            "Epoch 37/100\n",
            "455/455 [==============================] - 0s 837us/step - loss: 0.0487 - acc: 0.9934\n",
            "Epoch 38/100\n",
            "455/455 [==============================] - 0s 886us/step - loss: 0.0477 - acc: 0.9934\n",
            "Epoch 39/100\n",
            "455/455 [==============================] - 0s 826us/step - loss: 0.0472 - acc: 0.9934\n",
            "Epoch 40/100\n",
            "455/455 [==============================] - 0s 852us/step - loss: 0.0461 - acc: 0.9934\n",
            "Epoch 41/100\n",
            "455/455 [==============================] - 0s 891us/step - loss: 0.0454 - acc: 0.9934\n",
            "Epoch 42/100\n",
            "455/455 [==============================] - 0s 859us/step - loss: 0.0447 - acc: 0.9934\n",
            "Epoch 43/100\n",
            "455/455 [==============================] - 0s 823us/step - loss: 0.0444 - acc: 0.9934\n",
            "Epoch 44/100\n",
            "455/455 [==============================] - 0s 872us/step - loss: 0.0437 - acc: 0.9934\n",
            "Epoch 45/100\n",
            "455/455 [==============================] - 0s 828us/step - loss: 0.0432 - acc: 0.9934\n",
            "Epoch 46/100\n",
            "455/455 [==============================] - 0s 833us/step - loss: 0.0429 - acc: 0.9934\n",
            "Epoch 47/100\n",
            "455/455 [==============================] - 0s 875us/step - loss: 0.0427 - acc: 0.9934\n",
            "Epoch 48/100\n",
            "455/455 [==============================] - 0s 833us/step - loss: 0.0423 - acc: 0.9934\n",
            "Epoch 49/100\n",
            "455/455 [==============================] - 0s 838us/step - loss: 0.0420 - acc: 0.9934\n",
            "Epoch 50/100\n",
            "455/455 [==============================] - 0s 869us/step - loss: 0.0418 - acc: 0.9934\n",
            "Epoch 51/100\n",
            "455/455 [==============================] - 0s 823us/step - loss: 0.0414 - acc: 0.9934\n",
            "Epoch 52/100\n",
            "455/455 [==============================] - 0s 837us/step - loss: 0.0413 - acc: 0.9934\n",
            "Epoch 53/100\n",
            "455/455 [==============================] - 0s 842us/step - loss: 0.0410 - acc: 0.9934\n",
            "Epoch 54/100\n",
            "455/455 [==============================] - 0s 858us/step - loss: 0.0409 - acc: 0.9934\n",
            "Epoch 55/100\n",
            "455/455 [==============================] - 0s 826us/step - loss: 0.0407 - acc: 0.9934\n",
            "Epoch 56/100\n",
            "455/455 [==============================] - 0s 835us/step - loss: 0.0407 - acc: 0.9934\n",
            "Epoch 57/100\n",
            "455/455 [==============================] - 0s 867us/step - loss: 0.0403 - acc: 0.9934\n",
            "Epoch 58/100\n",
            "455/455 [==============================] - 0s 829us/step - loss: 0.0403 - acc: 0.9934\n",
            "Epoch 59/100\n",
            "455/455 [==============================] - 0s 837us/step - loss: 0.0402 - acc: 0.9934\n",
            "Epoch 60/100\n",
            "455/455 [==============================] - 0s 867us/step - loss: 0.0401 - acc: 0.9934\n",
            "Epoch 61/100\n",
            "455/455 [==============================] - 0s 843us/step - loss: 0.0402 - acc: 0.9934\n",
            "Epoch 62/100\n",
            "455/455 [==============================] - 0s 834us/step - loss: 0.0398 - acc: 0.9934\n",
            "Epoch 63/100\n",
            "455/455 [==============================] - 0s 878us/step - loss: 0.0398 - acc: 0.9934\n",
            "Epoch 64/100\n",
            "455/455 [==============================] - 0s 853us/step - loss: 0.0397 - acc: 0.9934\n",
            "Epoch 65/100\n",
            "455/455 [==============================] - 0s 846us/step - loss: 0.0397 - acc: 0.9934\n",
            "Epoch 66/100\n",
            "455/455 [==============================] - 0s 835us/step - loss: 0.0397 - acc: 0.9934\n",
            "Epoch 67/100\n",
            "455/455 [==============================] - 0s 888us/step - loss: 0.0396 - acc: 0.9934\n",
            "Epoch 68/100\n",
            "455/455 [==============================] - 0s 835us/step - loss: 0.0395 - acc: 0.9934\n",
            "Epoch 69/100\n",
            "455/455 [==============================] - 0s 845us/step - loss: 0.0395 - acc: 0.9934\n",
            "Epoch 70/100\n",
            "455/455 [==============================] - 0s 895us/step - loss: 0.0395 - acc: 0.9934\n",
            "Epoch 71/100\n",
            "455/455 [==============================] - 0s 844us/step - loss: 0.0395 - acc: 0.9934\n",
            "Epoch 72/100\n",
            "455/455 [==============================] - 0s 831us/step - loss: 0.0394 - acc: 0.9934\n",
            "Epoch 73/100\n",
            "455/455 [==============================] - 0s 852us/step - loss: 0.0393 - acc: 0.9934\n",
            "Epoch 74/100\n",
            "455/455 [==============================] - 0s 832us/step - loss: 0.0394 - acc: 0.9934\n",
            "Epoch 75/100\n",
            "455/455 [==============================] - 0s 817us/step - loss: 0.0393 - acc: 0.9934\n",
            "Epoch 76/100\n",
            "455/455 [==============================] - 0s 865us/step - loss: 0.0393 - acc: 0.9934\n",
            "Epoch 77/100\n",
            "455/455 [==============================] - 0s 816us/step - loss: 0.0393 - acc: 0.9934\n",
            "Epoch 78/100\n",
            "455/455 [==============================] - 0s 825us/step - loss: 0.0392 - acc: 0.9934\n",
            "Epoch 79/100\n",
            "455/455 [==============================] - 0s 836us/step - loss: 0.0392 - acc: 0.9934\n",
            "Epoch 80/100\n",
            "455/455 [==============================] - 0s 864us/step - loss: 0.0392 - acc: 0.9934\n",
            "Epoch 81/100\n",
            "455/455 [==============================] - 0s 843us/step - loss: 0.0391 - acc: 0.9934\n",
            "Epoch 82/100\n",
            "455/455 [==============================] - 0s 834us/step - loss: 0.0392 - acc: 0.9934\n",
            "Epoch 83/100\n",
            "455/455 [==============================] - 0s 860us/step - loss: 0.0392 - acc: 0.9934\n",
            "Epoch 84/100\n",
            "455/455 [==============================] - 0s 836us/step - loss: 0.0391 - acc: 0.9934\n",
            "Epoch 85/100\n",
            "455/455 [==============================] - 0s 846us/step - loss: 0.0393 - acc: 0.9934\n",
            "Epoch 86/100\n",
            "455/455 [==============================] - 0s 858us/step - loss: 0.0390 - acc: 0.9934\n",
            "Epoch 87/100\n",
            "455/455 [==============================] - 0s 838us/step - loss: 0.0391 - acc: 0.9934\n",
            "Epoch 88/100\n",
            "455/455 [==============================] - 0s 857us/step - loss: 0.0390 - acc: 0.9934\n",
            "Epoch 89/100\n",
            "455/455 [==============================] - 0s 852us/step - loss: 0.0390 - acc: 0.9934\n",
            "Epoch 90/100\n",
            "455/455 [==============================] - 0s 841us/step - loss: 0.0391 - acc: 0.9934\n",
            "Epoch 91/100\n",
            "455/455 [==============================] - 0s 826us/step - loss: 0.0390 - acc: 0.9934\n",
            "Epoch 92/100\n",
            "455/455 [==============================] - 0s 833us/step - loss: 0.0390 - acc: 0.9934\n",
            "Epoch 93/100\n",
            "455/455 [==============================] - 0s 862us/step - loss: 0.0391 - acc: 0.9934\n",
            "Epoch 94/100\n",
            "455/455 [==============================] - 0s 828us/step - loss: 0.0390 - acc: 0.9934\n",
            "Epoch 95/100\n",
            "455/455 [==============================] - 0s 839us/step - loss: 0.0390 - acc: 0.9934\n",
            "Epoch 96/100\n",
            "455/455 [==============================] - 0s 885us/step - loss: 0.0390 - acc: 0.9934\n",
            "Epoch 97/100\n",
            "455/455 [==============================] - 0s 831us/step - loss: 0.0390 - acc: 0.9934\n",
            "Epoch 98/100\n",
            "455/455 [==============================] - 0s 846us/step - loss: 0.0391 - acc: 0.9934\n",
            "Epoch 99/100\n",
            "455/455 [==============================] - 0s 842us/step - loss: 0.0390 - acc: 0.9934\n",
            "Epoch 100/100\n",
            "455/455 [==============================] - 0s 834us/step - loss: 0.0390 - acc: 0.9934\n"
          ],
          "name": "stdout"
        },
        {
          "output_type": "execute_result",
          "data": {
            "text/plain": [
              "<keras.callbacks.History at 0x7fad359ffbe0>"
            ]
          },
          "metadata": {
            "tags": []
          },
          "execution_count": 21
        }
      ]
    },
    {
      "metadata": {
        "id": "UeFiVvqLNBfq",
        "colab_type": "code",
        "colab": {}
      },
      "cell_type": "code",
      "source": [
        "# Predicting the Test set results\n",
        "y_pred = classifier.predict(X_test)\n",
        "y_pred = (y_pred > 0.5)\n",
        "\n",
        "# Making the Confusion Matrix\n",
        "from sklearn.metrics import confusion_matrix\n",
        "cm = confusion_matrix(y_test, y_pred)   "
      ],
      "execution_count": 0,
      "outputs": []
    },
    {
      "metadata": {
        "id": "f_aHVatt1GUF",
        "colab_type": "code",
        "colab": {
          "base_uri": "https://localhost:8080/",
          "height": 51
        },
        "outputId": "a21b2ff1-fd81-4818-d706-9060689abd98"
      },
      "cell_type": "code",
      "source": [
        "cm"
      ],
      "execution_count": 23,
      "outputs": [
        {
          "output_type": "execute_result",
          "data": {
            "text/plain": [
              "array([[70,  1],\n",
              "       [ 2, 41]])"
            ]
          },
          "metadata": {
            "tags": []
          },
          "execution_count": 23
        }
      ]
    },
    {
      "metadata": {
        "id": "JTmXzrD0e0Hf",
        "colab_type": "code",
        "colab": {}
      },
      "cell_type": "code",
      "source": [
        ""
      ],
      "execution_count": 0,
      "outputs": []
    }
  ]
}