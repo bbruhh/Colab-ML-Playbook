{
  "nbformat": 4,
  "nbformat_minor": 0,
  "metadata": {
    "colab": {
      "name": "Easy_Intro_to_NLP.ipynb",
      "version": "0.3.2",
      "provenance": []
    },
    "kernelspec": {
      "display_name": "Python 3",
      "language": "python",
      "name": "python3"
    },
    "accelerator": "GPU"
  },
  "cells": [
    {
      "metadata": {
        "id": "nXvh6RWFYxqf",
        "colab_type": "text"
      },
      "cell_type": "markdown",
      "source": [
        "# Natural Language Processing is Fun!\n",
        "## An NLP workshop by Adam Geitgey"
      ]
    },
    {
      "metadata": {
        "id": "J68RdnsSZDPN",
        "colab_type": "text"
      },
      "cell_type": "markdown",
      "source": [
        "* References:\n",
        "\n",
        "https://medium.com/@ageitgey/natural-language-processing-is-fun-9a0bff37854e"
      ]
    },
    {
      "metadata": {
        "id": "dfQwHgbJY4YN",
        "colab_type": "text"
      },
      "cell_type": "markdown",
      "source": [
        "<table class=\"tfo-notebook-buttons\" align=\"left\">\n",
        "  <td>\n",
        "    <a target=\"_blank\" href=\"https://colab.research.google.com/github/learning-stack/Colab-ML-Playbook/blob/master/NLP/Natural%20Language%20Processing%20is%20Fun/NLP_Is_Fun.ipynb\"><img src=\"https://www.tensorflow.org/images/colab_logo_32px.png\" />Run in Google Colab</a>\n",
        "  </td>\n",
        "  <td>\n",
        "    <a target=\"_blank\" href=\"https://github.com/learning-stack/Colab-ML-Playbook/blob/master/NLP/Natural%20Language%20Processing%20is%20Fun/NLP_Is_Fun.ipynb\"><img src=\"https://www.tensorflow.org/images/GitHub-Mark-32px.png\" />View source on GitHub</a>\n",
        "  </td>\n",
        "</table>"
      ]
    },
    {
      "metadata": {
        "id": "l_eZojx53unq",
        "colab_type": "code",
        "colab": {}
      },
      "cell_type": "code",
      "source": [
        "### Installing spaCy, general Python NLP lib\n",
        "!pip3 install spacy\n",
        "\n",
        "### Downloading the English dictionary model for spaCy\n",
        "!python3 -m spacy download en_core_web_lg\n",
        "\n",
        "### Installing textacy, basically a useful add-on to spaCy\n",
        "!pip3 install textacy"
      ],
      "execution_count": 0,
      "outputs": []
    }
  ]
}