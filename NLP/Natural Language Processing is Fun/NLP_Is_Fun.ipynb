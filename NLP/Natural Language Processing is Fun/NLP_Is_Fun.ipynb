{
  "nbformat": 4,
  "nbformat_minor": 0,
  "metadata": {
    "colab": {
      "name": "NLP_Is_Fun.ipynb",
      "version": "0.3.2",
      "provenance": []
    },
    "kernelspec": {
      "display_name": "Python 3",
      "language": "python",
      "name": "python3"
    },
    "accelerator": "GPU"
  },
  "cells": [
    {
      "metadata": {
        "id": "nXvh6RWFYxqf",
        "colab_type": "text"
      },
      "cell_type": "markdown",
      "source": [
        "# Natural Language Processing is Fun!\n",
        "## An NLP workshop by Adam Geitgey"
      ]
    },
    {
      "metadata": {
        "id": "J68RdnsSZDPN",
        "colab_type": "text"
      },
      "cell_type": "markdown",
      "source": [
        "* References:\n",
        "\n",
        "https://medium.com/@ageitgey/natural-language-processing-is-fun-9a0bff37854e"
      ]
    },
    {
      "metadata": {
        "id": "dfQwHgbJY4YN",
        "colab_type": "text"
      },
      "cell_type": "markdown",
      "source": [
        "<table class=\"tfo-notebook-buttons\" align=\"left\">\n",
        "  <td>\n",
        "    <a target=\"_blank\" href=\"https://colab.research.google.com/github/learning-stack/Colab-ML-Playbook/blob/master/NLP/Natural%20Language%20Processing%20is%20Fun/NLP_Is_Fun.ipynb\"><img src=\"https://www.tensorflow.org/images/colab_logo_32px.png\" />Run in Google Colab</a>\n",
        "  </td>\n",
        "  <td>\n",
        "    <a target=\"_blank\" href=\"https://github.com/learning-stack/Colab-ML-Playbook/blob/master/NLP/Natural%20Language%20Processing%20is%20Fun/NLP_Is_Fun.ipynb\"><img src=\"https://www.tensorflow.org/images/GitHub-Mark-32px.png\" />View source on GitHub</a>\n",
        "  </td>\n",
        "</table>"
      ]
    },
    {
      "metadata": {
        "id": "xDYCp0jRvmWe",
        "colab_type": "text"
      },
      "cell_type": "markdown",
      "source": [
        "**Building an NLP Pipeline, Step-by-Step**\n",
        "Step 1: Sentence Segmentation\n",
        "Step 2: Word Tokenization\n",
        "Step 3: Predicting Parts of Speech for Each Token\n",
        "Step 4: Text Lemmatization\n",
        "Step 5: Identifying Stop Words\n",
        "Step 6: Dependency Parsing\n",
        "Step 6b: Finding Noun Phrases\n",
        "Step 7: Named Entity Recognition (NER)\n",
        "Step 8: Coreference Resolution\n",
        "![alt text](https://cdn-images-1.medium.com/max/1400/1*zHLs87sp8R61ehUoXepWHA.png)"
      ]
    },
    {
      "metadata": {
        "id": "2iU3-BiEwJfG",
        "colab_type": "code",
        "colab": {}
      },
      "cell_type": "code",
      "source": [
        "# Install spaCy \n",
        "pip3 install -U spacy\n",
        "\n",
        "# Download the large English model for spaCy\n",
        "python3 -m spacy download en_core_web_lg\n",
        "\n",
        "# Install textacy which will also be useful\n",
        "pip3 install -U textacy"
      ],
      "execution_count": 0,
      "outputs": []
    },
    {
      "metadata": {
        "id": "nNBq_cyjwPNG",
        "colab_type": "code",
        "colab": {}
      },
      "cell_type": "code",
      "source": [
        "import spacy\n",
        "\n",
        "# Load the large English NLP model\n",
        "nlp = spacy.load('en_core_web_lg')\n",
        "\n",
        "# The text we want to examine\n",
        "text = \"\"\"London is the capital and most populous city of England and \n",
        "the United Kingdom.  Standing on the River Thames in the south east \n",
        "of the island of Great Britain, London has been a major settlement \n",
        "for two millennia. It was founded by the Romans, who named it Londinium.\n",
        "\"\"\"\n",
        "\n",
        "# Parse the text with spaCy. This runs the entire pipeline.\n",
        "doc = nlp(text)\n",
        "\n",
        "# 'doc' now contains a parsed version of text. We can use it to do anything we want!\n",
        "# For example, this will print out all the named entities that were detected:\n",
        "for entity in doc.ents:\n",
        "    print(f\"{entity.text} ({entity.label_})\")"
      ],
      "execution_count": 0,
      "outputs": []
    }
  ]
}