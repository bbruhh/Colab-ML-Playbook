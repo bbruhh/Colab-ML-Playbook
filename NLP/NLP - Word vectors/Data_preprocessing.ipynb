{
  "nbformat": 4,
  "nbformat_minor": 0,
  "metadata": {
    "colab": {
      "name": "Data_preprocessing.ipynb",
      "version": "0.3.2",
      "provenance": []
    },
    "kernelspec": {
      "display_name": "Python 3",
      "language": "python",
      "name": "python3"
    }
  },
  "cells": [
    {
      "metadata": {
        "id": "o_RAI252GwQX",
        "colab_type": "text"
      },
      "cell_type": "markdown",
      "source": [
        "# NLP - Code for Word2Vec neural network (Tensorflow)\n",
        "## by Madhu Sanjeevi"
      ]
    },
    {
      "metadata": {
        "id": "CRoTfR4vG1pt",
        "colab_type": "text"
      },
      "cell_type": "markdown",
      "source": [
        "https://medium.com/deep-math-machine-learning-ai/chapter-9-1-nlp-word-vectors-d51bff9628c1"
      ]
    },
    {
      "metadata": {
        "id": "lYypl3nmHQ7E",
        "colab_type": "text"
      },
      "cell_type": "markdown",
      "source": [
        "<table class=\"tfo-notebook-buttons\" align=\"left\">\n",
        "  <td>\n",
        "    <a target=\"_blank\" href=\"https://colab.research.google.com/github/learning-stack/Colab-ML-Playbook/blob/master/NLP/NLP%20-%20Word%20vectors/Data_preprocessing.ipynb\"><img src=\"https://www.tensorflow.org/images/colab_logo_32px.png\" />Run in Google Colab</a>\n",
        "  </td>\n",
        "  <td>\n",
        "    <a target=\"_blank\" href=\"https://github.com/learning-stack/Colab-ML-Playbook/blob/master/NLP/NLP%20-%20Word%20vectors/Data_preprocessing.ipynb\"><img src=\"https://www.tensorflow.org/images/GitHub-Mark-32px.png\" />View source on GitHub</a>\n",
        "  </td>\n",
        "</table>"
      ]
    },
    {
      "metadata": {
        "id": "0z6GKDTNGqoT",
        "colab_type": "text"
      },
      "cell_type": "markdown",
      "source": [
        "### Tokenization"
      ]
    },
    {
      "metadata": {
        "id": "jhKGxl5PGqoW",
        "colab_type": "code",
        "colab": {},
        "outputId": "2987d9bc-01d9-49b2-bc71-3d0515f4f03a"
      },
      "cell_type": "code",
      "source": [
        "from nltk.tokenize import word_tokenize\n",
        "text = \"I love programming\"\n",
        "word_tokenize(text)"
      ],
      "execution_count": 0,
      "outputs": [
        {
          "output_type": "execute_result",
          "data": {
            "text/plain": [
              "['I', 'love', 'programming']"
            ]
          },
          "metadata": {
            "tags": []
          },
          "execution_count": 1
        }
      ]
    },
    {
      "metadata": {
        "id": "L77k656iGqoe",
        "colab_type": "code",
        "colab": {}
      },
      "cell_type": "code",
      "source": [
        "text = \"I love programming and programming also loves me\"\n",
        "tokens=word_tokenize(text)"
      ],
      "execution_count": 0,
      "outputs": []
    },
    {
      "metadata": {
        "id": "3XBqB2QGGqog",
        "colab_type": "code",
        "colab": {},
        "outputId": "503f3d9e-2cae-4b8f-f120-080461e06dc4"
      },
      "cell_type": "code",
      "source": [
        "tokens"
      ],
      "execution_count": 0,
      "outputs": [
        {
          "output_type": "execute_result",
          "data": {
            "text/plain": [
              "['I', 'love', 'programming', 'and', 'programming', 'also', 'loves', 'me']"
            ]
          },
          "metadata": {
            "tags": []
          },
          "execution_count": 3
        }
      ]
    },
    {
      "metadata": {
        "id": "WnUpyCd-Gqok",
        "colab_type": "text"
      },
      "cell_type": "markdown",
      "source": [
        "### Lemmatization"
      ]
    },
    {
      "metadata": {
        "id": "L1VgdwCTGqok",
        "colab_type": "code",
        "colab": {},
        "outputId": "23fbd2f1-2421-4508-ede4-0641f90b9a12"
      },
      "cell_type": "code",
      "source": [
        "from nltk.tokenize import word_tokenize\n",
        "text = \"I love programming and programming also loves me\"\n",
        "tokens=word_tokenize(text)\n",
        "\n",
        "from nltk.stem import WordNetLemmatizer\n",
        "lemmatizer = WordNetLemmatizer()\n",
        "tokens=[lemmatizer.lemmatize(word) for word in tokens]\n",
        "print(tokens)"
      ],
      "execution_count": 0,
      "outputs": [
        {
          "output_type": "stream",
          "text": [
            "['I', 'love', 'programming', 'and', 'programming', 'also', 'love', 'me']\n"
          ],
          "name": "stdout"
        }
      ]
    },
    {
      "metadata": {
        "id": "wM5Ys0ORGqoq",
        "colab_type": "text"
      },
      "cell_type": "markdown",
      "source": [
        "### Stemming"
      ]
    },
    {
      "metadata": {
        "id": "1A-K4uwmGqoq",
        "colab_type": "code",
        "colab": {},
        "outputId": "6c106e46-8b37-4955-f098-78e52a8775bf"
      },
      "cell_type": "code",
      "source": [
        "from nltk.stem import PorterStemmer\n",
        "from nltk.tokenize import word_tokenize\n",
        "text = \"I love programming and programming also loves me\"\n",
        "tokens=word_tokenize(text.lower())\n",
        "\n",
        "ps = PorterStemmer()\n",
        "tokens=[ps.stem(word) for word in tokens]\n",
        "print(tokens)"
      ],
      "execution_count": 0,
      "outputs": [
        {
          "output_type": "stream",
          "text": [
            "['i', 'love', 'program', 'and', 'program', 'also', 'love', 'me']\n"
          ],
          "name": "stdout"
        }
      ]
    },
    {
      "metadata": {
        "id": "bqoQg1b2Gqou",
        "colab_type": "text"
      },
      "cell_type": "markdown",
      "source": [
        "### Stop words"
      ]
    },
    {
      "metadata": {
        "scrolled": false,
        "id": "PvObq_QPGqov",
        "colab_type": "code",
        "colab": {},
        "outputId": "2c188d7c-f9fa-44dc-e59c-394a8ddd85e1"
      },
      "cell_type": "code",
      "source": [
        "import nltk\n",
        "stopwords = nltk.corpus.stopwords.words('english')\n",
        "print(stopwords)"
      ],
      "execution_count": 0,
      "outputs": [
        {
          "output_type": "stream",
          "text": [
            "['i', 'me', 'my', 'myself', 'we', 'our', 'ours', 'ourselves', 'you', 'your', 'yours', 'yourself', 'yourselves', 'he', 'him', 'his', 'himself', 'she', 'her', 'hers', 'herself', 'it', 'its', 'itself', 'they', 'them', 'their', 'theirs', 'themselves', 'what', 'which', 'who', 'whom', 'this', 'that', 'these', 'those', 'am', 'is', 'are', 'was', 'were', 'be', 'been', 'being', 'have', 'has', 'had', 'having', 'do', 'does', 'did', 'doing', 'a', 'an', 'the', 'and', 'but', 'if', 'or', 'because', 'as', 'until', 'while', 'of', 'at', 'by', 'for', 'with', 'about', 'against', 'between', 'into', 'through', 'during', 'before', 'after', 'above', 'below', 'to', 'from', 'up', 'down', 'in', 'out', 'on', 'off', 'over', 'under', 'again', 'further', 'then', 'once', 'here', 'there', 'when', 'where', 'why', 'how', 'all', 'any', 'both', 'each', 'few', 'more', 'most', 'other', 'some', 'such', 'no', 'nor', 'not', 'only', 'own', 'same', 'so', 'than', 'too', 'very', 's', 't', 'can', 'will', 'just', 'don', 'should', 'now', 'd', 'll', 'm', 'o', 're', 've', 'y', 'ain', 'aren', 'couldn', 'didn', 'doesn', 'hadn', 'hasn', 'haven', 'isn', 'ma', 'mightn', 'mustn', 'needn', 'shan', 'shouldn', 'wasn', 'weren', 'won', 'wouldn']\n"
          ],
          "name": "stdout"
        }
      ]
    },
    {
      "metadata": {
        "id": "9bUW8KVLGqoy",
        "colab_type": "code",
        "colab": {},
        "outputId": "74fef971-f49d-4225-cfeb-d887ad77e9eb"
      },
      "cell_type": "code",
      "source": [
        "newtokens=[]\n",
        "for token in tokens:\n",
        "    if token not in stopwords:\n",
        "        newtokens.append(token)\n",
        "        \n",
        "print(newtokens)"
      ],
      "execution_count": 0,
      "outputs": [
        {
          "output_type": "stream",
          "text": [
            "['love', 'program', 'program', 'also', 'love']\n"
          ],
          "name": "stdout"
        }
      ]
    },
    {
      "metadata": {
        "id": "fDdUqHK-Gqo1",
        "colab_type": "text"
      },
      "cell_type": "markdown",
      "source": [
        "### Normalization"
      ]
    },
    {
      "metadata": {
        "id": "6JLGFSjYGqo3",
        "colab_type": "code",
        "colab": {},
        "outputId": "980f0140-9f85-4b19-fb5f-d232beb4fdc7"
      },
      "cell_type": "code",
      "source": [
        "tweet = 'China has new \"AI Development Plan.\" I think this will really help Chinese and global AI. http://www.gov.cn/zhengce/content/2017-07/20/content_5211996.htm'\n",
        "print(tweet)"
      ],
      "execution_count": 0,
      "outputs": [
        {
          "output_type": "stream",
          "text": [
            "China has new \"AI Development Plan.\" I think this will really help Chinese and global AI. http://www.gov.cn/zhengce/content/2017-07/20/content_5211996.htm\n"
          ],
          "name": "stdout"
        }
      ]
    },
    {
      "metadata": {
        "id": "7oUugI7gGqo8",
        "colab_type": "code",
        "colab": {}
      },
      "cell_type": "code",
      "source": [
        "import re\n",
        "def normalize_text(text):\n",
        "    text=text.lower()\n",
        "    text = re.sub('((www\\.[^\\s]+)|(https?://[^\\s]+)|(pic\\.twitter\\.com/[^\\s]+))','', text)\n",
        "    text = re.sub('@[^\\s]+','', text)\n",
        "    text = re.sub('#([^\\s]+)', '', text)\n",
        "    text = re.sub('[:;>?<=*+()&,\\-#!$%\\{˜|\\}\\[^_\\\\@\\]1234567890’‘]',' ', text)\n",
        "    text = re.sub('[\\d]','', text)\n",
        "    text = text.replace(\".\", '')\n",
        "    text = text.replace(\"'\", '')\n",
        "    text = text.replace(\"`\", '')\n",
        "    text = text.replace(\"'s\", '')\n",
        "    text = text.replace(\"/\", ' ')\n",
        "    text = text.replace(\"\\\"\", ' ')\n",
        "    text = text.replace(\"\\\\\", '')\n",
        "    #text =  re.sub(r\"\\b[a-z]\\b\", \"\", text)\n",
        "    text=re.sub( '\\s+', ' ', text).strip()\n",
        "    \n",
        "    return text"
      ],
      "execution_count": 0,
      "outputs": []
    },
    {
      "metadata": {
        "id": "dq66fa4HGqo_",
        "colab_type": "code",
        "colab": {},
        "outputId": "22dce4de-cf71-42ae-f563-b91e235d763b"
      },
      "cell_type": "code",
      "source": [
        "normalized_tweet=normalize_text(tweet)\n",
        "print(normalized_tweet)"
      ],
      "execution_count": 0,
      "outputs": [
        {
          "output_type": "stream",
          "text": [
            "china has new ai development plan i think this will really help chinese and global ai\n"
          ],
          "name": "stdout"
        }
      ]
    },
    {
      "metadata": {
        "id": "vMH5HaelGqpC",
        "colab_type": "code",
        "colab": {},
        "outputId": "3d5922b0-4705-403e-a1e4-c349afd04f65"
      },
      "cell_type": "code",
      "source": [
        "from nltk.tokenize import word_tokenize\n",
        "tokens=word_tokenize(normalized_tweet)\n",
        "\n",
        "from nltk.stem import WordNetLemmatizer\n",
        "lemmatizer = WordNetLemmatizer()\n",
        "tokens=[lemmatizer.lemmatize(word) for word in tokens]\n",
        "\n",
        "newtokens=[]\n",
        "for token in tokens:\n",
        "    if token not in stopwords:\n",
        "        newtokens.append(token)\n",
        "        \n",
        "print(set(newtokens))"
      ],
      "execution_count": 0,
      "outputs": [
        {
          "output_type": "stream",
          "text": [
            "{'really', 'ai', 'plan', 'think', 'new', 'ha', 'chinese', 'global', 'development', 'china', 'help'}\n"
          ],
          "name": "stdout"
        }
      ]
    },
    {
      "metadata": {
        "id": "VT4lTHIiGqpI",
        "colab_type": "text"
      },
      "cell_type": "markdown",
      "source": [
        "### Document Vectorization"
      ]
    },
    {
      "metadata": {
        "id": "Bv24DlF2GqpK",
        "colab_type": "code",
        "colab": {}
      },
      "cell_type": "code",
      "source": [
        "documents= [' I love programming' , 'Programming also loves me']"
      ],
      "execution_count": 0,
      "outputs": []
    },
    {
      "metadata": {
        "id": "pV2lsP0BGqpP",
        "colab_type": "code",
        "colab": {}
      },
      "cell_type": "code",
      "source": [
        "from nltk.tokenize import word_tokenize\n",
        "from nltk.stem import WordNetLemmatizer\n",
        "lemmatizer = WordNetLemmatizer()\n",
        "docs=[]\n",
        "for document in documents:\n",
        "    text=normalize_text(document)\n",
        "    nl_text=''\n",
        "    for word in word_tokenize(text):\n",
        "        if word not in stopwords:\n",
        "            nl_text+=(lemmatizer.lemmatize(word))+' '\n",
        "    docs.append(nl_text)    "
      ],
      "execution_count": 0,
      "outputs": []
    },
    {
      "metadata": {
        "id": "iuzWrVSuGqpT",
        "colab_type": "code",
        "colab": {},
        "outputId": "69a6bb08-a113-440e-f4eb-3b72a8970f48"
      },
      "cell_type": "code",
      "source": [
        "docs"
      ],
      "execution_count": 0,
      "outputs": [
        {
          "output_type": "execute_result",
          "data": {
            "text/plain": [
              "['love programming ', 'programming also love ']"
            ]
          },
          "metadata": {
            "tags": []
          },
          "execution_count": 14
        }
      ]
    },
    {
      "metadata": {
        "id": "ibu2RjiKGqpc",
        "colab_type": "code",
        "colab": {},
        "outputId": "27db0cf7-dae7-44a1-ed75-3e8295c58fa0"
      },
      "cell_type": "code",
      "source": [
        "import collections\n",
        "words=\" \".join(docs).split() \n",
        "count= collections.Counter(words).most_common()\n",
        "print(count)"
      ],
      "execution_count": 0,
      "outputs": [
        {
          "output_type": "stream",
          "text": [
            "[('love', 2), ('programming', 2), ('also', 1)]\n"
          ],
          "name": "stdout"
        }
      ]
    },
    {
      "metadata": {
        "id": "2_tdxF0MGqpj",
        "colab_type": "code",
        "colab": {},
        "outputId": "95d576b3-5bb0-4c1b-971c-7e029bd4a412"
      },
      "cell_type": "code",
      "source": [
        "#create a lexicon [features]\n",
        "features=[c[0] for c in count]\n",
        "print(features)"
      ],
      "execution_count": 0,
      "outputs": [
        {
          "output_type": "stream",
          "text": [
            "['love', 'programming', 'also']\n"
          ],
          "name": "stdout"
        }
      ]
    },
    {
      "metadata": {
        "id": "j7eRbTxjGqpm",
        "colab_type": "code",
        "colab": {}
      },
      "cell_type": "code",
      "source": [
        "import numpy as np\n",
        "training_examples=[]\n",
        "for doc in docs:\n",
        "    doc_feature_values = np.zeros(len(features))\n",
        "    for word in word_tokenize(doc):\n",
        "        if word in features:\n",
        "            index=features.index(word)\n",
        "            doc_feature_values[index] +=1\n",
        "            \n",
        "    training_examples.append(doc_feature_values)"
      ],
      "execution_count": 0,
      "outputs": []
    },
    {
      "metadata": {
        "id": "79Sywt0pGqpq",
        "colab_type": "code",
        "colab": {},
        "outputId": "269fe456-2ea5-4802-d1bf-63201e32e987"
      },
      "cell_type": "code",
      "source": [
        "training_examples"
      ],
      "execution_count": 0,
      "outputs": [
        {
          "output_type": "execute_result",
          "data": {
            "text/plain": [
              "[array([ 1.,  1.,  0.]), array([ 1.,  1.,  1.])]"
            ]
          },
          "metadata": {
            "tags": []
          },
          "execution_count": 18
        }
      ]
    },
    {
      "metadata": {
        "id": "ndVkaR-iGqpu",
        "colab_type": "code",
        "colab": {},
        "outputId": "895ac798-4f96-4999-9d75-37b8ba60f7d1"
      },
      "cell_type": "code",
      "source": [
        "from sklearn.feature_extraction.text import CountVectorizer\n",
        "vectorizer = CountVectorizer()\n",
        "\n",
        "bow = vectorizer.fit_transform(docs)\n",
        "freqs = [(word, bow.getcol(idx).sum()) for word, idx in vectorizer.vocabulary_.items()]\n",
        "results=sorted (freqs, key = lambda x: -x[1])\n",
        "print(results)"
      ],
      "execution_count": 0,
      "outputs": [
        {
          "output_type": "stream",
          "text": [
            "[('love', 2), ('programming', 2), ('also', 1)]\n"
          ],
          "name": "stdout"
        }
      ]
    },
    {
      "metadata": {
        "id": "ZdlWhEMKGqpx",
        "colab_type": "code",
        "colab": {},
        "outputId": "73eae748-f154-409e-d7b3-06a1ca18c73e"
      },
      "cell_type": "code",
      "source": [
        "import pandas as pd\n",
        "\n",
        "feature_names = vectorizer.get_feature_names()\n",
        "corpus_index = [n for n in docs]\n",
        "\n",
        "df = pd.DataFrame(bow.todense(), index=corpus_index, columns=feature_names)\n",
        "df"
      ],
      "execution_count": 0,
      "outputs": [
        {
          "output_type": "execute_result",
          "data": {
            "text/html": [
              "<div>\n",
              "<style>\n",
              "    .dataframe thead tr:only-child th {\n",
              "        text-align: right;\n",
              "    }\n",
              "\n",
              "    .dataframe thead th {\n",
              "        text-align: left;\n",
              "    }\n",
              "\n",
              "    .dataframe tbody tr th {\n",
              "        vertical-align: top;\n",
              "    }\n",
              "</style>\n",
              "<table border=\"1\" class=\"dataframe\">\n",
              "  <thead>\n",
              "    <tr style=\"text-align: right;\">\n",
              "      <th></th>\n",
              "      <th>also</th>\n",
              "      <th>love</th>\n",
              "      <th>programming</th>\n",
              "    </tr>\n",
              "  </thead>\n",
              "  <tbody>\n",
              "    <tr>\n",
              "      <th>love programming</th>\n",
              "      <td>0</td>\n",
              "      <td>1</td>\n",
              "      <td>1</td>\n",
              "    </tr>\n",
              "    <tr>\n",
              "      <th>programming also love</th>\n",
              "      <td>1</td>\n",
              "      <td>1</td>\n",
              "      <td>1</td>\n",
              "    </tr>\n",
              "  </tbody>\n",
              "</table>\n",
              "</div>"
            ],
            "text/plain": [
              "                        also  love  programming\n",
              "love programming           0     1            1\n",
              "programming also love      1     1            1"
            ]
          },
          "metadata": {
            "tags": []
          },
          "execution_count": 20
        }
      ]
    },
    {
      "metadata": {
        "collapsed": true,
        "id": "URCJfXOGGqp1",
        "colab_type": "text"
      },
      "cell_type": "markdown",
      "source": [
        "### Term frequency and inverse term frequency (TF-IDF)"
      ]
    },
    {
      "metadata": {
        "id": "jl9OtsJyGqp1",
        "colab_type": "code",
        "colab": {},
        "outputId": "8084f8f2-2408-457b-b0b6-0178e0bcdb59"
      },
      "cell_type": "code",
      "source": [
        "from sklearn.feature_extraction.text import TfidfVectorizer\n",
        "\n",
        "vectorizer1 = TfidfVectorizer(sublinear_tf=True, max_df=1.0)\n",
        "bow1 = vectorizer1.fit_transform(docs)\n",
        "\n",
        "freqs1 = [(word, bow1.getcol(idx).sum()) for word, idx in vectorizer1.vocabulary_.items()]\n",
        "results1=sorted (freqs1, key = lambda x: -x[1])\n",
        "print(results1)"
      ],
      "execution_count": 0,
      "outputs": [
        {
          "output_type": "stream",
          "text": [
            "[('love', 1.2086556882809263), ('programming', 1.2086556882809263), ('also', 0.70490948893093264)]\n"
          ],
          "name": "stdout"
        }
      ]
    },
    {
      "metadata": {
        "id": "w0UjCE-sGqp8",
        "colab_type": "code",
        "colab": {},
        "outputId": "05d298e9-364d-42a8-c113-99ed8b9b7baa"
      },
      "cell_type": "code",
      "source": [
        "feature_names = vectorizer1.get_feature_names()\n",
        "corpus_index = [n for n in docs]\n",
        "\n",
        "import pandas as pd\n",
        "df = pd.DataFrame(bow1.todense(), index=corpus_index, columns=feature_names)\n",
        "df"
      ],
      "execution_count": 0,
      "outputs": [
        {
          "output_type": "execute_result",
          "data": {
            "text/html": [
              "<div>\n",
              "<style>\n",
              "    .dataframe thead tr:only-child th {\n",
              "        text-align: right;\n",
              "    }\n",
              "\n",
              "    .dataframe thead th {\n",
              "        text-align: left;\n",
              "    }\n",
              "\n",
              "    .dataframe tbody tr th {\n",
              "        vertical-align: top;\n",
              "    }\n",
              "</style>\n",
              "<table border=\"1\" class=\"dataframe\">\n",
              "  <thead>\n",
              "    <tr style=\"text-align: right;\">\n",
              "      <th></th>\n",
              "      <th>also</th>\n",
              "      <th>love</th>\n",
              "      <th>programming</th>\n",
              "    </tr>\n",
              "  </thead>\n",
              "  <tbody>\n",
              "    <tr>\n",
              "      <th>love programming</th>\n",
              "      <td>0.000000</td>\n",
              "      <td>0.707107</td>\n",
              "      <td>0.707107</td>\n",
              "    </tr>\n",
              "    <tr>\n",
              "      <th>programming also love</th>\n",
              "      <td>0.704909</td>\n",
              "      <td>0.501549</td>\n",
              "      <td>0.501549</td>\n",
              "    </tr>\n",
              "  </tbody>\n",
              "</table>\n",
              "</div>"
            ],
            "text/plain": [
              "                            also      love  programming\n",
              "love programming        0.000000  0.707107     0.707107\n",
              "programming also love   0.704909  0.501549     0.501549"
            ]
          },
          "metadata": {
            "tags": []
          },
          "execution_count": 22
        }
      ]
    },
    {
      "metadata": {
        "id": "RPd5lPghGqqA",
        "colab_type": "code",
        "colab": {}
      },
      "cell_type": "code",
      "source": [
        ""
      ],
      "execution_count": 0,
      "outputs": []
    }
  ]
}