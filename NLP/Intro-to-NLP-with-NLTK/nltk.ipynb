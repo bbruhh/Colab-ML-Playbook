{
  "nbformat": 4,
  "nbformat_minor": 0,
  "metadata": {
    "colab": {
      "name": "Introduction to NLP with NLTK",
      "version": "0.3.2",
      "provenance": [],
      "collapsed_sections": [],
      "toc_visible": true
    },
    "kernelspec": {
      "display_name": "Python 3",
      "name": "python3"
    }
  },
  "cells": [
    {
      "metadata": {
        "id": "9J7p406abzgl",
        "colab_type": "text"
      },
      "cell_type": "markdown",
      "source": [
        "<img height=\"60px\" src=\"https://colab.research.google.com/img/colab_favicon.ico\" align=\"left\" hspace=\"20px\" vspace=\"5px\">\n",
        "\n",
        "<h1>Introduction to NLP with NLTK</h1>\n"
      ]
    },
    {
      "metadata": {
        "id": "E5UsQ0QTsqIO",
        "colab_type": "text"
      },
      "cell_type": "markdown",
      "source": [
        "<table class=\"tfo-notebook-buttons\" align=\"left\">\n",
        "  <td>\n",
        "    <a target=\"_blank\" href=\"https://colab.research.google.com/github/learning-stack/Colab-ML-Playbook/blob/master/Intro-to-NLP-with-NLTK/nltk.ipynb\"><img src=\"https://www.tensorflow.org/images/colab_logo_32px.png\" />Run in Google Colab</a>\n",
        "  </td>\n",
        "  <td>\n",
        "    <a target=\"_blank\" href=\"https://github.com/learning-stack/Colab-ML-Playbook/blob/master/Intro-to-NLP-with-NLTK/nltk.ipynb\"><img src=\"https://www.tensorflow.org/images/GitHub-Mark-32px.png\" />View source on GitHub</a>\n",
        "  </td>\n",
        "</table>"
      ]
    },
    {
      "metadata": {
        "id": "9wi5kfGdhK0R",
        "colab_type": "text"
      },
      "cell_type": "markdown",
      "source": [
        "## I. Text Segmentation\n",
        "Text Segmentation is the process of transforming text into meaningful units. These units can be words, sentences or different topics."
      ]
    },
    {
      "metadata": {
        "id": "oYZkU7ZN3CL0",
        "colab_type": "code",
        "colab": {}
      },
      "cell_type": "code",
      "source": [
        "import nltk \n",
        "from nltk.tokenize import sent_tokenize, word_tokenize\n",
        "\n",
        "text = \"CODE is founded by Mr. Bachem. Studying at CODE will be unlike any other higher education experience. Our intensive, interdisciplinary bachelor’s programs are designed to dramatically improve the way you work and to prepare you for the reality of tomorrow’s workplace.\"\n",
        "\n"
      ],
      "execution_count": 0,
      "outputs": []
    },
    {
      "metadata": {
        "id": "fkJYZgPMuk2W",
        "colab_type": "code",
        "colab": {
          "base_uri": "https://localhost:8080/",
          "height": 88
        },
        "outputId": "e3ed642f-3442-4541-c51c-45fbbf53d931"
      },
      "cell_type": "code",
      "source": [
        "nltk.download('punkt')\n",
        "\n",
        "# split it into sentences\n",
        "print(sent_tokenize(text))\n",
        "\n"
      ],
      "execution_count": 5,
      "outputs": [
        {
          "output_type": "stream",
          "text": [
            "[nltk_data] Downloading package punkt to /root/nltk_data...\n",
            "[nltk_data]   Unzipping tokenizers/punkt.zip.\n",
            "['CODE is founded by Mr. Bachem.', 'Studying at CODE will be unlike any other higher education experience.', 'Our intensive, interdisciplinary bachelor’s programs are designed to dramatically improve the way you work and to prepare you for the reality of tomorrow’s workplace.']\n"
          ],
          "name": "stdout"
        }
      ]
    },
    {
      "metadata": {
        "id": "XgUFHHyEumt-",
        "colab_type": "code",
        "colab": {
          "base_uri": "https://localhost:8080/",
          "height": 54
        },
        "outputId": "ace2551a-3240-4f5c-ea3e-7318bfc14777"
      },
      "cell_type": "code",
      "source": [
        "# split into words\n",
        "print(word_tokenize(text))\n",
        "\n"
      ],
      "execution_count": 6,
      "outputs": [
        {
          "output_type": "stream",
          "text": [
            "['CODE', 'is', 'founded', 'by', 'Mr.', 'Bachem', '.', 'Studying', 'at', 'CODE', 'will', 'be', 'unlike', 'any', 'other', 'higher', 'education', 'experience', '.', 'Our', 'intensive', ',', 'interdisciplinary', 'bachelor', '’', 's', 'programs', 'are', 'designed', 'to', 'dramatically', 'improve', 'the', 'way', 'you', 'work', 'and', 'to', 'prepare', 'you', 'for', 'the', 'reality', 'of', 'tomorrow', '’', 's', 'workplace', '.']\n"
          ],
          "name": "stdout"
        }
      ]
    },
    {
      "metadata": {
        "id": "j1qSUmAXupaV",
        "colab_type": "code",
        "colab": {
          "base_uri": "https://localhost:8080/",
          "height": 34
        },
        "outputId": "a9e1c680-b82e-4719-a4b7-6d13b6a03ad1"
      },
      "cell_type": "code",
      "source": [
        "from nltk.tokenize import sent_tokenize, word_tokenize\n",
        "\n",
        "text = \"beneath the extraodrinary staircase...\"\n",
        "\n",
        "tokenize= sent_tokenize(text)\n",
        "\n",
        "print(word_tokenize(text))"
      ],
      "execution_count": 8,
      "outputs": [
        {
          "output_type": "stream",
          "text": [
            "['beneath', 'the', 'extraodrinary', 'staircase', '...']\n"
          ],
          "name": "stdout"
        }
      ]
    },
    {
      "metadata": {
        "id": "VDz1L3hiut9u",
        "colab_type": "text"
      },
      "cell_type": "markdown",
      "source": [
        "## II. Stop Words & Word Segmentation\n",
        "Also part of Natural Language are words that are basically useless, which are referred to as \"stop words\". Since we dont want that these words extend our processing time or take up unnecessary space in our database, we will remove them."
      ]
    },
    {
      "metadata": {
        "id": "TqWJV9o2u0D2",
        "colab_type": "code",
        "colab": {
          "base_uri": "https://localhost:8080/",
          "height": 51
        },
        "outputId": "f5d84ab3-67ff-412d-b656-d8864584c0ac"
      },
      "cell_type": "code",
      "source": [
        "# Removing stop words from text\n",
        "\n",
        "\n",
        "nltk.download('stopwords')\n",
        "from nltk.corpus import stopwords\n",
        "\n",
        "from nltk.tokenize import word_tokenize\n",
        "\n",
        "text = \"\"\"CODE is founded by Mr. Bachem. Studying at CODE will be unlike \n",
        "any other higher education experience. Our intensive, interdisciplinary \n",
        "bachelor’s programs are designed to dramatically improve the way you work \n",
        "and to prepare you for the reality of tomorrow’s workplace.\"\"\""
      ],
      "execution_count": 9,
      "outputs": [
        {
          "output_type": "stream",
          "text": [
            "[nltk_data] Downloading package stopwords to /root/nltk_data...\n",
            "[nltk_data]   Unzipping corpora/stopwords.zip.\n"
          ],
          "name": "stdout"
        }
      ]
    },
    {
      "metadata": {
        "id": "CMN1EGVZu3xn",
        "colab_type": "code",
        "colab": {}
      },
      "cell_type": "code",
      "source": [
        "# defining the stop words we will use\n",
        "stop_words = set(stopwords.words('english'))\n",
        "\n",
        "tokens = word_tokenize(text)"
      ],
      "execution_count": 0,
      "outputs": []
    },
    {
      "metadata": {
        "id": "fI13uauHu58H",
        "colab_type": "code",
        "colab": {}
      },
      "cell_type": "code",
      "source": [
        "# filter the text for stop words\n",
        "filtered_sentence = [w for w in tokens if not w in stop_words]\n",
        "filtered_sentence = []\n",
        "\n",
        "for w in tokens:\n",
        "    if w not in stop_words:\n",
        "        filtered_sentence.append(w)"
      ],
      "execution_count": 0,
      "outputs": []
    },
    {
      "metadata": {
        "id": "Rtoq6w2-u73P",
        "colab_type": "code",
        "colab": {
          "base_uri": "https://localhost:8080/",
          "height": 54
        },
        "outputId": "de97bb81-356c-40f7-a3d0-2a6fb8f7b540"
      },
      "cell_type": "code",
      "source": [
        "# show just the tokenized text\n",
        "print(tokens)"
      ],
      "execution_count": 12,
      "outputs": [
        {
          "output_type": "stream",
          "text": [
            "['CODE', 'is', 'founded', 'by', 'Mr.', 'Bachem', '.', 'Studying', 'at', 'CODE', 'will', 'be', 'unlike', 'any', 'other', 'higher', 'education', 'experience', '.', 'Our', 'intensive', ',', 'interdisciplinary', 'bachelor', '’', 's', 'programs', 'are', 'designed', 'to', 'dramatically', 'improve', 'the', 'way', 'you', 'work', 'and', 'to', 'prepare', 'you', 'for', 'the', 'reality', 'of', 'tomorrow', '’', 's', 'workplace', '.']\n"
          ],
          "name": "stdout"
        }
      ]
    },
    {
      "metadata": {
        "id": "dqhOp6GMu9v-",
        "colab_type": "code",
        "colab": {
          "base_uri": "https://localhost:8080/",
          "height": 54
        },
        "outputId": "ec53a34f-39d4-4a81-9e6f-28394717589b"
      },
      "cell_type": "code",
      "source": [
        "# show filtered tokenized text\n",
        "print(filtered_sentence)"
      ],
      "execution_count": 13,
      "outputs": [
        {
          "output_type": "stream",
          "text": [
            "['CODE', 'founded', 'Mr.', 'Bachem', '.', 'Studying', 'CODE', 'unlike', 'higher', 'education', 'experience', '.', 'Our', 'intensive', ',', 'interdisciplinary', 'bachelor', '’', 'programs', 'designed', 'dramatically', 'improve', 'way', 'work', 'prepare', 'reality', 'tomorrow', '’', 'workplace', '.']\n"
          ],
          "name": "stdout"
        }
      ]
    },
    {
      "metadata": {
        "id": "7yyq8nrqvHRs",
        "colab_type": "text"
      },
      "cell_type": "markdown",
      "source": [
        "## III. Stemming"
      ]
    },
    {
      "metadata": {
        "id": "G7K64g_3vKZC",
        "colab_type": "code",
        "colab": {}
      },
      "cell_type": "code",
      "source": [
        "from nltk.stem import PorterStemmer\n",
        "from nltk.tokenize import sent_tokenize, word_tokenize\n",
        "\n",
        "ps = PorterStemmer()"
      ],
      "execution_count": 0,
      "outputs": []
    },
    {
      "metadata": {
        "id": "LL1cXBEOvRKU",
        "colab_type": "text"
      },
      "cell_type": "markdown",
      "source": [
        "### Stemming single words:"
      ]
    },
    {
      "metadata": {
        "id": "P8f5yEGTvTeT",
        "colab_type": "code",
        "colab": {}
      },
      "cell_type": "code",
      "source": [
        "\n",
        "example_words  = [\"ride\",\"riding\", \"rider\"]"
      ],
      "execution_count": 0,
      "outputs": []
    },
    {
      "metadata": {
        "id": "HSR-AFQWvU_0",
        "colab_type": "code",
        "colab": {
          "base_uri": "https://localhost:8080/",
          "height": 68
        },
        "outputId": "de84dd85-c59e-4112-ffa1-f52c5e6bf7ac"
      },
      "cell_type": "code",
      "source": [
        "for w in example_words:\n",
        "    print(ps.stem(w))"
      ],
      "execution_count": 18,
      "outputs": [
        {
          "output_type": "stream",
          "text": [
            "ride\n",
            "ride\n",
            "rider\n"
          ],
          "name": "stdout"
        }
      ]
    },
    {
      "metadata": {
        "id": "OHcwldbtvZIc",
        "colab_type": "text"
      },
      "cell_type": "markdown",
      "source": [
        "### Stemming sentences:"
      ]
    },
    {
      "metadata": {
        "id": "0FAUrdJFvcSb",
        "colab_type": "code",
        "colab": {}
      },
      "cell_type": "code",
      "source": [
        "new_text = \"\"\"CODE is a newly founded private university of applied sciences that is embedded into the vibrant \n",
        "network of Berlin's digital economy.\"\"\""
      ],
      "execution_count": 0,
      "outputs": []
    },
    {
      "metadata": {
        "id": "m7JFzF5Jvd01",
        "colab_type": "code",
        "colab": {
          "base_uri": "https://localhost:8080/",
          "height": 408
        },
        "outputId": "f21ba8e0-37cf-4b78-c6f7-4b08bcdfc03f"
      },
      "cell_type": "code",
      "source": [
        "words = word_tokenize(new_text)\n",
        "\n",
        "for w in words:\n",
        "    print(ps.stem(w))"
      ],
      "execution_count": 20,
      "outputs": [
        {
          "output_type": "stream",
          "text": [
            "code\n",
            "is\n",
            "a\n",
            "newli\n",
            "found\n",
            "privat\n",
            "univers\n",
            "of\n",
            "appli\n",
            "scienc\n",
            "that\n",
            "is\n",
            "embed\n",
            "into\n",
            "the\n",
            "vibrant\n",
            "network\n",
            "of\n",
            "berlin\n",
            "'s\n",
            "digit\n",
            "economi\n",
            ".\n"
          ],
          "name": "stdout"
        }
      ]
    },
    {
      "metadata": {
        "id": "rUyVJSvIQxyT",
        "colab_type": "text"
      },
      "cell_type": "markdown",
      "source": [
        "## IV. Parsing (Speech Tagging & Chunking)"
      ]
    },
    {
      "metadata": {
        "id": "CyHtE6HLQ1EJ",
        "colab_type": "text"
      },
      "cell_type": "markdown",
      "source": [
        "### 1. Speech Tagging\n",
        "Speech Tagging in NLTK is the process of labeling words in a sentence as nouns, adjectives, verbs and more.\n",
        "\n",
        "Fortunately, NLTK provides us with a sentence tokenizer called the \"PunktSentenceTokenizer\", which is a un-supervised ML algorithm that can be trained on any text corpus you wish to."
      ]
    },
    {
      "metadata": {
        "id": "lWbolayeQ7mP",
        "colab_type": "code",
        "colab": {}
      },
      "cell_type": "code",
      "source": [
        "import  nltk\n",
        "from nltk.tokenize import PunktSentenceTokenizer"
      ],
      "execution_count": 0,
      "outputs": []
    },
    {
      "metadata": {
        "id": "4r_HTHHGRJic",
        "colab_type": "code",
        "colab": {
          "base_uri": "https://localhost:8080/",
          "height": 102
        },
        "outputId": "374f616f-8f4b-4cda-def9-3a23b225daa6"
      },
      "cell_type": "code",
      "source": [
        "# using novels by chesterton\n",
        "nltk.download('gutenberg')\n",
        "nltk.download('averaged_perceptron_tagger')\n",
        "from nltk.corpus import gutenberg\n",
        "test = gutenberg.raw(\"chesterton-ball.txt\")\n",
        "train = gutenberg.raw(\"chesterton-brown.txt\")"
      ],
      "execution_count": 23,
      "outputs": [
        {
          "output_type": "stream",
          "text": [
            "[nltk_data] Downloading package gutenberg to /root/nltk_data...\n",
            "[nltk_data]   Unzipping corpora/gutenberg.zip.\n",
            "[nltk_data] Downloading package averaged_perceptron_tagger to\n",
            "[nltk_data]     /root/nltk_data...\n",
            "[nltk_data]   Unzipping taggers/averaged_perceptron_tagger.zip.\n"
          ],
          "name": "stdout"
        }
      ]
    },
    {
      "metadata": {
        "id": "BEzUmHMgRMZz",
        "colab_type": "code",
        "colab": {}
      },
      "cell_type": "code",
      "source": [
        "# train tokenizer\n",
        "custom_sent_tokenizer = PunktSentenceTokenizer(train)\n",
        "# tokenize chesterton ball\n",
        "tokenized = custom_sent_tokenizer.tokenize(test)"
      ],
      "execution_count": 0,
      "outputs": []
    },
    {
      "metadata": {
        "id": "Y1mC8Bt8ROR7",
        "colab_type": "code",
        "colab": {
          "base_uri": "https://localhost:8080/",
          "height": 156
        },
        "outputId": "7d903d9b-3191-4bd5-8598-eaba08e95a62"
      },
      "cell_type": "code",
      "source": [
        "def tag_text():\n",
        "    try:\n",
        "        for i in tokenized[:7]:\n",
        "            actual_words = nltk.word_tokenize(i)\n",
        "            tagged = nltk.pos_tag(actual_words)\n",
        "            print(tagged)\n",
        "\n",
        "    except Exception as e:\n",
        "        print(str(e))\n",
        "\n",
        "tag_text()"
      ],
      "execution_count": 25,
      "outputs": [
        {
          "output_type": "stream",
          "text": [
            "[('[', 'IN'), ('The', 'DT'), ('Ball', 'NNP'), ('and', 'CC'), ('The', 'DT'), ('Cross', 'NNP'), ('by', 'IN'), ('G.K', 'NNP'), ('.', '.')]\n",
            "[('Chesterton', 'NNP'), ('1909', 'CD'), (']', 'NN'), ('I', 'PRP'), ('.', '.')]\n",
            "[('A', 'DT'), ('DISCUSSION', 'NNP'), ('SOMEWHAT', 'NNP'), ('IN', 'NNP'), ('THE', 'NNP'), ('AIR', 'NNP'), ('The', 'DT'), ('flying', 'VBG'), ('ship', 'NN'), ('of', 'IN'), ('Professor', 'NNP'), ('Lucifer', 'NNP'), ('sang', 'VBD'), ('through', 'IN'), ('the', 'DT'), ('skies', 'NNS'), ('like', 'IN'), ('a', 'DT'), ('silver', 'NN'), ('arrow', 'NN'), (';', ':'), ('the', 'DT'), ('bleak', 'JJ'), ('white', 'JJ'), ('steel', 'NN'), ('of', 'IN'), ('it', 'PRP'), (',', ','), ('gleaming', 'VBG'), ('in', 'IN'), ('the', 'DT'), ('bleak', 'JJ'), ('blue', 'JJ'), ('emptiness', 'NN'), ('of', 'IN'), ('the', 'DT'), ('evening', 'NN'), ('.', '.')]\n",
            "[('That', 'IN'), ('it', 'PRP'), ('was', 'VBD'), ('far', 'RB'), ('above', 'IN'), ('the', 'DT'), ('earth', 'NN'), ('was', 'VBD'), ('no', 'DT'), ('expression', 'NN'), ('for', 'IN'), ('it', 'PRP'), (';', ':'), ('to', 'TO'), ('the', 'DT'), ('two', 'CD'), ('men', 'NNS'), ('in', 'IN'), ('it', 'PRP'), (',', ','), ('it', 'PRP'), ('seemed', 'VBD'), ('to', 'TO'), ('be', 'VB'), ('far', 'RB'), ('above', 'IN'), ('the', 'DT'), ('stars', 'NNS'), ('.', '.')]\n",
            "[('The', 'DT'), ('professor', 'NN'), ('had', 'VBD'), ('himself', 'PRP'), ('invented', 'VBN'), ('the', 'DT'), ('flying', 'VBG'), ('machine', 'NN'), (',', ','), ('and', 'CC'), ('had', 'VBD'), ('also', 'RB'), ('invented', 'VBN'), ('nearly', 'RB'), ('everything', 'NN'), ('in', 'IN'), ('it', 'PRP'), ('.', '.')]\n",
            "[('Every', 'DT'), ('sort', 'NN'), ('of', 'IN'), ('tool', 'NN'), ('or', 'CC'), ('apparatus', 'NN'), ('had', 'VBD'), (',', ','), ('in', 'IN'), ('consequence', 'NN'), (',', ','), ('to', 'TO'), ('the', 'DT'), ('full', 'JJ'), (',', ','), ('that', 'IN'), ('fantastic', 'JJ'), ('and', 'CC'), ('distorted', 'JJ'), ('look', 'NN'), ('which', 'WDT'), ('belongs', 'VBZ'), ('to', 'TO'), ('the', 'DT'), ('miracles', 'NNS'), ('of', 'IN'), ('science', 'NN'), ('.', '.')]\n",
            "[('For', 'IN'), ('the', 'DT'), ('world', 'NN'), ('of', 'IN'), ('science', 'NN'), ('and', 'CC'), ('evolution', 'NN'), ('is', 'VBZ'), ('far', 'RB'), ('more', 'JJR'), ('nameless', 'JJ'), ('and', 'CC'), ('elusive', 'JJ'), ('and', 'CC'), ('like', 'IN'), ('a', 'DT'), ('dream', 'NN'), ('than', 'IN'), ('the', 'DT'), ('world', 'NN'), ('of', 'IN'), ('poetry', 'NN'), ('and', 'CC'), ('religion', 'NN'), (';', ':'), ('since', 'IN'), ('in', 'IN'), ('the', 'DT'), ('latter', 'JJ'), ('images', 'NNS'), ('and', 'CC'), ('ideas', 'NNS'), ('remain', 'VBP'), ('themselves', 'PRP'), ('eternally', 'RB'), (',', ','), ('while', 'IN'), ('it', 'PRP'), ('is', 'VBZ'), ('the', 'DT'), ('whole', 'JJ'), ('idea', 'NN'), ('of', 'IN'), ('evolution', 'NN'), ('that', 'IN'), ('identities', 'VBZ'), ('melt', 'FW'), ('into', 'IN'), ('each', 'DT'), ('other', 'JJ'), ('as', 'IN'), ('they', 'PRP'), ('do', 'VBP'), ('in', 'IN'), ('a', 'DT'), ('nightmare', 'NN'), ('.', '.')]\n"
          ],
          "name": "stdout"
        }
      ]
    },
    {
      "metadata": {
        "id": "IseyJgGxRW7_",
        "colab_type": "text"
      },
      "cell_type": "markdown",
      "source": [
        "### 2. Chunking Text\n",
        "Chunking is the process of grouping words into more meaningful junks than just the speech tags. This can be things such as \"noun phrases\" or \"verb phrases\". With chunking you can get a parse tree.\n",
        "\n",
        "We will search for chunks that correspond to individual noun phrases."
      ]
    },
    {
      "metadata": {
        "id": "cr3h78KIRY-4",
        "colab_type": "code",
        "colab": {}
      },
      "cell_type": "code",
      "source": [
        "# using pre-tagged text out of simplicity\n",
        "text = [(\"the\", \"DT\"), (\"huge\", \"JJ\"), (\"german\", \"JJ\"), (\"Rottweiler\", \"NN\"), \n",
        "        (\"barked\", \"VBD\"), (\"at\", \"IN\"),  (\"the\", \"DT\"), (\"cat\", \"NN\")]"
      ],
      "execution_count": 0,
      "outputs": []
    },
    {
      "metadata": {
        "id": "96VW0c_PRdFH",
        "colab_type": "code",
        "colab": {
          "base_uri": "https://localhost:8080/",
          "height": 102
        },
        "outputId": "322eb056-748b-4e80-9b5d-4a40634dd401"
      },
      "cell_type": "code",
      "source": [
        "# define a noun-phrase as:\n",
        "# np = determiner + adjective + singular noun\n",
        "grammar = \"NP: {<DT>?<JJ>*<NN>}\" \n",
        "\n",
        "# apply grammar to regexparser\n",
        "cp = nltk.RegexpParser(grammar)\n",
        "\n",
        "# do the chunking\n",
        "result = cp.parse(text) \n",
        "print(result)"
      ],
      "execution_count": 27,
      "outputs": [
        {
          "output_type": "stream",
          "text": [
            "(S\n",
            "  (NP the/DT huge/JJ german/JJ Rottweiler/NN)\n",
            "  barked/VBD\n",
            "  at/IN\n",
            "  (NP the/DT cat/NN))\n"
          ],
          "name": "stdout"
        }
      ]
    },
    {
      "metadata": {
        "id": "5zYi3bIORhBx",
        "colab_type": "text"
      },
      "cell_type": "markdown",
      "source": [
        "## V. Sentiment Analysis using Keras\n",
        "\n",
        "Blogpost: https://towardsdatascience.com/how-to-build-a-neural-network-with-keras-e8faa33d0ae4"
      ]
    },
    {
      "metadata": {
        "id": "bchwewQyRm4V",
        "colab_type": "code",
        "colab": {
          "base_uri": "https://localhost:8080/",
          "height": 493
        },
        "outputId": "2322a7f7-982d-4486-d874-f562b6cfd480"
      },
      "cell_type": "code",
      "source": [
        "import numpy as np\n",
        "from keras.utils import to_categorical\n",
        "from keras import models\n",
        "from keras import layers\n",
        "from keras.datasets import imdb\n",
        "(training_data, training_targets), (testing_data, testing_targets) = imdb.load_data(num_words=10000)\n",
        "data = np.concatenate((training_data, testing_data), axis=0)\n",
        "targets = np.concatenate((training_targets, testing_targets), axis=0)\n",
        "def vectorize(sequences, dimension = 10000):\n",
        " results = np.zeros((len(sequences), dimension))\n",
        " for i, sequence in enumerate(sequences):\n",
        "  results[i, sequence] = 1\n",
        " return results\n",
        " \n",
        "data = vectorize(data)\n",
        "targets = np.array(targets).astype(\"float32\")\n",
        "test_x = data[:10000]\n",
        "test_y = targets[:10000]\n",
        "train_x = data[10000:]\n",
        "train_y = targets[10000:]\n",
        "model = models.Sequential()\n",
        "# Input - Layer\n",
        "model.add(layers.Dense(50, activation = \"relu\", input_shape=(10000, )))\n",
        "# Hidden - Layers\n",
        "model.add(layers.Dropout(0.3, noise_shape=None, seed=None))\n",
        "model.add(layers.Dense(50, activation = \"relu\"))\n",
        "model.add(layers.Dropout(0.2, noise_shape=None, seed=None))\n",
        "model.add(layers.Dense(50, activation = \"relu\"))\n",
        "# Output- Layer\n",
        "model.add(layers.Dense(1, activation = \"sigmoid\"))\n",
        "model.summary()\n",
        "# compiling the model\n",
        "model.compile(\n",
        " optimizer = \"adam\",\n",
        " loss = \"binary_crossentropy\",\n",
        " metrics = [\"accuracy\"]\n",
        ")\n",
        "results = model.fit(\n",
        " train_x, train_y,\n",
        " epochs= 2,\n",
        " batch_size = 500,\n",
        " validation_data = (test_x, test_y)\n",
        ")\n",
        "print(\"Test-Accuracy:\", np.mean(results.history[\"val_acc\"]))"
      ],
      "execution_count": 28,
      "outputs": [
        {
          "output_type": "stream",
          "text": [
            "Using TensorFlow backend.\n"
          ],
          "name": "stderr"
        },
        {
          "output_type": "stream",
          "text": [
            "Downloading data from https://s3.amazonaws.com/text-datasets/imdb.npz\n",
            "17465344/17464789 [==============================] - 2s 0us/step\n",
            "_________________________________________________________________\n",
            "Layer (type)                 Output Shape              Param #   \n",
            "=================================================================\n",
            "dense_1 (Dense)              (None, 50)                500050    \n",
            "_________________________________________________________________\n",
            "dropout_1 (Dropout)          (None, 50)                0         \n",
            "_________________________________________________________________\n",
            "dense_2 (Dense)              (None, 50)                2550      \n",
            "_________________________________________________________________\n",
            "dropout_2 (Dropout)          (None, 50)                0         \n",
            "_________________________________________________________________\n",
            "dense_3 (Dense)              (None, 50)                2550      \n",
            "_________________________________________________________________\n",
            "dense_4 (Dense)              (None, 1)                 51        \n",
            "=================================================================\n",
            "Total params: 505,201\n",
            "Trainable params: 505,201\n",
            "Non-trainable params: 0\n",
            "_________________________________________________________________\n",
            "Train on 40000 samples, validate on 10000 samples\n",
            "Epoch 1/2\n",
            "40000/40000 [==============================] - 6s 159us/step - loss: 0.4041 - acc: 0.8219 - val_loss: 0.2629 - val_acc: 0.8953\n",
            "Epoch 2/2\n",
            "40000/40000 [==============================] - 6s 141us/step - loss: 0.2120 - acc: 0.9192 - val_loss: 0.2592 - val_acc: 0.8940\n",
            "Test-Accuracy: 0.8946499988436699\n"
          ],
          "name": "stdout"
        }
      ]
    },
    {
      "metadata": {
        "id": "d0QgV3aIRuE1",
        "colab_type": "text"
      },
      "cell_type": "markdown",
      "source": [
        "### Example of a IMDB Review:"
      ]
    },
    {
      "metadata": {
        "id": "Wifj6xemRwYF",
        "colab_type": "code",
        "colab": {}
      },
      "cell_type": "code",
      "source": [
        "from keras.datasets import imdb\n",
        "(training_data, training_targets), (testing_data, testing_targets) = imdb.load_data(num_words=10000)\n",
        "data = np.concatenate((training_data, testing_data), axis=0)\n",
        "targets = np.concatenate((training_targets, testing_targets), axis=0)"
      ],
      "execution_count": 0,
      "outputs": []
    },
    {
      "metadata": {
        "id": "Qf-GT3h_Ry1l",
        "colab_type": "code",
        "colab": {
          "base_uri": "https://localhost:8080/",
          "height": 105
        },
        "outputId": "d185127f-a2cf-4742-e6e7-09b5fe941a21"
      },
      "cell_type": "code",
      "source": [
        "index = imdb.get_word_index()\n",
        "reverse_index = dict([(value, key) for (key, value) in index.items()]) \n",
        "decoded = \" \".join( [reverse_index.get(i - 3, \"#\") for i in data[0]] )\n",
        "print(decoded)\n",
        "print(\"Label:\", targets[0], \", which means positive.\")"
      ],
      "execution_count": 30,
      "outputs": [
        {
          "output_type": "stream",
          "text": [
            "Downloading data from https://s3.amazonaws.com/text-datasets/imdb_word_index.json\n",
            "1646592/1641221 [==============================] - 1s 1us/step\n",
            "# this film was just brilliant casting location scenery story direction everyone's really suited the part they played and you could just imagine being there robert # is an amazing actor and now the same being director # father came from the same scottish island as myself so i loved the fact there was a real connection with this film the witty remarks throughout the film were great it was just brilliant so much that i bought the film as soon as it was released for # and would recommend it to everyone to watch and the fly fishing was amazing really cried at the end it was so sad and you know what they say if you cry at a film it must have been good and this definitely was also # to the two little boy's that played the # of norman and paul they were just brilliant children are often left out of the # list i think because the stars that play them all grown up are such a big profile for the whole film but these children are amazing and should be praised for what they have done don't you think the whole story was so lovely because it was true and was someone's life after all that was shared with us all\n",
            "Label: 1 , which means positive.\n"
          ],
          "name": "stdout"
        }
      ]
    }
  ]
}