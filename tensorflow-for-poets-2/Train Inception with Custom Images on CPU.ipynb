{
  "nbformat": 4,
  "nbformat_minor": 0,
  "metadata": {
    "colab": {
      "name": "Train Inception with Custom Images on CPU",
      "version": "0.3.2",
      "provenance": [],
      "collapsed_sections": []
    },
    "kernelspec": {
      "name": "python3",
      "display_name": "Python 3"
    },
    "accelerator": "GPU"
  },
  "cells": [
    {
      "metadata": {
        "id": "03nO0jmsSoYu",
        "colab_type": "text"
      },
      "cell_type": "markdown",
      "source": [
        "#Train Inception with Custom Images on GPU\n",
        "\n",
        "*For retraining Inception Model for Flower classification\n"
      ]
    },
    {
      "metadata": {
        "id": "fMRrW0KyTAqw",
        "colab_type": "text"
      },
      "cell_type": "markdown",
      "source": [
        "<table class=\"tfo-notebook-buttons\" align=\"left\">\n",
        "  <td>\n",
        "    <a target=\"_blank\" href=\"https://colab.research.google.com/github/learning-stack/Colab-ML-Playbook/blob/master/tensorflow-for-poets-2/Train%20Inception%20with%20Custom%20Images%20on%20CPU.ipynb\"><img src=\"https://www.tensorflow.org/images/colab_logo_32px.png\" />Run in Google Colab</a>\n",
        "  </td>\n",
        "  <td>\n",
        "    <a target=\"_blank\" href=\"https://github.com/learning-stack/Colab-ML-Playbook/blob/master/tensorflow-for-poets-2/Train%20Inception%20with%20Custom%20Images%20on%20CPU.ipynb\"><img src=\"https://www.tensorflow.org/images/GitHub-Mark-32px.png\" />View source on GitHub</a>\n",
        "  </td>\n",
        "</table>"
      ]
    },
    {
      "metadata": {
        "id": "gK6ujl03Fuer",
        "colab_type": "code",
        "colab": {}
      },
      "cell_type": "code",
      "source": [
        "import tensorflow as tf\n",
        "import tensorflow.feature_column as fc \n",
        "\n",
        "import os\n",
        "import sys\n",
        "\n",
        "import matplotlib.pyplot as plt\n",
        "from IPython.display import clear_output"
      ],
      "execution_count": 0,
      "outputs": []
    },
    {
      "metadata": {
        "id": "J9NPslG_F2j8",
        "colab_type": "code",
        "colab": {
          "base_uri": "https://localhost:8080/",
          "height": 34
        },
        "outputId": "d6d7e3fe-4942-4954-b50b-f9362d4b22ad"
      },
      "cell_type": "code",
      "source": [
        "! git clone --depth 1 https://github.com/learning-stack/Colab-ML-Playbook"
      ],
      "execution_count": 2,
      "outputs": [
        {
          "output_type": "stream",
          "text": [
            "fatal: destination path 'Colab-ML-Playbook' already exists and is not an empty directory.\r\n"
          ],
          "name": "stdout"
        }
      ]
    },
    {
      "metadata": {
        "id": "vriuYIZwNbK8",
        "colab_type": "code",
        "colab": {
          "base_uri": "https://localhost:8080/",
          "height": 34
        },
        "outputId": "5a6687a0-fa9b-40b0-c32a-1511c30bfc50"
      },
      "cell_type": "code",
      "source": [
        "! mkdir tf_files"
      ],
      "execution_count": 3,
      "outputs": [
        {
          "output_type": "stream",
          "text": [
            "mkdir: cannot create directory ‘tf_files’: File exists\r\n"
          ],
          "name": "stdout"
        }
      ]
    },
    {
      "metadata": {
        "id": "Jn4PcQXiMq51",
        "colab_type": "code",
        "colab": {
          "base_uri": "https://localhost:8080/",
          "height": 204
        },
        "outputId": "4c9abe14-b1b0-4ab5-8c61-5e972bcc961a"
      },
      "cell_type": "code",
      "source": [
        "!wget --no-check-certificate \\\n",
        "   https://storage.googleapis.com/download.tensorflow.org/example_images/flower_photos.tgz -O \\\n",
        "   tf_files/flower_photos.tgz"
      ],
      "execution_count": 0,
      "outputs": [
        {
          "output_type": "stream",
          "text": [
            "--2018-08-23 10:27:19--  https://storage.googleapis.com/download.tensorflow.org/example_images/flower_photos.tgz\r\n",
            "Resolving storage.googleapis.com (storage.googleapis.com)... 74.125.28.128, 2607:f8b0:400e:c07::80\r\n",
            "Connecting to storage.googleapis.com (storage.googleapis.com)|74.125.28.128|:443... connected.\n",
            "HTTP request sent, awaiting response... 200 OK\n",
            "Length: 228813984 (218M) [application/x-compressed-tar]\n",
            "Saving to: ‘tf_files/flower_photos.tgz’\n",
            "\n",
            "tf_files/flower_pho 100%[===================>] 218.21M  92.8MB/s    in 2.4s    \n",
            "\n",
            "2018-08-23 10:27:21 (92.8 MB/s) - ‘tf_files/flower_photos.tgz’ saved [228813984/228813984]\n",
            "\n"
          ],
          "name": "stdout"
        }
      ]
    },
    {
      "metadata": {
        "id": "MBPVAp7WO83H",
        "colab_type": "code",
        "colab": {
          "base_uri": "https://localhost:8080/",
          "height": 34
        },
        "outputId": "f0710ed2-6a2a-49cb-b3fb-f8be50ce186f"
      },
      "cell_type": "code",
      "source": [
        "! dir tf_files"
      ],
      "execution_count": 4,
      "outputs": [
        {
          "output_type": "stream",
          "text": [
            "flower_photos  flower_photos.tgz\r\n"
          ],
          "name": "stdout"
        }
      ]
    },
    {
      "metadata": {
        "id": "hb_RiVGiM8P-",
        "colab_type": "code",
        "colab": {}
      },
      "cell_type": "code",
      "source": [
        "!tar -xf 'tf_files/flower_photos.tgz' -C 'tf_files'\n"
      ],
      "execution_count": 0,
      "outputs": []
    },
    {
      "metadata": {
        "id": "wvCmJzFEVffX",
        "colab_type": "code",
        "colab": {
          "base_uri": "https://localhost:8080/",
          "height": 34
        },
        "outputId": "61996b33-7891-4eec-ece9-d3c922cee6e0"
      },
      "cell_type": "code",
      "source": [
        "! dir tf_files/flower_photos"
      ],
      "execution_count": 5,
      "outputs": [
        {
          "output_type": "stream",
          "text": [
            "daisy  dandelion  LICENSE.txt  roses  sunflowers  tulips\r\n"
          ],
          "name": "stdout"
        }
      ]
    },
    {
      "metadata": {
        "id": "2N8t4oDZS7Pw",
        "colab_type": "code",
        "colab": {
          "base_uri": "https://localhost:8080/",
          "height": 34
        },
        "outputId": "481e8bdb-e681-45a2-d7fe-ef3b466f0f09"
      },
      "cell_type": "code",
      "source": [
        "!python Colab-ML-Playbook/tensorflow-for-poets-2/scripts/retrain.py --output_graph=tf_files/retrained_graph.pb --output_labels=tf_files/retrained_labels.txt --image_dir=tf_files/flower_photos"
      ],
      "execution_count": 6,
      "outputs": [
        {
          "output_type": "stream",
          "text": [
            "python3: can't open file 'scripts/retrain.py': [Errno 2] No such file or directory\r\n"
          ],
          "name": "stdout"
        }
      ]
    },
    {
      "metadata": {
        "id": "d6ArjC4v1LmW",
        "colab_type": "code",
        "colab": {
          "base_uri": "https://localhost:8080/",
          "height": 221
        },
        "outputId": "7b65deac-d470-46b0-893a-127bff5c4e50"
      },
      "cell_type": "code",
      "source": [
        "!wget https://cdn-images-1.medium.com/max/1000/1*h0-TirNRT7rpPb-ZDvUilg.jpeg"
      ],
      "execution_count": 0,
      "outputs": [
        {
          "output_type": "stream",
          "text": [
            "Warning: wildcards not supported in HTTP.\r\n",
            "--2018-08-22 09:26:04--  https://cdn-images-1.medium.com/max/1000/1*h0-TirNRT7rpPb-ZDvUilg.jpeg\r\n",
            "Resolving cdn-images-1.medium.com (cdn-images-1.medium.com)... 104.16.118.145, 104.16.121.145, 104.16.120.145, ...\n",
            "Connecting to cdn-images-1.medium.com (cdn-images-1.medium.com)|104.16.118.145|:443... connected.\n",
            "HTTP request sent, awaiting response... 200 OK\n",
            "Length: 143486 (140K) [image/jpeg]\n",
            "Saving to: ‘1*h0-TirNRT7rpPb-ZDvUilg.jpeg.1’\n",
            "\n",
            "1*h0-TirNRT7rpPb-ZD 100%[===================>] 140.12K  --.-KB/s    in 0.02s   \n",
            "\n",
            "2018-08-22 09:26:04 (8.49 MB/s) - ‘1*h0-TirNRT7rpPb-ZDvUilg.jpeg.1’ saved [143486/143486]\n",
            "\n"
          ],
          "name": "stdout"
        }
      ]
    },
    {
      "metadata": {
        "id": "-v7hhsto1xFo",
        "colab_type": "code",
        "colab": {
          "base_uri": "https://localhost:8080/",
          "height": 394
        },
        "outputId": "6d821543-a2bc-4ee7-8009-08c770cc5770"
      },
      "cell_type": "code",
      "source": [
        "!python tensorflow-for-poets-2/scripts/label_image.py --image 1*h0-TirNRT7rpPb-ZDvUilg.jpeg"
      ],
      "execution_count": 0,
      "outputs": [
        {
          "output_type": "stream",
          "text": [
            "2018-08-22 09:26:07.465956: W tensorflow/core/framework/op_def_util.cc:346] Op BatchNormWithGlobalNormalization is deprecated. It will cease to work in GraphDef version 9. Use tf.nn.batch_normalization().\n",
            "2018-08-22 09:26:07.763436: I tensorflow/stream_executor/cuda/cuda_gpu_executor.cc:897] successful NUMA node read from SysFS had negative value (-1), but there must be at least one NUMA node, so returning NUMA node zero\n",
            "2018-08-22 09:26:07.763982: I tensorflow/core/common_runtime/gpu/gpu_device.cc:1405] Found device 0 with properties: \n",
            "name: Tesla K80 major: 3 minor: 7 memoryClockRate(GHz): 0.8235\n",
            "pciBusID: 0000:00:04.0\n",
            "totalMemory: 11.17GiB freeMemory: 11.10GiB\n",
            "2018-08-22 09:26:07.764022: I tensorflow/core/common_runtime/gpu/gpu_device.cc:1484] Adding visible gpu devices: 0\n",
            "2018-08-22 09:26:08.047490: I tensorflow/core/common_runtime/gpu/gpu_device.cc:965] Device interconnect StreamExecutor with strength 1 edge matrix:\n",
            "2018-08-22 09:26:08.047553: I tensorflow/core/common_runtime/gpu/gpu_device.cc:971]      0 \n",
            "2018-08-22 09:26:08.047586: I tensorflow/core/common_runtime/gpu/gpu_device.cc:984] 0:   N \n",
            "2018-08-22 09:26:08.047923: I tensorflow/core/common_runtime/gpu/gpu_device.cc:1097] Created TensorFlow device (/job:localhost/replica:0/task:0/device:GPU:0 with 10759 MB memory) -> physical GPU (device: 0, name: Tesla K80, pci bus id: 0000:00:04.0, compute capability: 3.7)\n",
            "Traceback (most recent call last):\n",
            "  File \"tensorflow-for-poets-2/scripts/label_image.py\", line 121, in <module>\n",
            "    input_operation = graph.get_operation_by_name(input_name);\n",
            "  File \"/usr/local/lib/python3.6/dist-packages/tensorflow/python/framework/ops.py\", line 3467, in get_operation_by_name\n",
            "    return self.as_graph_element(name, allow_tensor=False, allow_operation=True)\n",
            "  File \"/usr/local/lib/python3.6/dist-packages/tensorflow/python/framework/ops.py\", line 3339, in as_graph_element\n",
            "    return self._as_graph_element_locked(obj, allow_tensor, allow_operation)\n",
            "  File \"/usr/local/lib/python3.6/dist-packages/tensorflow/python/framework/ops.py\", line 3399, in _as_graph_element_locked\n",
            "    \"graph.\" % repr(name))\n",
            "KeyError: \"The name 'import/input' refers to an Operation not in the graph.\"\n"
          ],
          "name": "stdout"
        }
      ]
    }
  ]
}