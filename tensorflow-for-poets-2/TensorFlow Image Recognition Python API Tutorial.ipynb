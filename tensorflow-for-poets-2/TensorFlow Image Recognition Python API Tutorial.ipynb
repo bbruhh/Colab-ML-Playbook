{
  "nbformat": 4,
  "nbformat_minor": 0,
  "metadata": {
    "colab": {
      "name": "TensorFlow - classify image API",
      "version": "0.3.2",
      "provenance": [],
      "private_outputs": true,
      "collapsed_sections": [
        "MWW1TyjaecRh"
      ]
    },
    "kernelspec": {
      "display_name": "Python 3",
      "language": "python",
      "name": "python3"
    }
  },
  "cells": [
    {
      "metadata": {
        "id": "MWW1TyjaecRh",
        "colab_type": "text"
      },
      "cell_type": "markdown",
      "source": [
        "##### Copyright 2018 The TensorFlow Authors."
      ]
    },
    {
      "metadata": {
        "id": "mOtR1FzCef-u",
        "colab_type": "code",
        "colab": {}
      },
      "cell_type": "code",
      "source": [
        "#@title Licensed under the Apache License, Version 2.0 (the \"License\");\n",
        "# you may not use this file except in compliance with the License.\n",
        "# You may obtain a copy of the License at\n",
        "#\n",
        "# https://www.apache.org/licenses/LICENSE-2.0\n",
        "#\n",
        "# Unless required by applicable law or agreed to in writing, software\n",
        "# distributed under the License is distributed on an \"AS IS\" BASIS,\n",
        "# WITHOUT WARRANTIES OR CONDITIONS OF ANY KIND, either express or implied.\n",
        "# See the License for the specific language governing permissions and\n",
        "# limitations under the License."
      ],
      "execution_count": 0,
      "outputs": []
    },
    {
      "metadata": {
        "id": "Zr7KpBhMcYvE",
        "colab_type": "text"
      },
      "cell_type": "markdown",
      "source": [
        "# TensorFlow Image Recognition Python API\n",
        "\n",
        "** Reference: [https://towardsdatascience.com/tensorflow-image-recognition-python-api-e35f7d412a70](https://towardsdatascience.com/tensorflow-image-recognition-python-api-e35f7d412a70)"
      ]
    },
    {
      "metadata": {
        "id": "uJl4gaPFzxQz",
        "colab_type": "text"
      },
      "cell_type": "markdown",
      "source": [
        "<table class=\"tfo-notebook-buttons\" align=\"left\">\n",
        "  <td>\n",
        "    <a target=\"_blank\" href=\"https://colab.research.google.com/github/learning-stack/Colab-ML-Playbook/blob/master/tensorflow-for-poets-2/TensorFlow%20Image%20Recognition%20Python%20API%20Tutorial.ipynb\"><img src=\"https://www.tensorflow.org/images/colab_logo_32px.png\" />Run in Google Colab</a>\n",
        "  </td>\n",
        "  <td>\n",
        "    <a target=\"_blank\" href=\"https://github.com/learning-stack/Colab-ML-Playbook/blob/master/tensorflow-for-poets-2/TensorFlow%20Image%20Recognition%20Python%20API%20Tutorial.ipynb\"><img src=\"https://www.tensorflow.org/images/GitHub-Mark-32px.png\" />View source on GitHub</a>\n",
        "  </td>\n",
        "</table>"
      ]
    },
    {
      "metadata": {
        "id": "NQgONe5ecYvE",
        "colab_type": "code",
        "colab": {}
      },
      "cell_type": "code",
      "source": [
        "import tensorflow as tf\n",
        "import tensorflow.feature_column as fc \n",
        "\n",
        "import os\n",
        "import sys\n",
        "\n",
        "import matplotlib.pyplot as plt\n",
        "from IPython.display import clear_output"
      ],
      "execution_count": 0,
      "outputs": []
    },
    {
      "metadata": {
        "id": "Rpb1JSMj1nqk",
        "colab_type": "text"
      },
      "cell_type": "markdown",
      "source": [
        "And let's enable [eager execution](https://www.tensorflow.org/guide/eager) to inspect this program as we run it:"
      ]
    },
    {
      "metadata": {
        "id": "tQzxON782Eby",
        "colab_type": "code",
        "colab": {}
      },
      "cell_type": "code",
      "source": [
        "tf.enable_eager_execution()"
      ],
      "execution_count": 0,
      "outputs": []
    },
    {
      "metadata": {
        "id": "-MPr95UccYvL",
        "colab_type": "text"
      },
      "cell_type": "markdown",
      "source": [
        "## Download the official implementation\n",
        "\n",
        "We'll use the [wide and deep model](https://github.com/tensorflow/models/tree/master/official/wide_deep/) available in TensorFlow's [model repository](https://github.com/tensorflow/models/). Download the code, add the root directory to your Python path, and jump to the `wide_deep` directory:"
      ]
    },
    {
      "metadata": {
        "id": "tTwQzWcn8aBu",
        "colab_type": "code",
        "colab": {}
      },
      "cell_type": "code",
      "source": [
        "! pip install requests\n",
        "! git clone --depth 1 https://github.com/tensorflow/models"
      ],
      "execution_count": 0,
      "outputs": []
    },
    {
      "metadata": {
        "id": "sRpuysc73Eb-",
        "colab_type": "text"
      },
      "cell_type": "markdown",
      "source": [
        "Add the root directory of the repository to your Python path:"
      ]
    },
    {
      "metadata": {
        "id": "yVvFyhnkcYvL",
        "colab_type": "code",
        "colab": {}
      },
      "cell_type": "code",
      "source": [
        "models_path = os.path.join(os.getcwd(), 'models')\n",
        "\n",
        "sys.path.append(models_path)"
      ],
      "execution_count": 0,
      "outputs": []
    },
    {
      "metadata": {
        "id": "cD5e3ibAcYvS",
        "colab_type": "text"
      },
      "cell_type": "markdown",
      "source": [
        "### Command line usage\n",
        "\n",
        "The repo includes a complete program for experimenting with this type of model.\n",
        "\n",
        "To execute the tutorial code from the command line first add the path to tensorflow/models to your `PYTHONPATH`."
      ]
    },
    {
      "metadata": {
        "id": "DYOkY8boUptJ",
        "colab_type": "code",
        "colab": {}
      },
      "cell_type": "code",
      "source": [
        "#export PYTHONPATH=${PYTHONPATH}:\"$(pwd)/models\"\n",
        "#running from python you need to set the `os.environ` or the subprocess will not see the directory.\n",
        "\n",
        "if \"PYTHONPATH\" in os.environ:\n",
        "  os.environ['PYTHONPATH'] += os.pathsep +  models_path\n",
        "else:\n",
        "  os.environ['PYTHONPATH'] = models_path"
      ],
      "execution_count": 0,
      "outputs": []
    },
    {
      "metadata": {
        "id": "5r0V9YUMUyoh",
        "colab_type": "text"
      },
      "cell_type": "markdown",
      "source": [
        "Use `--help` to see what command line options are available: "
      ]
    },
    {
      "metadata": {
        "id": "1_3tBaLW4YM4",
        "colab_type": "code",
        "colab": {}
      },
      "cell_type": "code",
      "source": [
        "!python -m tutorials.image.imagenet.classify_image --help"
      ],
      "execution_count": 0,
      "outputs": []
    },
    {
      "metadata": {
        "id": "RrMLazEN6DMj",
        "colab_type": "text"
      },
      "cell_type": "markdown",
      "source": [
        "Now run the model:\n"
      ]
    },
    {
      "metadata": {
        "id": "py7MarZl5Yh6",
        "colab_type": "code",
        "colab": {}
      },
      "cell_type": "code",
      "source": [
        "!python -m tutorials.image.imagenet.classify_image"
      ],
      "execution_count": 0,
      "outputs": []
    },
    {
      "metadata": {
        "id": "QZZtXes4cYvf",
        "colab_type": "text"
      },
      "cell_type": "markdown",
      "source": [
        "Delete the test image (if exist):"
      ]
    },
    {
      "metadata": {
        "id": "pUJR1fWu9qX_",
        "colab_type": "code",
        "colab": {}
      },
      "cell_type": "code",
      "source": [
        "!rm \"image.png\""
      ],
      "execution_count": 0,
      "outputs": []
    },
    {
      "metadata": {
        "id": "xWMHQET7ATL3",
        "colab_type": "text"
      },
      "cell_type": "markdown",
      "source": [
        "Option 1: Upload the test image to Colab:"
      ]
    },
    {
      "metadata": {
        "id": "H7kNvndU7AxX",
        "colab_type": "code",
        "colab": {}
      },
      "cell_type": "code",
      "source": [
        "from google.colab import files\n",
        "uploaded = files.upload()\n",
        "\n",
        "for fn in uploaded.keys():\n",
        "  print('User uploaded file \"{name}\" with length {length} bytes'.format(\n",
        "      name=fn, length=len(uploaded[fn])))"
      ],
      "execution_count": 0,
      "outputs": []
    },
    {
      "metadata": {
        "id": "A77StXEZAEBn",
        "colab_type": "text"
      },
      "cell_type": "markdown",
      "source": [
        "Now, run the model with sample image and verify the **score**:"
      ]
    },
    {
      "metadata": {
        "id": "N7zNJflKcYvg",
        "colab_type": "code",
        "colab": {}
      },
      "cell_type": "code",
      "source": [
        "!python -m tutorials.image.imagenet.classify_image --image_file image.png"
      ],
      "execution_count": 0,
      "outputs": []
    },
    {
      "metadata": {
        "id": "hl3f7E-sDYPp",
        "colab_type": "text"
      },
      "cell_type": "markdown",
      "source": [
        "Option 2: Use wget to obtain the test image:"
      ]
    },
    {
      "metadata": {
        "id": "GJSFzihIDs-u",
        "colab_type": "code",
        "colab": {}
      },
      "cell_type": "code",
      "source": [
        "!wget http://3.bp.blogspot.com/_qjlkTyHLyuw/TFt3adewwrI/AAAAAAAAAAk/Bdz2jz79Yjs/s1600/Basketball-large.png"
      ],
      "execution_count": 0,
      "outputs": []
    },
    {
      "metadata": {
        "id": "1993buveEm-o",
        "colab_type": "text"
      },
      "cell_type": "markdown",
      "source": [
        "Now, Run Model on Basketball Image and verify the score:"
      ]
    },
    {
      "metadata": {
        "id": "0fdnFwDbD1nO",
        "colab_type": "code",
        "colab": {}
      },
      "cell_type": "code",
      "source": [
        "!python models/tutorials/image/imagenet/classify_image.py --image_file Basketball-large.png"
      ],
      "execution_count": 0,
      "outputs": []
    },
    {
      "metadata": {
        "id": "KFYdev9xEBB4",
        "colab_type": "text"
      },
      "cell_type": "markdown",
      "source": [
        "Performance: CPU vs. GPU"
      ]
    },
    {
      "metadata": {
        "id": "5iy02VmNECSZ",
        "colab_type": "code",
        "colab": {}
      },
      "cell_type": "code",
      "source": [
        "import timeit\n",
        "\n",
        "start = timeit.timeit(number=10)\n",
        "print(\"The Clock Has Started\")\n",
        "!python models/tutorials/image/imagenet/classify_image.py --image_file Basketball-large.png\n",
        "end = timeit.timeit()\n",
        "print(\"Time is UP!\")\n",
        "print(end - start)"
      ],
      "execution_count": 0,
      "outputs": []
    }
  ]
}