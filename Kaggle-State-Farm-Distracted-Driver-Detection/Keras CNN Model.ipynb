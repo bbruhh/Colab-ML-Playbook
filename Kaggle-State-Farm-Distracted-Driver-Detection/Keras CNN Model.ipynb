{
  "nbformat": 4,
  "nbformat_minor": 0,
  "metadata": {
    "colab": {
      "name": "Keras CNN Model.ipynb",
      "version": "0.3.2",
      "provenance": []
    },
    "kernelspec": {
      "display_name": "Python 2",
      "language": "python",
      "name": "python2"
    }
  },
  "cells": [
    {
      "metadata": {
        "id": "33m8mAMX8jZQ",
        "colab_type": "text"
      },
      "cell_type": "markdown",
      "source": [
        "<img height=\"60px\" src=\"https://colab.research.google.com/img/colab_favicon.ico\" align=\"left\" hspace=\"20px\" vspace=\"5px\">\n",
        "\n",
        "# Keras CNN Model"
      ]
    },
    {
      "metadata": {
        "id": "4T5rgBN99TZM",
        "colab_type": "text"
      },
      "cell_type": "markdown",
      "source": [
        "<table class=\"tfo-notebook-buttons\" align=\"left\">\n",
        "  <td>\n",
        "    <a target=\"_blank\" href=\"https://colab.research.google.com/github/learning-stack/Colab-ML-Playbook/blob/master/Kaggle-State-Farm-Distracted-Driver-Detection/Keras%20CNN%20Model.ipynb\"><img src=\"https://www.tensorflow.org/images/colab_logo_32px.png\" />Run in Google Colab</a>\n",
        "  </td>\n",
        "  <td>\n",
        "    <a target=\"_blank\" href=\"https://github.com/learning-stack/Colab-ML-Playbook/blob/master/Kaggle-State-Farm-Distracted-Driver-Detection/Keras%20CNN%20Model.ipynb\"><img src=\"https://www.tensorflow.org/images/GitHub-Mark-32px.png\" />View source on GitHub</a>\n",
        "  </td>\n",
        "</table>"
      ]
    },
    {
      "metadata": {
        "id": "XW03kSSE8aGZ",
        "colab_type": "code",
        "colab": {}
      },
      "cell_type": "code",
      "source": [
        "import os\n",
        "import cv2\n",
        "import pandas as pd\n",
        "%matplotlib inline\n",
        "import matplotlib\n",
        "import numpy as np\n",
        "import matplotlib.pyplot as plt\n",
        "from PIL import Image\n",
        "from keras.utils import np_utils\n",
        "from sklearn import preprocessing\n",
        "from sklearn.preprocessing import LabelEncoder\n",
        "import random\n",
        "from keras.datasets import cifar10\n",
        "from keras.preprocessing.image import ImageDataGenerator\n",
        "from keras.models import Sequential\n",
        "from keras.layers import Dense, Dropout, Activation, Flatten\n",
        "from keras.layers import Conv2D, MaxPooling2D\n",
        "from keras.optimizers import SGD, Adam\n",
        "from keras.utils import np_utils\n",
        "from sklearn.metrics import log_loss\n",
        "from scipy.misc import imread, imresize\n",
        "from keras.layers.convolutional import Convolution2D, MaxPooling2D\n",
        "import keras\n",
        "drivers=[]\n",
        "images=[]\n",
        "list_of_drivers=[]\n",
        "list_of_image_names=[]\n",
        "y_train=[]\n",
        "x_train=[]\n",
        "x_valid=[]\n",
        "train_sample_size=5000\n",
        "batch_size = 32\n",
        "color_type=1\n",
        "epochs = 20\n",
        "data_augmentation = True\n",
        "wigth=64\n",
        "height=64\n",
        "\n",
        "img_rows=img_cols=64"
      ],
      "execution_count": 0,
      "outputs": []
    },
    {
      "metadata": {
        "id": "FW4zNkpL8aGe",
        "colab_type": "code",
        "colab": {}
      },
      "cell_type": "code",
      "source": [
        "def return_drivers(go_path):\n",
        "    train_path=os.path.join(go_path,'train/')\n",
        "    drivers_file_names=os.listdir(train_path)\n",
        "    for i in drivers_file_names:\n",
        "        drivers.append(str(i))\n",
        "    return drivers"
      ],
      "execution_count": 0,
      "outputs": []
    },
    {
      "metadata": {
        "id": "HvxQzfXK8aGh",
        "colab_type": "code",
        "colab": {}
      },
      "cell_type": "code",
      "source": [
        "def return_train_name_files(go_path,list_of_drivers):\n",
        "    images=pd.read_csv(str(go_path)+'driver_imgs_list.csv')\n",
        "    drivers_by_sort=images['classname']\n",
        "    images_by_sort=images['img']\n",
        "    return drivers_by_sort,images_by_sort"
      ],
      "execution_count": 0,
      "outputs": []
    },
    {
      "metadata": {
        "id": "E1En-2698aGk",
        "colab_type": "code",
        "colab": {}
      },
      "cell_type": "code",
      "source": [
        "def main_call():\n",
        "    y_valid=y_train=y_trainn=[]\n",
        "    go_path=\"/home/beyhan/Kaggle/Araba_Pozisyon_Tahmin/imgs/\"\n",
        "    train_path=\"/home/beyhan/Kaggle/Araba_Pozisyon_Tahmin/imgs/train/\"\n",
        "    test_path=\"/home/beyhan/Kaggle/Araba_Pozisyon_Tahmin/imgs/testt/\"\n",
        "    list_of_drivers=return_drivers(str(go_path))\n",
        "    drivers,images=return_train_name_files(str(go_path),list_of_drivers)\n",
        "    y_valid,y_train=read_train_image(drivers,images,train_path,wigth,height)\n",
        "    x_test=read_test_image(test_path,wigth,height)\n",
        "    y_valid,y_trainn=read_train_image(drivers,images,train_path,wigth,height,valid=True)\n",
        "    #show_image(image1)\n",
        "    return y_valid,y_train"
      ],
      "execution_count": 0,
      "outputs": []
    },
    {
      "metadata": {
        "id": "yCCxEnv78aGn",
        "colab_type": "code",
        "colab": {}
      },
      "cell_type": "code",
      "source": [
        "x_test=[]"
      ],
      "execution_count": 0,
      "outputs": []
    },
    {
      "metadata": {
        "id": "ZfDlU5pe8aGq",
        "colab_type": "code",
        "colab": {}
      },
      "cell_type": "code",
      "source": [
        "def read_test_image(test_path,wigth,height):\n",
        "    arr = os.listdir(str(test_path))\n",
        "    for i in arr:\n",
        "        fill_test(str(test_path)+str(i),wigth,height)"
      ],
      "execution_count": 0,
      "outputs": []
    },
    {
      "metadata": {
        "id": "ZIocATHb8aGs",
        "colab_type": "code",
        "colab": {}
      },
      "cell_type": "code",
      "source": [
        "def fill_test(image_path,wigth,height):\n",
        "    print(image_path)\n",
        "    img=cv2.imread(image_path,0)\n",
        "    rotate = random.uniform(-10, 10)\n",
        "    M = cv2.getRotationMatrix2D((img.shape[1]/2, img.shape[0]/2), rotate, 1)\n",
        "    img = cv2.warpAffine(img, M, (img.shape[1], img.shape[0]))\n",
        "    im = cv2.resize(img, (img_cols, img_rows), cv2.INTER_LINEAR)\n",
        "    x_test.append(np.array(im, dtype=np.float32))\n"
      ],
      "execution_count": 0,
      "outputs": []
    },
    {
      "metadata": {
        "id": "QBkjkPKi8aGw",
        "colab_type": "code",
        "colab": {}
      },
      "cell_type": "code",
      "source": [
        "#read_test_image('/home/beyhan/Kaggle/Araba_Pozisyon_Tahmin/imgs/testt',64,64)"
      ],
      "execution_count": 0,
      "outputs": []
    },
    {
      "metadata": {
        "id": "D4elBx6V8aGy",
        "colab_type": "code",
        "colab": {}
      },
      "cell_type": "code",
      "source": [
        "def read_train_image(all_drivers,images,train_path,wigth,height,valid=False):\n",
        "    y_valid=y_trainn=y_train=[]\n",
        "    total=len(all_drivers)\n",
        "    if valid==False:\n",
        "        for index,val in enumerate(all_drivers):\n",
        "            if index<total*8/10:\n",
        "            #if index<50:\n",
        "             im_path=str(train_path)+str(val)+'/'+str(images[index])\n",
        "             fill_train(im_path,wigth,height)\n",
        "        y_valid,y_train=fill_train_target(all_drivers)\n",
        "    else:\n",
        "        for index,val in enumerate(all_drivers):\n",
        "            if index>=total*8/10:\n",
        "            #if index<10:\n",
        "             im_path=str(train_path)+str(val)+'/'+str(images[index])\n",
        "             fill_train(im_path,wigth,height,valid=True)\n",
        "        y_valid,y_trainn=fill_train_target(all_drivers,valid=True)\n",
        "\n",
        "    return y_valid,y_train"
      ],
      "execution_count": 0,
      "outputs": []
    },
    {
      "metadata": {
        "id": "ATBZyMHw8aG1",
        "colab_type": "code",
        "colab": {}
      },
      "cell_type": "code",
      "source": [
        "def show_image(image_path):\n",
        "    im=cv2.imread(image_path,0)\n",
        "    plt.imshow(im)"
      ],
      "execution_count": 0,
      "outputs": []
    },
    {
      "metadata": {
        "id": "TkziMLnk8aG4",
        "colab_type": "code",
        "colab": {}
      },
      "cell_type": "code",
      "source": [
        "def fill_train(image_path,wigth,height,valid=False):\n",
        "    if valid==False:\n",
        "        img=cv2.imread(image_path,0)\n",
        "        rotate = random.uniform(-10, 10)\n",
        "        M = cv2.getRotationMatrix2D((img.shape[1]/2, img.shape[0]/2), rotate, 1)\n",
        "        img = cv2.warpAffine(img, M, (img.shape[1], img.shape[0]))\n",
        "        im = cv2.resize(img, (img_cols, img_rows), cv2.INTER_LINEAR)\n",
        "        x_train.append(np.array(im, dtype=np.float32))\n",
        "    else:\n",
        "        img=cv2.imread(image_path,0)\n",
        "        rotate = random.uniform(-10, 10)\n",
        "        M = cv2.getRotationMatrix2D((img.shape[1]/2, img.shape[0]/2), rotate, 1)\n",
        "        img = cv2.warpAffine(img, M, (img.shape[1], img.shape[0]))\n",
        "        im = cv2.resize(img, (img_cols, img_rows), cv2.INTER_LINEAR)\n",
        "        x_valid.append(np.array(im, dtype=np.float32))"
      ],
      "execution_count": 0,
      "outputs": []
    },
    {
      "metadata": {
        "id": "gRxxpj9k8aG7",
        "colab_type": "code",
        "colab": {}
      },
      "cell_type": "code",
      "source": [
        "def fill_train_target(all_drivers,valid=False):\n",
        "    y_valid=[]\n",
        "    y_train=[]\n",
        "    if valid==False:\n",
        "        lb = LabelEncoder()\n",
        "        y_train = lb.fit_transform(all_drivers)\n",
        "        y_train = np.array(y_train, dtype=np.float32)\n",
        "        y_train = cv2.resize(y_train, (10,np.shape(x_train)[0]), cv2.INTER_LINEAR)\n",
        "    else:\n",
        "        lb = LabelEncoder()\n",
        "        y_valid = lb.fit_transform(all_drivers)\n",
        "        y_valid = np.array(y_valid, dtype=np.float32)\n",
        "        y_valid = cv2.resize(y_valid, (10,np.shape(x_valid)[0]), cv2.INTER_LINEAR)\n",
        "\n",
        "    return y_valid,y_train"
      ],
      "execution_count": 0,
      "outputs": []
    },
    {
      "metadata": {
        "id": "vnUPoC9c8aG9",
        "colab_type": "code",
        "colab": {}
      },
      "cell_type": "code",
      "source": [
        "y_valid,y_train=main_call()\n"
      ],
      "execution_count": 0,
      "outputs": []
    },
    {
      "metadata": {
        "id": "eeNomMZF8aHE",
        "colab_type": "code",
        "colab": {}
      },
      "cell_type": "code",
      "source": [
        "#now we have x_train,y_train,x_valid,y_valid. that's good point!"
      ],
      "execution_count": 0,
      "outputs": []
    },
    {
      "metadata": {
        "id": "Td2OhVPa8aHI",
        "colab_type": "code",
        "colab": {}
      },
      "cell_type": "code",
      "source": [
        "x_train = np.array(x_train, dtype=np.uint8)\n",
        "x_train = x_train.reshape(x_train.shape[0], 1, img_rows, img_cols)\n",
        "x_train = x_train.astype('float32')\n",
        "x_train /= 255"
      ],
      "execution_count": 0,
      "outputs": []
    },
    {
      "metadata": {
        "id": "Kwc8Byp98aHK",
        "colab_type": "code",
        "colab": {}
      },
      "cell_type": "code",
      "source": [
        "x_valid = np.array(x_valid, dtype=np.uint8)\n",
        "x_valid = x_valid.reshape(x_valid.shape[0], 1, img_rows, img_cols)\n",
        "x_valid = x_valid.astype('float32')\n",
        "x_valid /= 255"
      ],
      "execution_count": 0,
      "outputs": []
    },
    {
      "metadata": {
        "id": "AjUG59ol8aHM",
        "colab_type": "code",
        "colab": {}
      },
      "cell_type": "code",
      "source": [
        "y_train.reshape(1, 1,10,x_train.shape[0])\n",
        "y_valid.reshape(1, 1,10,x_valid.shape[0])\n"
      ],
      "execution_count": 0,
      "outputs": []
    },
    {
      "metadata": {
        "id": "CcNxRucw8aHS",
        "colab_type": "code",
        "colab": {}
      },
      "cell_type": "code",
      "source": [
        "#y_train = y_train.reshape((-1, 1))"
      ],
      "execution_count": 0,
      "outputs": []
    },
    {
      "metadata": {
        "id": "ghO6CzTD8aHV",
        "colab_type": "code",
        "colab": {}
      },
      "cell_type": "code",
      "source": [
        "#y_valid = y_valid.reshape((-1, 1))"
      ],
      "execution_count": 0,
      "outputs": []
    },
    {
      "metadata": {
        "id": "awAspyLg8aHc",
        "colab_type": "code",
        "colab": {}
      },
      "cell_type": "code",
      "source": [
        "def create_model():\n",
        "    model = Sequential()\n",
        "    model.add(Convolution2D(32, 5, 5, border_mode='same',name='conv1_1', input_shape=(color_type, img_rows, img_cols)))\n",
        "    model.add(Activation(\"relu\"))\n",
        "    model.add(Convolution2D(32, 5, 5, border_mode='same',name='conv1_2'))\n",
        "    model.add(Activation(\"relu\"))\n",
        "    model.add(MaxPooling2D(pool_size=(2, 2), dim_ordering=\"th\"))\n",
        "    model.add(Dropout(0.25))\n",
        "\n",
        "    #2\n",
        "    model.add(Convolution2D(64, 5, 5, border_mode='same',name='conv2_1'))\n",
        "    model.add(Activation(\"relu\"))\n",
        "    model.add(Convolution2D(64, 5, 5, border_mode='same',name='conv2_2'))\n",
        "    model.add(Activation(\"relu\"))\n",
        "    model.add(MaxPooling2D(pool_size=(2, 2), dim_ordering=\"th\"))\n",
        "    model.add(Dropout(0.25))\n",
        "\n",
        "    #flatten\n",
        "    model.add(Flatten())\n",
        "    #model.add(Dense(512))\n",
        "    #model.add(Activation(\"relu\"))\n",
        "    model.add(Dropout(0.5))\n",
        "\n",
        "    model.add(Dense(10))\n",
        "    model.add(Activation('softmax'))\n",
        "\n",
        "    \n",
        "    return model"
      ],
      "execution_count": 0,
      "outputs": []
    },
    {
      "metadata": {
        "id": "URBnPkhL8aHe",
        "colab_type": "code",
        "colab": {}
      },
      "cell_type": "code",
      "source": [
        "model=create_model()   "
      ],
      "execution_count": 0,
      "outputs": []
    },
    {
      "metadata": {
        "id": "eMdxGEHQ8aHh",
        "colab_type": "code",
        "colab": {}
      },
      "cell_type": "code",
      "source": [
        "from keras.optimizers import RMSprop\n",
        "rms = RMSprop()\n",
        "sgd = SGD(lr=0.01, decay=1e-6, momentum=0.5, nesterov=True)\n",
        "model.compile(loss='categorical_crossentropy', optimizer=sgd,metrics=[\"accuracy\"])\n"
      ],
      "execution_count": 0,
      "outputs": []
    },
    {
      "metadata": {
        "id": "T9RG7VnM8aHj",
        "colab_type": "code",
        "colab": {}
      },
      "cell_type": "code",
      "source": [
        "model.fit(x_train, y_train, batch_size=128, nb_epoch=epochs,\n",
        "               verbose=1, validation_data=(x_valid,y_valid))\n"
      ],
      "execution_count": 0,
      "outputs": []
    },
    {
      "metadata": {
        "id": "64D4icO58aHk",
        "colab_type": "code",
        "colab": {}
      },
      "cell_type": "code",
      "source": [
        ""
      ],
      "execution_count": 0,
      "outputs": []
    }
  ]
}