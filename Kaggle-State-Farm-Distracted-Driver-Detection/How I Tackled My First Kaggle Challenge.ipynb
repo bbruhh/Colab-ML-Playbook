{
  "nbformat": 4,
  "nbformat_minor": 0,
  "metadata": {
    "colab": {
      "name": "How I Tackled My First Kaggle Challenge.ipynb",
      "version": "0.3.2",
      "provenance": []
    },
    "kernelspec": {
      "display_name": "Python 3",
      "language": "python",
      "name": "python3"
    }
  },
  "cells": [
    {
      "metadata": {
        "id": "tkjIsjoHEBCI",
        "colab_type": "text"
      },
      "cell_type": "markdown",
      "source": [
        "<img height=\"60px\" src=\"https://colab.research.google.com/img/colab_favicon.ico\" align=\"left\" hspace=\"20px\" vspace=\"5px\">\n",
        "\n",
        "# How I Tackled My First Kaggle Challenge using Deep Learning"
      ]
    },
    {
      "metadata": {
        "id": "PUAlDb2-EKd5",
        "colab_type": "text"
      },
      "cell_type": "markdown",
      "source": [
        "<table class=\"tfo-notebook-buttons\" align=\"left\">\n",
        "  <td>\n",
        "    <a target=\"_blank\" href=\"https://colab.research.google.com/github/learning-stack/Colab-ML-Playbook/blob/master/Kaggle-State-Farm-Distracted-Driver-Detection/How%20I%20Tackled%20My%20First%20Kaggle%20Challenge.ipynb\"><img src=\"https://www.tensorflow.org/images/colab_logo_32px.png\" />Run in Google Colab</a>\n",
        "  </td>\n",
        "  <td>\n",
        "    <a target=\"_blank\" href=\"https://github.com/learning-stack/Colab-ML-Playbook/blob/master/Kaggle-State-Farm-Distracted-Driver-Detection/How%20I%20Tackled%20My%20First%20Kaggle%20Challenge.ipynb\"><img src=\"https://www.tensorflow.org/images/GitHub-Mark-32px.png\" />View source on GitHub</a>\n",
        "  </td>\n",
        "</table>"
      ]
    },
    {
      "metadata": {
        "id": "47kcYerSD-Wa",
        "colab_type": "text"
      },
      "cell_type": "markdown",
      "source": [
        "Library and general method initializations"
      ]
    }
  ]
}