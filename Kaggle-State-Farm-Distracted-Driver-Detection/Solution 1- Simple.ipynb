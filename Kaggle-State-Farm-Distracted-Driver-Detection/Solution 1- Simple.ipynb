{
  "nbformat": 4,
  "nbformat_minor": 0,
  "metadata": {
    "colab": {
      "name": "Solution 1- Simple.ipynb",
      "version": "0.3.2",
      "provenance": []
    },
    "kernelspec": {
      "display_name": "Python 3",
      "language": "python",
      "name": "python3"
    }
  },
  "cells": [
    {
      "metadata": {
        "id": "Y2MuNftl8wIC",
        "colab_type": "text"
      },
      "cell_type": "markdown",
      "source": [
        "<img height=\"60px\" src=\"https://colab.research.google.com/img/colab_favicon.ico\" align=\"left\" hspace=\"20px\" vspace=\"5px\">\n",
        "\n",
        "# Solution 1 - Simple"
      ]
    },
    {
      "metadata": {
        "id": "Jv9F1Wig9dzA",
        "colab_type": "text"
      },
      "cell_type": "markdown",
      "source": [
        "<table class=\"tfo-notebook-buttons\" align=\"left\">\n",
        "  <td>\n",
        "    <a target=\"_blank\" href=\"https://colab.research.google.com/github/learning-stack/Colab-ML-Playbook/blob/master/Kaggle-State-Farm-Distracted-Driver-Detection/Solution%201-%20Simple.ipynb\"><img src=\"https://www.tensorflow.org/images/colab_logo_32px.png\" />Run in Google Colab</a>\n",
        "  </td>\n",
        "  <td>\n",
        "    <a target=\"_blank\" href=\"https://github.com/learning-stack/Colab-ML-Playbook/blob/master/Kaggle-State-Farm-Distracted-Driver-Detection/Solution%201-%20Simple.ipynb\"><img src=\"https://www.tensorflow.org/images/GitHub-Mark-32px.png\" />View source on GitHub</a>\n",
        "  </td>\n",
        "</table>"
      ]
    },
    {
      "metadata": {
        "id": "VoRgjh9s8ubU",
        "colab_type": "text"
      },
      "cell_type": "markdown",
      "source": [
        "Import libraries/ dependencies"
      ]
    },
    {
      "metadata": {
        "id": "25dm6E-v8ubY",
        "colab_type": "code",
        "colab": {}
      },
      "cell_type": "code",
      "source": [
        "from sklearn.datasets import load_files\n",
        "from keras.utils import np_utils\n",
        "import numpy as np\n",
        "from glob import glob\n",
        "import random\n",
        "import cv2\n",
        "from PIL import ImageFile                            \n",
        "ImageFile.LOAD_TRUNCATED_IMAGES = True \n",
        "from sklearn.model_selection import train_test_split\n",
        "import matplotlib.pyplot as plt     \n",
        "from keras.preprocessing import image                  \n",
        "from tqdm import tqdm\n",
        "from keras.layers import Conv2D, MaxPooling2D, GlobalAveragePooling2D\n",
        "from keras.layers import Dropout, Flatten, Dense\n",
        "from keras.models import Sequential\n",
        "from keras.callbacks import ModelCheckpoint\n",
        "from sklearn.metrics import log_loss\n",
        "import math\n",
        "import pickle\n",
        "import os"
      ],
      "execution_count": 0,
      "outputs": []
    },
    {
      "metadata": {
        "id": "V5XA-xdv8ubi",
        "colab_type": "text"
      },
      "cell_type": "markdown",
      "source": [
        "Import images"
      ]
    },
    {
      "metadata": {
        "id": "-C5uYEWa8ubj",
        "colab_type": "code",
        "colab": {}
      },
      "cell_type": "code",
      "source": [
        "\n",
        "def load_train (path):\n",
        "    data=load_files(path)\n",
        "    driver_file=np.array(data['filenames'])\n",
        "    driver_target=np_utils.to_categorical(np.array(data['target']),10)\n",
        "    \n",
        "    return driver_file,driver_target\n",
        "\n",
        "def load_test(path):\n",
        "    data=glob(path)\n",
        "    driver_file=np.array(glob(path))\n",
        "    driver_id=[]\n",
        "    for p in data:\n",
        "        driver_id.append(os.path.basename(p))\n",
        "   # driver_id=os.path.basename(p)\n",
        "    #test_id=np.array(driver_file['target'])\n",
        "    return driver_file,driver_id\n",
        "\n",
        "#submission training set\n",
        "train_files,train_targets = load_train('Data/imgs/train')\n",
        "\n",
        "#Submission Test set - has no labels\n",
        "test_files,test_id = load_test('Data/imgs/test/*')\n"
      ],
      "execution_count": 0,
      "outputs": []
    },
    {
      "metadata": {
        "id": "HAjhRZVJ8ubm",
        "colab_type": "text"
      },
      "cell_type": "markdown",
      "source": [
        "Split Data into train and test"
      ]
    },
    {
      "metadata": {
        "id": "Yrb8Mi888ubn",
        "colab_type": "code",
        "colab": {}
      },
      "cell_type": "code",
      "source": [
        "# My own test set - split the training set \n",
        "X_train, X_test, y_train, y_test = train_test_split(train_files,train_targets ,test_size=0.3,random_state=42)\n",
        "\n",
        "#optional: split the test set to get a validation set\n",
        "    #X_train, X_test, y_train, y_test = train_test_split(train_targets,train_files, test_size=0.3,random_state=42)"
      ],
      "execution_count": 0,
      "outputs": []
    },
    {
      "metadata": {
        "id": "EO6ZE1fS8ubr",
        "colab_type": "text"
      },
      "cell_type": "markdown",
      "source": [
        "Data Analysis"
      ]
    },
    {
      "metadata": {
        "id": "gjcrkFhV8ubs",
        "colab_type": "code",
        "colab": {}
      },
      "cell_type": "code",
      "source": [
        "#Final datasets\n",
        "print('training targets size %d' % len(train_targets))\n",
        "print('test targets size %d' % len(test_files))\n",
        "\n",
        "#first 5 sample values\n",
        "for q in train_files[:5]: print(q)\n",
        "for p in train_targets[:5]: print (p)\n",
        "\n",
        "    \n",
        "    \n",
        "#My own dataset\n",
        "print('train size %d' % len(X_train))\n",
        "print('test size %d' % len(X_test))\n",
        "\n",
        "print (X_train.shape, y_train.shape)\n",
        "print (X_test.shape, y_test.shape)\n",
        "\n",
        "\n",
        "\n",
        "path=X_train[1]\n",
        "print(path)\n",
        "im = cv2.imread(path)\n",
        "#cv2.imshow(im)\n",
        "plt.imshow(im)\n",
        "plt.show()\n",
        "#img=cv2.imread(X_train[1])\n",
        "#cv2.imshow('img',img)\n",
        "#plt.imshow(img)\n",
        "#plt.show()\n",
        "for p in X_train[:5]: print (p)\n",
        "for p in y_train[:5]: print (p)\n",
        "\n",
        "for p in X_test[:5]: print (p)\n",
        "for p in y_test[:5]: print (p)"
      ],
      "execution_count": 0,
      "outputs": []
    },
    {
      "metadata": {
        "id": "T1PM89Li8ubx",
        "colab_type": "text"
      },
      "cell_type": "markdown",
      "source": [
        "Pre-process data"
      ]
    },
    {
      "metadata": {
        "id": "OAKsysqg8uby",
        "colab_type": "code",
        "colab": {}
      },
      "cell_type": "code",
      "source": [
        "\n",
        "\n",
        "def path_to_tensor(img_path):\n",
        "    # loads RGB image as PIL.Image.Image type\n",
        "    img = image.load_img(img_path, target_size=(224, 224))\n",
        "    # convert PIL.Image.Image type to 3D tensor with shape (224, 224, 3)\n",
        "    x = image.img_to_array(img)\n",
        "    # convert 3D tensor to 4D tensor with shape (1, 224, 224, 3) and return 4D tensor\n",
        "    return np.expand_dims(x, axis=0)\n",
        "\n",
        "def paths_to_tensor(img_paths):\n",
        "    list_of_tensors = [path_to_tensor(img_path) for img_path in img_paths]\n",
        "    return np.vstack(list_of_tensors)                \n",
        "\n",
        "# pre-process the data for Keras\n",
        "train_targets=y_train\n",
        "test_targets=y_test\n",
        "train_tensors = paths_to_tensor(X_train).astype('float32')/255\n",
        "test_tensors = paths_to_tensor(X_test).astype('float32')/255\n"
      ],
      "execution_count": 0,
      "outputs": []
    },
    {
      "metadata": {
        "id": "YVgbs7e_8ub3",
        "colab_type": "text"
      },
      "cell_type": "markdown",
      "source": [
        "Image Enhancements"
      ]
    },
    {
      "metadata": {
        "id": "XgfJkyqX8ub4",
        "colab_type": "code",
        "colab": {}
      },
      "cell_type": "code",
      "source": [
        "\n"
      ],
      "execution_count": 0,
      "outputs": []
    },
    {
      "metadata": {
        "id": "vPvDJ9TO8ub8",
        "colab_type": "text"
      },
      "cell_type": "markdown",
      "source": [
        "Model Architecture"
      ]
    },
    {
      "metadata": {
        "id": "6JgdqeIm8ub9",
        "colab_type": "code",
        "colab": {}
      },
      "cell_type": "code",
      "source": [
        "\n",
        "model = Sequential()\n",
        "### TODO: Define your architecture.\n",
        "print('x_train shape:', train_tensors.shape)\n",
        "model.add(Conv2D(filters=16, kernel_size=2, padding='same', activation='relu', input_shape=(224, 224, 3)))\n",
        "model.add(MaxPooling2D(pool_size=2))\n",
        "model.add(Conv2D(filters=64, kernel_size=2, padding='same', activation='relu'))\n",
        "model.add(MaxPooling2D(pool_size=2))\n",
        "model.add(Conv2D(filters=128, kernel_size=2, padding='same', activation='relu'))\n",
        "model.add(MaxPooling2D(pool_size=2))\n",
        "#model.add(GlobalAveragePooling2D())\n",
        "model.add(Flatten())\n",
        "model.add(Dropout(0.2))\n",
        "model.add(Dense(500, activation='relu'))\n",
        "model.add(Dropout(0.4))\n",
        "model.add(Dense(10, activation='softmax'))\n",
        "\n",
        "\n",
        "model.summary()"
      ],
      "execution_count": 0,
      "outputs": []
    },
    {
      "metadata": {
        "id": "b-YBpYU28ucB",
        "colab_type": "text"
      },
      "cell_type": "markdown",
      "source": [
        "Model Compilation"
      ]
    },
    {
      "metadata": {
        "id": "24kVnG1f8ucB",
        "colab_type": "code",
        "colab": {}
      },
      "cell_type": "code",
      "source": [
        "model.compile(optimizer='rmsprop', loss='categorical_crossentropy', metrics=['accuracy'])"
      ],
      "execution_count": 0,
      "outputs": []
    },
    {
      "metadata": {
        "id": "XKKL7MHB8ucG",
        "colab_type": "text"
      },
      "cell_type": "markdown",
      "source": [
        "Model Training"
      ]
    },
    {
      "metadata": {
        "id": "OKLbvhDO8ucH",
        "colab_type": "code",
        "colab": {}
      },
      "cell_type": "code",
      "source": [
        "checkpointer = ModelCheckpoint(filepath='saved_models/weightsfromscratch.hdf5', \n",
        "                               verbose=1, save_best_only=True)"
      ],
      "execution_count": 0,
      "outputs": []
    },
    {
      "metadata": {
        "id": "_Oyv8x4_8ucK",
        "colab_type": "code",
        "colab": {}
      },
      "cell_type": "code",
      "source": [
        "history=model.fit(train_tensors, train_targets, validation_split=0.2,epochs=5, batch_size=20, callbacks=[checkpointer], verbose=1)"
      ],
      "execution_count": 0,
      "outputs": []
    },
    {
      "metadata": {
        "id": "4q72AVZS8ucP",
        "colab_type": "text"
      },
      "cell_type": "markdown",
      "source": [
        "Model accuracy etc"
      ]
    },
    {
      "metadata": {
        "id": "VXTnNTZA8ucR",
        "colab_type": "code",
        "colab": {}
      },
      "cell_type": "code",
      "source": [
        "plt.plot(history.history['acc'])\n",
        "plt.plot(history.history['val_acc'])\n",
        "plt.title('model accuracy')\n",
        "plt.ylabel('accuracy')\n",
        "plt.xlabel('epoch')\n",
        "plt.legend(['train', 'test'], loc='upper left')\n",
        "plt.show()\n",
        "\n",
        "plt.plot(history.history['loss'])\n",
        "plt.plot(history.history['val_loss'])\n",
        "plt.title('model loss')\n",
        "plt.ylabel('loss')\n",
        "plt.xlabel('epoch')\n",
        "plt.legend(['train', 'test'], loc='upper left')\n",
        "plt.show()"
      ],
      "execution_count": 0,
      "outputs": []
    },
    {
      "metadata": {
        "id": "r_PMfGB78ucV",
        "colab_type": "text"
      },
      "cell_type": "markdown",
      "source": [
        "Model Testing"
      ]
    },
    {
      "metadata": {
        "id": "JmPWQXNG8ucV",
        "colab_type": "code",
        "colab": {}
      },
      "cell_type": "code",
      "source": [
        "model.load_weights('saved_models/weightsfromscratch.hdf5')\n",
        "#score = model.evaluate(test_tensors, test_targets, verbose=1)\n",
        "#print(score)"
      ],
      "execution_count": 0,
      "outputs": []
    },
    {
      "metadata": {
        "id": "MevGvY3b8ucY",
        "colab_type": "text"
      },
      "cell_type": "markdown",
      "source": [
        "Model results"
      ]
    },
    {
      "metadata": {
        "id": "8Kx_9J0H8ucZ",
        "colab_type": "code",
        "colab": {}
      },
      "cell_type": "code",
      "source": [
        "print('helloworld')\n",
        "predictions=model.predict(test_tensors, verbose=1)\n",
        "score=log_loss(test_targets,predictions)\n",
        "print('Score log_loss: ', score)"
      ],
      "execution_count": 0,
      "outputs": []
    },
    {
      "metadata": {
        "id": "OFRMyQeH8uce",
        "colab_type": "code",
        "colab": {}
      },
      "cell_type": "code",
      "source": [
        "def mlogloss(target, pred):\n",
        "    score = 0.0\n",
        "    for i in range(len(pred)):\n",
        "        pp = pred[i]\n",
        "        for j in range(len(pp)):\n",
        "            prob = pp[j]\n",
        "            if prob < 1e-15:\n",
        "                prob = 1e-15\n",
        "            score += target[i][j] * math.log(prob)\n",
        "    return -score/len(pred)\n",
        "score = mlogloss(test_targets, predictions)\n",
        "print('Score : mlogloss', score)"
      ],
      "execution_count": 0,
      "outputs": []
    },
    {
      "metadata": {
        "id": "1Qi5ttCI8uci",
        "colab_type": "text"
      },
      "cell_type": "markdown",
      "source": [
        "**Kaggle Submission**"
      ]
    },
    {
      "metadata": {
        "id": "9TWmQAZq8uci",
        "colab_type": "text"
      },
      "cell_type": "markdown",
      "source": [
        "Reduce test set size"
      ]
    },
    {
      "metadata": {
        "id": "c0VZ5OKb8ucj",
        "colab_type": "code",
        "colab": {}
      },
      "cell_type": "code",
      "source": [
        "test_files=test_files[:10000]\n",
        "test_id=test_id[:10000]\n",
        "final_test_tensors = paths_to_tensor(test_files).astype('float32')/255"
      ],
      "execution_count": 0,
      "outputs": []
    },
    {
      "metadata": {
        "id": "ywX_t63A8ucn",
        "colab_type": "text"
      },
      "cell_type": "markdown",
      "source": [
        "Predict complete test set"
      ]
    },
    {
      "metadata": {
        "id": "yFYitECh8ucn",
        "colab_type": "code",
        "colab": {}
      },
      "cell_type": "code",
      "source": [
        "predictions=model.predict(final_test_tensors, verbose=1)"
      ],
      "execution_count": 0,
      "outputs": []
    },
    {
      "metadata": {
        "id": "GUipt-Ue8ucq",
        "colab_type": "text"
      },
      "cell_type": "markdown",
      "source": [
        "Create submission format"
      ]
    },
    {
      "metadata": {
        "id": "1aJZmfkZ8ucq",
        "colab_type": "code",
        "colab": {}
      },
      "cell_type": "code",
      "source": [
        "def create_submission(predictions, test_id, loss):\n",
        "    result1 = pd.DataFrame(predictions, columns=['c0', 'c1', 'c2', 'c3', 'c4', 'c5', 'c6', 'c7', 'c8', 'c9'])\n",
        "    result1.loc[:, 'img'] = pd.Series(test_id, index=result1.index)\n",
        "    now = datetime.datetime.now()\n",
        "    if not os.path.isdir('subm'):\n",
        "        os.mkdir('subm')\n",
        "    suffix = str(round(loss, 6)) + '_' + str(now.strftime(\"%Y-%m-%d-%H-%M\"))\n",
        "    sub_file = os.path.join('subm', 'submission_' + suffix + '.csv')\n",
        "    result1.to_csv(sub_file, index=False)"
      ],
      "execution_count": 0,
      "outputs": []
    },
    {
      "metadata": {
        "id": "o0yk-dTp8ucv",
        "colab_type": "code",
        "colab": {}
      },
      "cell_type": "code",
      "source": [
        "create_submission(predictions,test_id,score)"
      ],
      "execution_count": 0,
      "outputs": []
    },
    {
      "metadata": {
        "id": "zgLKtGJ68ucy",
        "colab_type": "code",
        "colab": {}
      },
      "cell_type": "code",
      "source": [
        ""
      ],
      "execution_count": 0,
      "outputs": []
    }
  ]
}