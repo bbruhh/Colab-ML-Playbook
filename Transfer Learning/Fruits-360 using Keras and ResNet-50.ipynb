{
  "nbformat": 4,
  "nbformat_minor": 0,
  "metadata": {
    "colab": {
      "name": "Fruits-360 using Keras and ResNet-50.ipynb",
      "version": "0.3.2",
      "provenance": []
    },
    "kernelspec": {
      "display_name": "Python 3",
      "language": "python",
      "name": "python3"
    }
  },
  "cells": [
    {
      "metadata": {
        "id": "iT4S8GMtjNXz",
        "colab_type": "text"
      },
      "cell_type": "markdown",
      "source": [
        "<img height=\"60px\" src=\"https://colab.research.google.com/img/colab_favicon.ico\" align=\"left\" hspace=\"20px\" vspace=\"5px\">\n",
        "# Fruits-360 - Transfer Learning using Keras and ResNet-50\n",
        "\n",
        "* This notebook is a brief application of transfer learning on the Fruits-360 [Dataset](https://www.kaggle.com/moltean/fruits). \n",
        "* This data set consists of 42345 images of 64 fruits.\n",
        "* We compare the Transfer learning approach to the regular approach.\n",
        "* Accuracy of 98.44% is achieved within 2 epochs.\n",
        "\n",
        "\n",
        "### **Contents:**\n",
        "\n",
        "*  **1. Brief Explanation of Transfer Learning**\n",
        "*  **2. Transfer Learning using Kaggle Kernels**\n",
        "*  **3. Reading and Visualizing the Data**   \n",
        "*  **4. Building and Compiling the Models**    \n",
        "*  **5. Training and Validating the Pretrained Model** \n",
        "*  **6. Training and Validating Vanilla Model**\n",
        "*  **7. Comparison between Pretrained Models and Vanilla Model**"
      ]
    },
    {
      "metadata": {
        "id": "HW9uVdo1jTtk",
        "colab_type": "text"
      },
      "cell_type": "markdown",
      "source": [
        "<table class=\"tfo-notebook-buttons\" align=\"left\">\n",
        "  <td>\n",
        "    <a target=\"_blank\" href=\"https://colab.research.google.com/github/learning-stack/Colab-ML-Playbook/blob/master/Transfer%20Learning/Fruits-360%20using%20Keras%20and%20ResNet-50.ipynb\"><img src=\"https://www.tensorflow.org/images/colab_logo_32px.png\" />Run in Google Colab</a>\n",
        "  </td>\n",
        "  <td>\n",
        "    <a target=\"_blank\" href=\"https://github.com/learning-stack/Colab-ML-Playbook/blob/master/Transfer%20Learning/Fruits-360%20using%20Keras%20and%20ResNet-50.ipynb\"><img src=\"https://www.tensorflow.org/images/GitHub-Mark-32px.png\" />View source on GitHub</a>\n",
        "  </td>\n",
        "</table>"
      ]
    },
    {
      "metadata": {
        "id": "2Ee3sbGVjNX2",
        "colab_type": "code",
        "colab": {}
      },
      "cell_type": "code",
      "source": [
        "import os\n",
        "from os import listdir, makedirs\n",
        "from os.path import join, exists, expanduser\n",
        "\n",
        "from keras import applications\n",
        "from keras.preprocessing.image import ImageDataGenerator\n",
        "from keras import optimizers\n",
        "from keras.models import Sequential, Model\n",
        "from keras.layers import Dense, GlobalAveragePooling2D\n",
        "from keras.layers import Activation, Dropout, Flatten, Dense\n",
        "from keras import backend as K\n",
        "import tensorflow as tf\n",
        "# Any results you write to the current directory are saved as output."
      ],
      "execution_count": 0,
      "outputs": []
    },
    {
      "metadata": {
        "id": "0GyNof1sjNX6",
        "colab_type": "text"
      },
      "cell_type": "markdown",
      "source": [
        "## 1. Transfer Learning\n",
        "\n",
        "In transfer learning, we first train a base network on a base dataset and task, and then we repurpose the learned features, or transfer them, to a second target network to be trained on a target dataset and task. This process will tend to work if the features are general, meaning suitable to both base and target tasks, instead of specific to the base task.\n",
        "\n",
        "Lisa Torrey and Jude Shavlik in their chapter on transfer learning describe three possible benefits to look for when using transfer learning:\n",
        "\n",
        "* Higher start. The initial skill (before refining the model) on the source model is higher than it otherwise would be.\n",
        "* Higher slope. The rate of improvement of skill during training of the source model is steeper than it otherwise would be.\n",
        "* Higher asymptote. The converged skill of the trained model is better than it otherwise would be.\n",
        "\n",
        "<center><img src=\"https://3qeqpr26caki16dnhd19sv6by6v-wpengine.netdna-ssl.com/wp-content/uploads/2017/09/Three-ways-in-which-transfer-might-improve-learning.png\"></center>\n",
        "\n",
        "\n",
        "Basically, we take a pre-trained model (the weights and parameters of a network that has been trained on a large dataset by somebody else) and “fine-tune” the model with our own dataset. The idea is that this pre-trained model will either provide the initialized weights leading to a faster convergence or it will act as a fixed feature extractor for the task of interest.\n",
        "\n",
        "\n",
        "\n",
        "These two major transfer learning scenarios look as follows:\n",
        "\n",
        "* Finetuning the convnet: Instead of random initializaion, we initialize the network with a pretrained network, like the one that has been trained on a large dataset like imagenet 1000. Rest of the training looks as usual. In this scenario the entire network needs to be retrained on the dataset of our interest\n",
        "\n",
        "* ConvNet as fixed feature extractor: Here, we will freeze the weights for all of the network except that of the final fully connected layer. This last fully connected layer is replaced with a new one with random weights and only this layer is trained.\n",
        "\n",
        "In this notebook we will demonstrate the first scenario.\n"
      ]
    },
    {
      "metadata": {
        "id": "Bm57qDXKjNX7",
        "colab_type": "text"
      },
      "cell_type": "markdown",
      "source": [
        "## 2. Transfer Learning using Kaggle Kernels\n",
        "\n",
        "### Using the Keras Pretrained Models dataset\n",
        "Kaggle Kernels cannot use a network connection to download pretrained keras models. This [Dataset](https://www.kaggle.com/moltean/fruits) helps us to use our favorite pretrained models in the Kaggle Kernel environment.\n",
        "\n",
        "All we have to do is to copy the pretrained models to the cache directory (~/.keras/models) where keras is looking for them."
      ]
    },
    {
      "metadata": {
        "id": "rtxotArBjNX8",
        "colab_type": "code",
        "colab": {}
      },
      "cell_type": "code",
      "source": [
        "cache_dir = expanduser(join('~', '.keras'))\n",
        "if not exists(cache_dir):\n",
        "    makedirs(cache_dir)\n",
        "models_dir = join(cache_dir, 'models')\n",
        "if not exists(models_dir):\n",
        "    makedirs(models_dir)\n",
        "    \n",
        "!cp ../input/keras-pretrained-models/*notop* ~/.keras/models/\n",
        "!cp ../input/keras-pretrained-models/imagenet_class_index.json ~/.keras/models/\n",
        "!cp ../input/keras-pretrained-models/resnet50* ~/.keras/models/\n",
        "\n",
        "print(\"Available Pretrained Models:\\n\")\n",
        "!ls ~/.keras/models\n"
      ],
      "execution_count": 0,
      "outputs": []
    },
    {
      "metadata": {
        "id": "1gFOhzIojNX_",
        "colab_type": "text"
      },
      "cell_type": "markdown",
      "source": [
        "## 3. Reading and Visualizing the Data\n",
        "### Reading the Data\n",
        "\n",
        "Like the rest of Keras, the image augmentation API is simple and powerful. We will use the **ImageDataGenerator** to fetch data and feed it to our network\n",
        "\n",
        "Keras provides the **ImageDataGenerator** class that defines the configuration for image data preparation and augmentation. Rather than performing the operations on your entire image dataset in memory, the API is designed to be iterated by the deep learning model fitting process, creating augmented image data for you just-in-time. This reduces your memory overhead, but adds some additional time cost during model training.\n",
        "\n",
        "The data generator itself is in fact an iterator, returning batches of image samples from the directory when requested. We can configure the batch size and prepare the data generator and get batches of images by calling the **flow_from_directory()** function."
      ]
    },
    {
      "metadata": {
        "id": "uTs6UXjqjNYA",
        "colab_type": "code",
        "colab": {}
      },
      "cell_type": "code",
      "source": [
        "# dimensions of our images.\n",
        "img_width, img_height = 224, 224 # we set the img_width and img_height according to the pretrained models we are\n",
        "# going to use. The input size for ResNet-50 is 224 by 224 by 3.\n",
        "\n",
        "train_data_dir = '../input/fruits/fruits-360_dataset_2018_06_03/fruits-360/Training/'\n",
        "validation_data_dir = '../input/fruits/fruits-360_dataset_2018_06_03/fruits-360/Validation/'\n",
        "nb_train_samples = 31688\n",
        "nb_validation_samples = 10657\n",
        "batch_size = 16"
      ],
      "execution_count": 0,
      "outputs": []
    },
    {
      "metadata": {
        "id": "J3DsNCkQjNYD",
        "colab_type": "code",
        "colab": {}
      },
      "cell_type": "code",
      "source": [
        "train_datagen = ImageDataGenerator(\n",
        "    rescale=1. / 255,\n",
        "    shear_range=0.2,\n",
        "    zoom_range=0.2,\n",
        "    horizontal_flip=True)\n",
        "\n",
        "test_datagen = ImageDataGenerator(rescale=1. / 255)\n",
        "\n",
        "train_generator = train_datagen.flow_from_directory(\n",
        "    train_data_dir,\n",
        "    target_size=(img_height, img_width),\n",
        "    batch_size=batch_size,\n",
        "    class_mode='categorical')\n",
        "\n",
        "validation_generator = test_datagen.flow_from_directory(\n",
        "    validation_data_dir,\n",
        "    target_size=(img_height, img_width),\n",
        "    batch_size=batch_size,\n",
        "    class_mode='categorical')"
      ],
      "execution_count": 0,
      "outputs": []
    },
    {
      "metadata": {
        "id": "sGhwia-OjNYG",
        "colab_type": "text"
      },
      "cell_type": "markdown",
      "source": [
        "### Visualizing the Data"
      ]
    },
    {
      "metadata": {
        "id": "Iiajq5-rjNYG",
        "colab_type": "code",
        "colab": {}
      },
      "cell_type": "code",
      "source": [
        "import pandas as pd\n",
        "from plotly.offline import init_notebook_mode, iplot\n",
        "import plotly.graph_objs as go\n",
        "init_notebook_mode(connected=True)"
      ],
      "execution_count": 0,
      "outputs": []
    },
    {
      "metadata": {
        "id": "zR2sqXHsjNYJ",
        "colab_type": "code",
        "colab": {}
      },
      "cell_type": "code",
      "source": [
        "training_data = pd.DataFrame(train_generator.classes, columns=['classes'])\n",
        "testing_data = pd.DataFrame(validation_generator.classes, columns=['classes'])"
      ],
      "execution_count": 0,
      "outputs": []
    },
    {
      "metadata": {
        "id": "w_jERczUjNYN",
        "colab_type": "code",
        "colab": {}
      },
      "cell_type": "code",
      "source": [
        "def create_stack_bar_data(col, df):\n",
        "    aggregated = df[col].value_counts().sort_index()\n",
        "    x_values = aggregated.index.tolist()\n",
        "    y_values = aggregated.values.tolist()\n",
        "    return x_values, y_values"
      ],
      "execution_count": 0,
      "outputs": []
    },
    {
      "metadata": {
        "id": "e0mwiffwjNYQ",
        "colab_type": "code",
        "colab": {}
      },
      "cell_type": "code",
      "source": [
        "x1, y1 = create_stack_bar_data('classes', training_data)\n",
        "x1 = list(train_generator.class_indices.keys())\n",
        "\n",
        "trace1 = go.Bar(x=x1, y=y1, opacity=0.75, name=\"Class Count\")\n",
        "layout = dict(height=400, width=1200, title='Class Distribution in Training Data', legend=dict(orientation=\"h\"), \n",
        "                yaxis = dict(title = 'Class Count'))\n",
        "fig = go.Figure(data=[trace1], layout=layout);\n",
        "iplot(fig);"
      ],
      "execution_count": 0,
      "outputs": []
    },
    {
      "metadata": {
        "id": "ud0c_D-RjNYV",
        "colab_type": "code",
        "colab": {}
      },
      "cell_type": "code",
      "source": [
        "x1, y1 = create_stack_bar_data('classes', testing_data)\n",
        "x1 = list(validation_generator.class_indices.keys())\n",
        "\n",
        "trace1 = go.Bar(x=x1, y=y1, opacity=0.75, name=\"Class Count\")\n",
        "layout = dict(height=400, width=1100, title='Class Distribution in Validation Data', legend=dict(orientation=\"h\"), \n",
        "                yaxis = dict(title = 'Class Count'))\n",
        "fig = go.Figure(data=[trace1], layout=layout);\n",
        "iplot(fig);"
      ],
      "execution_count": 0,
      "outputs": []
    },
    {
      "metadata": {
        "id": "YVW12KKojNYb",
        "colab_type": "text"
      },
      "cell_type": "markdown",
      "source": [
        "> - As we can see, all the classes are extremely well-balanced in training as well as the validation.\n",
        "\n",
        "## 4. Building and Compiling the Model\n",
        "### Building the Models\n",
        "\n",
        "Here, we load the ResNet-50 with the ImageNet weights. We remove the top so that we can add our own layer according to the number of our classes. We then add our own layers to complete the model architecture.\n",
        "\n",
        "* ### Building Pretrained Model"
      ]
    },
    {
      "metadata": {
        "id": "-_Py6vJujNYb",
        "colab_type": "code",
        "colab": {}
      },
      "cell_type": "code",
      "source": [
        "#import inception with pre-trained weights. do not include fully #connected layers\n",
        "inception_base = applications.ResNet50(weights='imagenet', include_top=False)\n",
        "\n",
        "# add a global spatial average pooling layer\n",
        "x = inception_base.output\n",
        "x = GlobalAveragePooling2D()(x)\n",
        "# add a fully-connected layer\n",
        "x = Dense(512, activation='relu')(x)\n",
        "# and a fully connected output/classification layer\n",
        "predictions = Dense(65, activation='softmax')(x)\n",
        "# create the full network so we can train on it\n",
        "inception_transfer = Model(inputs=inception_base.input, outputs=predictions)"
      ],
      "execution_count": 0,
      "outputs": []
    },
    {
      "metadata": {
        "id": "gKhk8Y4EjNYe",
        "colab_type": "text"
      },
      "cell_type": "markdown",
      "source": [
        "*  ### Building the Vanilla Model"
      ]
    },
    {
      "metadata": {
        "id": "xMWuIeigjNYf",
        "colab_type": "code",
        "colab": {}
      },
      "cell_type": "code",
      "source": [
        "#import inception with pre-trained weights. do not include fully #connected layers\n",
        "inception_base_vanilla = applications.ResNet50(weights=None, include_top=False)\n",
        "\n",
        "# add a global spatial average pooling layer\n",
        "x = inception_base_vanilla.output\n",
        "x = GlobalAveragePooling2D()(x)\n",
        "# add a fully-connected layer\n",
        "x = Dense(512, activation='relu')(x)\n",
        "# and a fully connected output/classification layer\n",
        "predictions = Dense(65, activation='softmax')(x)\n",
        "# create the full network so we can train on it\n",
        "inception_transfer_vanilla = Model(inputs=inception_base_vanilla.input, outputs=predictions)"
      ],
      "execution_count": 0,
      "outputs": []
    },
    {
      "metadata": {
        "id": "qhm7Qb2gjNYh",
        "colab_type": "text"
      },
      "cell_type": "markdown",
      "source": [
        "### Compiling the Models\n",
        "We set the loss function, the optimization algorithm to be used and metrics to be calculated at the end of each epoch."
      ]
    },
    {
      "metadata": {
        "id": "1PKv6tzajNYi",
        "colab_type": "code",
        "colab": {}
      },
      "cell_type": "code",
      "source": [
        "inception_transfer.compile(loss='categorical_crossentropy',\n",
        "              optimizer=optimizers.SGD(lr=1e-4, momentum=0.9),\n",
        "              metrics=['accuracy'])\n",
        "\n",
        "inception_transfer_vanilla.compile(loss='categorical_crossentropy',\n",
        "              optimizer=optimizers.SGD(lr=1e-4, momentum=0.9),\n",
        "              metrics=['accuracy'])"
      ],
      "execution_count": 0,
      "outputs": []
    },
    {
      "metadata": {
        "id": "CRysDXTDjNYl",
        "colab_type": "code",
        "colab": {}
      },
      "cell_type": "code",
      "source": [
        "from tensorflow.python.client import device_lib\n",
        "print(device_lib.list_local_devices())"
      ],
      "execution_count": 0,
      "outputs": []
    },
    {
      "metadata": {
        "id": "lb2q6yrZjNYp",
        "colab_type": "text"
      },
      "cell_type": "markdown",
      "source": [
        "## 5. Training and Validating the Pretrained Model\n",
        "\n",
        "We use the **fit_generator()** function because we are using object of the **ImageDataGenerator** class to fetch data."
      ]
    },
    {
      "metadata": {
        "id": "xOxO7mAmjNYq",
        "colab_type": "code",
        "colab": {}
      },
      "cell_type": "code",
      "source": [
        "import tensorflow as tf\n",
        "with tf.device(\"/device:GPU:0\"):\n",
        "    history_pretrained = inception_transfer.fit_generator(\n",
        "    train_generator,\n",
        "    epochs=5, shuffle = True, verbose = 1, validation_data = validation_generator)"
      ],
      "execution_count": 0,
      "outputs": []
    },
    {
      "metadata": {
        "id": "5jHWXpfpjNYv",
        "colab_type": "code",
        "colab": {}
      },
      "cell_type": "code",
      "source": [
        "with tf.device(\"/device:GPU:0\"):\n",
        "    history_vanilla = inception_transfer_vanilla.fit_generator(\n",
        "    train_generator,\n",
        "    epochs=5, shuffle = True, verbose = 1, validation_data = validation_generator)"
      ],
      "execution_count": 0,
      "outputs": []
    },
    {
      "metadata": {
        "id": "oRBBPcDnjNY1",
        "colab_type": "code",
        "colab": {}
      },
      "cell_type": "code",
      "source": [
        "import matplotlib.pyplot as plt\n",
        "# summarize history for accuracy\n",
        "plt.plot(history_pretrained.history['val_acc'])\n",
        "plt.plot(history_vanilla.history['val_acc'])\n",
        "plt.title('model accuracy')\n",
        "plt.ylabel('accuracy')\n",
        "plt.xlabel('epoch')\n",
        "plt.legend(['Pretrained', 'Vanilla'], loc='upper left')\n",
        "plt.show()\n",
        "# summarize history for loss\n",
        "plt.plot(history_pretrained.history['val_loss'])\n",
        "plt.plot(history_vanilla.history['val_loss'])\n",
        "plt.title('model loss')\n",
        "plt.ylabel('loss')\n",
        "plt.xlabel('epoch')\n",
        "plt.legend(['Pretrained', 'Vanilla'], loc='upper left')\n",
        "plt.show()"
      ],
      "execution_count": 0,
      "outputs": []
    },
    {
      "metadata": {
        "id": "Df3_N7NGjNY8",
        "colab_type": "code",
        "colab": {}
      },
      "cell_type": "code",
      "source": [
        ""
      ],
      "execution_count": 0,
      "outputs": []
    }
  ]
}