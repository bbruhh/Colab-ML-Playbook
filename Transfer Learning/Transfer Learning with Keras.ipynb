{
  "nbformat": 4,
  "nbformat_minor": 0,
  "metadata": {
    "colab": {
      "name": "Transfer Learning with Keras.ipynb",
      "version": "0.3.2",
      "provenance": []
    },
    "kernelspec": {
      "name": "python3",
      "display_name": "Python 3"
    },
    "accelerator": "GPU"
  },
  "cells": [
    {
      "metadata": {
        "id": "L0dT79EZSDtB",
        "colab_type": "text"
      },
      "cell_type": "markdown",
      "source": [
        "<img height=\"60px\" src=\"https://colab.research.google.com/img/colab_favicon.ico\" align=\"left\" hspace=\"20px\" vspace=\"5px\">\n",
        "\n",
        "# Transfer Learning with Keras"
      ]
    },
    {
      "metadata": {
        "id": "RgW8s3sM7rDw",
        "colab_type": "text"
      },
      "cell_type": "markdown",
      "source": [
        "* References:\n",
        "\n",
        "[https://www.hackerearth.com/practice/machine-learning/transfer-learning/transfer-learning-intro/tutorial/](https://www.hackerearth.com/practice/machine-learning/transfer-learning/transfer-learning-intro/tutorial/)"
      ]
    },
    {
      "metadata": {
        "id": "j4gHxXEaSN4g",
        "colab_type": "text"
      },
      "cell_type": "markdown",
      "source": [
        "<table class=\"tfo-notebook-buttons\" align=\"left\">\n",
        "  <td>\n",
        "    <a target=\"_blank\" href=\"https://colab.research.google.com/github/learning-stack/Colab-ML-Playbook/blob/master/Transfer%20Learning/Transfer%20Learning%20with%20Keras.ipynb\"><img src=\"https://www.tensorflow.org/images/colab_logo_32px.png\" />Run in Google Colab</a>\n",
        "  </td>\n",
        "  <td>\n",
        "    <a target=\"_blank\" href=\"https://github.com/learning-stack/Colab-ML-Playbook/blob/master/Transfer%20Learning/Transfer%20Learning%20with%20Keras.ipynb\"><img src=\"https://www.tensorflow.org/images/GitHub-Mark-32px.png\" />View source on GitHub</a>\n",
        "  </td>\n",
        "</table>"
      ]
    },
    {
      "metadata": {
        "id": "jkRaEx4FDSoa",
        "colab_type": "code",
        "colab": {
          "base_uri": "https://localhost:8080/",
          "height": 68
        },
        "outputId": "94484c23-ee26-4d1e-91f1-06006c6ee96f"
      },
      "cell_type": "code",
      "source": [
        "import numpy as np\n",
        "from keras.datasets import cifar10\n",
        "\n",
        "#Load the dataset:\n",
        "(X_train, y_train), (X_test, y_test) = cifar10.load_data()\n"
      ],
      "execution_count": 1,
      "outputs": [
        {
          "output_type": "stream",
          "text": [
            "Using TensorFlow backend.\n"
          ],
          "name": "stderr"
        },
        {
          "output_type": "stream",
          "text": [
            "Downloading data from https://www.cs.toronto.edu/~kriz/cifar-10-python.tar.gz\n",
            "170500096/170498071 [==============================] - 49s 0us/step\n"
          ],
          "name": "stdout"
        }
      ]
    },
    {
      "metadata": {
        "id": "N3lSf_tKrd3o",
        "colab_type": "code",
        "colab": {
          "base_uri": "https://localhost:8080/",
          "height": 51
        },
        "outputId": "67d3f46c-b1dc-4cb3-c842-2d4b7209a869"
      },
      "cell_type": "code",
      "source": [
        "print(\"There are {} train images and {} test images.\".format(X_train.shape[0], X_test.shape[0]))\n",
        "print('There are {} unique classes to predict.'.format(np.unique(y_train).shape[0]))"
      ],
      "execution_count": 2,
      "outputs": [
        {
          "output_type": "stream",
          "text": [
            "There are 50000 train images and 10000 test images.\n",
            "There are 10 unique classes to predict.\n"
          ],
          "name": "stdout"
        }
      ]
    },
    {
      "metadata": {
        "id": "cIQ4CtJTrv9o",
        "colab_type": "code",
        "colab": {}
      },
      "cell_type": "code",
      "source": [
        "#One-hot encoding the labels\n",
        "num_classes = 10\n",
        "from keras.utils import np_utils\n",
        "y_train = np_utils.to_categorical(y_train, num_classes)\n",
        "y_test = np_utils.to_categorical(y_test, num_classes)"
      ],
      "execution_count": 0,
      "outputs": []
    },
    {
      "metadata": {
        "id": "FPmIbt17r0wf",
        "colab_type": "code",
        "colab": {
          "base_uri": "https://localhost:8080/",
          "height": 485
        },
        "outputId": "f8226809-e31b-4da0-f207-110bd328e810"
      },
      "cell_type": "code",
      "source": [
        "# To plot pretty figures\n",
        "%matplotlib inline\n",
        "import matplotlib\n",
        "import matplotlib.pyplot as plt\n",
        "\n",
        "fig = plt.figure(figsize=(10, 10))\n",
        "\n",
        "for i in range(1, 9):\n",
        "    img = X_train[i-1]\n",
        "    fig.add_subplot(2, 4, i)\n",
        "    plt.imshow(img)\n",
        "\n",
        "print('Shape of each image in the training data: ', X_train.shape[1:])"
      ],
      "execution_count": 4,
      "outputs": [
        {
          "output_type": "stream",
          "text": [
            "Shape of each image in the training data:  (32, 32, 3)\n"
          ],
          "name": "stdout"
        },
        {
          "output_type": "display_data",
          "data": {
            "image/png": "[encoded data removed]",
            "text/plain": [
              "<matplotlib.figure.Figure at 0x7f47fa9669b0>"
            ]
          },
          "metadata": {
            "tags": []
          }
        }
      ]
    },
    {
      "metadata": {
        "id": "Tb4pK8dvuCsX",
        "colab_type": "code",
        "colab": {
          "base_uri": "https://localhost:8080/",
          "height": 408
        },
        "outputId": "08846669-9719-4f8f-a4b7-e1cd28cd53e4"
      },
      "cell_type": "code",
      "source": [
        "#Importing the necessary libraries \n",
        "from keras.models import Sequential\n",
        "from keras.layers import Dense, Conv2D, MaxPooling2D\n",
        "from keras.layers import Dropout, Flatten, GlobalAveragePooling2D\n",
        "\n",
        "#Building up a Sequential model\n",
        "# Each image in the dataset is of size: 32*32*3\n",
        "# this applies 32 convolution filters of size 3x3 each -> 32,(3,3)\n",
        "# our model contains three convolutional layers, each followed by a max pooling layer and \n",
        "# finally a Global Average Pooling layer followed by a dense layer with ‘softmax’ as the activation function. \n",
        "# There are a total of 29,290 parameters to train.\n",
        "model = Sequential()\n",
        "model.add(Conv2D(32, (3, 3), activation='relu',input_shape = X_train.shape[1:]))\n",
        "model.add(MaxPooling2D(pool_size=(2, 2)))\n",
        "\n",
        "model.add(Conv2D(32, (3, 3), activation='relu'))\n",
        "model.add(MaxPooling2D(pool_size=(2, 2)))\n",
        "\n",
        "model.add(Conv2D(64, (3, 3), activation='relu'))\n",
        "model.add(MaxPooling2D(pool_size=(2, 2)))\n",
        "\n",
        "model.add(GlobalAveragePooling2D())\n",
        "model.add(Dense(10, activation='softmax'))\n",
        "model.summary()"
      ],
      "execution_count": 5,
      "outputs": [
        {
          "output_type": "stream",
          "text": [
            "_________________________________________________________________\n",
            "Layer (type)                 Output Shape              Param #   \n",
            "=================================================================\n",
            "conv2d_1 (Conv2D)            (None, 30, 30, 32)        896       \n",
            "_________________________________________________________________\n",
            "max_pooling2d_1 (MaxPooling2 (None, 15, 15, 32)        0         \n",
            "_________________________________________________________________\n",
            "conv2d_2 (Conv2D)            (None, 13, 13, 32)        9248      \n",
            "_________________________________________________________________\n",
            "max_pooling2d_2 (MaxPooling2 (None, 6, 6, 32)          0         \n",
            "_________________________________________________________________\n",
            "conv2d_3 (Conv2D)            (None, 4, 4, 64)          18496     \n",
            "_________________________________________________________________\n",
            "max_pooling2d_3 (MaxPooling2 (None, 2, 2, 64)          0         \n",
            "_________________________________________________________________\n",
            "global_average_pooling2d_1 ( (None, 64)                0         \n",
            "_________________________________________________________________\n",
            "dense_1 (Dense)              (None, 10)                650       \n",
            "=================================================================\n",
            "Total params: 29,290\n",
            "Trainable params: 29,290\n",
            "Non-trainable params: 0\n",
            "_________________________________________________________________\n"
          ],
          "name": "stdout"
        }
      ]
    },
    {
      "metadata": {
        "id": "dgJpCiulwe0d",
        "colab_type": "code",
        "colab": {}
      },
      "cell_type": "code",
      "source": [
        "# We will be using ‘binary cross-entropy’ as the loss function, ‘adam’ as the optimizer and ‘accuracy’ as the performance metric.\n",
        "model.compile(loss='binary_crossentropy', optimizer='adam',\n",
        "              metrics=['accuracy'])"
      ],
      "execution_count": 0,
      "outputs": []
    },
    {
      "metadata": {
        "id": "DOUaIdW-wmIl",
        "colab_type": "code",
        "colab": {}
      },
      "cell_type": "code",
      "source": [
        "# Rescaling our data. Rescale is a value by which we will multiply the data such that the resultant values lie in the range (0-1). \n",
        "# So, in general, scaling ensures that just because some features are big in magnitude, it doesn’t mean they act as the main features in predicting the label.\n",
        "X_train_scratch = X_train/255.\n",
        "X_test_scratch = X_test/255."
      ],
      "execution_count": 0,
      "outputs": []
    },
    {
      "metadata": {
        "id": "N5VVlqgPw2oN",
        "colab_type": "code",
        "colab": {}
      },
      "cell_type": "code",
      "source": [
        "#Creating a checkpointer to save the weights of the best model (i.e. the model with minimum loss).\n",
        "from keras.callbacks import ModelCheckpoint\n",
        "checkpointer = ModelCheckpoint(filepath='scratchmodel.best.hdf5', \n",
        "                               verbose=1,save_best_only=True)"
      ],
      "execution_count": 0,
      "outputs": []
    },
    {
      "metadata": {
        "id": "TNPAFedhxgac",
        "colab_type": "code",
        "colab": {
          "base_uri": "https://localhost:8080/",
          "height": 731
        },
        "outputId": "7a40607d-b81d-4e5c-c671-d2387f285e18"
      },
      "cell_type": "code",
      "source": [
        "#Fitting the model on the train data and labels.\n",
        "# We will split the whole training data in batches of 32 and train the model for 10 epochs. \n",
        "# We will use be 20 percent of our training data as our validation data. Hence, we will train the model on 10000 samples and validate of 10000 samples.\n",
        "model.fit(X_train, y_train, batch_size=32, epochs=10, \n",
        "          verbose=1, callbacks=[checkpointer], validation_split=0.2, shuffle=True)"
      ],
      "execution_count": 9,
      "outputs": [
        {
          "output_type": "stream",
          "text": [
            "Train on 40000 samples, validate on 10000 samples\n",
            "Epoch 1/10\n",
            "40000/40000 [==============================] - 20s 504us/step - loss: 0.3170 - acc: 0.8997 - val_loss: 0.2444 - val_acc: 0.9060\n",
            "\n",
            "Epoch 00001: val_loss improved from inf to 0.24436, saving model to scratchmodel.best.hdf5\n",
            "Epoch 2/10\n",
            "40000/40000 [==============================] - 19s 475us/step - loss: 0.2276 - acc: 0.9127 - val_loss: 0.2341 - val_acc: 0.9087\n",
            "\n",
            "Epoch 00002: val_loss improved from 0.24436 to 0.23405, saving model to scratchmodel.best.hdf5\n",
            "Epoch 3/10\n",
            "40000/40000 [==============================] - 19s 472us/step - loss: 0.2046 - acc: 0.9206 - val_loss: 0.2055 - val_acc: 0.9211\n",
            "\n",
            "Epoch 00003: val_loss improved from 0.23405 to 0.20546, saving model to scratchmodel.best.hdf5\n",
            "Epoch 4/10\n",
            "40000/40000 [==============================] - 19s 468us/step - loss: 0.1878 - acc: 0.9270 - val_loss: 0.1932 - val_acc: 0.9247\n",
            "\n",
            "Epoch 00004: val_loss improved from 0.20546 to 0.19322, saving model to scratchmodel.best.hdf5\n",
            "Epoch 5/10\n",
            "40000/40000 [==============================] - 19s 470us/step - loss: 0.1768 - acc: 0.9312 - val_loss: 0.1914 - val_acc: 0.9267\n",
            "\n",
            "Epoch 00005: val_loss improved from 0.19322 to 0.19141, saving model to scratchmodel.best.hdf5\n",
            "Epoch 6/10\n",
            "40000/40000 [==============================] - 22s 550us/step - loss: 0.1692 - acc: 0.9343 - val_loss: 0.1826 - val_acc: 0.9294\n",
            "\n",
            "Epoch 00006: val_loss improved from 0.19141 to 0.18259, saving model to scratchmodel.best.hdf5\n",
            "Epoch 7/10\n",
            "40000/40000 [==============================] - 21s 524us/step - loss: 0.1617 - acc: 0.9374 - val_loss: 0.1795 - val_acc: 0.9302\n",
            "\n",
            "Epoch 00007: val_loss improved from 0.18259 to 0.17955, saving model to scratchmodel.best.hdf5\n",
            "Epoch 8/10\n",
            "40000/40000 [==============================] - 20s 497us/step - loss: 0.1558 - acc: 0.9396 - val_loss: 0.1729 - val_acc: 0.9326\n",
            "\n",
            "Epoch 00008: val_loss improved from 0.17955 to 0.17294, saving model to scratchmodel.best.hdf5\n",
            "Epoch 9/10\n",
            "40000/40000 [==============================] - 19s 477us/step - loss: 0.1501 - acc: 0.9418 - val_loss: 0.1695 - val_acc: 0.9356\n",
            "\n",
            "Epoch 00009: val_loss improved from 0.17294 to 0.16954, saving model to scratchmodel.best.hdf5\n",
            "Epoch 10/10\n",
            "40000/40000 [==============================] - 19s 482us/step - loss: 0.1467 - acc: 0.9431 - val_loss: 0.1682 - val_acc: 0.9358\n",
            "\n",
            "Epoch 00010: val_loss improved from 0.16954 to 0.16819, saving model to scratchmodel.best.hdf5\n"
          ],
          "name": "stdout"
        },
        {
          "output_type": "execute_result",
          "data": {
            "text/plain": [
              "<keras.callbacks.History at 0x7f47eadede48>"
            ]
          },
          "metadata": {
            "tags": []
          },
          "execution_count": 9
        }
      ]
    },
    {
      "metadata": {
        "id": "APp2S4H2y-xs",
        "colab_type": "code",
        "colab": {
          "base_uri": "https://localhost:8080/",
          "height": 51
        },
        "outputId": "4b8ea750-0dd8-4a30-8c87-2e0ed0c1f9e4"
      },
      "cell_type": "code",
      "source": [
        "#Evaluate the model on the test data\n",
        "score = model.evaluate(X_test, y_test)\n",
        "\n",
        "#Accuracy on test data\n",
        "print('Accuracy on the Test Images: ', score[1])"
      ],
      "execution_count": 10,
      "outputs": [
        {
          "output_type": "stream",
          "text": [
            "10000/10000 [==============================] - 2s 163us/step\n",
            "Accuracy on the Test Images:  0.9355699932098389\n"
          ],
          "name": "stdout"
        }
      ]
    },
    {
      "metadata": {
        "id": "eCcg8doheHhE",
        "colab_type": "text"
      },
      "cell_type": "markdown",
      "source": [
        "## Implement Transfer Learning"
      ]
    },
    {
      "metadata": {
        "id": "xgKvUDGJeB_l",
        "colab_type": "code",
        "colab": {
          "base_uri": "https://localhost:8080/",
          "height": 51
        },
        "outputId": "304cf899-35e0-4514-bbd3-aae71dffdc12"
      },
      "cell_type": "code",
      "source": [
        "#We will be using the Resnet50 model, pre-trained on the ‘Imagenet weights’ to implement transfer learning.\n",
        "\n",
        "#Importing the ResNet50 model\n",
        "from keras.applications.resnet50 import ResNet50, preprocess_input\n",
        "\n",
        "#Loading the ResNet50 model with pre-trained ImageNet weights\n",
        "model = ResNet50(weights='imagenet', include_top=False, input_shape=(200, 200, 3))"
      ],
      "execution_count": 11,
      "outputs": [
        {
          "output_type": "stream",
          "text": [
            "Downloading data from https://github.com/fchollet/deep-learning-models/releases/download/v0.2/resnet50_weights_tf_dim_ordering_tf_kernels_notop.h5\n",
            "94658560/94653016 [==============================] - 3s 0us/step\n"
          ],
          "name": "stdout"
        }
      ]
    },
    {
      "metadata": {
        "id": "m-jsnaOtoQs7",
        "colab_type": "text"
      },
      "cell_type": "markdown",
      "source": [
        "# ***# (Not enough memory to execute). Use Jupyter notebook and try again.***"
      ]
    },
    {
      "metadata": {
        "id": "IeenudMHeave",
        "colab_type": "code",
        "colab": {}
      },
      "cell_type": "code",
      "source": [
        "#ResNet50 model is (197 * 197 * 3), we resize our training images to the size (200 * 200 * 3).\n",
        "\n",
        "from scipy.misc import imresize\n",
        "\n",
        "#Reshaping the training data\n",
        "X_train_new = np.array([imresize(X_train[i], (200, 200, 3)) for i in range(0, len(X_train))]).astype('float32')\n",
        "\n",
        "#Preprocessing the data, so that it can be fed to the pre-trained ResNet50 model. \n",
        "resnet_train_input = preprocess_input(X_train_new)\n",
        "\n",
        "#Creating bottleneck features for the training data\n",
        "train_features = model.predict(resnet_train_input)\n",
        "\n",
        "#Saving the bottleneck features\n",
        "np.savez('resnet_features_train', features=train_features)"
      ],
      "execution_count": 0,
      "outputs": []
    },
    {
      "metadata": {
        "id": "8-dS6fYfenyI",
        "colab_type": "code",
        "colab": {}
      },
      "cell_type": "code",
      "source": [
        "#Reshaping the testing data\n",
        "X_test_new = np.array([imresize(X_test[i], (200, 200, 3)) for i in range(0, len(X_test))]).astype('float32')\n",
        "\n",
        "#Preprocessing the data, so that it can be fed to the pre-trained ResNet50 model.\n",
        "resnet_test_input = preprocess_input(X_test_new)\n",
        "\n",
        "#Creating bottleneck features for the testing data\n",
        "test_features = model.predict(resnet_test_input)\n",
        "\n",
        "#Saving the bottleneck features\n",
        "np.savez('resnet_features_test', features=test_features)"
      ],
      "execution_count": 0,
      "outputs": []
    },
    {
      "metadata": {
        "id": "YCCieY7Keq55",
        "colab_type": "code",
        "colab": {}
      },
      "cell_type": "code",
      "source": [
        "#We will use the same process to create bottleneck features for the testing data. \n",
        "#Now, that we have created the bottleneck features, we will supply them as input to a sequential model with newly added fully connected layers \n",
        "#that match the number of classes in the Cifar-10 dataset.\n",
        "\n",
        "model = Sequential()\n",
        "model.add(GlobalAveragePooling2D(input_shape=train_features.shape[1:]))\n",
        "model.add(Dropout(0.3))\n",
        "model.add(Dense(10, activation='softmax'))\n",
        "model.summary()"
      ],
      "execution_count": 0,
      "outputs": []
    },
    {
      "metadata": {
        "id": "BJg311bGfEXz",
        "colab_type": "code",
        "colab": {}
      },
      "cell_type": "code",
      "source": [
        "model.compile(loss='categorical_crossentropy', optimizer='adam', \n",
        "              metrics=['accuracy'])"
      ],
      "execution_count": 0,
      "outputs": []
    },
    {
      "metadata": {
        "id": "3e3K5zH5fG5T",
        "colab_type": "code",
        "colab": {}
      },
      "cell_type": "code",
      "source": [
        "model.fit(train_features, y_train, batch_size=32, epochs=10,\n",
        "          validation_split=0.2, callbacks=[checkpointer], verbose=1, shuffle=True)"
      ],
      "execution_count": 0,
      "outputs": []
    },
    {
      "metadata": {
        "id": "bcIvxEj1fJDm",
        "colab_type": "code",
        "colab": {}
      },
      "cell_type": "code",
      "source": [
        "#Evaluate the model on the test data\n",
        "score  = model.evaluate(test_features, y_test)\n",
        "\n",
        "#Accuracy on test data\n",
        "print('Accuracy on the Test Images: ', score[1])"
      ],
      "execution_count": 0,
      "outputs": []
    }
  ]
}