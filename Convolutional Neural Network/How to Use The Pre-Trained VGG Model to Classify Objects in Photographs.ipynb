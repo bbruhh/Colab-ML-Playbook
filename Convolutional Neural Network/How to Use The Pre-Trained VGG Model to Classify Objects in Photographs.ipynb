{
  "nbformat": 4,
  "nbformat_minor": 0,
  "metadata": {
    "colab": {
      "name": "How to Use The Pre-Trained VGG Model to Classify Objects in Photographs.ipynb",
      "version": "0.3.2",
      "provenance": []
    },
    "kernelspec": {
      "name": "python3",
      "display_name": "Python 3"
    },
    "accelerator": "GPU"
  },
  "cells": [
    {
      "metadata": {
        "id": "ISR4MnO-kQzR",
        "colab_type": "text"
      },
      "cell_type": "markdown",
      "source": [
        "<img height=\"60px\" src=\"https://colab.research.google.com/img/colab_favicon.ico\" align=\"left\" hspace=\"20px\" vspace=\"5px\">\n",
        "# A Custom Estimator for a Convolutional Neural Network with Tensorflow\n",
        "\n",
        "Hello intrepid reader! In this notebook, we'll will add a function that uses ```tf.layers``` to build a vanilla CNN. This should achieve around 99% accuracy on MNIST (there is still plenty of room to improve). Have a look at the ```build_cnn``` function where we define the model. Aside from that (and changing our preprocessing to no longer 'flatten' the images, and to add a color channel dimension), the code otherwise remains unchanged. "
      ]
    },
    {
      "metadata": {
        "id": "6Utg6v0Hkamk",
        "colab_type": "text"
      },
      "cell_type": "markdown",
      "source": [
        "* Reference: https://www.youtube.com/watch?v=Gj0iyo265bc&list=PLOU2XLYxmsIIuiBfYad6rFYQU_jL2ryal&index=7"
      ]
    },
    {
      "metadata": {
        "id": "xZD_i1QAknz7",
        "colab_type": "text"
      },
      "cell_type": "markdown",
      "source": [
        "<table class=\"tfo-notebook-buttons\" align=\"left\">\n",
        "  <td>\n",
        "    <a target=\"_blank\" href=\"https://colab.research.google.com/github/learning-stack/Colab-ML-Playbook/blob/master/Convolutional%20Neural%20Network/A%20Custom%20Estimator%20for%20a%20Convolutional%20Neural%20Network%20with%20Tensorflow.ipynb\"><img src=\"https://www.tensorflow.org/images/colab_logo_32px.png\" />Run in Google Colab</a>\n",
        "  </td>\n",
        "  <td>\n",
        "    <a target=\"_blank\" href=\"https://github.com/learning-stack/Colab-ML-Playbook/blob/master/Convolutional%20Neural%20Network/A%20Custom%20Estimator%20for%20a%20Convolutional%20Neural%20Network%20with%20Tensorflow.ipynb\"><img src=\"https://www.tensorflow.org/images/GitHub-Mark-32px.png\" />View source on GitHub</a>\n",
        "  </td>\n",
        "</table>"
      ]
    },
    {
      "metadata": {
        "id": "hHQos938kQzY",
        "colab_type": "code",
        "colab": {}
      },
      "cell_type": "code",
      "source": [
        "from __future__ import absolute_import\n",
        "from __future__ import division\n",
        "from __future__ import print_function\n",
        "\n",
        "import math\n",
        "import numpy as np\n",
        "\n",
        "import tensorflow as tf"
      ],
      "execution_count": 0,
      "outputs": []
    },
    {
      "metadata": {
        "id": "hSnuVWxQkQzd",
        "colab_type": "text"
      },
      "cell_type": "markdown",
      "source": [
        "Import the dataset. Here, we'll need to convert the labels to a one-hot encoding, and we'll reshape the MNIST images to (784,)."
      ]
    },
    {
      "metadata": {
        "id": "7pQK_MgHkQzf",
        "colab_type": "code",
        "colab": {
          "base_uri": "https://localhost:8080/",
          "height": 85
        },
        "outputId": "1bd0afbc-6ee8-4395-ae6e-fd5bac9c8951"
      },
      "cell_type": "code",
      "source": [
        "# We'll use Keras (included with TensorFlow) to import the data\n",
        "# I figured I'd do all the preprocessing and reshaping here, \n",
        "# rather than in the model.\n",
        "(x_train, y_train), (x_test, y_test) = tf.contrib.keras.datasets.mnist.load_data()\n",
        "\n",
        "x_train = x_train.astype('float32')\n",
        "x_test = x_test.astype('float32')\n",
        "\n",
        "y_train = y_train.astype('int32')\n",
        "y_test = y_test.astype('int32')\n",
        "\n",
        "# Normalize the color values to 0-1\n",
        "# (as imported, they're 0-255)\n",
        "x_train /= 255\n",
        "x_test /= 255\n",
        "\n",
        "# The CNN we'll use later expects a color channel dimension\n",
        "# Let's add this here\n",
        "x_train = x_train.reshape(x_train.shape[0], 28, 28, 1)\n",
        "x_test = x_test.reshape(x_test.shape[0], 28, 28, 1)\n",
        "\n",
        "# Convert to one-hot.\n",
        "y_train = tf.contrib.keras.utils.to_categorical(y_train, num_classes=10)\n",
        "y_test = tf.contrib.keras.utils.to_categorical(y_test, num_classes=10)\n",
        "\n",
        "print(x_train.shape[0], 'train samples')\n",
        "print(x_test.shape[0], 'test samples')"
      ],
      "execution_count": 2,
      "outputs": [
        {
          "output_type": "stream",
          "text": [
            "Downloading data from https://storage.googleapis.com/tensorflow/tf-keras-datasets/mnist.npz\n",
            "11493376/11490434 [==============================] - 0s 0us/step\n",
            "60000 train samples\n",
            "10000 test samples\n"
          ],
          "name": "stdout"
        }
      ]
    },
    {
      "metadata": {
        "id": "drB6eMu2kQzi",
        "colab_type": "text"
      },
      "cell_type": "markdown",
      "source": [
        "This function that defines our CNN."
      ]
    },
    {
      "metadata": {
        "id": "BoY8lclbkQzj",
        "colab_type": "code",
        "colab": {}
      },
      "cell_type": "code",
      "source": [
        "def build_cnn(features, mode):\n",
        "    \n",
        "    image_batch = features['x']\n",
        "    \n",
        "    with tf.name_scope(\"conv1\"):  \n",
        "        conv1 = tf.layers.conv2d(inputs=image_batch, filters=32, kernel_size=[3, 3],\n",
        "                                 padding='same', activation=tf.nn.relu)\n",
        "\n",
        "    with tf.name_scope(\"pool1\"):  \n",
        "        pool1 = tf.layers.max_pooling2d(inputs=conv1, pool_size=[2, 2], strides=2)\n",
        "\n",
        "    with tf.name_scope(\"conv2\"):  \n",
        "        conv2 = tf.layers.conv2d(inputs=pool1, filters=64, kernel_size=[3, 3],\n",
        "                                 padding='same', activation=tf.nn.relu)\n",
        "\n",
        "    with tf.name_scope(\"pool2\"):  \n",
        "        pool2 = tf.layers.max_pooling2d(inputs=conv2, pool_size=[2, 2], strides=2)\n",
        "\n",
        "    with tf.name_scope(\"dense\"):  \n",
        "        # The 'images' are now 7x7 (28 / 2 / 2), and we have 64 channels per image\n",
        "        pool2_flat = tf.reshape(pool2, [-1, 7 * 7 * 64])\n",
        "        dense = tf.layers.dense(inputs=pool2_flat, units=128, activation=tf.nn.relu)\n",
        "\n",
        "    with tf.name_scope(\"dropout\"):  \n",
        "        # Add dropout operation; 0.8 probability that a neuron will be kept\n",
        "        dropout = tf.layers.dropout(\n",
        "            inputs=dense, rate=0.2, training = mode == tf.estimator.ModeKeys.TRAIN)\n",
        "\n",
        "    logits = tf.layers.dense(inputs=dropout, units=10)\n",
        "\n",
        "    return logits"
      ],
      "execution_count": 0,
      "outputs": []
    },
    {
      "metadata": {
        "id": "rXlj9xNfkQzn",
        "colab_type": "text"
      },
      "cell_type": "markdown",
      "source": [
        "To write a Custom Estimator we'll specify our own model function. Here, we'll use ```tf.layers``` to replicate the model from the third notebook."
      ]
    },
    {
      "metadata": {
        "id": "-OXBBuZrkQzn",
        "colab_type": "code",
        "colab": {}
      },
      "cell_type": "code",
      "source": [
        "def model_fn(features, labels, mode):\n",
        "    \n",
        "    logits = build_cnn(features, mode)\n",
        "    \n",
        "    # Generate Predictions\n",
        "    classes = tf.argmax(logits, axis=1)\n",
        "    predictions = {\n",
        "        'classes': classes,\n",
        "        'probabilities': tf.nn.softmax(logits, name='softmax_tensor')\n",
        "    }\n",
        "    \n",
        "    if mode == tf.estimator.ModeKeys.PREDICT:\n",
        "        # Return an EstimatorSpec for prediction\n",
        "        return tf.estimator.EstimatorSpec(mode=mode, predictions=predictions)\n",
        "        \n",
        "    # Compute the loss, per usual.\n",
        "    loss = tf.losses.softmax_cross_entropy(\n",
        "        onehot_labels=labels, logits=logits)\n",
        "        \n",
        "    if mode == tf.estimator.ModeKeys.TRAIN:\n",
        "        \n",
        "        # Configure the Training Op\n",
        "        train_op = tf.contrib.layers.optimize_loss(\n",
        "            loss=loss,\n",
        "            global_step=tf.train.get_global_step(),\n",
        "            learning_rate=1e-3,\n",
        "            optimizer='Adam')\n",
        "\n",
        "        # Return an EstimatorSpec for training\n",
        "        return tf.estimator.EstimatorSpec(mode=mode, predictions=predictions,\n",
        "                                      loss=loss, train_op=train_op)    \n",
        "\n",
        "    assert mode == tf.estimator.ModeKeys.EVAL\n",
        "    \n",
        "    # Configure the accuracy metric for evaluation\n",
        "    metrics = {'accuracy': tf.metrics.accuracy(classes, tf.argmax(labels, axis=1))}\n",
        "    \n",
        "    return tf.estimator.EstimatorSpec(mode=mode, \n",
        "                                      predictions=predictions, \n",
        "                                      loss=loss,\n",
        "                                      eval_metric_ops=metrics)"
      ],
      "execution_count": 0,
      "outputs": []
    },
    {
      "metadata": {
        "id": "vgjZnk43kQzt",
        "colab_type": "text"
      },
      "cell_type": "markdown",
      "source": [
        "Input functions, as before."
      ]
    },
    {
      "metadata": {
        "id": "Xi1Y0elkkQzv",
        "colab_type": "code",
        "colab": {}
      },
      "cell_type": "code",
      "source": [
        "train_input = tf.estimator.inputs.numpy_input_fn(\n",
        "    {'x': x_train},\n",
        "    y_train, \n",
        "    num_epochs=None, # repeat forever\n",
        "    shuffle=True # \n",
        ")\n",
        "\n",
        "test_input = tf.estimator.inputs.numpy_input_fn(\n",
        "    {'x': x_test},\n",
        "    y_test,\n",
        "    num_epochs=1, # loop through the dataset once\n",
        "    shuffle=False # don't shuffle the test data\n",
        ")"
      ],
      "execution_count": 0,
      "outputs": []
    },
    {
      "metadata": {
        "id": "2DAR7OvTkQzx",
        "colab_type": "code",
        "colab": {
          "base_uri": "https://localhost:8080/",
          "height": 88
        },
        "outputId": "9a427e4b-70a4-4040-8264-f7fe125444ff"
      },
      "cell_type": "code",
      "source": [
        "estimator = tf.estimator.Estimator(model_fn=model_fn)"
      ],
      "execution_count": 6,
      "outputs": [
        {
          "output_type": "stream",
          "text": [
            "INFO:tensorflow:Using default config.\n",
            "WARNING:tensorflow:Using temporary folder as model directory: /tmp/tmp2sauchry\n",
            "INFO:tensorflow:Using config: {'_model_dir': '/tmp/tmp2sauchry', '_tf_random_seed': None, '_save_summary_steps': 100, '_save_checkpoints_steps': None, '_save_checkpoints_secs': 600, '_session_config': None, '_keep_checkpoint_max': 5, '_keep_checkpoint_every_n_hours': 10000, '_log_step_count_steps': 100, '_train_distribute': None, '_device_fn': None, '_service': None, '_cluster_spec': <tensorflow.python.training.server_lib.ClusterSpec object at 0x7efe7acdd2b0>, '_task_type': 'worker', '_task_id': 0, '_global_id_in_cluster': 0, '_master': '', '_evaluation_master': '', '_is_chief': True, '_num_ps_replicas': 0, '_num_worker_replicas': 1}\n"
          ],
          "name": "stdout"
        }
      ]
    },
    {
      "metadata": {
        "id": "hhlAs3JDkQz0",
        "colab_type": "code",
        "colab": {
          "base_uri": "https://localhost:8080/",
          "height": 850
        },
        "outputId": "d288a7f7-8d20-4536-f3a4-a7b53a658c4f"
      },
      "cell_type": "code",
      "source": [
        "# If you are running on a machine without a GPU, this can take some time to train.\n",
        "estimator.train(input_fn=train_input, steps=2000)"
      ],
      "execution_count": 7,
      "outputs": [
        {
          "output_type": "stream",
          "text": [
            "INFO:tensorflow:Calling model_fn.\n",
            "INFO:tensorflow:Done calling model_fn.\n",
            "INFO:tensorflow:Create CheckpointSaverHook.\n",
            "INFO:tensorflow:Graph was finalized.\n",
            "INFO:tensorflow:Running local_init_op.\n",
            "INFO:tensorflow:Done running local_init_op.\n",
            "INFO:tensorflow:Saving checkpoints for 0 into /tmp/tmp2sauchry/model.ckpt.\n",
            "INFO:tensorflow:loss = 2.3034613, step = 0\n",
            "INFO:tensorflow:global_step/sec: 93.773\n",
            "INFO:tensorflow:loss = 0.21270421, step = 100 (1.073 sec)\n",
            "INFO:tensorflow:global_step/sec: 110.755\n",
            "INFO:tensorflow:loss = 0.10597864, step = 200 (0.898 sec)\n",
            "INFO:tensorflow:global_step/sec: 111.711\n",
            "INFO:tensorflow:loss = 0.107559994, step = 300 (0.899 sec)\n",
            "INFO:tensorflow:global_step/sec: 110.118\n",
            "INFO:tensorflow:loss = 0.023244334, step = 400 (0.908 sec)\n",
            "INFO:tensorflow:global_step/sec: 113.128\n",
            "INFO:tensorflow:loss = 0.08734144, step = 500 (0.884 sec)\n",
            "INFO:tensorflow:global_step/sec: 109.252\n",
            "INFO:tensorflow:loss = 0.20863816, step = 600 (0.916 sec)\n",
            "INFO:tensorflow:global_step/sec: 111.413\n",
            "INFO:tensorflow:loss = 0.0365458, step = 700 (0.893 sec)\n",
            "INFO:tensorflow:global_step/sec: 111.721\n",
            "INFO:tensorflow:loss = 0.047803845, step = 800 (0.898 sec)\n",
            "INFO:tensorflow:global_step/sec: 112.993\n",
            "INFO:tensorflow:loss = 0.053765673, step = 900 (0.882 sec)\n",
            "INFO:tensorflow:global_step/sec: 111.628\n",
            "INFO:tensorflow:loss = 0.047981743, step = 1000 (0.897 sec)\n",
            "INFO:tensorflow:global_step/sec: 112.301\n",
            "INFO:tensorflow:loss = 0.066302925, step = 1100 (0.891 sec)\n",
            "INFO:tensorflow:global_step/sec: 113.284\n",
            "INFO:tensorflow:loss = 0.008458082, step = 1200 (0.885 sec)\n",
            "INFO:tensorflow:global_step/sec: 111.86\n",
            "INFO:tensorflow:loss = 0.008153589, step = 1300 (0.894 sec)\n",
            "INFO:tensorflow:global_step/sec: 112.78\n",
            "INFO:tensorflow:loss = 0.02853144, step = 1400 (0.882 sec)\n",
            "INFO:tensorflow:global_step/sec: 112.305\n",
            "INFO:tensorflow:loss = 0.04509967, step = 1500 (0.892 sec)\n",
            "INFO:tensorflow:global_step/sec: 112.801\n",
            "INFO:tensorflow:loss = 0.002965274, step = 1600 (0.886 sec)\n",
            "INFO:tensorflow:global_step/sec: 111.119\n",
            "INFO:tensorflow:loss = 0.023155965, step = 1700 (0.904 sec)\n",
            "INFO:tensorflow:global_step/sec: 109.446\n",
            "INFO:tensorflow:loss = 0.04848451, step = 1800 (0.910 sec)\n",
            "INFO:tensorflow:global_step/sec: 113.127\n",
            "INFO:tensorflow:loss = 0.013914279, step = 1900 (0.884 sec)\n",
            "INFO:tensorflow:Saving checkpoints for 2000 into /tmp/tmp2sauchry/model.ckpt.\n",
            "INFO:tensorflow:Loss for final step: 0.043383364.\n"
          ],
          "name": "stdout"
        },
        {
          "output_type": "execute_result",
          "data": {
            "text/plain": [
              "<tensorflow.python.estimator.estimator.Estimator at 0x7efe7acdd198>"
            ]
          },
          "metadata": {
            "tags": []
          },
          "execution_count": 7
        }
      ]
    },
    {
      "metadata": {
        "id": "VDO794MnkQz4",
        "colab_type": "code",
        "colab": {
          "base_uri": "https://localhost:8080/",
          "height": 204
        },
        "outputId": "d7351a68-e9b3-49b4-f77f-a99d777b9703"
      },
      "cell_type": "code",
      "source": [
        "# Evaluate the estimator using our input function.\n",
        "# We should see our accuracy metric below\n",
        "# Tweaking with the params of the model, you can get >99% accuracy\n",
        "evaluation = estimator.evaluate(input_fn=test_input)\n",
        "print(evaluation)"
      ],
      "execution_count": 8,
      "outputs": [
        {
          "output_type": "stream",
          "text": [
            "INFO:tensorflow:Calling model_fn.\n",
            "INFO:tensorflow:Done calling model_fn.\n",
            "INFO:tensorflow:Starting evaluation at 2018-09-22-00:14:08\n",
            "INFO:tensorflow:Graph was finalized.\n",
            "INFO:tensorflow:Restoring parameters from /tmp/tmp2sauchry/model.ckpt-2000\n",
            "INFO:tensorflow:Running local_init_op.\n",
            "INFO:tensorflow:Done running local_init_op.\n",
            "INFO:tensorflow:Finished evaluation at 2018-09-22-00:14:08\n",
            "INFO:tensorflow:Saving dict for global step 2000: accuracy = 0.9893, global_step = 2000, loss = 0.029348744\n",
            "INFO:tensorflow:Saving 'checkpoint_path' summary for global step 2000: /tmp/tmp2sauchry/model.ckpt-2000\n",
            "{'accuracy': 0.9893, 'loss': 0.029348744, 'global_step': 2000}\n"
          ],
          "name": "stdout"
        }
      ]
    },
    {
      "metadata": {
        "id": "A6DeHATOkQz8",
        "colab_type": "code",
        "colab": {
          "base_uri": "https://localhost:8080/",
          "height": 204
        },
        "outputId": "57b09a57-2ff9-4ac6-dccf-5bf3bd4214a6"
      },
      "cell_type": "code",
      "source": [
        "# Here's how to print predictions on a few examples\n",
        "MAX_TO_PRINT = 5\n",
        "\n",
        "# This returns a generator object\n",
        "predictions = estimator.predict(input_fn=test_input)\n",
        "i = 0\n",
        "for p in predictions:\n",
        "    true_label = np.argmax(y_test[i])\n",
        "    predicted_label = p['classes']\n",
        "    print(\"Example %d. True: %d, Predicted: %s\" % (i, true_label, predicted_label))\n",
        "    i += 1\n",
        "    if i == MAX_TO_PRINT: break"
      ],
      "execution_count": 9,
      "outputs": [
        {
          "output_type": "stream",
          "text": [
            "INFO:tensorflow:Calling model_fn.\n",
            "INFO:tensorflow:Done calling model_fn.\n",
            "INFO:tensorflow:Graph was finalized.\n",
            "INFO:tensorflow:Restoring parameters from /tmp/tmp2sauchry/model.ckpt-2000\n",
            "INFO:tensorflow:Running local_init_op.\n",
            "INFO:tensorflow:Done running local_init_op.\n",
            "Example 0. True: 7, Predicted: 7\n",
            "Example 1. True: 2, Predicted: 2\n",
            "Example 2. True: 1, Predicted: 1\n",
            "Example 3. True: 0, Predicted: 0\n",
            "Example 4. True: 4, Predicted: 4\n"
          ],
          "name": "stdout"
        }
      ]
    }
  ]
}