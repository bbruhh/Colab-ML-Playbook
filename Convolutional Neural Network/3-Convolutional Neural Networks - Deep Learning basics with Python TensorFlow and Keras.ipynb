{
  "nbformat": 4,
  "nbformat_minor": 0,
  "metadata": {
    "colab": {
      "name": "Convolutional Neural Networks - Deep Learning basics with Python TensorFlow and Keras",
      "version": "0.3.2",
      "provenance": [],
      "collapsed_sections": []
    },
    "kernelspec": {
      "display_name": "Python 3",
      "name": "python3"
    }
  },
  "cells": [
    {
      "metadata": {
        "id": "9J7p406abzgl",
        "colab_type": "text"
      },
      "cell_type": "markdown",
      "source": [
        "<img height=\"60px\" src=\"https://colab.research.google.com/img/colab_favicon.ico\" align=\"left\" hspace=\"20px\" vspace=\"5px\">\n",
        "\n",
        "# Convolutional Neural Networks - Deep Learning basics with Python TensorFlow and Keras"
      ]
    },
    {
      "metadata": {
        "id": "-Rh3-Vt9Nev9",
        "colab_type": "text"
      },
      "cell_type": "markdown",
      "source": [
        "<table class=\"tfo-notebook-buttons\" align=\"left\">\n",
        "  <td>\n",
        "    <a target=\"_blank\" href=\"https://colab.research.google.com/github/learning-stack/Colab-ML-Playbook/blob/master/Convolutional%20Neural%20Network/3-Convolutional%20Neural%20Networks%20-%20Deep%20Learning%20basics%20with%20Python%20TensorFlow%20and%20Keras.ipynb\"><img src=\"https://www.tensorflow.org/images/colab_logo_32px.png\" />Run in Google Colab</a>\n",
        "  </td>\n",
        "  <td>\n",
        "    <a target=\"_blank\" href=\"https://github.com/learning-stack/Colab-ML-Playbook/blob/master/Convolutional%20Neural%20Network/3-Convolutional%20Neural%20Networks%20-%20Deep%20Learning%20basics%20with%20Python%20TensorFlow%20and%20Keras.ipynb\"><img src=\"https://www.tensorflow.org/images/GitHub-Mark-32px.png\" />View source on GitHub</a>\n",
        "  </td>\n",
        "</table>"
      ]
    },
    {
      "metadata": {
        "id": "rTX3heEtu0b2",
        "colab_type": "text"
      },
      "cell_type": "markdown",
      "source": [
        "### Reference\n",
        "\n",
        "[https://github.com/tflearn/tflearn/blob/master/examples/images/convnet_mnist.py](https://github.com/tflearn/tflearn/blob/master/examples/images/convnet_mnist.py)\n",
        "\n",
        "# -*- coding: utf-8 -*-\n",
        "\n",
        "Convolutional Neural Network for MNIST dataset classification task.\n",
        "\n",
        "References:\n",
        "\n",
        "    Y. LeCun, L. Bottou, Y. Bengio, and P. Haffner. \"Gradient-based\n",
        "    learning applied to document recognition.\" Proceedings of the IEEE,\n",
        "    86(11):2278-2324, November 1998.\n",
        "\n",
        "Links:\n",
        "    [MNIST Dataset](http://yann.lecun.com/exdb/mnist/)\n"
      ]
    },
    {
      "metadata": {
        "id": "VttTk2sHQx-2",
        "colab_type": "code",
        "colab": {}
      },
      "cell_type": "code",
      "source": [
        "! pip3 install tflearn"
      ],
      "execution_count": 0,
      "outputs": []
    },
    {
      "metadata": {
        "id": "it9d8dDzQG_g",
        "colab_type": "code",
        "colab": {}
      },
      "cell_type": "code",
      "source": [
        "from __future__ import division, print_function, absolute_import\n",
        "\n",
        "import tflearn\n",
        "from tflearn.layers.core import input_data, dropout, fully_connected\n",
        "from tflearn.layers.conv import conv_2d, max_pool_2d\n",
        "from tflearn.layers.normalization import local_response_normalization\n",
        "from tflearn.layers.estimator import regression"
      ],
      "execution_count": 0,
      "outputs": []
    },
    {
      "metadata": {
        "id": "4Ssgfy7DQnme",
        "colab_type": "code",
        "colab": {}
      },
      "cell_type": "code",
      "source": [
        "# Data loading and preprocessing\n",
        "import tflearn.datasets.mnist as mnist\n",
        "X, Y, testX, testY = mnist.load_data(one_hot=True)\n",
        "X = X.reshape([-1, 28, 28, 1])\n",
        "testX = testX.reshape([-1, 28, 28, 1])\n",
        "\n"
      ],
      "execution_count": 0,
      "outputs": []
    },
    {
      "metadata": {
        "id": "1yI5SVM_QpXG",
        "colab_type": "code",
        "colab": {}
      },
      "cell_type": "code",
      "source": [
        "# Building convolutional network\n",
        "network = input_data(shape=[None, 28, 28, 1], name='input')\n",
        "network = conv_2d(network, 32, 3, activation='relu', regularizer=\"L2\")\n",
        "network = max_pool_2d(network, 2)\n",
        "network = local_response_normalization(network)\n",
        "network = conv_2d(network, 64, 3, activation='relu', regularizer=\"L2\")\n",
        "network = max_pool_2d(network, 2)\n",
        "network = local_response_normalization(network)\n",
        "network = fully_connected(network, 128, activation='tanh')\n",
        "network = dropout(network, 0.8)\n",
        "network = fully_connected(network, 256, activation='tanh')\n",
        "network = dropout(network, 0.8)\n",
        "network = fully_connected(network, 10, activation='softmax')\n",
        "network = regression(network, optimizer='adam', learning_rate=0.01,\n",
        "                     loss='categorical_crossentropy', name='target')\n",
        "\n"
      ],
      "execution_count": 0,
      "outputs": []
    },
    {
      "metadata": {
        "id": "O3rbcZ1zQqtu",
        "colab_type": "code",
        "colab": {}
      },
      "cell_type": "code",
      "source": [
        "# Training\n",
        "model = tflearn.DNN(network, tensorboard_verbose=0)\n",
        "model.fit({'input': X}, {'target': Y}, n_epoch=20,\n",
        "           validation_set=({'input': testX}, {'target': testY}),\n",
        "           snapshot_step=100, show_metric=True, run_id='convnet_mnist')"
      ],
      "execution_count": 0,
      "outputs": []
    }
  ]
}