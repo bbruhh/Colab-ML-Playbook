{
  "nbformat": 4,
  "nbformat_minor": 0,
  "metadata": {
    "colab": {
      "name": "Convolutional Neural Networks - Deep Learning basics with Python TensorFlow and Keras",
      "version": "0.3.2",
      "provenance": [],
      "collapsed_sections": []
    },
    "kernelspec": {
      "display_name": "Python 3",
      "name": "python3"
    }
  },
  "cells": [
    {
      "metadata": {
        "id": "9J7p406abzgl",
        "colab_type": "text"
      },
      "cell_type": "markdown",
      "source": [
        "<img height=\"60px\" src=\"https://colab.research.google.com/img/colab_favicon.ico\" align=\"left\" hspace=\"20px\" vspace=\"5px\">\n",
        "\n",
        "# Convolutional Neural Networks - Deep Learning basics with Python TensorFlow and Keras"
      ]
    },
    {
      "metadata": {
        "id": "-Rh3-Vt9Nev9",
        "colab_type": "text"
      },
      "cell_type": "markdown",
      "source": [
        "<table class=\"tfo-notebook-buttons\" align=\"left\">\n",
        "  <td>\n",
        "    <a target=\"_blank\" href=\"https://colab.research.google.com/github/learning-stack/Colab-ML-Playbook/blob/master/Convolutional%20Neural%20Network/3-Convolutional%20Neural%20Networks%20-%20Deep%20Learning%20basics%20with%20Python%20TensorFlow%20and%20Keras.ipynb\"><img src=\"https://www.tensorflow.org/images/colab_logo_32px.png\" />Run in Google Colab</a>\n",
        "  </td>\n",
        "  <td>\n",
        "    <a target=\"_blank\" href=\"https://github.com/learning-stack/Colab-ML-Playbook/blob/master/Convolutional%20Neural%20Network/3-Convolutional%20Neural%20Networks%20-%20Deep%20Learning%20basics%20with%20Python%20TensorFlow%20and%20Keras.ipynb\"><img src=\"https://www.tensorflow.org/images/GitHub-Mark-32px.png\" />View source on GitHub</a>\n",
        "  </td>\n",
        "</table>"
      ]
    },
    {
      "metadata": {
        "id": "nWNcHyfjyKlj",
        "colab_type": "text"
      },
      "cell_type": "markdown",
      "source": [
        "**Notes**\n",
        "1. It is part 2 of the tutorial from: https://www.youtube.com/watch?v=j-3vuBynnOE (Loading in your own data - Deep Learning basics with Python, TensorFlow and Keras p.2)\n",
        "2. This is following up on loading the Cats and Dogs images into arrays, converting in gray-scale, and save to pickle files.\n",
        "3. We are using Jupyter Notebook to perform the loading images, to save pickle files, and upload the pickle files to github, and pickup from there. "
      ]
    },
    {
      "metadata": {
        "id": "1eLZxVsozSa4",
        "colab_type": "code",
        "colab": {}
      },
      "cell_type": "code",
      "source": [
        ""
      ],
      "execution_count": 0,
      "outputs": []
    }
  ]
}