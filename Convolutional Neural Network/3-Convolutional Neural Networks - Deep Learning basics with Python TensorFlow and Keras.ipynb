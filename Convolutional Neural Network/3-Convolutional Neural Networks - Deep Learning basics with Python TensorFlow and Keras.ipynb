{
  "nbformat": 4,
  "nbformat_minor": 0,
  "metadata": {
    "colab": {
      "name": "Convolutional Neural Networks - Deep Learning basics with Python TensorFlow and Keras",
      "version": "0.3.2",
      "provenance": [],
      "collapsed_sections": []
    },
    "kernelspec": {
      "display_name": "Python 3",
      "name": "python3"
    },
    "accelerator": "GPU"
  },
  "cells": [
    {
      "metadata": {
        "id": "9J7p406abzgl",
        "colab_type": "text"
      },
      "cell_type": "markdown",
      "source": [
        "<img height=\"60px\" src=\"https://colab.research.google.com/img/colab_favicon.ico\" align=\"left\" hspace=\"20px\" vspace=\"5px\">\n",
        "\n",
        "# Convolutional Neural Networks - Deep Learning basics with Python TensorFlow and Keras"
      ]
    },
    {
      "metadata": {
        "id": "-Rh3-Vt9Nev9",
        "colab_type": "text"
      },
      "cell_type": "markdown",
      "source": [
        "<table class=\"tfo-notebook-buttons\" align=\"left\">\n",
        "  <td>\n",
        "    <a target=\"_blank\" href=\"https://colab.research.google.com/github/learning-stack/Colab-ML-Playbook/blob/master/Convolutional%20Neural%20Network/3-Convolutional%20Neural%20Networks%20-%20Deep%20Learning%20basics%20with%20Python%20TensorFlow%20and%20Keras.ipynb\"><img src=\"https://www.tensorflow.org/images/colab_logo_32px.png\" />Run in Google Colab</a>\n",
        "  </td>\n",
        "  <td>\n",
        "    <a target=\"_blank\" href=\"https://github.com/learning-stack/Colab-ML-Playbook/blob/master/Convolutional%20Neural%20Network/3-Convolutional%20Neural%20Networks%20-%20Deep%20Learning%20basics%20with%20Python%20TensorFlow%20and%20Keras.ipynb\"><img src=\"https://www.tensorflow.org/images/GitHub-Mark-32px.png\" />View source on GitHub</a>\n",
        "  </td>\n",
        "</table>"
      ]
    },
    {
      "metadata": {
        "id": "nWNcHyfjyKlj",
        "colab_type": "text"
      },
      "cell_type": "markdown",
      "source": [
        "**Notes**\n",
        "1. It is part 2 of the tutorial from: https://www.youtube.com/watch?v=j-3vuBynnOE (Loading in your own data - Deep Learning basics with Python, TensorFlow and Keras p.2)\n",
        "2. This is following up on loading the Cats and Dogs images into arrays, converting in gray-scale, and save to pickle files.\n",
        "3. We are using Jupyter Notebook to perform the loading images, to save pickle files, and upload the pickle files to github, and pickup from there. "
      ]
    },
    {
      "metadata": {
        "id": "1eLZxVsozSa4",
        "colab_type": "code",
        "colab": {
          "base_uri": "https://localhost:8080/",
          "height": 102
        },
        "outputId": "79f4d00f-2797-459c-ed2a-fd342b00f86a"
      },
      "cell_type": "code",
      "source": [
        "!wget https://github.com/learning-stack/Colab-ML-Playbook/raw/master/Convolutional%20Neural%20Network/data/X.pickle\n",
        "!wget https://github.com/learning-stack/Colab-ML-Playbook/raw/master/Convolutional%20Neural%20Network/data/y.pickle\n",
        "!rm wget-log\n",
        "!rm wget-log.1\n",
        "!dir"
      ],
      "execution_count": 2,
      "outputs": [
        {
          "output_type": "stream",
          "text": [
            "\n",
            "Redirecting output to ‘wget-log’.\n",
            "\n",
            "Redirecting output to ‘wget-log.1’.\n",
            "sample_data  X.pickle  y.pickle\n"
          ],
          "name": "stdout"
        }
      ]
    },
    {
      "metadata": {
        "id": "-6qJyrof33QL",
        "colab_type": "code",
        "colab": {}
      },
      "cell_type": "code",
      "source": [
        "import tensorflow as tf\n",
        "from tensorflow.keras.models import Sequential\n",
        "from tensorflow.keras.layers import Dense, Dropout, Activation, Flatten, Conv2D, MaxPooling2D\n",
        "import pickle"
      ],
      "execution_count": 0,
      "outputs": []
    },
    {
      "metadata": {
        "id": "Nlw3VwOa7Oae",
        "colab_type": "code",
        "colab": {}
      },
      "cell_type": "code",
      "source": [
        "X = pickle.load(open(\"X.pickle\",\"rb\"))\n",
        "y = pickle.load(open(\"y.pickle\",\"rb\"))\n",
        "\n",
        "X = X/255.0 #Normalize the data"
      ],
      "execution_count": 0,
      "outputs": []
    },
    {
      "metadata": {
        "id": "Pg7CDDY88toI",
        "colab_type": "code",
        "colab": {
          "base_uri": "https://localhost:8080/",
          "height": 391
        },
        "outputId": "560ed911-0bbc-4391-f8eb-257ef7cb5ea8"
      },
      "cell_type": "code",
      "source": [
        "model = Sequential()\n",
        "\n",
        "model.add(Conv2D(64, (3,3), input_shape = X.shape[1:]))\n",
        "model.add(Activation(\"relu\"))\n",
        "model.add(MaxPooling2D(pool_size=(2,2)))\n",
        "\n",
        "model.add(Conv2D(64, (3,3) ))\n",
        "model.add(Activation(\"relu\"))\n",
        "model.add(MaxPooling2D(pool_size=(2,2)))\n",
        "\n",
        "model.add(Flatten())\n",
        "model.add(Dense(64))\n",
        "\n",
        "model.add(Dense(1))\n",
        "model.add(Activation('sigmoid'))\n",
        "\n",
        "model.compile(loss=\"binary_crossentropy\",\n",
        "             optimizer=\"adam\",\n",
        "             metrics=['accuracy'])\n",
        "\n",
        "model.fit(X, y, batch_size=32, epochs=10, validation_split=0.1)"
      ],
      "execution_count": 5,
      "outputs": [
        {
          "output_type": "stream",
          "text": [
            "Train on 22451 samples, validate on 2495 samples\n",
            "Epoch 1/10\n",
            "22451/22451 [==============================] - 11s 476us/step - loss: 0.6475 - acc: 0.6178 - val_loss: 0.5896 - val_acc: 0.6966\n",
            "Epoch 2/10\n",
            "22451/22451 [==============================] - 9s 393us/step - loss: 0.5510 - acc: 0.7243 - val_loss: 0.5216 - val_acc: 0.7439\n",
            "Epoch 3/10\n",
            "22451/22451 [==============================] - 9s 389us/step - loss: 0.5053 - acc: 0.7556 - val_loss: 0.5178 - val_acc: 0.7471\n",
            "Epoch 4/10\n",
            "22451/22451 [==============================] - 9s 398us/step - loss: 0.4810 - acc: 0.7684 - val_loss: 0.4953 - val_acc: 0.7756\n",
            "Epoch 5/10\n",
            "22451/22451 [==============================] - 9s 387us/step - loss: 0.4624 - acc: 0.7805 - val_loss: 0.4723 - val_acc: 0.7852\n",
            "Epoch 6/10\n",
            "22451/22451 [==============================] - 9s 389us/step - loss: 0.4483 - acc: 0.7912 - val_loss: 0.4593 - val_acc: 0.7940\n",
            "Epoch 7/10\n",
            "22451/22451 [==============================] - 9s 388us/step - loss: 0.4373 - acc: 0.7949 - val_loss: 0.4746 - val_acc: 0.7840\n",
            "Epoch 8/10\n",
            "22451/22451 [==============================] - 9s 388us/step - loss: 0.4201 - acc: 0.8048 - val_loss: 0.4939 - val_acc: 0.7699\n",
            "Epoch 9/10\n",
            "22451/22451 [==============================] - 9s 387us/step - loss: 0.4101 - acc: 0.8098 - val_loss: 0.4812 - val_acc: 0.7828\n",
            "Epoch 10/10\n",
            "22451/22451 [==============================] - 9s 390us/step - loss: 0.4009 - acc: 0.8151 - val_loss: 0.4731 - val_acc: 0.7747\n"
          ],
          "name": "stdout"
        },
        {
          "output_type": "execute_result",
          "data": {
            "text/plain": [
              "<tensorflow.python.keras.callbacks.History at 0x7f1b0fb16160>"
            ]
          },
          "metadata": {
            "tags": []
          },
          "execution_count": 5
        }
      ]
    }
  ]
}