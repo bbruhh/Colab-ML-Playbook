{
  "nbformat": 4,
  "nbformat_minor": 0,
  "metadata": {
    "colab": {
      "name": "Hello, Colaboratory",
      "version": "0.3.2",
      "provenance": [],
      "collapsed_sections": [],
      "toc_visible": true
    },
    "kernelspec": {
      "display_name": "Python 3",
      "name": "python3"
    }
  },
  "cells": [
    {
      "metadata": {
        "id": "9J7p406abzgl",
        "colab_type": "text"
      },
      "cell_type": "markdown",
      "source": [
        "<img height=\"60px\" src=\"https://colab.research.google.com/img/colab_favicon.ico\" align=\"left\" hspace=\"20px\" vspace=\"5px\">\n",
        "\n",
        "# Convolutional Neural Network for MNIST dataset classification task."
      ]
    },
    {
      "metadata": {
        "id": "-Rh3-Vt9Nev9",
        "colab_type": "text"
      },
      "cell_type": "markdown",
      "source": [
        "<table class=\"tfo-notebook-buttons\" align=\"left\">\n",
        "  <td>\n",
        "    <a target=\"_blank\" href=\"https://colab.research.google.com/github/learning-stack/Colab-ML-Playbook/blob/master/Convolutional%20Neural%20Network%20for%20MNIST/Convolutional%20Neural%20Network%20for%20MNIST.ipynb\"><img src=\"https://www.tensorflow.org/images/colab_logo_32px.png\" />Run in Google Colab</a>\n",
        "  </td>\n",
        "  <td>\n",
        "    <a target=\"_blank\" href=\"https://github.com/learning-stack/Colab-ML-Playbook/blob/master/Convolutional%20Neural%20Network%20for%20MNIST/Convolutional%20Neural%20Network%20for%20MNIST.ipynb\"><img src=\"https://www.tensorflow.org/images/GitHub-Mark-32px.png\" />View source on GitHub</a>\n",
        "  </td>\n",
        "</table>"
      ]
    },
    {
      "metadata": {
        "id": "rTX3heEtu0b2",
        "colab_type": "text"
      },
      "cell_type": "markdown",
      "source": [
        "### Reference\n",
        "\n",
        "[https://github.com/tflearn/tflearn/blob/master/examples/images/convnet_mnist.py](https://github.com/tflearn/tflearn/blob/master/examples/images/convnet_mnist.py)\n",
        "\n",
        "# -*- coding: utf-8 -*-\n",
        "\n",
        "Convolutional Neural Network for MNIST dataset classification task.\n",
        "\n",
        "References:\n",
        "\n",
        "    Y. LeCun, L. Bottou, Y. Bengio, and P. Haffner. \"Gradient-based\n",
        "    learning applied to document recognition.\" Proceedings of the IEEE,\n",
        "    86(11):2278-2324, November 1998.\n",
        "\n",
        "Links:\n",
        "    [MNIST Dataset](http://yann.lecun.com/exdb/mnist/)\n"
      ]
    },
    {
      "metadata": {
        "id": "VttTk2sHQx-2",
        "colab_type": "code",
        "colab": {
          "base_uri": "https://localhost:8080/",
          "height": 258
        },
        "outputId": "7b8df9f3-4c64-4c4e-d6cf-fa0e231fac0e"
      },
      "cell_type": "code",
      "source": [
        "! pip3 install tflearn"
      ],
      "execution_count": 0,
      "outputs": [
        {
          "output_type": "stream",
          "text": [
            "Collecting tflearn\n",
            "\u001b[?25l  Downloading https://files.pythonhosted.org/packages/16/ec/e9ce1b52e71f6dff3bd944f020cef7140779e783ab27512ea7c7275ddee5/tflearn-0.3.2.tar.gz (98kB)\n",
            "\u001b[K    100% |████████████████████████████████| 102kB 4.4MB/s \n",
            "\u001b[?25hRequirement already satisfied: numpy in /usr/local/lib/python3.6/dist-packages (from tflearn) (1.14.5)\n",
            "Requirement already satisfied: six in /usr/local/lib/python3.6/dist-packages (from tflearn) (1.11.0)\n",
            "Requirement already satisfied: Pillow in /usr/local/lib/python3.6/dist-packages (from tflearn) (4.0.0)\n",
            "Requirement already satisfied: olefile in /usr/local/lib/python3.6/dist-packages (from Pillow->tflearn) (0.45.1)\n",
            "Building wheels for collected packages: tflearn\n",
            "  Running setup.py bdist_wheel for tflearn ... \u001b[?25l-\b \b\\\b \bdone\n",
            "\u001b[?25h  Stored in directory: /root/.cache/pip/wheels/d0/f6/69/0ef3ee395aac2e5d15d89efd29a9a216f3c27767b43b72c006\n",
            "Successfully built tflearn\n",
            "Installing collected packages: tflearn\n",
            "Successfully installed tflearn-0.3.2\n"
          ],
          "name": "stdout"
        }
      ]
    },
    {
      "metadata": {
        "id": "it9d8dDzQG_g",
        "colab_type": "code",
        "colab": {}
      },
      "cell_type": "code",
      "source": [
        "from __future__ import division, print_function, absolute_import\n",
        "\n",
        "import tflearn\n",
        "from tflearn.layers.core import input_data, dropout, fully_connected\n",
        "from tflearn.layers.conv import conv_2d, max_pool_2d\n",
        "from tflearn.layers.normalization import local_response_normalization\n",
        "from tflearn.layers.estimator import regression"
      ],
      "execution_count": 0,
      "outputs": []
    },
    {
      "metadata": {
        "id": "4Ssgfy7DQnme",
        "colab_type": "code",
        "colab": {
          "base_uri": "https://localhost:8080/",
          "height": 221
        },
        "outputId": "e05eebc5-95b1-4fb2-e112-1ccad7b64398"
      },
      "cell_type": "code",
      "source": [
        "# Data loading and preprocessing\n",
        "import tflearn.datasets.mnist as mnist\n",
        "X, Y, testX, testY = mnist.load_data(one_hot=True)\n",
        "X = X.reshape([-1, 28, 28, 1])\n",
        "testX = testX.reshape([-1, 28, 28, 1])\n",
        "\n"
      ],
      "execution_count": 0,
      "outputs": [
        {
          "output_type": "stream",
          "text": [
            "Downloading MNIST...\n",
            "Succesfully downloaded train-images-idx3-ubyte.gz 9912422 bytes.\n",
            "Extracting mnist/train-images-idx3-ubyte.gz\n",
            "Downloading MNIST...\n",
            "Succesfully downloaded train-labels-idx1-ubyte.gz 28881 bytes.\n",
            "Extracting mnist/train-labels-idx1-ubyte.gz\n",
            "Downloading MNIST...\n",
            "Succesfully downloaded t10k-images-idx3-ubyte.gz 1648877 bytes.\n",
            "Extracting mnist/t10k-images-idx3-ubyte.gz\n",
            "Downloading MNIST...\n",
            "Succesfully downloaded t10k-labels-idx1-ubyte.gz 4542 bytes.\n",
            "Extracting mnist/t10k-labels-idx1-ubyte.gz\n"
          ],
          "name": "stdout"
        }
      ]
    },
    {
      "metadata": {
        "id": "1yI5SVM_QpXG",
        "colab_type": "code",
        "colab": {
          "base_uri": "https://localhost:8080/",
          "height": 139
        },
        "outputId": "d63a69cf-dae7-46c7-a22b-f084ade0e214"
      },
      "cell_type": "code",
      "source": [
        "# Building convolutional network\n",
        "network = input_data(shape=[None, 28, 28, 1], name='input')\n",
        "network = conv_2d(network, 32, 3, activation='relu', regularizer=\"L2\")\n",
        "network = max_pool_2d(network, 2)\n",
        "network = local_response_normalization(network)\n",
        "network = conv_2d(network, 64, 3, activation='relu', regularizer=\"L2\")\n",
        "network = max_pool_2d(network, 2)\n",
        "network = local_response_normalization(network)\n",
        "network = fully_connected(network, 128, activation='tanh')\n",
        "network = dropout(network, 0.8)\n",
        "network = fully_connected(network, 256, activation='tanh')\n",
        "network = dropout(network, 0.8)\n",
        "network = fully_connected(network, 10, activation='softmax')\n",
        "network = regression(network, optimizer='adam', learning_rate=0.01,\n",
        "                     loss='categorical_crossentropy', name='target')\n",
        "\n"
      ],
      "execution_count": 0,
      "outputs": [
        {
          "output_type": "stream",
          "text": [
            "WARNING:tensorflow:From /usr/local/lib/python3.6/dist-packages/tflearn/initializations.py:119: UniformUnitScaling.__init__ (from tensorflow.python.ops.init_ops) is deprecated and will be removed in a future version.\n",
            "Instructions for updating:\n",
            "Use tf.initializers.variance_scaling instead with distribution=uniform to get equivalent behavior.\n",
            "WARNING:tensorflow:From /usr/local/lib/python3.6/dist-packages/tflearn/objectives.py:66: calling reduce_sum (from tensorflow.python.ops.math_ops) with keep_dims is deprecated and will be removed in a future version.\n",
            "Instructions for updating:\n",
            "keep_dims is deprecated, use keepdims instead\n"
          ],
          "name": "stdout"
        }
      ]
    },
    {
      "metadata": {
        "id": "O3rbcZ1zQqtu",
        "colab_type": "code",
        "colab": {
          "base_uri": "https://localhost:8080/",
          "height": 102
        },
        "outputId": "c9b2ed7e-250c-4229-c3e6-4e63eacac4f5"
      },
      "cell_type": "code",
      "source": [
        "# Training\n",
        "model = tflearn.DNN(network, tensorboard_verbose=0)\n",
        "model.fit({'input': X}, {'target': Y}, n_epoch=20,\n",
        "           validation_set=({'input': testX}, {'target': testY}),\n",
        "           snapshot_step=100, show_metric=True, run_id='convnet_mnist')"
      ],
      "execution_count": 0,
      "outputs": [
        {
          "output_type": "stream",
          "text": [
            "Training Step: 17199  | total loss: \u001b[1m\u001b[32m0.69280\u001b[0m\u001b[0m | time: 145.603s\n",
            "| Adam | epoch: 020 | loss: 0.69280 - acc: 0.9059 -- iter: 54976/55000\n",
            "Training Step: 17200  | total loss: \u001b[1m\u001b[32m0.64669\u001b[0m\u001b[0m | time: 150.053s\n",
            "| Adam | epoch: 020 | loss: 0.64669 - acc: 0.9091 | val_loss: 0.15954 - val_acc: 0.9559 -- iter: 55000/55000\n",
            "--\n"
          ],
          "name": "stdout"
        }
      ]
    }
  ]
}