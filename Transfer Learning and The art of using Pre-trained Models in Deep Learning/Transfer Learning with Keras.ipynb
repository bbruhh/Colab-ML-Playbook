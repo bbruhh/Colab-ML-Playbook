{
  "nbformat": 4,
  "nbformat_minor": 0,
  "metadata": {
    "colab": {
      "name": "Neural Network with Keras.ipynb",
      "version": "0.3.2",
      "provenance": []
    },
    "kernelspec": {
      "name": "python3",
      "display_name": "Python 3"
    },
    "accelerator": "GPU"
  },
  "cells": [
    {
      "metadata": {
        "id": "L0dT79EZSDtB",
        "colab_type": "text"
      },
      "cell_type": "markdown",
      "source": [
        "<img height=\"60px\" src=\"https://colab.research.google.com/img/colab_favicon.ico\" align=\"left\" hspace=\"20px\" vspace=\"5px\">\n",
        "\n",
        "# Transfer learning & The art of using Pre-trained Models in Deep Learning"
      ]
    },
    {
      "metadata": {
        "id": "RgW8s3sM7rDw",
        "colab_type": "text"
      },
      "cell_type": "markdown",
      "source": [
        "* References:\n",
        "\n",
        "[https://www.analyticsvidhya.com/blog/2017/06/transfer-learning-the-art-of-fine-tuning-a-pre-trained-model/](https://www.analyticsvidhya.com/blog/2017/06/transfer-learning-the-art-of-fine-tuning-a-pre-trained-model/)"
      ]
    },
    {
      "metadata": {
        "id": "j4gHxXEaSN4g",
        "colab_type": "text"
      },
      "cell_type": "markdown",
      "source": [
        "<table class=\"tfo-notebook-buttons\" align=\"left\">\n",
        "  <td>\n",
        "    <a target=\"_blank\" href=\"https://colab.research.google.com/github/learning-stack/Colab-ML-Playbook/blob/master/Transfer%20Learning%20and%20The%20art%20of%20using%20Pre-trained%20Models%20in%20Deep%20Learning/Transfer%20Learning%20with%20Keras.ipynb\"><img src=\"https://www.tensorflow.org/images/colab_logo_32px.png\" />Run in Google Colab</a>\n",
        "  </td>\n",
        "  <td>\n",
        "    <a target=\"_blank\" href=\"https://github.com/learning-stack/Colab-ML-Playbook/blob/master/Transfer%20Learning%20and%20The%20art%20of%20using%20Pre-trained%20Models%20in%20Deep%20Learning/Transfer%20Learning%20with%20Keras.ipynb\"><img src=\"https://www.tensorflow.org/images/GitHub-Mark-32px.png\" />View source on GitHub</a>\n",
        "  </td>\n",
        "</table>"
      ]
    },
    {
      "metadata": {
        "id": "pGEasn5XaGrH",
        "colab_type": "code",
        "colab": {}
      },
      "cell_type": "code",
      "source": [
        "# importing required libraries\n",
        "\n",
        "from keras.models import Sequential\n",
        "from scipy.misc import imread\n",
        "get_ipython().magic('matplotlib inline')\n",
        "import matplotlib.pyplot as plt\n",
        "import numpy as np\n",
        "import keras\n",
        "from keras.layers import Dense\n",
        "import pandas as pd\n",
        "\n",
        "from keras.applications.vgg16 import VGG16\n",
        "from keras.preprocessing import image\n",
        "from keras.applications.vgg16 import preprocess_input\n",
        "import numpy as np\n",
        "from keras.applications.vgg16 import decode_predictions\n",
        "\n",
        "from scipy.misc import imresize"
      ],
      "execution_count": 0,
      "outputs": []
    },
    {
      "metadata": {
        "id": "u6A38eRSAkrY",
        "colab_type": "code",
        "colab": {}
      },
      "cell_type": "code",
      "source": [
        "# download and set dataset\n",
        "\n",
        "\n",
        "\n",
        "train=pd.read_csv(\"R/Data/Train/train.csv\")\n",
        "test=pd.read_csv(\"R/Data/test.csv\")\n",
        "train_path=\"R/Data/Train/Images/train/\"\n",
        "test_path=\"R/Data/Train/Images/test/\""
      ],
      "execution_count": 0,
      "outputs": []
    },
    {
      "metadata": {
        "id": "UWarwJL_-5wi",
        "colab_type": "code",
        "colab": {}
      },
      "cell_type": "code",
      "source": [
        "# preparing the train dataset\n",
        "\n",
        "train_img=[]\n",
        "for i in range(len(train)):\n",
        "\n",
        "    temp_img=image.load_img(train_path+train['filename'][i],target_size=(224,224))\n",
        "\n",
        "    temp_img=image.img_to_array(temp_img)\n",
        "\n",
        "    train_img.append(temp_img)"
      ],
      "execution_count": 0,
      "outputs": []
    },
    {
      "metadata": {
        "id": "A-n2BcNH-9x6",
        "colab_type": "code",
        "colab": {}
      },
      "cell_type": "code",
      "source": [
        "#converting train images to array and applying mean subtraction processing\n",
        "\n",
        "train_img=np.array(train_img) \n",
        "train_img=preprocess_input(train_img)"
      ],
      "execution_count": 0,
      "outputs": []
    },
    {
      "metadata": {
        "id": "oDUYelVS--ey",
        "colab_type": "code",
        "colab": {}
      },
      "cell_type": "code",
      "source": [
        "# applying the same procedure with the test dataset\n",
        "\n",
        "test_img=[]\n",
        "for i in range(len(test)):\n",
        "\n",
        "    temp_img=image.load_img(test_path+test['filename'][i],target_size=(224,224))\n",
        "\n",
        "    temp_img=image.img_to_array(temp_img)\n",
        "\n",
        "    test_img.append(temp_img)\n",
        "\n",
        "test_img=np.array(test_img) \n",
        "test_img=preprocess_input(test_img)"
      ],
      "execution_count": 0,
      "outputs": []
    },
    {
      "metadata": {
        "id": "IvnyEVi1_Afa",
        "colab_type": "code",
        "colab": {}
      },
      "cell_type": "code",
      "source": [
        "# loading VGG16 model weights\n",
        "\n",
        "model = VGG16(weights='imagenet', include_top=False)"
      ],
      "execution_count": 0,
      "outputs": []
    },
    {
      "metadata": {
        "id": "iD8Nc4QP_CZh",
        "colab_type": "code",
        "colab": {}
      },
      "cell_type": "code",
      "source": [
        "# Extracting features from the train dataset using the VGG16 pre-trained model\n",
        "\n",
        "features_train=model.predict(train_img)"
      ],
      "execution_count": 0,
      "outputs": []
    },
    {
      "metadata": {
        "id": "-VFW1nGz_EdJ",
        "colab_type": "code",
        "colab": {}
      },
      "cell_type": "code",
      "source": [
        "# Extracting features from the train dataset using the VGG16 pre-trained model\n",
        "\n",
        "features_test=model.predict(test_img)"
      ],
      "execution_count": 0,
      "outputs": []
    },
    {
      "metadata": {
        "id": "CM2xvYLJ_HUC",
        "colab_type": "code",
        "colab": {}
      },
      "cell_type": "code",
      "source": [
        "# flattening the layers to conform to MLP input\n",
        "\n",
        "train_x=features_train.reshape(49000,25088)"
      ],
      "execution_count": 0,
      "outputs": []
    },
    {
      "metadata": {
        "id": "FULR_tDO_Olh",
        "colab_type": "code",
        "colab": {}
      },
      "cell_type": "code",
      "source": [
        "# converting target variable to array\n",
        "\n",
        "train_y=np.asarray(train['label'])"
      ],
      "execution_count": 0,
      "outputs": []
    },
    {
      "metadata": {
        "id": "eFgL2O9Y_QFp",
        "colab_type": "code",
        "colab": {}
      },
      "cell_type": "code",
      "source": [
        "# performing one-hot encoding for the target variable\n",
        "\n",
        "train_y=pd.get_dummies(train_y)\n",
        "train_y=np.array(train_y)"
      ],
      "execution_count": 0,
      "outputs": []
    },
    {
      "metadata": {
        "id": "CmlDUIy__SEp",
        "colab_type": "code",
        "colab": {}
      },
      "cell_type": "code",
      "source": [
        "# creating training and validation set\n",
        "\n",
        "from sklearn.model_selection import train_test_split\n",
        "X_train, X_valid, Y_train, Y_valid=train_test_split(train_x,train_y,test_size=0.3, random_state=42)\n",
        "\n",
        " "
      ],
      "execution_count": 0,
      "outputs": []
    },
    {
      "metadata": {
        "id": "O6ODEgiV_U9a",
        "colab_type": "code",
        "colab": {}
      },
      "cell_type": "code",
      "source": [
        "# creating a mlp model\n",
        "\n",
        "from keras.layers import Dense, Activation\n",
        "model=Sequential()\n",
        "\n",
        "model.add(Dense(1000, input_dim=25088, activation='relu',kernel_initializer='uniform'))\n",
        "keras.layers.core.Dropout(0.3, noise_shape=None, seed=None)\n",
        "\n",
        "model.add(Dense(500,input_dim=1000,activation='sigmoid'))\n",
        "keras.layers.core.Dropout(0.4, noise_shape=None, seed=None)\n",
        "\n",
        "model.add(Dense(150,input_dim=500,activation='sigmoid'))\n",
        "keras.layers.core.Dropout(0.2, noise_shape=None, seed=None)\n",
        "\n",
        "model.add(Dense(units=10))\n",
        "model.add(Activation('softmax'))\n",
        "\n",
        "model.compile(loss='categorical_crossentropy', optimizer=\"adam\", metrics=['accuracy'])"
      ],
      "execution_count": 0,
      "outputs": []
    },
    {
      "metadata": {
        "id": "wyMQyObB_Wph",
        "colab_type": "code",
        "colab": {}
      },
      "cell_type": "code",
      "source": [
        "# fitting the model \n",
        "\n",
        "model.fit(X_train, Y_train, epochs=20, batch_size=128,validation_data=(X_valid,Y_valid))\n",
        "\n",
        " "
      ],
      "execution_count": 0,
      "outputs": []
    }
  ]
}