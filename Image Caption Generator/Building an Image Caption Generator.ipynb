{
  "nbformat": 4,
  "nbformat_minor": 0,
  "metadata": {
    "colab": {
      "name": "Building an Image Caption Generator.ipynb",
      "version": "0.3.2",
      "provenance": []
    },
    "kernelspec": {
      "display_name": "Python 3",
      "language": "python",
      "name": "python3"
    }
  },
  "cells": [
    {
      "metadata": {
        "id": "Uo-ehm8geSRx",
        "colab_type": "text"
      },
      "cell_type": "markdown",
      "source": [
        "<img height=\"60px\" src=\"https://colab.research.google.com/img/colab_favicon.ico\" align=\"left\" hspace=\"20px\" vspace=\"5px\">\n",
        "\n",
        "# Building an Image Caption Generator"
      ]
    },
    {
      "metadata": {
        "id": "1Vvfx9mCevCf",
        "colab_type": "text"
      },
      "cell_type": "markdown",
      "source": [
        "* References:\n",
        "\n",
        "[https://medium.freecodecamp.org/building-an-image-caption-generator-with-deep-learning-in-tensorflow-a142722e9b1f](https://medium.freecodecamp.org/building-an-image-caption-generator-with-deep-learning-in-tensorflow-a142722e9b1f)"
      ]
    },
    {
      "metadata": {
        "id": "TaASyCVleh_C",
        "colab_type": "text"
      },
      "cell_type": "markdown",
      "source": [
        "<table class=\"tfo-notebook-buttons\" align=\"left\">\n",
        "  <td>\n",
        "    <a target=\"_blank\" href=\"https://colab.research.google.com/github/learning-stack/Colab-ML-Playbook/blob/master/Image%20Caption%20Generator/Building%20an%20Image%20Caption%20Generator.ipynb\"><img src=\"https://www.tensorflow.org/images/colab_logo_32px.png\" />Run in Google Colab</a>\n",
        "  </td>\n",
        "  <td>\n",
        "    <a target=\"_blank\" href=\"https://github.com/learning-stack/Colab-ML-Playbook/blob/master/Image%20Caption%20Generator/Building%20an%20Image%20Caption%20Generator.ipynb\"><img src=\"https://www.tensorflow.org/images/GitHub-Mark-32px.png\" />View source on GitHub</a>\n",
        "  </td>\n",
        "</table>"
      ]
    },
    {
      "metadata": {
        "id": "76bYad_QeSR4",
        "colab_type": "code",
        "colab": {}
      },
      "cell_type": "code",
      "source": [
        "from __future__ import absolute_import\n",
        "from __future__ import division\n",
        "from __future__ import print_function\n",
        "\n",
        "import numpy as np\n",
        "import tensorflow as tf\n",
        "import time\n",
        "import data_helpers"
      ],
      "execution_count": 0,
      "outputs": []
    },
    {
      "metadata": {
        "id": "2zo5zQ9DeSSI",
        "colab_type": "text"
      },
      "cell_type": "markdown",
      "source": [
        "## Parameter definitions"
      ]
    },
    {
      "metadata": {
        "id": "S5hMkhB8eSSK",
        "colab_type": "code",
        "colab": {}
      },
      "cell_type": "code",
      "source": [
        "batch_size = 1000\n",
        "learning_rate = 0.005\n",
        "max_steps = 1000\n",
        "\n",
        "\n",
        "beginTime = time.time()\n",
        "\n",
        "# Uncommenting this line removes randomness\n",
        "# You'll get exactly the same result on each run\n",
        "# np.random.seed(1)"
      ],
      "execution_count": 0,
      "outputs": []
    },
    {
      "metadata": {
        "id": "6HrmPiLBeSSP",
        "colab_type": "text"
      },
      "cell_type": "markdown",
      "source": [
        "## Prepare data"
      ]
    },
    {
      "metadata": {
        "id": "-w3G96qOeSSR",
        "colab_type": "code",
        "colab": {}
      },
      "cell_type": "code",
      "source": [
        "data_sets = data_helpers.load_data()"
      ],
      "execution_count": 0,
      "outputs": []
    },
    {
      "metadata": {
        "id": "3258M-h_eSSW",
        "colab_type": "text"
      },
      "cell_type": "markdown",
      "source": [
        "## Prepare the TensorFlow graph"
      ]
    },
    {
      "metadata": {
        "id": "kOgCpYhTeSSX",
        "colab_type": "code",
        "colab": {}
      },
      "cell_type": "code",
      "source": [
        "# Define input placeholders\n",
        "images_placeholder = tf.placeholder(tf.float32, shape=[None, 3072])\n",
        "labels_placeholder = tf.placeholder(tf.int64, shape=[None])"
      ],
      "execution_count": 0,
      "outputs": []
    },
    {
      "metadata": {
        "id": "NaymGQZ1eSSc",
        "colab_type": "code",
        "colab": {}
      },
      "cell_type": "code",
      "source": [
        "# Define variables (these are the values we want to optimize)\n",
        "weights = tf.Variable(tf.zeros([3072, 10]))\n",
        "biases = tf.Variable(tf.zeros([10]))"
      ],
      "execution_count": 0,
      "outputs": []
    },
    {
      "metadata": {
        "id": "bXZ0eLnZeSSg",
        "colab_type": "code",
        "colab": {}
      },
      "cell_type": "code",
      "source": [
        "# Define the classifier's result\n",
        "logits = tf.matmul(images_placeholder, weights) + biases"
      ],
      "execution_count": 0,
      "outputs": []
    },
    {
      "metadata": {
        "id": "2v9I0esLeSSn",
        "colab_type": "code",
        "colab": {}
      },
      "cell_type": "code",
      "source": [
        "# Define the loss function\n",
        "loss = tf.reduce_mean(tf.nn.sparse_softmax_cross_entropy_with_logits(logits=logits,\n",
        "  labels=labels_placeholder))"
      ],
      "execution_count": 0,
      "outputs": []
    },
    {
      "metadata": {
        "id": "wxANVDAgeSSs",
        "colab_type": "code",
        "colab": {}
      },
      "cell_type": "code",
      "source": [
        "# Define the training operation\n",
        "train_step = tf.train.GradientDescentOptimizer(learning_rate).minimize(loss)"
      ],
      "execution_count": 0,
      "outputs": []
    },
    {
      "metadata": {
        "id": "4Hh-OT9meSS1",
        "colab_type": "code",
        "colab": {}
      },
      "cell_type": "code",
      "source": [
        "# Operation comparing prediction with true label\n",
        "correct_prediction = tf.equal(tf.argmax(logits, 1), labels_placeholder)"
      ],
      "execution_count": 0,
      "outputs": []
    },
    {
      "metadata": {
        "id": "At13MVoeeSTA",
        "colab_type": "code",
        "colab": {}
      },
      "cell_type": "code",
      "source": [
        "# Operation calculating the accuracy of our predictions\n",
        "accuracy = tf.reduce_mean(tf.cast(correct_prediction, tf.float32))"
      ],
      "execution_count": 0,
      "outputs": []
    },
    {
      "metadata": {
        "id": "ykOuwxSceSTG",
        "colab_type": "text"
      },
      "cell_type": "markdown",
      "source": [
        "## Run the TensorFlow graph"
      ]
    },
    {
      "metadata": {
        "id": "HCW63fCDeSTH",
        "colab_type": "code",
        "colab": {},
        "outputId": "9428c0e4-abef-4c85-c88e-f0bf6d327195"
      },
      "cell_type": "code",
      "source": [
        "with tf.Session() as sess:\n",
        "  # Initialize variables\n",
        "  sess.run(tf.global_variables_initializer())\n",
        "    \n",
        "  # Repeat max_steps times\n",
        "  for i in range(max_steps):\n",
        "\n",
        "    # Generate input data batch\n",
        "    indices = np.random.choice(data_sets['images_train'].shape[0], batch_size)\n",
        "    images_batch = data_sets['images_train'][indices]\n",
        "    labels_batch = data_sets['labels_train'][indices]\n",
        "\n",
        "    # Periodically print out the model's current accuracy\n",
        "    if i % 100 == 0:\n",
        "      train_accuracy = sess.run(accuracy, feed_dict={\n",
        "        images_placeholder: images_batch, labels_placeholder: labels_batch})\n",
        "      print('Step {:5d}: training accuracy {:g}'.format(i, train_accuracy))\n",
        "\n",
        "    # Perform a single training step\n",
        "    sess.run(train_step, feed_dict={images_placeholder: images_batch,\n",
        "      labels_placeholder: labels_batch})\n",
        "\n",
        "  # After finishing the training, evaluate on the test set\n",
        "  test_accuracy = sess.run(accuracy, feed_dict={\n",
        "    images_placeholder: data_sets['images_test'],\n",
        "    labels_placeholder: data_sets['labels_test']})\n",
        "  print('Test accuracy {:g}'.format(test_accuracy))\n",
        "\n",
        "endTime = time.time()"
      ],
      "execution_count": 0,
      "outputs": [
        {
          "output_type": "stream",
          "text": [
            "Step     0: training accuracy 0.108\n",
            "Step   100: training accuracy 0.282\n",
            "Step   200: training accuracy 0.229\n",
            "Step   300: training accuracy 0.281\n",
            "Step   400: training accuracy 0.293\n",
            "Step   500: training accuracy 0.297\n",
            "Step   600: training accuracy 0.318\n",
            "Step   700: training accuracy 0.313\n",
            "Step   800: training accuracy 0.272\n",
            "Step   900: training accuracy 0.281\n",
            "Test accuracy 0.2715\n"
          ],
          "name": "stdout"
        }
      ]
    },
    {
      "metadata": {
        "id": "42WF7IzYeSTR",
        "colab_type": "code",
        "colab": {},
        "outputId": "bded45d5-592e-4496-8ae4-9e818404b61b"
      },
      "cell_type": "code",
      "source": [
        "print('Total time: {:5.2f}s'.format(endTime - beginTime))"
      ],
      "execution_count": 0,
      "outputs": [
        {
          "output_type": "stream",
          "text": [
            "Total time: 44.58s\n"
          ],
          "name": "stdout"
        }
      ]
    },
    {
      "metadata": {
        "id": "mapxCPxUeSTa",
        "colab_type": "code",
        "colab": {}
      },
      "cell_type": "code",
      "source": [
        ""
      ],
      "execution_count": 0,
      "outputs": []
    }
  ]
}