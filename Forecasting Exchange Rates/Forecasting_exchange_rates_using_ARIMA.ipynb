{
  "nbformat": 4,
  "nbformat_minor": 0,
  "metadata": {
    "colab": {
      "name": "Forecasting_exchange_rates_using_ARIMA.ipynb",
      "version": "0.3.2",
      "provenance": []
    },
    "kernelspec": {
      "name": "python3",
      "display_name": "Python 3"
    },
    "accelerator": "GPU"
  },
  "cells": [
    {
      "metadata": {
        "id": "W5z-_N7QtFYr",
        "colab_type": "text"
      },
      "cell_type": "markdown",
      "source": [
        "# Forecasting Exchange Rates Using ARIMA in Python"
      ]
    },
    {
      "metadata": {
        "id": "sC-VcOqOtR41",
        "colab_type": "text"
      },
      "cell_type": "markdown",
      "source": [
        "* References:\n",
        "\n",
        "[https://medium.com/fintechexplained/forecasting-exchange-rates-using-arima-in-python-f032f313fc56](https://medium.com/fintechexplained/forecasting-exchange-rates-using-arima-in-python-f032f313fc56)"
      ]
    },
    {
      "metadata": {
        "id": "ixYBwKiztuLL",
        "colab_type": "text"
      },
      "cell_type": "markdown",
      "source": [
        "<table class=\"tfo-notebook-buttons\" align=\"left\">\n",
        "  <td>\n",
        "    <a target=\"_blank\" href=\"https://colab.research.google.com/github/learning-stack/Colab-ML-Playbook/blob/master/Forecasting%20Exchange%20Rates/Forecasting_exchange_rates_using_ARIMA.ipynb\"><img src=\"https://www.tensorflow.org/images/colab_logo_32px.png\" />Run in Google Colab</a>\n",
        "  </td>\n",
        "  <td>\n",
        "    <a target=\"_blank\" href=\"https://github.com/learning-stack/Colab-ML-Playbook/blob/master/Forecasting%20Exchange%20Rates/Forecasting_exchange_rates_using_ARIMA.ipynb\"><img src=\"https://www.tensorflow.org/images/GitHub-Mark-32px.png\" />View source on GitHub</a>\n",
        "  </td>\n",
        "</table>"
      ]
    },
    {
      "metadata": {
        "id": "gd9961JztFZE",
        "colab_type": "code",
        "colab": {}
      },
      "cell_type": "code",
      "source": [
        "# Implement a if then else condition in Python\n",
        "message = \"We Are Ready To Start\"\n",
        "if (\"We Are Ready To Start\" == message):\n",
        "    print(\"Let's start looking into Python Packages\")\n",
        "    \n",
        "message = 10\n",
        "if (12 > message):\n",
        "    print(\"Let's start looking into Python Packages\")"
      ],
      "execution_count": 0,
      "outputs": []
    },
    {
      "metadata": {
        "id": "V0-J2S_AuphC",
        "colab_type": "code",
        "colab": {}
      },
      "cell_type": "code",
      "source": [
        "import urllib.request\n",
        "\n",
        "# Download the file from 'url' and save it locally under `filename`:  \n",
        "def download(url):\n",
        "    filename = url.split('/')[-1]\n",
        "    print ('Downloading', filename)\n",
        "    f =  urllib.request.urlopen(url)\n",
        "    data = f.read()\n",
        "    f.close()\n",
        "    with open(filename, 'wb') as myfile:\n",
        "        myfile.write(data)    \n",
        "\n",
        "# download vocab file\n",
        "download('https://gist.githubusercontent.com/fintechexplained/ad3962208b165af008e3a03322b4e463/raw/c9118600afb7a904c706dd78d0252cd79a99a06c/exchange.csv')"
      ],
      "execution_count": 0,
      "outputs": []
    },
    {
      "metadata": {
        "id": "hma1BMVUtFZJ",
        "colab_type": "code",
        "colab": {}
      },
      "cell_type": "code",
      "source": [
        "#import pandas\n",
        "import pandas as pa\n",
        "import matplotlib as plot\n",
        "\n",
        "#get data\n",
        "def GetData(fileName):\n",
        "    return read_csv(fileName, header=0, parse_dates=[0], index_col=0)\n",
        "\n",
        "#read time series from the exchange.csv file \n",
        "exchangeRatesSeries = GetData('exchange.csv')\n",
        "\n",
        "#view top 10 records\n",
        "exchangeRatesSeries.head(10)"
      ],
      "execution_count": 0,
      "outputs": []
    },
    {
      "metadata": {
        "id": "d7OpP-BItFZX",
        "colab_type": "code",
        "colab": {}
      },
      "cell_type": "code",
      "source": [
        "#view basic stats information on data\n",
        "exchangeRatesSeries.describe()"
      ],
      "execution_count": 0,
      "outputs": []
    },
    {
      "metadata": {
        "id": "J97tdIwftFZc",
        "colab_type": "code",
        "colab": {}
      },
      "cell_type": "code",
      "source": [
        "#plot the time series data\n",
        "exchangeRatesSeries.plot(color='green')"
      ],
      "execution_count": 0,
      "outputs": []
    },
    {
      "metadata": {
        "id": "pAvbJyMntFZg",
        "colab_type": "code",
        "colab": {}
      },
      "cell_type": "code",
      "source": [
        "exchangeRatesSeries.hist()"
      ],
      "execution_count": 0,
      "outputs": []
    },
    {
      "metadata": {
        "id": "6ZTgadfwtFZl",
        "colab_type": "code",
        "colab": {}
      },
      "cell_type": "code",
      "source": [
        "from statsmodels.tsa.arima_model import ARIMA\n",
        "\n",
        "#Function that calls ARIMA model to fit and forecast the data\n",
        "def StartARIMAForecasting(Actual, P, D, Q):\n",
        "\tmodel = ARIMA(Actual, order=(P, D, Q))\n",
        "\tmodel_fit = model.fit(disp=0)\n",
        "\tprediction = model_fit.forecast()[0]\n",
        "\treturn prediction\n",
        "\n",
        "#creating data\n",
        "ExchangeRates = [[1],[1.5],[2],[4],[6],[8],[16],[1]]\n",
        "\n",
        "#predict next value\n",
        "predicted = StartARIMAForecasting(ExchangeRates, 1,1,0)\n",
        "#display the value\n",
        "print('Predicted=%f' % (predicted))\n"
      ],
      "execution_count": 0,
      "outputs": []
    },
    {
      "metadata": {
        "id": "fqzvGX8ZtFan",
        "colab_type": "code",
        "colab": {}
      },
      "cell_type": "code",
      "source": [
        "from pandas import read_csv\n",
        "from matplotlib import pyplot\n",
        "from statsmodels.tsa.arima_model import ARIMA\n",
        "from sklearn.metrics import MeanSquaredError\n",
        "\n",
        "#get data\n",
        "def GetData(fileName):\n",
        "    return read_csv(fileName, header=0, parse_dates=[0], index_col=0).values\n",
        "\n",
        "#Function that calls ARIMA model to fit and forecast the data\n",
        "def StartARIMAForecasting(Actual, P, D, Q):\n",
        "\tmodel = ARIMA(Actual, order=(P, D, Q))\n",
        "\tmodel_fit = model.fit(disp=0)\n",
        "\tprediction = model_fit.forecast()[0]\n",
        "\treturn prediction\n",
        "    \n",
        "#Get exchange rates\n",
        "ActualData = GetData('exchange.csv')\n",
        "#Size of exchange rates\n",
        "NumberOfElements = len(ActualData)\n",
        "\n",
        "#Use 70% of data as training, rest 30% to Test model\n",
        "TrainingSize = int(NumberOfElements * 0.7)\n",
        "TrainingData = ActualData[0:TrainingSize]\n",
        "TestData = ActualData[TrainingSize:NumberOfElements]\n",
        "\n",
        "#new arrays to store actual and predictions\n",
        "Actual = [x for x in TrainingData]\n",
        "Predictions = list()\n",
        "\n",
        "\n",
        "#in a for loop, predict values using ARIMA model\n",
        "for timepoint in range(len(TestData)):\n",
        "\tActualValue =  TestData[timepoint]\n",
        "\t#forcast value\n",
        "\tPrediction = StartARIMAForecasting(Actual, 3,1,0)    \n",
        "\tprint('Actual=%f, Predicted=%f' % (ActualValue, Prediction))\n",
        "\t#add it in the list\n",
        "\tPredictions.append(Prediction)\n",
        "\tActual.append(ActualValue)\n",
        "\n",
        "#Print MSE to see how good the model is\n",
        "Error = MeanSquaredError(TestData, Predictions)\n",
        "print('Test Mean Squared Error (smaller the better fit): %.3f' % Error)\n",
        "# plot\n",
        "pyplot.plot(TestData)\n",
        "pyplot.plot(Predictions, color='red')\n",
        "pyplot.show()"
      ],
      "execution_count": 0,
      "outputs": []
    }
  ]
}