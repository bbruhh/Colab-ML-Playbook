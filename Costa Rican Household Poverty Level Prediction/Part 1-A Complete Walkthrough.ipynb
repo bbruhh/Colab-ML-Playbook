{
  "nbformat": 4,
  "nbformat_minor": 0,
  "metadata": {
    "colab": {
      "name": "Part 1-A Complete Walkthrough.ipynb",
      "version": "0.3.2",
      "provenance": []
    },
    "kernelspec": {
      "display_name": "Python 3",
      "language": "python",
      "name": "python3"
    },
    "accelerator": "GPU"
  },
  "cells": [
    {
      "metadata": {
        "id": "pEyTbnCV_yYD",
        "colab_type": "text"
      },
      "cell_type": "markdown",
      "source": [
        "<img height=\"60px\" src=\"https://colab.research.google.com/img/colab_favicon.ico\" align=\"left\" hspace=\"20px\" vspace=\"5px\">\n",
        "\n",
        "# Costa Rican Household Poverty Level Prediction\n",
        "\n",
        "[https://towardsdatascience.com/a-data-science-for-good-machine-learning-project-walk-through-in-python-part-one-1977dd701dbc](https://towardsdatascience.com/a-data-science-for-good-machine-learning-project-walk-through-in-python-part-one-1977dd701dbc) \n",
        "\n",
        "Welcome to another Kaggle challenge! The objective of the Costa Rican Household Poverty Level Prediction contest is to develop a machine learning model that can predict the poverty level of households using both individual and household characteristics. This \"data science for good\" project offers the opportunity to put our skills towards a task more beneficial to society than getting people to click on ads!\n",
        "\n",
        "In this notebook, we will walk through a complete machine learning solution: first, get introduced to the problem, then perform a thorough Exploratory Data Analysis of the dataset, work on feature engineering, try out multiple machine learning models, select a model, work to optimize the model, and finally, inspect the outputs of the model and draw conclusions. __While this notebook may not get us to the top of the leaderboard, it is meant to be used as a teaching tool to give you a solid foundation to build on for future machine learning projects. Kaggle projects can teach us a lot about machine learning, but several of the strategies used to get to the very top of the leaderboard are not best practices, so here we'll stick to building a very good - although not quite first place - machine learning solution. While Kaggle projects are competitions, I think they are best described as \"a machine learning education\" disguised as a contest!\"\n",
        "\n",
        "If you are looking to follow-up on this work, I have additional work including a [kernel on using Automated Feature Engineering](https://www.kaggle.com/willkoehrsen/featuretools-for-good) with [Featuretools](https://docs.featuretools.com/#minute-quick-start) for this problem (with slightly higher leaderboard score). (If you enjoy my writing style and explanations, I write for [Towards Data Science](http://medium.com/@williamkoehrsen/))\n",
        "\n"
      ]
    },
    {
      "metadata": {
        "id": "0HSdAYirAbA8",
        "colab_type": "text"
      },
      "cell_type": "markdown",
      "source": [
        "<table class=\"tfo-notebook-buttons\" align=\"left\">\n",
        "  <td>\n",
        "    <a target=\"_blank\" href=\"https://colab.research.google.com/github/learning-stack/Colab-ML-Playbook/blob/master/Costa%20Rican%20Household%20Poverty%20Level%20Prediction/Part%201-A%20Complete%20Walkthrough.ipynb\"><img src=\"https://www.tensorflow.org/images/colab_logo_32px.png\" />Run in Google Colab</a>\n",
        "  </td>\n",
        "  <td>\n",
        "    <a target=\"_blank\" href=\"https://github.com/learning-stack/Colab-ML-Playbook/blob/master/Costa%20Rican%20Household%20Poverty%20Level%20Prediction/Part%201-A%20Complete%20Walkthrough.ipynb\"><img src=\"https://www.tensorflow.org/images/GitHub-Mark-32px.png\" />View source on GitHub</a>\n",
        "  </td>\n",
        "</table>"
      ]
    },
    {
      "metadata": {
        "id": "BI7RqKwwAYD9",
        "colab_type": "text"
      },
      "cell_type": "markdown",
      "source": [
        "## Problem and Data Explanation\n",
        "\n",
        "The data for this competition is provided in two files: `train.csv` and `test.csv`. The training set has 9557 rows and 143 columns while the testing set has 23856 rows and 142 columns. Each row represents __one individual__ and each column is a __feature, either unique to the individual, or for the household of the individual__. The training set has one additional column, `Target`, which represents the poverty level on a 1-4 scale and is the label for the competition. A value of 1 is the most extreme poverty. \n",
        "\n",
        "This is a __supervised multi-class classification machine learning problem__:\n",
        "\n",
        "* __Supervised__: provided with the labels for the training data\n",
        "* __Multi-class classification__: Labels are discrete values with 4 classes\n",
        "\n",
        "### Objective\n",
        "\n",
        "The objective is to predict poverty on a __household level__. We are given data on the individual level with each individual having unique features but also information about their household. In order to create a dataset for the task, we'll have to perform some _aggregations of the individual data_ for each household. Moreover, we have to make a prediction for every individual in the test set, but _\"ONLY the heads of household are used in scoring\"_ which means we want to predict poverty on a household basis. \n",
        "\n",
        "__Important note: while all members of a household should have the same label in the training data, there are errors where individuals in the same household have different labels. In these cases, we are told to use the label for the head of each household, which can be identified by the rows where `parentesco1 == 1.0`.__ We will cover how to correct this in the notebook (for more info take a look at the [competition main discussion](https://www.kaggle.com/c/costa-rican-household-poverty-prediction/discussion/61403)).\n",
        "\n",
        "The `Target` values represent poverty levels as follows:\n",
        "\n",
        "    1 = extreme poverty \n",
        "    2 = moderate poverty \n",
        "    3 = vulnerable households \n",
        "    4 = non vulnerable households\n",
        "\n",
        "The explanations for all 143 columns can be found in the [competition documentation](https://www.kaggle.com/c/costa-rican-household-poverty-prediction/data), but a few to note are below:\n",
        "\n",
        "* __Id__: a unique identifier for each individual, this should not be a feature that we use! \n",
        "* __idhogar__: a unique identifier for each household. This variable is not a feature, but will be used to group individuals by household as all individuals in a household will have the same identifier.\n",
        "* __parentesco1__: indicates if this person is the head of the household.\n",
        "* __Target__: the label, which should be equal for all members in a household\n",
        "\n",
        "When we make a model, we'll train on a household basis with the label for each household _the poverty level of the head of household_. The raw data contains a mix of both household and individual characteristics and for the individual data, we will have to find a way to aggregate this for each household. Some of the individuals belong to a household with _no head of household_ which means that unfortunately we can't use this data for training. These issues with the data are completely typical of __real-world__ data and hence this problem is great preparation for the datasets you'll encounter in a data science job! \n",
        "\n",
        "### Metric\n",
        "\n",
        "Ultimately we want to build a machine learning model that can predict the integer poverty level of a household. Our predictions will be assessed by the __Macro F1 Score.__ You may be familiar with the [standard F1 score](http://blog.exsilio.com/all/accuracy-precision-recall-f1-score-interpretation-of-performance-measures/) for binary classification problems which is the harmonic mean of precision and recall:\n",
        "\n",
        "$$F_1 = \\frac{2}{\\tfrac{1}{\\mathrm{recall}} + \\tfrac{1}{\\mathrm{precision}}} = 2 \\cdot \\frac{\\mathrm{precision} \\cdot \\mathrm{recall}}{\\mathrm{precision} + \\mathrm{recall}}$$\n",
        "\n",
        "For mutli-class problems, we have to average the F1 scores for each class. The macro F1 score averages the F1 score for each class _without taking into account label imbalances_. \n",
        "\n",
        "$$\\text{Macro F1} = \\frac{\\text{F1 Class 1} + \\text{F1 Class 2} + \\text{F1 Class 3} + \\text{F1 Class 4}}{4}$$\n",
        "\n",
        "In other words, the number of occurrences of each label does not figure into the calculation when using macro (while it does when using the \"weighted\" score). (For more information on the differences, look at the [Scikit-Learn Documention for F1 Score](http://scikit-learn.org/stable/modules/generated/sklearn.metrics.f1_score.html#sklearn.metrics.f1_score) or this [Stack Exchange question and answers](https://datascience.stackexchange.com/q/15989/42908). If we want to assess our performance, we can use the code:\n",
        "\n",
        "```\n",
        "from sklearn.metrics import f1_score\n",
        "f1_score(y_true, y_predicted, average = 'macro`)\n",
        "```\n",
        "\n",
        "For this problem, the labels are imbalanced, which makes it a little strange to use macro averaging for the evaluation metric, but that's a decision made by the organizers and not something we can change! In your own work, you want to be aware of label imbalances and choose a metric accordingly. \n",
        "\n",
        "## Roadmap\n",
        "\n",
        "The end objective is a machine learning model that can predict the poverty level of a household. However, before we get carried away with modeling, it's important to understand the problem and data. Also, we want to evaluate numerous models before choosing one as the \"best\" and after building a model, we want to investigate the predictions. Our roadmap is therefore as follows:\n",
        "\n",
        "1. Understand the problem (we're almost there already)\n",
        "2. Exploratory Data Analysis\n",
        "3. Feature engineering to create a dataset for machine learning\n",
        "4. Compare several baseline machine learning models\n",
        "5. Try more complex machine learning models\n",
        "6. Optimize the selected model\n",
        "7. Investigate model predictions in context of problem\n",
        "6. Draw conclusions and lay out next steps \n",
        "\n",
        "The steps laid out above are iterative meaning that while we will go through them one at a time, we might go back to an earlier step and revisit some of our decisions. In general, data science is a non-linear pracice where we are constantly evaluating our past decisions and making improvements. In particular, feature engineering, modeling, and optimization are steps that we often repeat because we never know if we got them right the first time!\n",
        "\n",
        "# Getting Started\n",
        "\n",
        "We have a pretty good grasp of the problem, so we'll move into the Exploratory Data Analysis (EDA) and feature engineering. For the EDA we'll examine any interesting anomalies, trends, correlations, or patterns that can be used for feature engineering and for modeling. We'll make sure to investigate our data both quantitatively (with statistics) and visually (with figures). \n",
        "\n",
        "Once we have a good grasp of the data and any potentially useful relationships, we can do some feature engineering (the most important part of the machine learning pipeline) and establish a baseline model. This won't get us to the top of the leaderboard, but it will provide a strong foundation to build on! \n",
        "\n",
        "With all that info in mind (don't worry if you haven't got all the details), let's get started! "
      ]
    },
    {
      "metadata": {
        "id": "mVt_6UjCDi5L",
        "colab_type": "text"
      },
      "cell_type": "markdown",
      "source": [
        "## Special notes for data files\n",
        "\n",
        "File descriptions\n",
        "{train|test}.csv - the training set\n",
        "\n",
        "This is the main table, broken into two files for Train (with a Target column) and Test (without the Target column).\n",
        "One row represents one person in our data sample.\n",
        "Multiple people can be part of a single household. Only predictions for heads of household are scored.\n",
        "sample_submission.csv - a sample submission file in the correct format\n",
        "\n",
        "This file contains all test IDs and a default value.\n",
        "Note that ONLY the heads of household are used in scoring. All household members are included in test + the sample submission, but only heads of households are scored.\n",
        "Core Data fields\n",
        "Id - a unique identifier for each row.\n",
        "Target - the target is an ordinal variable indicating groups of income levels. \n",
        "1 = extreme poverty \n",
        "2 = moderate poverty \n",
        "3 = vulnerable households \n",
        "4 = non vulnerable households\n",
        "idhogar - this is a unique identifier for each household. This can be used to create household-wide features, etc. All rows in a given household will have a matching value for this identifier.\n",
        "parentesco1 - indicates if this person is the head of the household.\n",
        "This data contains 142 total columns.\n",
        "All Data fields\n",
        "Variable name, Variable description\n",
        "\n",
        "v2a1, Monthly rent payment\n",
        "hacdor, =1 Overcrowding by bedrooms\n",
        "rooms,  number of all rooms in the house\n",
        "hacapo, =1 Overcrowding by rooms\n",
        "v14a, =1 has bathroom in the household\n",
        "refrig, =1 if the household has refrigerator\n",
        "v18q, owns a tablet\n",
        "v18q1, number of tablets household owns\n",
        "r4h1, Males younger than 12 years of age\n",
        "r4h2, Males 12 years of age and older\n",
        "r4h3, Total males in the household\n",
        "r4m1, Females younger than 12 years of age\n",
        "r4m2, Females 12 years of age and older\n",
        "r4m3, Total females in the household\n",
        "r4t1, persons younger than 12 years of age\n",
        "r4t2, persons 12 years of age and older\n",
        "r4t3, Total persons in the household\n",
        "tamhog, size of the household\n",
        "tamviv, number of persons living in the household\n",
        "escolari, years of schooling\n",
        "rez_esc, Years behind in school\n",
        "hhsize, household size\n",
        "paredblolad, =1 if predominant material on the outside wall is block or brick\n",
        "paredzocalo, \"=1 if predominant material on the outside wall is socket (wood,  zinc or absbesto\"\n",
        "paredpreb, =1 if predominant material on the outside wall is prefabricated or cement\n",
        "pareddes, =1 if predominant material on the outside wall is waste material\n",
        "paredmad, =1 if predominant material on the outside wall is wood\n",
        "paredzinc, =1 if predominant material on the outside wall is zink\n",
        "paredfibras, =1 if predominant material on the outside wall is natural fibers\n",
        "paredother, =1 if predominant material on the outside wall is other\n",
        "pisomoscer, \"=1 if predominant material on the floor is mosaic,  ceramic,  terrazo\"\n",
        "pisocemento, =1 if predominant material on the floor is cement\n",
        "pisoother, =1 if predominant material on the floor is other\n",
        "pisonatur, =1 if predominant material on the floor is  natural material\n",
        "pisonotiene, =1 if no floor at the household\n",
        "pisomadera, =1 if predominant material on the floor is wood\n",
        "techozinc, =1 if predominant material on the roof is metal foil or zink\n",
        "techoentrepiso, \"=1 if predominant material on the roof is fiber cement,  mezzanine \"\n",
        "techocane, =1 if predominant material on the roof is natural fibers\n",
        "techootro, =1 if predominant material on the roof is other\n",
        "cielorazo, =1 if the house has ceiling\n",
        "abastaguadentro, =1 if water provision inside the dwelling\n",
        "abastaguafuera, =1 if water provision outside the dwelling\n",
        "abastaguano, =1 if no water provision\n",
        "public, \"=1 electricity from CNFL,  ICE,  ESPH/JASEC\"\n",
        "planpri, =1 electricity from private plant\n",
        "noelec, =1 no electricity in the dwelling\n",
        "coopele, =1 electricity from cooperative\n",
        "sanitario1, =1 no toilet in the dwelling\n",
        "sanitario2, =1 toilet connected to sewer or cesspool\n",
        "sanitario3, =1 toilet connected to  septic tank\n",
        "sanitario5, =1 toilet connected to black hole or letrine\n",
        "sanitario6, =1 toilet connected to other system\n",
        "energcocinar1, =1 no main source of energy used for cooking (no kitchen)\n",
        "energcocinar2, =1 main source of energy used for cooking electricity\n",
        "energcocinar3, =1 main source of energy used for cooking gas\n",
        "energcocinar4, =1 main source of energy used for cooking wood charcoal\n",
        "elimbasu1, =1 if rubbish disposal mainly by tanker truck\n",
        "elimbasu2, =1 if rubbish disposal mainly by botan hollow or buried\n",
        "elimbasu3, =1 if rubbish disposal mainly by burning\n",
        "elimbasu4, =1 if rubbish disposal mainly by throwing in an unoccupied space\n",
        "elimbasu5, \"=1 if rubbish disposal mainly by throwing in river,  creek or sea\"\n",
        "elimbasu6, =1 if rubbish disposal mainly other\n",
        "epared1, =1 if walls are bad\n",
        "epared2, =1 if walls are regular\n",
        "epared3, =1 if walls are good\n",
        "etecho1, =1 if roof are bad\n",
        "etecho2, =1 if roof are regular\n",
        "etecho3, =1 if roof are good\n",
        "eviv1, =1 if floor are bad\n",
        "eviv2, =1 if floor are regular\n",
        "eviv3, =1 if floor are good\n",
        "dis, =1 if disable person\n",
        "male, =1 if male\n",
        "female, =1 if female\n",
        "estadocivil1, =1 if less than 10 years old\n",
        "estadocivil2, =1 if free or coupled uunion\n",
        "estadocivil3, =1 if married\n",
        "estadocivil4, =1 if divorced\n",
        "estadocivil5, =1 if separated\n",
        "estadocivil6, =1 if widow/er\n",
        "estadocivil7, =1 if single\n",
        "parentesco1, =1 if household head\n",
        "parentesco2, =1 if spouse/partner\n",
        "parentesco3, =1 if son/doughter\n",
        "parentesco4, =1 if stepson/doughter\n",
        "parentesco5, =1 if son/doughter in law\n",
        "parentesco6, =1 if grandson/doughter\n",
        "parentesco7, =1 if mother/father\n",
        "parentesco8, =1 if father/mother in law\n",
        "parentesco9, =1 if brother/sister\n",
        "parentesco10, =1 if brother/sister in law\n",
        "parentesco11, =1 if other family member\n",
        "parentesco12, =1 if other non family member\n",
        "idhogar, Household level identifier\n",
        "hogar_nin, Number of children 0 to 19 in household\n",
        "hogar_adul, Number of adults in household\n",
        "hogar_mayor, # of individuals 65+ in the household\n",
        "hogar_total, # of total individuals in the household\n",
        "dependency, Dependency rate, calculated = (number of members of the household younger than 19 or older than 64)/(number of member of household between 19 and 64)\n",
        "edjefe, years of education of male head of household, based on the interaction of escolari (years of education), head of household and gender, yes=1 and no=0\n",
        "edjefa, years of education of female head of household, based on the interaction of escolari (years of education), head of household and gender, yes=1 and no=0\n",
        "meaneduc,average years of education for adults (18+)\n",
        "instlevel1, =1 no level of education\n",
        "instlevel2, =1 incomplete primary\n",
        "instlevel3, =1 complete primary\n",
        "instlevel4, =1 incomplete academic secondary level\n",
        "instlevel5, =1 complete academic secondary level\n",
        "instlevel6, =1 incomplete technical secondary level\n",
        "instlevel7, =1 complete technical secondary level\n",
        "instlevel8, =1 undergraduate and higher education\n",
        "instlevel9, =1 postgraduate higher education\n",
        "bedrooms, number of bedrooms\n",
        "overcrowding, # persons per room\n",
        "tipovivi1, =1 own and fully paid house\n",
        "tipovivi2, \"=1 own,  paying in installments\"\n",
        "tipovivi3, =1 rented\n",
        "tipovivi4, =1 precarious\n",
        "tipovivi5, \"=1 other(assigned,  borrowed)\"\n",
        "computer, =1 if the household has notebook or desktop computer\n",
        "television, =1 if the household has TV\n",
        "mobilephone, =1 if mobile phone\n",
        "qmobilephone, # of mobile phones\n",
        "lugar1, =1 region Central\n",
        "lugar2, =1 region Chorotega\n",
        "lugar3, =1 region PacÃƒÂ­fico central\n",
        "lugar4, =1 region Brunca\n",
        "lugar5, =1 region Huetar AtlÃƒÂ¡ntica\n",
        "lugar6, =1 region Huetar Norte\n",
        "area1, =1 zona urbana\n",
        "area2, =2 zona rural\n",
        "age, Age in years\n",
        "SQBescolari, escolari squared\n",
        "SQBage, age squared\n",
        "SQBhogar_total, hogar_total squared\n",
        "SQBedjefe, edjefe squared\n",
        "SQBhogar_nin, hogar_nin squared\n",
        "SQBovercrowding, overcrowding squared\n",
        "SQBdependency, dependency squared\n",
        "SQBmeaned, square of the mean years of education of adults (>=18) in the household\n",
        "agesq, Age squared"
      ]
    },
    {
      "metadata": {
        "id": "P26aUQme_yYE",
        "colab_type": "text"
      },
      "cell_type": "markdown",
      "source": [
        "#### Imports\n",
        "\n",
        "We'll use a familiar stack of data science libraries: `Pandas`, `numpy`, `matplotlib`, `seaborn`, and eventually `sklearn` for modeling. "
      ]
    },
    {
      "metadata": {
        "id": "4EOC-QEm_yYG",
        "colab_type": "code",
        "colab": {}
      },
      "cell_type": "code",
      "source": [
        "# Data manipulation\n",
        "import pandas as pd\n",
        "import numpy as np\n",
        "\n",
        "# Visualization\n",
        "import matplotlib.pyplot as plt\n",
        "import seaborn as sns\n",
        "\n",
        "# Set a few plotting defaults\n",
        "%matplotlib inline\n",
        "plt.style.use('fivethirtyeight')\n",
        "plt.rcParams['font.size'] = 18\n",
        "plt.rcParams['patch.edgecolor'] = 'k'"
      ],
      "execution_count": 0,
      "outputs": []
    },
    {
      "metadata": {
        "id": "Zka64Crh_yYI",
        "colab_type": "text"
      },
      "cell_type": "markdown",
      "source": [
        "### Read in Data and Look at Summary Information"
      ]
    },
    {
      "metadata": {
        "id": "wj05-6fFBtnr",
        "colab_type": "code",
        "colab": {}
      },
      "cell_type": "code",
      "source": [
        "import  urllib.request\n",
        "\n",
        "# Download the file from 'url' and save it locally under `filename`:  \n",
        "def download(url):\n",
        "    filename = url.split('/')[-1]\n",
        "    print ('Downloading', filename)\n",
        "    f =  urllib.request.urlopen(url)\n",
        "    data = f.read()\n",
        "    f.close()\n",
        "    with open(filename, 'wb') as myfile:\n",
        "        myfile.write(data)    \n",
        "\n",
        "# download training and test file\n",
        "download('https://raw.githubusercontent.com/learning-stack/Colab-ML-Playbook/master/Costa%20Rican%20Household%20Poverty%20Level%20Prediction/train.csv')\n",
        "download('https://raw.githubusercontent.com/learning-stack/Colab-ML-Playbook/master/Costa%20Rican%20Household%20Poverty%20Level%20Prediction/test.csv')"
      ],
      "execution_count": 0,
      "outputs": []
    },
    {
      "metadata": {
        "id": "Ih7WQGHs_yYJ",
        "colab_type": "code",
        "colab": {}
      },
      "cell_type": "code",
      "source": [
        "pd.options.display.max_columns = 150\n",
        "\n",
        "# Read in data\n",
        "train = pd.read_csv('train.csv')\n",
        "test = pd.read_csv('test.csv')\n",
        "train.head()"
      ],
      "execution_count": 0,
      "outputs": []
    },
    {
      "metadata": {
        "id": "4xyF9tvh_yYN",
        "colab_type": "text"
      },
      "cell_type": "markdown",
      "source": [
        "That gives us a look at all of the columns which don't appear to be in any order. To get a quick overview of the data we use `df.info()`."
      ]
    },
    {
      "metadata": {
        "id": "KmBotoWJ_yYO",
        "colab_type": "code",
        "colab": {}
      },
      "cell_type": "code",
      "source": [
        "train.info()"
      ],
      "execution_count": 0,
      "outputs": []
    },
    {
      "metadata": {
        "id": "JcoTZyRR_yYS",
        "colab_type": "text"
      },
      "cell_type": "markdown",
      "source": [
        "This tells us there are 130 integer columns, 8 float (numeric) columns, and 5 object columns. The integer columns probably represent Boolean variables (that take on either 0 or 1) or [ordinal variables](https://www.ma.utexas.edu/users/mks/statmistakes/ordinal.html) with discrete ordered values. The object columns might pose an issue because they cannot be fed directly into a machine learning model.\n",
        "\n",
        "Let's glance at the test data which has many more rows (individuals) than the train. It does have one fewer column because there's no Target!"
      ]
    },
    {
      "metadata": {
        "id": "3NTMON6d_yYT",
        "colab_type": "code",
        "colab": {}
      },
      "cell_type": "code",
      "source": [
        "test.info()"
      ],
      "execution_count": 0,
      "outputs": []
    },
    {
      "metadata": {
        "id": "pAXqiy3y_yYX",
        "colab_type": "text"
      },
      "cell_type": "markdown",
      "source": [
        "#### Integer Columns\n",
        "\n",
        "Let's look at the distribution of unique values in the integer columns. For each column, we'll count the number of unique values and show the result in a bar plot."
      ]
    },
    {
      "metadata": {
        "id": "1Xo6oyGU_yYX",
        "colab_type": "code",
        "colab": {}
      },
      "cell_type": "code",
      "source": [
        "train.select_dtypes(np.int64).nunique().value_counts().sort_index().plot.bar(color = 'blue', \n",
        "                                                                             figsize = (8, 6),\n",
        "                                                                            edgecolor = 'k', linewidth = 2);\n",
        "plt.xlabel('Number of Unique Values'); plt.ylabel('Count');\n",
        "plt.title('Count of Unique Values in Integer Columns');"
      ],
      "execution_count": 0,
      "outputs": []
    },
    {
      "metadata": {
        "id": "J8JkB4RO_yYb",
        "colab_type": "text"
      },
      "cell_type": "markdown",
      "source": [
        "The columns with only 2 unique values represent Booleans (0 or 1). In a lot of cases, this boolean information is already on a household level. For example, the `refrig` column says whether or not the household has a refrigerator. When it comes time to make features from the Boolean columns that are on the household level, we will _not need to aggregate_ these. However, the Boolean columns that are on the individual level will need to be aggregated. \n",
        "\n",
        "#### Float Columns\n",
        "\n",
        "Another column type is floats which represent continuous variables. We can make a quick distribution plot to show the distribution of all float columns. We'll use an [`OrderedDict`](https://pymotw.com/2/collections/ordereddict.html) to map the poverty levels to colors because this keeps the keys and values in the same order as we specify (unlike a regular Python dictionary).\n",
        "\n",
        "The following graphs shows the distributions of the `float` columns colored by the value of the `Target`. With these plots, we can see if there is a significant difference in the variable distribution depending on the household poverty level."
      ]
    },
    {
      "metadata": {
        "id": "rqxXjMKF_yYc",
        "colab_type": "code",
        "colab": {}
      },
      "cell_type": "code",
      "source": [
        "from collections import OrderedDict\n",
        "\n",
        "plt.figure(figsize = (20, 16))\n",
        "plt.style.use('fivethirtyeight')\n",
        "\n",
        "# Color mapping\n",
        "colors = OrderedDict({1: 'red', 2: 'orange', 3: 'blue', 4: 'green'})\n",
        "poverty_mapping = OrderedDict({1: 'extreme', 2: 'moderate', 3: 'vulnerable', 4: 'non vulnerable'})\n",
        "\n",
        "# Iterate through the float columns\n",
        "for i, col in enumerate(train.select_dtypes('float')):\n",
        "    ax = plt.subplot(4, 2, i + 1)\n",
        "    # Iterate through the poverty levels\n",
        "    for poverty_level, color in colors.items():\n",
        "        # Plot each poverty level as a separate line\n",
        "        sns.kdeplot(train.loc[train['Target'] == poverty_level, col].dropna(), \n",
        "                    ax = ax, color = color, label = poverty_mapping[poverty_level])\n",
        "        \n",
        "    plt.title(f'{col.capitalize()} Distribution'); plt.xlabel(f'{col}'); plt.ylabel('Density')\n",
        "\n",
        "plt.subplots_adjust(top = 2)"
      ],
      "execution_count": 0,
      "outputs": []
    },
    {
      "metadata": {
        "id": "0WoSzrZ2_yYf",
        "colab_type": "text"
      },
      "cell_type": "markdown",
      "source": [
        "Later on we'll calculate correlations between the variables and the `Target` to gauge the relationships between the features, but these plots can already give us a sense of which variables may be most \"relevant\" to a model. For example, the `meaneduc`, representing the average education of the adults in the household appears to be related to the poverty level: __a higher average adult education leads to higher values of the target which are less severe levels of poverty__. The theme of the importance of education is one we will come back to again and again in this notebook! "
      ]
    },
    {
      "metadata": {
        "id": "Vp-1UZH0_yYg",
        "colab_type": "text"
      },
      "cell_type": "markdown",
      "source": [
        "#### Object Columns\n",
        "\n",
        "The last column type is `object` which we can view as follows."
      ]
    },
    {
      "metadata": {
        "id": "ve5SW9Go_yYj",
        "colab_type": "code",
        "colab": {}
      },
      "cell_type": "code",
      "source": [
        "train.select_dtypes('object').head()"
      ],
      "execution_count": 0,
      "outputs": []
    },
    {
      "metadata": {
        "id": "chMATZVh_yYt",
        "colab_type": "text"
      },
      "cell_type": "markdown",
      "source": [
        "The `Id` and `idhogar` object types make sense because these are identifying variables. However, the other columns seem to be a mix of strings and numbers which we'll need to address before doing any machine learning. According to the documentation for these columns:\n",
        "\n",
        "* `dependency`: Dependency rate, calculated = (number of members of the household younger than 19 or older than 64)/(number of member of household between 19 and 64)\n",
        "* `edjefe`: years of education of male head of household, based on the interaction of escolari (years of education), head of household and gender, yes=1 and no=0\n",
        "* `edjefa`: years of education of female head of household, based on the interaction of escolari (years of education), head of household and gender, yes=1 and no=0\n",
        "\n",
        "These explanations clear up the issue. For these three variables, __\"yes\" = 1__ and __\"no\" = 0__. We can correct the variables using a mapping and convert to floats. "
      ]
    },
    {
      "metadata": {
        "id": "MktC2gGd_yYu",
        "colab_type": "code",
        "colab": {}
      },
      "cell_type": "code",
      "source": [
        "mapping = {\"yes\": 1, \"no\": 0}\n",
        "\n",
        "# Apply same operation to both train and test\n",
        "for df in [train, test]:\n",
        "    # Fill in the values with the correct mapping\n",
        "    df['dependency'] = df['dependency'].replace(mapping).astype(np.float64)\n",
        "    df['edjefa'] = df['edjefa'].replace(mapping).astype(np.float64)\n",
        "    df['edjefe'] = df['edjefe'].replace(mapping).astype(np.float64)\n",
        "\n",
        "train[['dependency', 'edjefa', 'edjefe']].describe()"
      ],
      "execution_count": 0,
      "outputs": []
    },
    {
      "metadata": {
        "id": "_Wtq_Vde_yY0",
        "colab_type": "code",
        "colab": {}
      },
      "cell_type": "code",
      "source": [
        "plt.figure(figsize = (16, 12))\n",
        "\n",
        "# Iterate through the float columns\n",
        "for i, col in enumerate(['dependency', 'edjefa', 'edjefe']):\n",
        "    ax = plt.subplot(3, 1, i + 1)\n",
        "    # Iterate through the poverty levels\n",
        "    for poverty_level, color in colors.items():\n",
        "        # Plot each poverty level as a separate line\n",
        "        sns.kdeplot(train.loc[train['Target'] == poverty_level, col].dropna(), \n",
        "                    ax = ax, color = color, label = poverty_mapping[poverty_level])\n",
        "        \n",
        "    plt.title(f'{col.capitalize()} Distribution'); plt.xlabel(f'{col}'); plt.ylabel('Density')\n",
        "\n",
        "plt.subplots_adjust(top = 2)"
      ],
      "execution_count": 0,
      "outputs": []
    },
    {
      "metadata": {
        "id": "iewlVRF4_yY4",
        "colab_type": "text"
      },
      "cell_type": "markdown",
      "source": [
        "These variables are now correctly represented as numbers and can be fed into a machine learning model. \n",
        "\n",
        "To make operations like that above a little easier, we'll join together the training and testing dataframes. This is important once we start feature engineering because we want to apply the same operations to both dataframes so we end up with the same features. Later we can separate out the sets based on the `Target`."
      ]
    },
    {
      "metadata": {
        "id": "-ldyL-eT_yY5",
        "colab_type": "code",
        "colab": {}
      },
      "cell_type": "code",
      "source": [
        "# Add null Target column to test\n",
        "test['Target'] = np.nan\n",
        "data = train.append(test, ignore_index = True)"
      ],
      "execution_count": 0,
      "outputs": []
    },
    {
      "metadata": {
        "id": "HEUOzGAs_yY6",
        "colab_type": "text"
      },
      "cell_type": "markdown",
      "source": [
        "## Exploring Label Distribution\n",
        "\n",
        "Next, we can get an idea of how imbalanced the problem is by looking at the distribution of labels. There are four possible integer levels, indicating four different levels of poverty. To look at the correct labels, we'll subset only to the columns where `parentesco1 == 1` because this is the head of household, the correct label for each household.\n",
        "\n",
        "The bar plot below shows the distribution of training labels (since there are no testing labels)."
      ]
    },
    {
      "metadata": {
        "id": "u5p5jvjl_yY7",
        "colab_type": "code",
        "colab": {}
      },
      "cell_type": "code",
      "source": [
        "# Heads of household\n",
        "heads = data.loc[data['parentesco1'] == 1].copy()\n",
        "\n",
        "# Labels for training\n",
        "train_labels = data.loc[(data['Target'].notnull()) & (data['parentesco1'] == 1), ['Target', 'idhogar']]\n",
        "\n",
        "# Value counts of target\n",
        "label_counts = train_labels['Target'].value_counts().sort_index()\n",
        "\n",
        "# Bar plot of occurrences of each label\n",
        "label_counts.plot.bar(figsize = (8, 6), \n",
        "                      color = colors.values(),\n",
        "                      edgecolor = 'k', linewidth = 2)\n",
        "\n",
        "# Formatting\n",
        "plt.xlabel('Poverty Level'); plt.ylabel('Count'); \n",
        "plt.xticks([x - 1 for x in poverty_mapping.keys()], \n",
        "           list(poverty_mapping.values()), rotation = 60)\n",
        "plt.title('Poverty Level Breakdown');\n",
        "\n",
        "label_counts"
      ],
      "execution_count": 0,
      "outputs": []
    },
    {
      "metadata": {
        "id": "pjg36zQa_yY_",
        "colab_type": "text"
      },
      "cell_type": "markdown",
      "source": [
        "We are dealing with an imbalanced class problem (which makes it intriguing why the contest organizers choose the _macro_ F1 score as the metric instead of _weighted_ F1!). There are many more households that classify as _non vulnerable_ than in any other category. The _extreme_ poverty class is the smallest (I guess this should make us optimistic!).\n",
        "\n",
        "One problem with imbalanced classification problems is that the machine learning model can have a difficult time predicting the minority classes because it sees far less examples. Think about this in human terms: if we are classifiying poverty and we see far more cases of no poverty than extreme poverty, it will make it more difficult for us to identify the high poverty households because of less exposure. One potential method to address class imbalanceds is through oversampling  (which is covered in more advanced notebooks)."
      ]
    },
    {
      "metadata": {
        "id": "j2k19jEE_yZA",
        "colab_type": "text"
      },
      "cell_type": "markdown",
      "source": [
        "## Addressing Wrong Labels\n",
        "\n",
        "As with any realistic dataset, the Costa Rican Poverty data has some issues. Typically, 80% of a data science project will be spent cleaning data and fixing anomalies/errors. These can be either human entry errors, measurement errors, or sometimes just extreme values that are correct but stand out. For this problem, some of the labels are not correct because _individuals in the same household have a different poverty level_. We're not told why this may be the case, but we are told to use the head of household as the true label. \n",
        "\n",
        "That information makes our job much easier, but in a real-world problem, we would have to figure out the reason _Why_ the labels are wrong and how to address the issue on our own. This section fixes the issue with the labels although it is not strictly necessary: I kept it in the notebook just to show how we may deal with this issue.\n",
        "\n",
        "### Identify Errors\n",
        "\n",
        "First we need to find the errors before we can correct them. To find the households with different labels for  family members, we can group the data by the household and then check if there is only one unique value of the `Target`."
      ]
    },
    {
      "metadata": {
        "id": "MuCrYo95_yZB",
        "colab_type": "code",
        "colab": {}
      },
      "cell_type": "code",
      "source": [
        "# Groupby the household and figure out the number of unique values\n",
        "all_equal = train.groupby('idhogar')['Target'].apply(lambda x: x.nunique() == 1)\n",
        "\n",
        "# Households where targets are not all equal\n",
        "not_equal = all_equal[all_equal != True]\n",
        "print('There are {} households where the family members do not all have the same target.'.format(len(not_equal)))"
      ],
      "execution_count": 0,
      "outputs": []
    },
    {
      "metadata": {
        "id": "aaQFSeGG_yZF",
        "colab_type": "text"
      },
      "cell_type": "markdown",
      "source": [
        "Let's look at one example."
      ]
    },
    {
      "metadata": {
        "id": "Eog0_s1s_yZF",
        "colab_type": "code",
        "colab": {}
      },
      "cell_type": "code",
      "source": [
        "train[train['idhogar'] == not_equal.index[0]][['idhogar', 'parentesco1', 'Target']]"
      ],
      "execution_count": 0,
      "outputs": []
    },
    {
      "metadata": {
        "id": "tkAWzc_Z_yZI",
        "colab_type": "text"
      },
      "cell_type": "markdown",
      "source": [
        "The organizers tell us that the correct label is that for the head of household, where `parentesco1 == 1`. For this household, the correct label is __3__ for all members. We can correct this (as shown later) by reassigning all the individuals in this household the correct poverty level. In the real-world, you might have to make the tough decision of how to address the problem by yourself (or with the help of your team)."
      ]
    },
    {
      "metadata": {
        "id": "ul8exj10_yZJ",
        "colab_type": "text"
      },
      "cell_type": "markdown",
      "source": [
        "### Families without Heads of Household\n",
        "\n",
        "We can correct all the label discrepancies by assigning the individuals in the same household the label of the head of household. But wait, you may ask: \"What if there are households without a head of household? And what if the members of those households have differing values of the label?\" \n",
        "\n",
        "Well, since you asked, let's investigate exactly that question! "
      ]
    },
    {
      "metadata": {
        "id": "CncRDHEp_yZK",
        "colab_type": "code",
        "colab": {}
      },
      "cell_type": "code",
      "source": [
        "households_leader = train.groupby('idhogar')['parentesco1'].sum()\n",
        "\n",
        "# Find households without a head\n",
        "households_no_head = train.loc[train['idhogar'].isin(households_leader[households_leader == 0].index), :]\n",
        "\n",
        "print('There are {} households without a head.'.format(households_no_head['idhogar'].nunique()))"
      ],
      "execution_count": 0,
      "outputs": []
    },
    {
      "metadata": {
        "id": "SJoLkbSa_yZP",
        "colab_type": "code",
        "colab": {}
      },
      "cell_type": "code",
      "source": [
        "# Find households without a head and where labels are different\n",
        "households_no_head_equal = households_no_head.groupby('idhogar')['Target'].apply(lambda x: x.nunique() == 1)\n",
        "print('{} Households with no head have different labels.'.format(sum(households_no_head_equal == False)))"
      ],
      "execution_count": 0,
      "outputs": []
    },
    {
      "metadata": {
        "id": "K1ypxZWQ_yZR",
        "colab_type": "text"
      },
      "cell_type": "markdown",
      "source": [
        "Well that's a relief! This means that we don't have to worry about a household both where there is no head __AND__ the members have different values of the label! For this problem, according to the organizers, __if a household does not have a head, then there is no true label. Therefore, we actually won't use any of the households without a head for training__ Nonetheless, it's still a good exercise to go through this process of investigating the data! \n",
        "\n",
        "### Correct Errors\n",
        "\n",
        "Now we can correct labels for the households that do have a head __AND__ the members have different poverty levels."
      ]
    },
    {
      "metadata": {
        "id": "T9WT2ryn_yZS",
        "colab_type": "code",
        "colab": {}
      },
      "cell_type": "code",
      "source": [
        "# Iterate through each household\n",
        "for household in not_equal.index:\n",
        "    # Find the correct label (for the head of household)\n",
        "    true_target = int(train[(train['idhogar'] == household) & (train['parentesco1'] == 1.0)]['Target'])\n",
        "    \n",
        "    # Set the correct label for all members in the household\n",
        "    train.loc[train['idhogar'] == household, 'Target'] = true_target\n",
        "    \n",
        "    \n",
        "# Groupby the household and figure out the number of unique values\n",
        "all_equal = train.groupby('idhogar')['Target'].apply(lambda x: x.nunique() == 1)\n",
        "\n",
        "# Households where targets are not all equal\n",
        "not_equal = all_equal[all_equal != True]\n",
        "print('There are {} households where the family members do not all have the same target.'.format(len(not_equal)))"
      ],
      "execution_count": 0,
      "outputs": []
    },
    {
      "metadata": {
        "id": "U7Ic_k0O_yZU",
        "colab_type": "text"
      },
      "cell_type": "markdown",
      "source": [
        "Since we are only going to use the heads of household for the labels, __this step is not completely necessary but it shows a workflow for correcting data errors like you may encounter in real life__. Don't consider it extra work, just practice for your career! "
      ]
    },
    {
      "metadata": {
        "id": "zhqH4UW7_yZU",
        "colab_type": "text"
      },
      "cell_type": "markdown",
      "source": [
        "## Missing Variables\n",
        "\n",
        "One of the most important steps of exploratory data analysis is finding missing values in the data and determining how to handle them. Missing values have to be filled in before we use a machine learning model and we need to think of the best strategy for filling them in based on the feature: this is where we'll have to start digging into the data definitions.\n",
        "\n",
        "First we can look at the percentage of missing values in each column."
      ]
    },
    {
      "metadata": {
        "id": "BM0OX2-X_yZV",
        "colab_type": "code",
        "colab": {}
      },
      "cell_type": "code",
      "source": [
        "# Number of missing in each column\n",
        "missing = pd.DataFrame(data.isnull().sum()).rename(columns = {0: 'total'})\n",
        "\n",
        "# Create a percentage missing\n",
        "missing['percent'] = missing['total'] / len(data)\n",
        "\n",
        "missing.sort_values('percent', ascending = False).head(10).drop('Target')"
      ],
      "execution_count": 0,
      "outputs": []
    },
    {
      "metadata": {
        "id": "XXchPg27_yZZ",
        "colab_type": "text"
      },
      "cell_type": "markdown",
      "source": [
        "We don't have to worry about the `Target` becuase we made that `NaN` for the test data. However, we do need to address the other 3 columns with a high percentage of missing values.\n",
        "\n",
        "__v18q1__: Number of tablets\n",
        "\n",
        "Let's start with `v18q1` which indicates the number of tablets owned by a family. We can look at the value counts of this variable. Since this is a household variable, it only makes sense to look at it on a household level, so we'll only select the rows for the head of household.\n",
        "\n",
        "#### Function to Plot Value Counts\n",
        "\n",
        "Since we might want to plot value counts for different columns, we can write a simple function that will do it for us!"
      ]
    },
    {
      "metadata": {
        "id": "VrcmDTT__yZZ",
        "colab_type": "code",
        "colab": {}
      },
      "cell_type": "code",
      "source": [
        "def plot_value_counts(df, col, heads_only = False):\n",
        "    \"\"\"Plot value counts of a column, optionally with only the heads of a household\"\"\"\n",
        "    # Select heads of household\n",
        "    if heads_only:\n",
        "        df = df.loc[df['parentesco1'] == 1].copy()\n",
        "        \n",
        "    plt.figure(figsize = (8, 6))\n",
        "    df[col].value_counts().sort_index().plot.bar(color = 'blue',\n",
        "                                                 edgecolor = 'k',\n",
        "                                                 linewidth = 2)\n",
        "    plt.xlabel(f'{col}'); plt.title(f'{col} Value Counts'); plt.ylabel('Count')\n",
        "    plt.show();"
      ],
      "execution_count": 0,
      "outputs": []
    },
    {
      "metadata": {
        "id": "nfPioYXv_yZd",
        "colab_type": "code",
        "colab": {}
      },
      "cell_type": "code",
      "source": [
        "plot_value_counts(heads, 'v18q1')"
      ],
      "execution_count": 0,
      "outputs": []
    },
    {
      "metadata": {
        "id": "Zp8-Nm_5_yZe",
        "colab_type": "text"
      },
      "cell_type": "markdown",
      "source": [
        "It looks like the most common number of tablets to own is 1 if we go only by the data that is present. However, we also need to think about the data that is missing. In this case, it could be that families with a `nan` in this category just do not own a tablet! If we look at the data definitions, we see that `v18q` indicates whether or not a family owns a tablet. We should investigate this column combined with the number of tablets to see if our hypothesis holds.\n",
        "\n",
        "We can `groupby` the value of `v18q` (which is 1 for owns a tablet and 0 for does not) and then calculate the number of null values for `v18q1`. This will tell us if the null values represent that the family does not own a tablet."
      ]
    },
    {
      "metadata": {
        "id": "_CMmMJwN_yZg",
        "colab_type": "code",
        "colab": {}
      },
      "cell_type": "code",
      "source": [
        "heads.groupby('v18q')['v18q1'].apply(lambda x: x.isnull().sum())"
      ],
      "execution_count": 0,
      "outputs": []
    },
    {
      "metadata": {
        "id": "jMbzh-im_yZj",
        "colab_type": "text"
      },
      "cell_type": "markdown",
      "source": [
        "Well, that solves the issue! Every family that has `nan` for `v18q1` does not own a tablet. Therefore, we can fill in this missing value with zero."
      ]
    },
    {
      "metadata": {
        "id": "EtBGVwIL_yZk",
        "colab_type": "code",
        "colab": {}
      },
      "cell_type": "code",
      "source": [
        "data['v18q1'] = data['v18q1'].fillna(0)"
      ],
      "execution_count": 0,
      "outputs": []
    },
    {
      "metadata": {
        "id": "rfDMaIEB_yZl",
        "colab_type": "text"
      },
      "cell_type": "markdown",
      "source": [
        "__v2a1__: Monthly rent payment\n",
        "\n",
        "The next missing column is `v2a1` which represents the montly rent payment. "
      ]
    },
    {
      "metadata": {
        "id": "7u2SlbrD_yZm",
        "colab_type": "text"
      },
      "cell_type": "markdown",
      "source": [
        "In addition to looking at the missing values of the monthly rent payment, it will be interesting to also look at the distribution of `tipovivi_`, the columns showing the ownership/renting status of the home. For this plot, we show the ownership status of those homes with a `nan` for the monthyl rent payment."
      ]
    },
    {
      "metadata": {
        "id": "481vIiwM_yZm",
        "colab_type": "code",
        "colab": {}
      },
      "cell_type": "code",
      "source": [
        "# Variables indicating home ownership\n",
        "own_variables = [x for x in data if x.startswith('tipo')]\n",
        "\n",
        "\n",
        "# Plot of the home ownership variables for home missing rent payments\n",
        "data.loc[data['v2a1'].isnull(), own_variables].sum().plot.bar(figsize = (10, 8),\n",
        "                                                                        color = 'green',\n",
        "                                                              edgecolor = 'k', linewidth = 2);\n",
        "plt.xticks([0, 1, 2, 3, 4],\n",
        "           ['Owns and Paid Off', 'Owns and Paying', 'Rented', 'Precarious', 'Other'],\n",
        "          rotation = 60)\n",
        "plt.title('Home Ownership Status for Households Missing Rent Payments', size = 18);"
      ],
      "execution_count": 0,
      "outputs": []
    },
    {
      "metadata": {
        "id": "z6dcCyIX_yZo",
        "colab_type": "text"
      },
      "cell_type": "markdown",
      "source": [
        "The meaning of the home ownership variables is below:\n",
        "\n",
        "    tipovivi1, =1 own and fully paid house\n",
        "    tipovivi2, \"=1 own,  paying in installments\"\n",
        "    tipovivi3, =1 rented\n",
        "    tipovivi4, =1 precarious\n",
        "    tipovivi5, \"=1 other(assigned,  borrowed)\"\n",
        "    \n",
        "We've solved the issue! Well, mostly: the households that do not have a monthly rent payment generally own their own home. In a few other situations, we are not sure of the reason for the missing information. \n",
        "\n",
        "For the houses that are owned and have a missing monthly rent payment, we can set the value of the rent payment to zero. For the other homes, we can leave the missing values to be imputed but we'll add a flag (Boolean) column indicating that these households had missing values."
      ]
    },
    {
      "metadata": {
        "id": "6BnJH-D1_yZr",
        "colab_type": "code",
        "colab": {}
      },
      "cell_type": "code",
      "source": [
        "# Fill in households that own the house with 0 rent payment\n",
        "data.loc[(data['tipovivi1'] == 1), 'v2a1'] = 0\n",
        "\n",
        "# Create missing rent payment column\n",
        "data['v2a1-missing'] = data['v2a1'].isnull()\n",
        "\n",
        "data['v2a1-missing'].value_counts()"
      ],
      "execution_count": 0,
      "outputs": []
    },
    {
      "metadata": {
        "id": "rJVcRyyY_yZt",
        "colab_type": "text"
      },
      "cell_type": "markdown",
      "source": [
        "__rez_esc__: years behind in school\n",
        "\n",
        "The last column with a high percentage of missing values is `rez_esc` indicating years behind in school. For the families with a null value, is possible that they have no children currently in school. Let's test this out by finding the ages of those who have a missing value in this column and the ages of those who do not have a missing value."
      ]
    },
    {
      "metadata": {
        "id": "1dAY3QlE_yZt",
        "colab_type": "code",
        "colab": {}
      },
      "cell_type": "code",
      "source": [
        "data.loc[data['rez_esc'].notnull()]['age'].describe()"
      ],
      "execution_count": 0,
      "outputs": []
    },
    {
      "metadata": {
        "id": "Ohi42zGa_yZx",
        "colab_type": "text"
      },
      "cell_type": "markdown",
      "source": [
        "What this tells us is that the oldest age with a missing value is 17. For anyone older than this, maybe we can assume that they are simply not in school. Let's look at the ages of those who have a missing value. "
      ]
    },
    {
      "metadata": {
        "id": "-5BB0qOO_yZy",
        "colab_type": "code",
        "colab": {}
      },
      "cell_type": "code",
      "source": [
        "data.loc[data['rez_esc'].isnull()]['age'].describe()"
      ],
      "execution_count": 0,
      "outputs": []
    },
    {
      "metadata": {
        "id": "BSChjWpF_yZ4",
        "colab_type": "text"
      },
      "cell_type": "markdown",
      "source": [
        "If we read through some of the [discussions for this competition](https://www.kaggle.com/c/costa-rican-household-poverty-prediction/discussion/61403), we learn that this variable is only defined for individuals between 7 and 19. Anyone younger or older than this range presumably has no years behind and therefore the value should be set to 0. \n",
        "For this variable, if the individual is over 19 and they have a missing value, or if they are younger than 7 and have a missing value we can set it to zero. For anyone else, we'll leave the value to be imputed and add a boolean flag."
      ]
    },
    {
      "metadata": {
        "id": "Tz8GmoCb_yZ4",
        "colab_type": "code",
        "colab": {}
      },
      "cell_type": "code",
      "source": [
        "# If individual is over 19 or younger than 7 and missing years behind, set it to 0\n",
        "data.loc[((data['age'] > 19) | (data['age'] < 7)) & (data['rez_esc'].isnull()), 'rez_esc'] = 0\n",
        "\n",
        "# Add a flag for those between 7 and 19 with a missing value\n",
        "data['rez_esc-missing'] = data['rez_esc'].isnull()"
      ],
      "execution_count": 0,
      "outputs": []
    },
    {
      "metadata": {
        "id": "QZ_zApNi_yZ6",
        "colab_type": "text"
      },
      "cell_type": "markdown",
      "source": [
        "There is also one outlier in the `rez_esc` column. Again, if we read through the competition discussions, we learn that the maximum value for this variable is 5. Therefore, any values above 5 should be set to 5."
      ]
    },
    {
      "metadata": {
        "id": "BO8NUbHl_yZ6",
        "colab_type": "code",
        "colab": {}
      },
      "cell_type": "code",
      "source": [
        "data.loc[data['rez_esc'] > 5, 'rez_esc'] = 5"
      ],
      "execution_count": 0,
      "outputs": []
    },
    {
      "metadata": {
        "id": "Cf7Fg45C_yZ8",
        "colab_type": "text"
      },
      "cell_type": "markdown",
      "source": [
        "## Plot Two Categorical Variables\n",
        "\n",
        "To show how two categorical variables interact with one another, there are a number of plotting options: scatterplots, faceted bar plots, boxplots, etc. I wasn't satisfied with any of these choices so I wrote the function below, which essentially is a scatterplot of two categoricals where the size of the points represent the percentage of a given y-value represented by each x-value. "
      ]
    },
    {
      "metadata": {
        "id": "HQZalNUQ_yZ-",
        "colab_type": "code",
        "colab": {}
      },
      "cell_type": "code",
      "source": [
        "def plot_categoricals(x, y, data, annotate = True):\n",
        "    \"\"\"Plot counts of two categoricals.\n",
        "    Size is raw count for each grouping.\n",
        "    Percentages are for a given value of y.\"\"\"\n",
        "    \n",
        "    # Raw counts \n",
        "    raw_counts = pd.DataFrame(data.groupby(y)[x].value_counts(normalize = False))\n",
        "    raw_counts = raw_counts.rename(columns = {x: 'raw_count'})\n",
        "    \n",
        "    # Calculate counts for each group of x and y\n",
        "    counts = pd.DataFrame(data.groupby(y)[x].value_counts(normalize = True))\n",
        "    \n",
        "    # Rename the column and reset the index\n",
        "    counts = counts.rename(columns = {x: 'normalized_count'}).reset_index()\n",
        "    counts['percent'] = 100 * counts['normalized_count']\n",
        "    \n",
        "    # Add the raw count\n",
        "    counts['raw_count'] = list(raw_counts['raw_count'])\n",
        "    \n",
        "    plt.figure(figsize = (14, 10))\n",
        "    # Scatter plot sized by percent\n",
        "    plt.scatter(counts[x], counts[y], edgecolor = 'k', color = 'lightgreen',\n",
        "                s = 100 * np.sqrt(counts['raw_count']), marker = 'o',\n",
        "                alpha = 0.6, linewidth = 1.5)\n",
        "    \n",
        "    if annotate:\n",
        "        # Annotate the plot with text\n",
        "        for i, row in counts.iterrows():\n",
        "            # Put text with appropriate offsets\n",
        "            plt.annotate(xy = (row[x] - (1 / counts[x].nunique()), \n",
        "                               row[y] - (0.15 / counts[y].nunique())),\n",
        "                         color = 'navy',\n",
        "                         s = f\"{round(row['percent'], 1)}%\")\n",
        "        \n",
        "    # Set tick marks\n",
        "    plt.yticks(counts[y].unique())\n",
        "    plt.xticks(counts[x].unique())\n",
        "    \n",
        "    # Transform min and max to evenly space in square root domain\n",
        "    sqr_min = int(np.sqrt(raw_counts['raw_count'].min()))\n",
        "    sqr_max = int(np.sqrt(raw_counts['raw_count'].max()))\n",
        "    \n",
        "    # 5 sizes for legend\n",
        "    msizes = list(range(sqr_min, sqr_max,\n",
        "                        int(( sqr_max - sqr_min) / 5)))\n",
        "    markers = []\n",
        "    \n",
        "    # Markers for legend\n",
        "    for size in msizes:\n",
        "        markers.append(plt.scatter([], [], s = 100 * size, \n",
        "                                   label = f'{int(round(np.square(size) / 100) * 100)}', \n",
        "                                   color = 'lightgreen',\n",
        "                                   alpha = 0.6, edgecolor = 'k', linewidth = 1.5))\n",
        "        \n",
        "    # Legend and formatting\n",
        "    plt.legend(handles = markers, title = 'Counts',\n",
        "               labelspacing = 3, handletextpad = 2,\n",
        "               fontsize = 16,\n",
        "               loc = (1.10, 0.19))\n",
        "    \n",
        "    plt.annotate(f'* Size represents raw count while % is for a given y value.',\n",
        "                 xy = (0, 1), xycoords = 'figure points', size = 10)\n",
        "    \n",
        "    # Adjust axes limits\n",
        "    plt.xlim((counts[x].min() - (6 / counts[x].nunique()), \n",
        "              counts[x].max() + (6 / counts[x].nunique())))\n",
        "    plt.ylim((counts[y].min() - (4 / counts[y].nunique()), \n",
        "              counts[y].max() + (4 / counts[y].nunique())))\n",
        "    plt.grid(None)\n",
        "    plt.xlabel(f\"{x}\"); plt.ylabel(f\"{y}\"); plt.title(f\"{y} vs {x}\");"
      ],
      "execution_count": 0,
      "outputs": []
    },
    {
      "metadata": {
        "id": "rq-ou-i__yaB",
        "colab_type": "code",
        "colab": {}
      },
      "cell_type": "code",
      "source": [
        "plot_categoricals('rez_esc', 'Target', data);"
      ],
      "execution_count": 0,
      "outputs": []
    },
    {
      "metadata": {
        "id": "jpGo0yaP_yaE",
        "colab_type": "text"
      },
      "cell_type": "markdown",
      "source": [
        "The size of the markers represents the raw count. To read the plot, choose a given y-value and then read across the row. For example, with a poverty level of 1, 93% of individuals have no years behind with a total count of around 800 individuals and about 0.4% of individuals are 5 years behind with about 50 total individuals in this category. This plot attempts to show both the overall counts and the within category proportion; it's not perfect , but I gave it a shot!"
      ]
    },
    {
      "metadata": {
        "id": "j7XDxTR0_yaF",
        "colab_type": "code",
        "colab": {}
      },
      "cell_type": "code",
      "source": [
        "plot_categoricals('escolari', 'Target', data, annotate = False)"
      ],
      "execution_count": 0,
      "outputs": []
    },
    {
      "metadata": {
        "id": "tkBj77f2_yaH",
        "colab_type": "text"
      },
      "cell_type": "markdown",
      "source": [
        "The remaining missing values in each column will be filled in, a process known as `Imputation`. There are several types of imputation commonly used, and one of the simplest and most effective methods is to fill in the missing values with the `median` of the column."
      ]
    },
    {
      "metadata": {
        "id": "Uwjr__jA_yaH",
        "colab_type": "text"
      },
      "cell_type": "markdown",
      "source": [
        "As a final step with the missing values, we can plot the distribution of target for the case where either of these values are missing. "
      ]
    },
    {
      "metadata": {
        "id": "XlwBrAez_yaI",
        "colab_type": "code",
        "colab": {}
      },
      "cell_type": "code",
      "source": [
        "plot_value_counts(data[(data['rez_esc-missing'] == 1)], \n",
        "                  'Target')"
      ],
      "execution_count": 0,
      "outputs": []
    },
    {
      "metadata": {
        "id": "kuex4gPr_yaM",
        "colab_type": "text"
      },
      "cell_type": "markdown",
      "source": [
        "The distribution here seems to match that for all the data at large."
      ]
    },
    {
      "metadata": {
        "id": "vFJqyQoo_yaN",
        "colab_type": "code",
        "colab": {}
      },
      "cell_type": "code",
      "source": [
        "plot_value_counts(data[(data['v2a1-missing'] == 1)], \n",
        "                  'Target')"
      ],
      "execution_count": 0,
      "outputs": []
    },
    {
      "metadata": {
        "id": "oNPhKfej_yaR",
        "colab_type": "text"
      },
      "cell_type": "markdown",
      "source": [
        "This looks like it could be an indicator of more poverty given the higher prevalence of 2: moderate poverty. \n",
        "\n",
        "__This represents an important point__: sometimes the missing information is just as important as the information you are given. "
      ]
    },
    {
      "metadata": {
        "id": "Z6j3hdZM_yaR",
        "colab_type": "text"
      },
      "cell_type": "markdown",
      "source": [
        "# Feature Engineering\n",
        "\n",
        "There is plenty more exploratory data analysis we can do, but first we should work on consolidating our data at a household level. We already have some of the information for each household, but for training, we will need _all_ of the information summarized for each household. This means grouping the individuals in a house (`groupby`) and performing an aggregation (`agg`) of the individual variables. \n",
        "\n",
        "In another notebook, I show how we can use automated feature engineering to do this, and __automated feature engineering__ should be a standard part of the machine learning workflow. Right now, we'll stick to doing this by hand, but definitely take a look at __automated feature engineering in Featuretools__."
      ]
    },
    {
      "metadata": {
        "id": "xDXp4IgP_yaS",
        "colab_type": "text"
      },
      "cell_type": "markdown",
      "source": [
        "## Column Definitions\n",
        "\n",
        "Sometimes in data science we have to get our hands dirty digging through the data or do tedious tasks that take a lot of time. This is that part of the analysis: we have to define the columns that are at an individual level and at a household level using the [data decsriptions](https://www.kaggle.com/c/costa-rican-household-poverty-prediction/data). There is simply no other way to identify which variables at are the household level than to go through the variables themselves in the data description. Except, I've already done this for you, so all you have to do is copy and paste!\n",
        "\n",
        "We'll define different variables because we need to treat some of them in a different manner. Once we have the variables defined on each level, we can work to start aggregating them as needed.\n",
        "\n",
        "The process is as follows\n",
        "\n",
        "1. Break variables into household level and invididual level\n",
        "2. Find suitable aggregations for the individual level data\n",
        "    * Ordinal variables can use statistical aggregations\n",
        "    * Boolean variables can also be aggregated but with fewer stats\n",
        "3. Join the individual aggregations to the household level data\n",
        "\n",
        "### Define Variable Categories\n",
        "\n",
        "There are several different categories of variables:\n",
        "\n",
        "1. Individual Variables: these are characteristics of each individual rather than the household\n",
        "    * Boolean: Yes or No (0 or 1)\n",
        "    * Ordered Discrete: Integers with an ordering\n",
        "2. Household variables\n",
        "    * Boolean: Yes or No\n",
        "    * Ordered Discrete: Integers with an ordering\n",
        "    * Continuous numeric\n",
        "3. Squared Variables: derived from squaring variables in the data\n",
        "4. Id variables: identifies the data and should not be used as features\n",
        "\n",
        "Below we manually define the variables in each category. This is a little tedious, but also necessary. "
      ]
    },
    {
      "metadata": {
        "id": "O8dyM5Yn_yaS",
        "colab_type": "code",
        "colab": {}
      },
      "cell_type": "code",
      "source": [
        "id_ = ['Id', 'idhogar', 'Target']"
      ],
      "execution_count": 0,
      "outputs": []
    },
    {
      "metadata": {
        "id": "YokDCCOS_yaV",
        "colab_type": "code",
        "colab": {}
      },
      "cell_type": "code",
      "source": [
        "ind_bool = ['v18q', 'dis', 'male', 'female', 'estadocivil1', 'estadocivil2', 'estadocivil3', \n",
        "            'estadocivil4', 'estadocivil5', 'estadocivil6', 'estadocivil7', \n",
        "            'parentesco1', 'parentesco2',  'parentesco3', 'parentesco4', 'parentesco5', \n",
        "            'parentesco6', 'parentesco7', 'parentesco8',  'parentesco9', 'parentesco10', \n",
        "            'parentesco11', 'parentesco12', 'instlevel1', 'instlevel2', 'instlevel3', \n",
        "            'instlevel4', 'instlevel5', 'instlevel6', 'instlevel7', 'instlevel8', \n",
        "            'instlevel9', 'mobilephone', 'rez_esc-missing']\n",
        "\n",
        "ind_ordered = ['rez_esc', 'escolari', 'age']"
      ],
      "execution_count": 0,
      "outputs": []
    },
    {
      "metadata": {
        "id": "EOuhaedS_yaW",
        "colab_type": "code",
        "colab": {}
      },
      "cell_type": "code",
      "source": [
        "hh_bool = ['hacdor', 'hacapo', 'v14a', 'refrig', 'paredblolad', 'paredzocalo', \n",
        "           'paredpreb','pisocemento', 'pareddes', 'paredmad',\n",
        "           'paredzinc', 'paredfibras', 'paredother', 'pisomoscer', 'pisoother', \n",
        "           'pisonatur', 'pisonotiene', 'pisomadera',\n",
        "           'techozinc', 'techoentrepiso', 'techocane', 'techootro', 'cielorazo', \n",
        "           'abastaguadentro', 'abastaguafuera', 'abastaguano',\n",
        "            'public', 'planpri', 'noelec', 'coopele', 'sanitario1', \n",
        "           'sanitario2', 'sanitario3', 'sanitario5',   'sanitario6',\n",
        "           'energcocinar1', 'energcocinar2', 'energcocinar3', 'energcocinar4', \n",
        "           'elimbasu1', 'elimbasu2', 'elimbasu3', 'elimbasu4', \n",
        "           'elimbasu5', 'elimbasu6', 'epared1', 'epared2', 'epared3',\n",
        "           'etecho1', 'etecho2', 'etecho3', 'eviv1', 'eviv2', 'eviv3', \n",
        "           'tipovivi1', 'tipovivi2', 'tipovivi3', 'tipovivi4', 'tipovivi5', \n",
        "           'computer', 'television', 'lugar1', 'lugar2', 'lugar3',\n",
        "           'lugar4', 'lugar5', 'lugar6', 'area1', 'area2', 'v2a1-missing']\n",
        "\n",
        "hh_ordered = [ 'rooms', 'r4h1', 'r4h2', 'r4h3', 'r4m1','r4m2','r4m3', 'r4t1',  'r4t2', \n",
        "              'r4t3', 'v18q1', 'tamhog','tamviv','hhsize','hogar_nin',\n",
        "              'hogar_adul','hogar_mayor','hogar_total',  'bedrooms', 'qmobilephone']\n",
        "\n",
        "hh_cont = ['v2a1', 'dependency', 'edjefe', 'edjefa', 'meaneduc', 'overcrowding']"
      ],
      "execution_count": 0,
      "outputs": []
    },
    {
      "metadata": {
        "id": "plrRXxdM_yaX",
        "colab_type": "code",
        "colab": {}
      },
      "cell_type": "code",
      "source": [
        "sqr_ = ['SQBescolari', 'SQBage', 'SQBhogar_total', 'SQBedjefe', \n",
        "        'SQBhogar_nin', 'SQBovercrowding', 'SQBdependency', 'SQBmeaned', 'agesq']"
      ],
      "execution_count": 0,
      "outputs": []
    },
    {
      "metadata": {
        "id": "UcbQMyk1_yaY",
        "colab_type": "text"
      },
      "cell_type": "markdown",
      "source": [
        "Let's make sure we covered all of the variables and didn't repeat any. "
      ]
    },
    {
      "metadata": {
        "id": "FL5KyY_F_yaY",
        "colab_type": "code",
        "colab": {}
      },
      "cell_type": "code",
      "source": [
        "x = ind_bool + ind_ordered + id_ + hh_bool + hh_ordered + hh_cont + sqr_\n",
        "\n",
        "from collections import Counter\n",
        "\n",
        "print('There are no repeats: ', np.all(np.array(list(Counter(x).values())) == 1))\n",
        "print('We covered every variable: ', len(x) == data.shape[1])"
      ],
      "execution_count": 0,
      "outputs": []
    },
    {
      "metadata": {
        "id": "nFOq24AI_yaa",
        "colab_type": "text"
      },
      "cell_type": "markdown",
      "source": [
        "#### Squared Variables\n",
        "\n",
        "First, the easiest step: we'll remove all of the squared variables. Sometimes variables are squared or transformed as part of feature engineering because it can help linear models learn relationships that are non-linear. However, since we will be using more complex models, these squared features are redundant. They are highly correlated with the non-squared version, and hence can actually hurt our model by adding irrelevant information and also slowing down training.\n",
        "\n",
        "For an example, let's take a look at `SQBage` vs `age`."
      ]
    },
    {
      "metadata": {
        "id": "26YeqaO7_yaa",
        "colab_type": "code",
        "colab": {}
      },
      "cell_type": "code",
      "source": [
        "sns.lmplot('age', 'SQBage', data = data, fit_reg=False);\n",
        "plt.title('Squared Age versus Age');"
      ],
      "execution_count": 0,
      "outputs": []
    },
    {
      "metadata": {
        "id": "lOCITqPu_yac",
        "colab_type": "text"
      },
      "cell_type": "markdown",
      "source": [
        "These variables are highly correlated, and we don't need to keep both in our data."
      ]
    },
    {
      "metadata": {
        "id": "WbyQcHoP_yad",
        "colab_type": "code",
        "colab": {}
      },
      "cell_type": "code",
      "source": [
        "# Remove squared variables\n",
        "data = data.drop(columns = sqr_)\n",
        "data.shape"
      ],
      "execution_count": 0,
      "outputs": []
    },
    {
      "metadata": {
        "id": "lGXEnetE_yag",
        "colab_type": "text"
      },
      "cell_type": "markdown",
      "source": [
        "## Id Variables\n",
        "\n",
        "These are pretty simple: they will be kept as is in the data since we need them for identification.\n",
        "\n",
        "## Household Level Variables\n",
        "\n",
        "First let's subset to the heads of household and then to the household level variables."
      ]
    },
    {
      "metadata": {
        "id": "JCQFH7iY_yah",
        "colab_type": "code",
        "colab": {}
      },
      "cell_type": "code",
      "source": [
        "heads = data.loc[data['parentesco1'] == 1, :]\n",
        "heads = heads[id_ + hh_bool + hh_cont + hh_ordered]\n",
        "heads.shape"
      ],
      "execution_count": 0,
      "outputs": []
    },
    {
      "metadata": {
        "id": "ZAr7wNqN_yal",
        "colab_type": "text"
      },
      "cell_type": "markdown",
      "source": [
        "For most of the household level variables, we can simply keep them as is: since we want to make predictions for each household, we use these variables as features. However, we can also remove some redundant variables and also add in some more features derived from existing data. "
      ]
    },
    {
      "metadata": {
        "id": "iYlBntLE_yam",
        "colab_type": "text"
      },
      "cell_type": "markdown",
      "source": [
        "### Redundant Household Variables\n",
        "\n",
        "Let's take a look at the correlations between all of the household variables. If there are any that are too highly correlated, then we might want to remove one of the pair of highly correlated variables.\n",
        "\n",
        "The following code identifies any variables with a greater than 0.95 absolute magnitude correlation."
      ]
    },
    {
      "metadata": {
        "id": "Vxxd5PEA_yam",
        "colab_type": "code",
        "colab": {}
      },
      "cell_type": "code",
      "source": [
        "# Create correlation matrix\n",
        "corr_matrix = heads.corr()\n",
        "\n",
        "# Select upper triangle of correlation matrix\n",
        "upper = corr_matrix.where(np.triu(np.ones(corr_matrix.shape), k=1).astype(np.bool))\n",
        "\n",
        "# Find index of feature columns with correlation greater than 0.95\n",
        "to_drop = [column for column in upper.columns if any(abs(upper[column]) > 0.95)]\n",
        "\n",
        "to_drop"
      ],
      "execution_count": 0,
      "outputs": []
    },
    {
      "metadata": {
        "id": "LO2vR58n_yao",
        "colab_type": "text"
      },
      "cell_type": "markdown",
      "source": [
        "These show one out of each pair of correlated variables. To find the other pair, we can subset the `corr_matrix`. "
      ]
    },
    {
      "metadata": {
        "id": "wrWtp5Mw_yao",
        "colab_type": "code",
        "colab": {}
      },
      "cell_type": "code",
      "source": [
        "corr_matrix.loc[corr_matrix['tamhog'].abs() > 0.9, corr_matrix['tamhog'].abs() > 0.9]"
      ],
      "execution_count": 0,
      "outputs": []
    },
    {
      "metadata": {
        "id": "8nVWQsxu_yaq",
        "colab_type": "code",
        "colab": {}
      },
      "cell_type": "code",
      "source": [
        "sns.heatmap(corr_matrix.loc[corr_matrix['tamhog'].abs() > 0.9, corr_matrix['tamhog'].abs() > 0.9],\n",
        "            annot=True, cmap = plt.cm.autumn_r, fmt='.3f');"
      ],
      "execution_count": 0,
      "outputs": []
    },
    {
      "metadata": {
        "id": "AlKz_ATH_yar",
        "colab_type": "text"
      },
      "cell_type": "markdown",
      "source": [
        "There are several variables here having to do with the size of the house:\n",
        "\n",
        "* r4t3, Total persons in the household\n",
        "* tamhog, size of the household\n",
        "* tamviv, number of persons living in the household\n",
        "* hhsize, household size\n",
        "* hogar_total, # of total individuals in the household\n",
        "\n",
        "These variables are all highly correlated with one another. In fact, `hhsize` has a perfect correlation with `tamhog` and `hogar_total`. We will remove these two variables because the information is redundant. We can also remove `r4t3` because it has a near perfect correlation with `hhsize`.\n",
        "\n",
        "`tamviv` is not necessarily the same as `hhsize` because there might be family members that are not living in the household. Let's visualize this difference in a scatterplot."
      ]
    },
    {
      "metadata": {
        "id": "13qebYwK_yar",
        "colab_type": "code",
        "colab": {}
      },
      "cell_type": "code",
      "source": [
        "heads = heads.drop(columns = ['tamhog', 'hogar_total', 'r4t3'])"
      ],
      "execution_count": 0,
      "outputs": []
    },
    {
      "metadata": {
        "id": "HzyRICwD_yat",
        "colab_type": "code",
        "colab": {}
      },
      "cell_type": "code",
      "source": [
        "sns.lmplot('tamviv', 'hhsize', data, fit_reg=False, size = 8);\n",
        "plt.title('Household size vs number of persons living in the household');"
      ],
      "execution_count": 0,
      "outputs": []
    },
    {
      "metadata": {
        "id": "z3BC3BNN_yau",
        "colab_type": "text"
      },
      "cell_type": "markdown",
      "source": [
        "We see for a number of cases, there are more people living in the household than there are in the family. This gives us a good idea for a new feature: __the difference between these two measurements!__\n",
        "\n",
        "Let's make this new feature."
      ]
    },
    {
      "metadata": {
        "id": "r8hbPq1T_yav",
        "colab_type": "code",
        "colab": {}
      },
      "cell_type": "code",
      "source": [
        "heads['hhsize-diff'] = heads['tamviv'] - heads['hhsize']\n",
        "plot_categoricals('hhsize-diff', 'Target', heads)"
      ],
      "execution_count": 0,
      "outputs": []
    },
    {
      "metadata": {
        "id": "WAOkfe8a_yax",
        "colab_type": "text"
      },
      "cell_type": "markdown",
      "source": [
        "Even though most households do not have a difference, there are a few that have more people living in the household than are members of the household.\n",
        "\n",
        "Let's move on to the other redundant variables. First we can look at `coopele`"
      ]
    },
    {
      "metadata": {
        "id": "DxJGO3rI_yay",
        "colab_type": "code",
        "colab": {}
      },
      "cell_type": "code",
      "source": [
        "corr_matrix.loc[corr_matrix['coopele'].abs() > 0.9, corr_matrix['coopele'].abs() > 0.9]"
      ],
      "execution_count": 0,
      "outputs": []
    },
    {
      "metadata": {
        "id": "9vIAYgaz_ya1",
        "colab_type": "text"
      },
      "cell_type": "markdown",
      "source": [
        "These variables indicate where the electricity in the home is coming from. There are four options, and the families that don't have one of these two options either have no electricity (`noelec`) or get it from a private plant (`planpri`). \n",
        "\n",
        "#### Creating Ordinal Variable\n",
        "\n",
        "I'm going to compress these four variables into one by creating an ordinal variable. I'm going to choose the mapping myself, based on the data decriptions: \n",
        "\n",
        "    0: No electricity\n",
        "    1: Electricity from cooperative\n",
        "    2: Electricity from CNFL, ICA, ESPH/JASEC\n",
        "    3: Electricity from private plant\n",
        "\n",
        "An ordered variable has an inherent ordering, and for this we choose our own based on the domain knowledge. After we create this new ordered variable, we can drop the four others. There are several households that do not have a variable here, so we will use a `nan` (which will be filled in during imputation) and add a Boolean column indicating there was no measure for this variable."
      ]
    },
    {
      "metadata": {
        "id": "rqcygH2Y_ya2",
        "colab_type": "code",
        "colab": {}
      },
      "cell_type": "code",
      "source": [
        "elec = []\n",
        "\n",
        "# Assign values\n",
        "for i, row in heads.iterrows():\n",
        "    if row['noelec'] == 1:\n",
        "        elec.append(0)\n",
        "    elif row['coopele'] == 1:\n",
        "        elec.append(1)\n",
        "    elif row['public'] == 1:\n",
        "        elec.append(2)\n",
        "    elif row['planpri'] == 1:\n",
        "        elec.append(3)\n",
        "    else:\n",
        "        elec.append(np.nan)\n",
        "        \n",
        "# Record the new variable and missing flag\n",
        "heads['elec'] = elec\n",
        "heads['elec-missing'] = heads['elec'].isnull()\n",
        "\n",
        "# Remove the electricity columns\n",
        "# heads = heads.drop(columns = ['noelec', 'coopele', 'public', 'planpri'])"
      ],
      "execution_count": 0,
      "outputs": []
    },
    {
      "metadata": {
        "id": "tvuJDvzq_ya3",
        "colab_type": "code",
        "colab": {}
      },
      "cell_type": "code",
      "source": [
        "plot_categoricals('elec', 'Target', heads)"
      ],
      "execution_count": 0,
      "outputs": []
    },
    {
      "metadata": {
        "id": "FwM3Wvyq_ya4",
        "colab_type": "text"
      },
      "cell_type": "markdown",
      "source": [
        "We can see that for every value of the Target, the most common source of electricity is from one of the listed providers. "
      ]
    },
    {
      "metadata": {
        "id": "qJjhZ53v_ya6",
        "colab_type": "text"
      },
      "cell_type": "markdown",
      "source": [
        "The final redundant column is `area2`. This means the house is in a rural zone, but it's redundant because we have a column indicating if the house is in a urban zone. Therefore, we can drop this column."
      ]
    },
    {
      "metadata": {
        "id": "XDY0scZf_ya7",
        "colab_type": "code",
        "colab": {}
      },
      "cell_type": "code",
      "source": [
        "heads = heads.drop(columns = 'area2')\n",
        "\n",
        "heads.groupby('area1')['Target'].value_counts(normalize = True)"
      ],
      "execution_count": 0,
      "outputs": []
    },
    {
      "metadata": {
        "id": "N6rLbEaT_ya8",
        "colab_type": "text"
      },
      "cell_type": "markdown",
      "source": [
        "It seems like households in an urban area (value of 1) are more likely to have lower poverty levels than households in a rural area (value of 0)."
      ]
    },
    {
      "metadata": {
        "id": "KTiJH7Kz_ya9",
        "colab_type": "text"
      },
      "cell_type": "markdown",
      "source": [
        "### Creating Ordinal Variables\n",
        "\n",
        "For the walls, roof, and floor of the house, there are three columns each: the first indicating 'bad', the second 'regular', and the third 'good'. We could leave the variables as booleans, but to me it makes more sense to turn them into ordinal variables because there is an inherent order: `bad < regular < good`. To do this, we can simply find whichever column is non-zero for each household using `np.argmax`. \n",
        "\n",
        "Once we have created the ordinal variable, we are able to drop the original variables."
      ]
    },
    {
      "metadata": {
        "id": "1NvCsPhK_ya9",
        "colab_type": "code",
        "colab": {}
      },
      "cell_type": "code",
      "source": [
        "# Wall ordinal variable\n",
        "heads['walls'] = np.argmax(np.array(heads[['epared1', 'epared2', 'epared3']]),\n",
        "                           axis = 1)\n",
        "\n",
        "# heads = heads.drop(columns = ['epared1', 'epared2', 'epared3'])\n",
        "plot_categoricals('walls', 'Target', heads)"
      ],
      "execution_count": 0,
      "outputs": []
    },
    {
      "metadata": {
        "id": "lVwBzxI9_ya-",
        "colab_type": "code",
        "colab": {}
      },
      "cell_type": "code",
      "source": [
        "# Roof ordinal variable\n",
        "heads['roof'] = np.argmax(np.array(heads[['etecho1', 'etecho2', 'etecho3']]),\n",
        "                           axis = 1)\n",
        "heads = heads.drop(columns = ['etecho1', 'etecho2', 'etecho3'])\n",
        "\n",
        "# Floor ordinal variable\n",
        "heads['floor'] = np.argmax(np.array(heads[['eviv1', 'eviv2', 'eviv3']]),\n",
        "                           axis = 1)\n",
        "# heads = heads.drop(columns = ['eviv1', 'eviv2', 'eviv3'])"
      ],
      "execution_count": 0,
      "outputs": []
    },
    {
      "metadata": {
        "id": "0rumuQ1I_ybA",
        "colab_type": "text"
      },
      "cell_type": "markdown",
      "source": [
        "## Feature Construction\n",
        "\n",
        "In addition to mapping variables to ordinal features, we can also create entirely new features from the existing data, known as feature construction. For example, we can add up the previous three features we just created to get an overall measure of the quality of the house's structure."
      ]
    },
    {
      "metadata": {
        "id": "H4bHWquZ_ybA",
        "colab_type": "code",
        "colab": {}
      },
      "cell_type": "code",
      "source": [
        "# Create new feature\n",
        "heads['walls+roof+floor'] = heads['walls'] + heads['roof'] + heads['floor']\n",
        "\n",
        "plot_categoricals('walls+roof+floor', 'Target', heads, annotate=False)"
      ],
      "execution_count": 0,
      "outputs": []
    },
    {
      "metadata": {
        "id": "Ci8889GT_ybF",
        "colab_type": "text"
      },
      "cell_type": "markdown",
      "source": [
        "This new feature may be useful because it seems like a Target of 4 (the lowest poverty level) tends to have higher values of the 'house quality' variable. We can also look at this in a table to get the fine-grained details."
      ]
    },
    {
      "metadata": {
        "id": "0INTHF7R_ybF",
        "colab_type": "code",
        "colab": {}
      },
      "cell_type": "code",
      "source": [
        "counts = pd.DataFrame(heads.groupby(['walls+roof+floor'])['Target'].value_counts(normalize = True)).rename(columns = {'Target': 'Normalized Count'}).reset_index()\n",
        "counts.head()"
      ],
      "execution_count": 0,
      "outputs": []
    },
    {
      "metadata": {
        "id": "7gV1fusf_ybH",
        "colab_type": "text"
      },
      "cell_type": "markdown",
      "source": [
        "The next variable will be a `warning` about the quality of the house. It will be a negative value, with -1 point each for no toilet, electricity, floor, water service, and ceiling."
      ]
    },
    {
      "metadata": {
        "id": "4v0dcVmf_ybI",
        "colab_type": "code",
        "colab": {}
      },
      "cell_type": "code",
      "source": [
        "# No toilet, no electricity, no floor, no water service, no ceiling\n",
        "heads['warning'] = 1 * (heads['sanitario1'] + \n",
        "                         (heads['elec'] == 0) + \n",
        "                         heads['pisonotiene'] + \n",
        "                         heads['abastaguano'] + \n",
        "                         (heads['cielorazo'] == 0))"
      ],
      "execution_count": 0,
      "outputs": []
    },
    {
      "metadata": {
        "id": "024NB4bw_ybK",
        "colab_type": "text"
      },
      "cell_type": "markdown",
      "source": [
        "We can keep using our `plot_categoricals` function to visualize these relationships, but `seaborn` also has a number of plotting options that can work with categoricals. One is the `violinplot` which shows the distribution of a variable on the y axis with the width of each plot showing the number of observations in that category. "
      ]
    },
    {
      "metadata": {
        "id": "0ZVPoFRW_ybK",
        "colab_type": "code",
        "colab": {}
      },
      "cell_type": "code",
      "source": [
        "plt.figure(figsize = (10, 6))\n",
        "sns.violinplot(x = 'warning', y = 'Target', data = heads);\n",
        "plt.title('Target vs Warning Variable');"
      ],
      "execution_count": 0,
      "outputs": []
    },
    {
      "metadata": {
        "id": "U-V07MdE_ybM",
        "colab_type": "code",
        "colab": {}
      },
      "cell_type": "code",
      "source": [
        "plot_categoricals('warning', 'Target', data = heads)"
      ],
      "execution_count": 0,
      "outputs": []
    },
    {
      "metadata": {
        "id": "cWPFuomo_ybN",
        "colab_type": "text"
      },
      "cell_type": "markdown",
      "source": [
        "The violinplot is not great here because it smooths out the categorical variable with the effect that it looks as if the Target can take on lesser and greater values than in reality. Nonetheless, we can see a high concentration of households that have no warning signs and have the lowest level of poverty. It looks as if this may be a useful feature, but we can't know for sure until we get to modeling!"
      ]
    },
    {
      "metadata": {
        "id": "v73YvIAk_ybN",
        "colab_type": "text"
      },
      "cell_type": "markdown",
      "source": [
        "The final household feature we can make for now is a `bonus` where a family gets a point for having a refrigerator, computer, tablet, or television."
      ]
    },
    {
      "metadata": {
        "id": "KdMVhNhH_ybN",
        "colab_type": "code",
        "colab": {}
      },
      "cell_type": "code",
      "source": [
        "# Owns a refrigerator, computer, tablet, and television\n",
        "heads['bonus'] = 1 * (heads['refrig'] + \n",
        "                      heads['computer'] + \n",
        "                      (heads['v18q1'] > 0) + \n",
        "                      heads['television'])\n",
        "\n",
        "sns.violinplot('bonus', 'Target', data = heads,\n",
        "                figsize = (10, 6));\n",
        "plt.title('Target vs Bonus Variable');"
      ],
      "execution_count": 0,
      "outputs": []
    },
    {
      "metadata": {
        "id": "NUnLY-JF_ybQ",
        "colab_type": "text"
      },
      "cell_type": "markdown",
      "source": [
        "## Per Capita Features\n",
        "\n",
        "Additional features we can make calculate the number of certain measurements for each person in the household."
      ]
    },
    {
      "metadata": {
        "id": "Aqv0DAwi_ybS",
        "colab_type": "code",
        "colab": {}
      },
      "cell_type": "code",
      "source": [
        "heads['phones-per-capita'] = heads['qmobilephone'] / heads['tamviv']\n",
        "heads['tablets-per-capita'] = heads['v18q1'] / heads['tamviv']\n",
        "heads['rooms-per-capita'] = heads['rooms'] / heads['tamviv']\n",
        "heads['rent-per-capita'] = heads['v2a1'] / heads['tamviv']"
      ],
      "execution_count": 0,
      "outputs": []
    },
    {
      "metadata": {
        "id": "ZlPed87x_ybV",
        "colab_type": "text"
      },
      "cell_type": "markdown",
      "source": [
        "## Exploring Household Variables\n",
        "\n",
        "After going to all the trouble of getting our features in order, now we can take a look at them in relation to the Target. We've already done a little of this, but now we can try to quantify relationships.\n",
        "\n",
        "### Measuring Relationships\n",
        "\n",
        "There are many ways for measuring relationships between two variables. Here we will examine two of these:\n",
        "\n",
        "1. The Pearson Correlation: from -1 to 1 measuring the linear relationship between two variables\n",
        "2. The Spearman Correlation: from -1 to 1 measuring the monotonic relationship between two variables\n",
        "\n",
        "The Spearman correlation is 1 if as one variable increases, the other does as well, even if the relationship is not linear. On the other hand, the Pearson correlation can only be one if the increase is exactly linear. These are best illustrated by example."
      ]
    },
    {
      "metadata": {
        "id": "UykDxpKm_ybV",
        "colab_type": "code",
        "colab": {}
      },
      "cell_type": "code",
      "source": [
        "from scipy.stats import spearmanr"
      ],
      "execution_count": 0,
      "outputs": []
    },
    {
      "metadata": {
        "id": "Sll6g9Le_ybX",
        "colab_type": "code",
        "colab": {}
      },
      "cell_type": "code",
      "source": [
        "def plot_corrs(x, y):\n",
        "    \"\"\"Plot data and show the spearman and pearson correlation.\"\"\"\n",
        "    \n",
        "    # Calculate correlations\n",
        "    spr = spearmanr(x, y).correlation\n",
        "    pcr = np.corrcoef(x, y)[0, 1]\n",
        "    \n",
        "    # Scatter plot\n",
        "    data = pd.DataFrame({'x': x, 'y': y})\n",
        "    plt.figure( figsize = (6, 4))\n",
        "    sns.regplot('x', 'y', data = data, fit_reg = False);\n",
        "    plt.title(f'Spearman: {round(spr, 2)}; Pearson: {round(pcr, 2)}');"
      ],
      "execution_count": 0,
      "outputs": []
    },
    {
      "metadata": {
        "id": "vyd7tAxa_ybY",
        "colab_type": "code",
        "colab": {}
      },
      "cell_type": "code",
      "source": [
        "x = np.array(range(100))\n",
        "y = x ** 2\n",
        "\n",
        "plot_corrs(x, y)"
      ],
      "execution_count": 0,
      "outputs": []
    },
    {
      "metadata": {
        "id": "tWqEtaQU_ybZ",
        "colab_type": "text"
      },
      "cell_type": "markdown",
      "source": [
        "The Spearman correlation is often considered to be better for ordinal variables such as the Target or the years of education. Most relationshisp in the real world aren't linear, and although the Pearson correlation can be an approximation of how related two variables are, it's inexact and not the best method of comparison."
      ]
    },
    {
      "metadata": {
        "id": "6694xN3r_ybZ",
        "colab_type": "code",
        "colab": {}
      },
      "cell_type": "code",
      "source": [
        "x = np.array([1, 1, 1, 2, 3, 3, 4, 4, 4, 5, 5, 6, 7, 8, 8, 9, 9, 9])\n",
        "y = np.array([1, 2, 1, 1, 1, 1, 2, 2, 2, 2, 1, 3, 3, 2, 4, 2, 2, 4])\n",
        "\n",
        "plot_corrs(x, y)"
      ],
      "execution_count": 0,
      "outputs": []
    },
    {
      "metadata": {
        "id": "6Ld4MsnU_yba",
        "colab_type": "text"
      },
      "cell_type": "markdown",
      "source": [
        "In most cases, the values are very similar. "
      ]
    },
    {
      "metadata": {
        "id": "WnYaTw4x_yba",
        "colab_type": "code",
        "colab": {}
      },
      "cell_type": "code",
      "source": [
        "x = np.array(range(-19, 20))\n",
        "y = 2 * np.sin(x)\n",
        "\n",
        "plot_corrs(x, y)"
      ],
      "execution_count": 0,
      "outputs": []
    },
    {
      "metadata": {
        "id": "j9WWI2n4_ybd",
        "colab_type": "text"
      },
      "cell_type": "markdown",
      "source": [
        "First, we'll calculate the Pearson correlation of every variable with the Target."
      ]
    },
    {
      "metadata": {
        "id": "qvFZh3GM_ybd",
        "colab_type": "code",
        "colab": {}
      },
      "cell_type": "code",
      "source": [
        "# Use only training data\n",
        "train_heads = heads.loc[heads['Target'].notnull(), :].copy()\n",
        "\n",
        "pcorrs = pd.DataFrame(train_heads.corr()['Target'].sort_values()).rename(columns = {'Target': 'pcorr'}).reset_index()\n",
        "pcorrs = pcorrs.rename(columns = {'index': 'feature'})\n",
        "\n",
        "print('Most negatively correlated variables:')\n",
        "print(pcorrs.head())\n",
        "\n",
        "print('\\nMost positively correlated variables:')\n",
        "print(pcorrs.dropna().tail())"
      ],
      "execution_count": 0,
      "outputs": []
    },
    {
      "metadata": {
        "id": "GEOL00zv_ybf",
        "colab_type": "text"
      },
      "cell_type": "markdown",
      "source": [
        "For the negative correlations, as we increase the variable, the Target decreases indicating the poverty severity increases. Therefore, as the `warning` increases, the poverty level also increases which makes sense because this was meant to show potential bad signs about a house. The `hogar_nin` is the number of children 0 - 19 in the family which also makes sense: younger children can be financial source of stress on a family leading to higher levels of poverty. Or, families with lower socioeconomic status have more children in the hopes that one of them will be able to succeed. Whatever the explanation, there is a [real link between family size and poverty](https://www.adb.org/sites/default/files/publication/157217/adbi-rp68.pdf)\n",
        "\n",
        "On the other hand, for the positive correlations, a higher value means a higher value of Target indicating the poverty severity decreases. The most highly correlated household level variable is `meaneduc`, the average education level of the adults in the household. This relationship between education and poverty intuitively makes sense: [greater levels of education generally correlate with lower levels of poverty](https://www.childfund.org/poverty-and-education/). We don't necessarily know which causes which, but we do know these tend to move in the same direction.\n",
        "\n",
        "The general guidelines for correlation values are below, but these will change depending on who you ask ([source](http://www.statstutor.ac.uk/resources/uploaded/pearsons.pdf) for these):\n",
        "\n",
        "*  .00-.19 “very weak”\n",
        "*  .20-.39 “weak”\n",
        "*  .40-.59 “moderate”\n",
        "*  .60-.79 “strong”\n",
        "*  .80-1.0 “very strong”\n",
        "\n",
        "What these correlations show is that there are some weak relationships that hopefully our model will be able to use to learn a mapping from the features to the Target.\n",
        "\n",
        "Now we can move on to the Spearman correlation. "
      ]
    },
    {
      "metadata": {
        "id": "QVIwytJO_ybf",
        "colab_type": "code",
        "colab": {}
      },
      "cell_type": "code",
      "source": [
        "import warnings\n",
        "warnings.filterwarnings('ignore', category = RuntimeWarning)\n",
        "\n",
        "feats = []\n",
        "scorr = []\n",
        "pvalues = []\n",
        "\n",
        "# Iterate through each column\n",
        "for c in heads:\n",
        "    # Only valid for numbers\n",
        "    if heads[c].dtype != 'object':\n",
        "        feats.append(c)\n",
        "        \n",
        "        # Calculate spearman correlation\n",
        "        scorr.append(spearmanr(train_heads[c], train_heads['Target']).correlation)\n",
        "        pvalues.append(spearmanr(train_heads[c], train_heads['Target']).pvalue)\n",
        "\n",
        "scorrs = pd.DataFrame({'feature': feats, 'scorr': scorr, 'pvalue': pvalues}).sort_values('scorr')"
      ],
      "execution_count": 0,
      "outputs": []
    },
    {
      "metadata": {
        "id": "UAWBY5vm_ybg",
        "colab_type": "text"
      },
      "cell_type": "markdown",
      "source": [
        "The Spearman correlation coefficient calculation also comes with a `pvalue` indicating the significance level of the relationship. Any `pvalue` less than 0.05 is genearally regarded as significant, although since we are doing multiple comparisons, we want to divide the p-value by the number of comparisons, a process known as the Bonferroni correction. "
      ]
    },
    {
      "metadata": {
        "id": "sPYz40U4_ybh",
        "colab_type": "code",
        "colab": {}
      },
      "cell_type": "code",
      "source": [
        "print('Most negative Spearman correlations:')\n",
        "print(scorrs.head())\n",
        "print('\\nMost positive Spearman correlations:')\n",
        "print(scorrs.dropna().tail())"
      ],
      "execution_count": 0,
      "outputs": []
    },
    {
      "metadata": {
        "id": "mXSQMw6k_ybi",
        "colab_type": "text"
      },
      "cell_type": "markdown",
      "source": [
        "For the most part, the two methods of calculating correlations are in agreement. Just out of curiousity, we can look for the values that are furthest apart."
      ]
    },
    {
      "metadata": {
        "id": "3NMoTez0_ybj",
        "colab_type": "code",
        "colab": {}
      },
      "cell_type": "code",
      "source": [
        "corrs = pcorrs.merge(scorrs, on = 'feature')\n",
        "corrs['diff'] = corrs['pcorr'] - corrs['scorr']\n",
        "\n",
        "corrs.sort_values('diff').head()"
      ],
      "execution_count": 0,
      "outputs": []
    },
    {
      "metadata": {
        "id": "lrCGKDZQ_ybk",
        "colab_type": "code",
        "colab": {}
      },
      "cell_type": "code",
      "source": [
        "corrs.sort_values('diff').dropna().tail()"
      ],
      "execution_count": 0,
      "outputs": []
    },
    {
      "metadata": {
        "id": "QTR1pyq9_ybl",
        "colab_type": "text"
      },
      "cell_type": "markdown",
      "source": [
        "The largest discrepancy in the correlations is `dependency`. We can make a scatterplot of the `Target` versus the `dependency` to visualize the relationship. We'll add a little jitter to the plot because these are both discrete variables."
      ]
    },
    {
      "metadata": {
        "id": "ASmk9Wsj_ybl",
        "colab_type": "code",
        "colab": {}
      },
      "cell_type": "code",
      "source": [
        "sns.lmplot('dependency', 'Target', fit_reg = True, data = train_heads, x_jitter=0.05, y_jitter=0.05);\n",
        "plt.title('Target vs Dependency');"
      ],
      "execution_count": 0,
      "outputs": []
    },
    {
      "metadata": {
        "id": "jnxI6eG6_ybo",
        "colab_type": "text"
      },
      "cell_type": "markdown",
      "source": [
        "It's hard to see the relationship, but it's slightly negative: as the `dependency` increases, the value of the `Target` decreases. This makes sense: the `dependency` is the number of dependent individuals divided by the number of non-dependents. As we increase this value, the poverty severty tends to increase: having more dependent family members (who usually are non-working) leads to higher levels of poverty because they must be supported by the non-dependent family members. "
      ]
    },
    {
      "metadata": {
        "id": "zDwqJDQG_ybo",
        "colab_type": "code",
        "colab": {}
      },
      "cell_type": "code",
      "source": [
        "sns.lmplot('rooms-per-capita', 'Target', fit_reg = True, data = train_heads, x_jitter=0.05, y_jitter=0.05);\n",
        "plt.title('Target vs Rooms Per Capita');"
      ],
      "execution_count": 0,
      "outputs": []
    },
    {
      "metadata": {
        "id": "Nm4t4qI1_ybo",
        "colab_type": "text"
      },
      "cell_type": "markdown",
      "source": [
        "#### Correlation Heatmap \n",
        "\n",
        "One of my favorite plots is the correlation heatmap because it shows a ton of info in one image. For the heatmap, we'll pick 7 variables and show the correlations between themselves and with the target. "
      ]
    },
    {
      "metadata": {
        "id": "QcOKMyJk_ybp",
        "colab_type": "code",
        "colab": {}
      },
      "cell_type": "code",
      "source": [
        "variables = ['Target', 'dependency', 'warning', 'walls+roof+floor', 'meaneduc',\n",
        "             'floor', 'r4m1', 'overcrowding']\n",
        "\n",
        "# Calculate the correlations\n",
        "corr_mat = train_heads[variables].corr().round(2)\n",
        "\n",
        "# Draw a correlation heatmap\n",
        "plt.rcParams['font.size'] = 18\n",
        "plt.figure(figsize = (12, 12))\n",
        "sns.heatmap(corr_mat, vmin = -0.5, vmax = 0.8, center = 0, \n",
        "            cmap = plt.cm.RdYlGn_r, annot = True);"
      ],
      "execution_count": 0,
      "outputs": []
    },
    {
      "metadata": {
        "id": "2fNESexd_ybq",
        "colab_type": "text"
      },
      "cell_type": "markdown",
      "source": [
        "This plot shows us that there are a number of variables that have a weak correlation with the `Target`. There are also high correlations between some variables (such as `floor` and `walls+roof+floor`) which could pose an issue because of collinearity. \n",
        "\n",
        "### Features Plot\n",
        "\n",
        "For the final exploration of the household level data, we can make a plot of some of the most correlated variables with the Target. This shows scatterplots on the upper triangle, kernel density estimate (kde) plots on the diagonal, and 2D KDE plots on the lower triangle."
      ]
    },
    {
      "metadata": {
        "id": "QMo4Vkpy_ybq",
        "colab_type": "code",
        "colab": {}
      },
      "cell_type": "code",
      "source": [
        "import warnings\n",
        "warnings.filterwarnings('ignore')\n",
        "\n",
        "# Copy the data for plotting\n",
        "plot_data = train_heads[['Target', 'dependency', 'walls+roof+floor',\n",
        "                         'meaneduc', 'overcrowding']]\n",
        "\n",
        "# Create the pairgrid object\n",
        "grid = sns.PairGrid(data = plot_data, size = 4, diag_sharey=False,\n",
        "                    hue = 'Target', hue_order = [4, 3, 2, 1], \n",
        "                    vars = [x for x in list(plot_data.columns) if x != 'Target'])\n",
        "\n",
        "# Upper is a scatter plot\n",
        "grid.map_upper(plt.scatter, alpha = 0.8, s = 20)\n",
        "\n",
        "# Diagonal is a histogram\n",
        "grid.map_diag(sns.kdeplot)\n",
        "\n",
        "# Bottom is density plot\n",
        "grid.map_lower(sns.kdeplot, cmap = plt.cm.OrRd_r);\n",
        "grid = grid.add_legend()\n",
        "plt.suptitle('Feature Plots Colored By Target', size = 32, y = 1.05);"
      ],
      "execution_count": 0,
      "outputs": []
    },
    {
      "metadata": {
        "id": "eMcfPoNR_ybr",
        "colab_type": "text"
      },
      "cell_type": "markdown",
      "source": [
        "We'll leave the feature engineering of the household variables for now. Later, we can come back to this step if we are not pleased with the model performance."
      ]
    },
    {
      "metadata": {
        "id": "Odm-9wsi_ybr",
        "colab_type": "code",
        "colab": {}
      },
      "cell_type": "code",
      "source": [
        "household_feats = list(heads.columns)"
      ],
      "execution_count": 0,
      "outputs": []
    },
    {
      "metadata": {
        "id": "R1gDd2H1_ybs",
        "colab_type": "text"
      },
      "cell_type": "markdown",
      "source": [
        "# Individual Level Variables\n",
        "\n",
        "There are two types of individual level variables: Boolean (1 or 0 for True or False) and ordinal (discrete values with a meaningful ordering). "
      ]
    },
    {
      "metadata": {
        "id": "yTtKaq4m_ybs",
        "colab_type": "code",
        "colab": {}
      },
      "cell_type": "code",
      "source": [
        "ind = data[id_ + ind_bool + ind_ordered]\n",
        "ind.shape"
      ],
      "execution_count": 0,
      "outputs": []
    },
    {
      "metadata": {
        "id": "WJSQbY9m_ybw",
        "colab_type": "text"
      },
      "cell_type": "markdown",
      "source": [
        "## Redundant Individual Variables\n",
        "\n",
        "We can do the same process we did with the household level variables to identify any redundant individual variables. We'll focus on any variables that have an absolute magnitude of the correlation coefficient greater than 0.95."
      ]
    },
    {
      "metadata": {
        "id": "PEX4O-m-_ybw",
        "colab_type": "code",
        "colab": {}
      },
      "cell_type": "code",
      "source": [
        "# Create correlation matrix\n",
        "corr_matrix = ind.corr()\n",
        "\n",
        "# Select upper triangle of correlation matrix\n",
        "upper = corr_matrix.where(np.triu(np.ones(corr_matrix.shape), k=1).astype(np.bool))\n",
        "\n",
        "# Find index of feature columns with correlation greater than 0.95\n",
        "to_drop = [column for column in upper.columns if any(abs(upper[column]) > 0.95)]\n",
        "\n",
        "to_drop"
      ],
      "execution_count": 0,
      "outputs": []
    },
    {
      "metadata": {
        "id": "KydvovAt_ybz",
        "colab_type": "text"
      },
      "cell_type": "markdown",
      "source": [
        "This is simply the opposite of male! We can remove the male flag."
      ]
    },
    {
      "metadata": {
        "id": "3LClpw1Z_ybz",
        "colab_type": "code",
        "colab": {}
      },
      "cell_type": "code",
      "source": [
        "ind = ind.drop(columns = 'male')"
      ],
      "execution_count": 0,
      "outputs": []
    },
    {
      "metadata": {
        "id": "ZTCKRv3H_ybz",
        "colab_type": "text"
      },
      "cell_type": "markdown",
      "source": [
        "### Creating Ordinal Variables\n",
        "\n",
        "Much as we did with the household level data, we can map existing columns to an ordinal variable. Here we will focus on the `instlevel_` variables which indicate the amount of education an individual has from `instlevel1`: no level of education to `instlevel9`: postgraduate education. \n",
        "\n",
        "To create the ordinal variable, for each individual, we will simply find which column is non-zero. The education has an inherent ordering (higher is better) so this conversion to an ordinal variable makes sense in the problem context."
      ]
    },
    {
      "metadata": {
        "id": "6CyaXGPD_yb0",
        "colab_type": "code",
        "colab": {}
      },
      "cell_type": "code",
      "source": [
        "ind[[c for c in ind if c.startswith('instl')]].head()"
      ],
      "execution_count": 0,
      "outputs": []
    },
    {
      "metadata": {
        "id": "qvS3lHdN_yb2",
        "colab_type": "code",
        "colab": {}
      },
      "cell_type": "code",
      "source": [
        "ind['inst'] = np.argmax(np.array(ind[[c for c in ind if c.startswith('instl')]]), axis = 1)\n",
        "\n",
        "plot_categoricals('inst', 'Target', ind, annotate = False);"
      ],
      "execution_count": 0,
      "outputs": []
    },
    {
      "metadata": {
        "id": "eEHmbht8_yb3",
        "colab_type": "text"
      },
      "cell_type": "markdown",
      "source": [
        "Higher levels of education seem to correspond to less extreme levels of poverty. We do need to keep in mind this is on an individual level though and we eventually will have to aggregate this data at the household level. "
      ]
    },
    {
      "metadata": {
        "id": "5MRht_VC_yb3",
        "colab_type": "code",
        "colab": {}
      },
      "cell_type": "code",
      "source": [
        "plt.figure(figsize = (10, 8))\n",
        "sns.violinplot(x = 'Target', y = 'inst', data = ind);\n",
        "plt.title('Education Distribution by Target');"
      ],
      "execution_count": 0,
      "outputs": []
    },
    {
      "metadata": {
        "id": "oIxdm7I4_yb6",
        "colab_type": "code",
        "colab": {}
      },
      "cell_type": "code",
      "source": [
        "# Drop the education columns\n",
        "# ind = ind.drop(columns = [c for c in ind if c.startswith('instlevel')])\n",
        "ind.shape"
      ],
      "execution_count": 0,
      "outputs": []
    },
    {
      "metadata": {
        "id": "zlK2t9Pf_yb-",
        "colab_type": "text"
      },
      "cell_type": "markdown",
      "source": [
        "### Feature Construction\n",
        "\n",
        "We can make a few features using the existing data. For example, we can divide the years of schooling by the age."
      ]
    },
    {
      "metadata": {
        "id": "6NtE0AvA_yb_",
        "colab_type": "code",
        "colab": {}
      },
      "cell_type": "code",
      "source": [
        "ind['escolari/age'] = ind['escolari'] / ind['age']\n",
        "\n",
        "plt.figure(figsize = (10, 8))\n",
        "sns.violinplot('Target', 'escolari/age', data = ind);"
      ],
      "execution_count": 0,
      "outputs": []
    },
    {
      "metadata": {
        "id": "evLHRXWO_ycD",
        "colab_type": "text"
      },
      "cell_type": "markdown",
      "source": [
        "We can also take our new variable, `inst`, and divide this by the age. The final variable we'll name `tech`: this represents the combination of tablet and mobile phones."
      ]
    },
    {
      "metadata": {
        "id": "aSA1assH_ycD",
        "colab_type": "code",
        "colab": {}
      },
      "cell_type": "code",
      "source": [
        "ind['inst/age'] = ind['inst'] / ind['age']\n",
        "ind['tech'] = ind['v18q'] + ind['mobilephone']\n",
        "ind['tech'].describe()"
      ],
      "execution_count": 0,
      "outputs": []
    },
    {
      "metadata": {
        "id": "3OojssCP_ycE",
        "colab_type": "text"
      },
      "cell_type": "markdown",
      "source": [
        "## Feature Engineering through Aggregations\n",
        "\n",
        "In order to incorporate the individual data into the household data, we need to aggregate it for each household. The simplest way to do this is to `groupby` the family id `idhogar` and then `agg` the data. For the aggregations for ordered or continuous variables, we can use six, five of which are built in to pandas, and one of which we define ourselves `range_`. The boolean aggregations can be the same, but this will create many redundant columns which we will then need to drop. For this case, we'll use the same aggregations and then go back and drop the redundant columns."
      ]
    },
    {
      "metadata": {
        "id": "nY74dZD1_ycF",
        "colab_type": "code",
        "colab": {}
      },
      "cell_type": "code",
      "source": [
        "# Define custom function\n",
        "range_ = lambda x: x.max() - x.min()\n",
        "range_.__name__ = 'range_'\n",
        "\n",
        "# Group and aggregate\n",
        "ind_agg = ind.drop(columns = 'Target').groupby('idhogar').agg(['min', 'max', 'sum', 'count', 'std', range_])\n",
        "ind_agg.head()"
      ],
      "execution_count": 0,
      "outputs": []
    },
    {
      "metadata": {
        "id": "jgU6gDDw_ycH",
        "colab_type": "text"
      },
      "cell_type": "markdown",
      "source": [
        "With just that one line, we go from 30 features to 180. Next we can rename the columns to make it easier to keep track."
      ]
    },
    {
      "metadata": {
        "id": "wyVhyBfQ_ycH",
        "colab_type": "code",
        "colab": {}
      },
      "cell_type": "code",
      "source": [
        "# Rename the columns\n",
        "new_col = []\n",
        "for c in ind_agg.columns.levels[0]:\n",
        "    for stat in ind_agg.columns.levels[1]:\n",
        "        new_col.append(f'{c}-{stat}')\n",
        "        \n",
        "ind_agg.columns = new_col\n",
        "ind_agg.head()"
      ],
      "execution_count": 0,
      "outputs": []
    },
    {
      "metadata": {
        "id": "zQnpHrO-_ycJ",
        "colab_type": "code",
        "colab": {}
      },
      "cell_type": "code",
      "source": [
        "ind_agg.iloc[:, [0, 1, 2, 3, 6, 7, 8, 9]].head()"
      ],
      "execution_count": 0,
      "outputs": []
    },
    {
      "metadata": {
        "id": "I51yDE_E_ycL",
        "colab_type": "text"
      },
      "cell_type": "markdown",
      "source": [
        "### Feature Selection \n",
        "\n",
        "As a first round of feature selection, we can remove one out of every pair of variables with a correlation greater than 0.95. "
      ]
    },
    {
      "metadata": {
        "id": "e3jjJx63_ycL",
        "colab_type": "code",
        "colab": {}
      },
      "cell_type": "code",
      "source": [
        "# Create correlation matrix\n",
        "corr_matrix = ind_agg.corr()\n",
        "\n",
        "# Select upper triangle of correlation matrix\n",
        "upper = corr_matrix.where(np.triu(np.ones(corr_matrix.shape), k=1).astype(np.bool))\n",
        "\n",
        "# Find index of feature columns with correlation greater than 0.95\n",
        "to_drop = [column for column in upper.columns if any(abs(upper[column]) > 0.95)]\n",
        "\n",
        "print(f'There are {len(to_drop)} correlated columns to remove.')"
      ],
      "execution_count": 0,
      "outputs": []
    },
    {
      "metadata": {
        "id": "y2qiE0S1_ycM",
        "colab_type": "text"
      },
      "cell_type": "markdown",
      "source": [
        "We'll drop the columns and then merge with the `heads` data to create a final dataframe."
      ]
    },
    {
      "metadata": {
        "id": "CszHusIWL-yE",
        "colab_type": "code",
        "colab": {}
      },
      "cell_type": "code",
      "source": [
        "#ind_agg = ind_agg.drop(columns = to_drop)\n",
        "ind_feats = list(ind_agg.columns)"
      ],
      "execution_count": 0,
      "outputs": []
    },
    {
      "metadata": {
        "id": "RKiAccfnXCmd",
        "colab_type": "code",
        "colab": {}
      },
      "cell_type": "code",
      "source": [
        "print(ind_agg)\n"
      ],
      "execution_count": 0,
      "outputs": []
    },
    {
      "metadata": {
        "id": "oSrhfXgPWtz2",
        "colab_type": "code",
        "colab": {}
      },
      "cell_type": "code",
      "source": [
        "print(ind_feats)"
      ],
      "execution_count": 0,
      "outputs": []
    },
    {
      "metadata": {
        "id": "aZsXkfUmXG31",
        "colab_type": "code",
        "colab": {}
      },
      "cell_type": "code",
      "source": [
        "print(heads)"
      ],
      "execution_count": 0,
      "outputs": []
    },
    {
      "metadata": {
        "id": "sCLb-Zwh_ycN",
        "colab_type": "code",
        "colab": {}
      },
      "cell_type": "code",
      "source": [
        "# Merge on the household id\n",
        "final = heads.merge(ind_agg, how='left', on='idhogar')\n",
        "\n",
        "print('Final features shape: ', final.shape)"
      ],
      "execution_count": 0,
      "outputs": []
    },
    {
      "metadata": {
        "id": "3jdFkl0h_ycO",
        "colab_type": "code",
        "colab": {}
      },
      "cell_type": "code",
      "source": [
        "final.head()"
      ],
      "execution_count": 0,
      "outputs": []
    },
    {
      "metadata": {
        "id": "Q0X4ZqzE_ycP",
        "colab_type": "text"
      },
      "cell_type": "markdown",
      "source": [
        "### Final Data Exploration\n",
        "\n",
        "We'll do a little bit of exploration. "
      ]
    },
    {
      "metadata": {
        "id": "PMv_Vc7q_ycP",
        "colab_type": "code",
        "colab": {}
      },
      "cell_type": "code",
      "source": [
        "corrs = final.corr()['Target']"
      ],
      "execution_count": 0,
      "outputs": []
    },
    {
      "metadata": {
        "id": "hUHyw-1v_ycQ",
        "colab_type": "code",
        "colab": {}
      },
      "cell_type": "code",
      "source": [
        "corrs.sort_values().head()"
      ],
      "execution_count": 0,
      "outputs": []
    },
    {
      "metadata": {
        "id": "J_x9I4YB_ycS",
        "colab_type": "code",
        "colab": {}
      },
      "cell_type": "code",
      "source": [
        "corrs.sort_values().dropna().tail()"
      ],
      "execution_count": 0,
      "outputs": []
    },
    {
      "metadata": {
        "id": "XBOtxYwU_ycT",
        "colab_type": "text"
      },
      "cell_type": "markdown",
      "source": [
        "We can see some of the variables that we made are highly correlated with the Target. Whether these variables are actually _useful_ will be determined in the modeling stage. "
      ]
    },
    {
      "metadata": {
        "id": "BPIw-VMU_ycT",
        "colab_type": "code",
        "colab": {}
      },
      "cell_type": "code",
      "source": [
        "plot_categoricals('escolari-max', 'Target', final, annotate=False);"
      ],
      "execution_count": 0,
      "outputs": []
    },
    {
      "metadata": {
        "id": "FZTw78M3_ycU",
        "colab_type": "code",
        "colab": {}
      },
      "cell_type": "code",
      "source": [
        "plt.figure(figsize = (10, 6))\n",
        "sns.violinplot(x = 'Target', y = 'escolari-max', data = final);\n",
        "plt.title('Max Schooling by Target');"
      ],
      "execution_count": 0,
      "outputs": []
    },
    {
      "metadata": {
        "id": "dgFoyRJh_ycW",
        "colab_type": "code",
        "colab": {}
      },
      "cell_type": "code",
      "source": [
        "plt.figure(figsize = (10, 6))\n",
        "sns.boxplot(x = 'Target', y = 'escolari-max', data = final);\n",
        "plt.title('Max Schooling by Target');"
      ],
      "execution_count": 0,
      "outputs": []
    },
    {
      "metadata": {
        "id": "1di3mUaq_ycX",
        "colab_type": "code",
        "colab": {}
      },
      "cell_type": "code",
      "source": [
        "plt.figure(figsize = (10, 6))\n",
        "sns.boxplot(x = 'Target', y = 'meaneduc', data = final);\n",
        "plt.xticks([0, 1, 2, 3], poverty_mapping.values())\n",
        "plt.title('Average Schooling by Target');"
      ],
      "execution_count": 0,
      "outputs": []
    },
    {
      "metadata": {
        "id": "hBP5sPUU_ycY",
        "colab_type": "code",
        "colab": {}
      },
      "cell_type": "code",
      "source": [
        "plt.figure(figsize = (10, 6))\n",
        "sns.boxplot(x = 'Target', y = 'overcrowding', data = final);\n",
        "plt.xticks([0, 1, 2, 3], poverty_mapping.values())\n",
        "plt.title('Overcrowding by Target');"
      ],
      "execution_count": 0,
      "outputs": []
    },
    {
      "metadata": {
        "id": "NvihX4G7_ycZ",
        "colab_type": "text"
      },
      "cell_type": "markdown",
      "source": [
        "One other feature that might be useful is the gender of the head of household. Since we aggregated the data, we'll have to go back to the individual level data and find the gender for the head of household."
      ]
    },
    {
      "metadata": {
        "id": "AkV5kn_d_ycZ",
        "colab_type": "code",
        "colab": {}
      },
      "cell_type": "code",
      "source": [
        "head_gender = ind.loc[ind['parentesco1'] == 1, ['idhogar', 'female']]\n",
        "final = final.merge(head_gender, on = 'idhogar', how = 'left').rename(columns = {'female': 'female-head'})"
      ],
      "execution_count": 0,
      "outputs": []
    },
    {
      "metadata": {
        "id": "0nfFklfk_yca",
        "colab_type": "code",
        "colab": {}
      },
      "cell_type": "code",
      "source": [
        "final.groupby('female-head')['Target'].value_counts(normalize=True)"
      ],
      "execution_count": 0,
      "outputs": []
    },
    {
      "metadata": {
        "id": "Yp4dLNOJ_ycg",
        "colab_type": "text"
      },
      "cell_type": "markdown",
      "source": [
        "It looks like households where the head is female are slightly more likely to have a severe level of poverty."
      ]
    },
    {
      "metadata": {
        "id": "tUZTqyXD_ycg",
        "colab_type": "code",
        "colab": {}
      },
      "cell_type": "code",
      "source": [
        "sns.violinplot(x = 'female-head', y = 'Target', data = final);\n",
        "plt.title('Target by Female Head of Household');"
      ],
      "execution_count": 0,
      "outputs": []
    },
    {
      "metadata": {
        "id": "f2PdwtiS_yci",
        "colab_type": "text"
      },
      "cell_type": "markdown",
      "source": [
        "We can also look at the difference in average education by whether or not the family has a female head of household."
      ]
    },
    {
      "metadata": {
        "id": "nGk2qWE4_yci",
        "colab_type": "code",
        "colab": {}
      },
      "cell_type": "code",
      "source": [
        "plt.figure(figsize = (8, 8))\n",
        "sns.boxplot(x = 'Target', y = 'meaneduc', hue = 'female-head', data = final);\n",
        "plt.title('Average Education by Target and Female Head of Household', size = 16);"
      ],
      "execution_count": 0,
      "outputs": []
    },
    {
      "metadata": {
        "id": "zAWOrxuz_yci",
        "colab_type": "text"
      },
      "cell_type": "markdown",
      "source": [
        "It looks like at every value of the `Target`, households with female heads have higher levels of education. Yet, we saw that overall, households with female heads are more likely to have severe poverty. "
      ]
    },
    {
      "metadata": {
        "id": "f4qaVbuy_yci",
        "colab_type": "code",
        "colab": {}
      },
      "cell_type": "code",
      "source": [
        "final.groupby('female-head')['meaneduc'].agg(['mean', 'count'])"
      ],
      "execution_count": 0,
      "outputs": []
    },
    {
      "metadata": {
        "id": "Z625URq5_ycj",
        "colab_type": "text"
      },
      "cell_type": "markdown",
      "source": [
        "Overall, the average education of households with female heads is slightly higher than those with male heads. I'm not too sure what to make of this, but it seems right to me."
      ]
    },
    {
      "metadata": {
        "id": "SAJ5zKIT_ycj",
        "colab_type": "text"
      },
      "cell_type": "markdown",
      "source": [
        "# Machine Learning Modeling\n",
        "\n",
        "Once feature engineering/construction is done, we can get started with the machine learning! All of our data (both training and testing) is aggregated for each household and so can be directly used in a model. To first show the process of modeling, we'll use the capable Random Forest Classifier in Scikit-Learn. This probably won't get us to the top of the leaderboard, but it will allow us to establish a baseline. Later we'll try several other models including the powerful Gradient Boosting Machine.\n",
        "\n",
        "To assess our model, we'll use 10-fold cross validation on the training data. This will essentially _train and test the model 10 times_ using different splits of the training data. 10-fold cross validation is an effective method for estimating the performance of a model on the test set. We want to look at the average performance in cross validation as well as the standard deviation to see how much scores change between the folds. We use the `F1 Macro` measure to evaluate performance."
      ]
    },
    {
      "metadata": {
        "id": "ObtVmdEG_ycj",
        "colab_type": "code",
        "colab": {}
      },
      "cell_type": "code",
      "source": [
        "from sklearn.ensemble import RandomForestClassifier\n",
        "from sklearn.metrics import f1_score, make_scorer\n",
        "from sklearn.model_selection import cross_val_score\n",
        "from sklearn.preprocessing import Imputer\n",
        "from sklearn.preprocessing import MinMaxScaler\n",
        "from sklearn.pipeline import Pipeline\n",
        "\n",
        "# Custom scorer for cross validation\n",
        "scorer = make_scorer(f1_score, greater_is_better=True, average = 'macro')"
      ],
      "execution_count": 0,
      "outputs": []
    },
    {
      "metadata": {
        "id": "Q-MwWtty_yck",
        "colab_type": "code",
        "colab": {}
      },
      "cell_type": "code",
      "source": [
        "# Labels for training\n",
        "train_labels = np.array(list(final[final['Target'].notnull()]['Target'].astype(np.uint8)))\n",
        "\n",
        "# Extract the training data\n",
        "train_set = final[final['Target'].notnull()].drop(columns = ['Id', 'idhogar', 'Target'])\n",
        "test_set = final[final['Target'].isnull()].drop(columns = ['Id', 'idhogar', 'Target'])\n",
        "\n",
        "# Submission base which is used for making submissions to the competition\n",
        "submission_base = test[['Id', 'idhogar']].copy()"
      ],
      "execution_count": 0,
      "outputs": []
    },
    {
      "metadata": {
        "id": "WkyrJJqL_ycn",
        "colab_type": "text"
      },
      "cell_type": "markdown",
      "source": [
        "Because we are going to be comparing different models, we want to scale the features (limit the range of each column to between 0 and 1). For many ensemble models this is not necessary, but when we use models that depend on a distance metric, such as KNearest Neighbors or the Support Vector Machine, feature scaling is an absolute necessity. When comparing different models, it's always safest to scale the features. We also impute the missing values with the median of the feature.\n",
        "\n",
        "For imputing missing values and scaling the features in one step, we can make a pipeline. This will be fit on the training data and used to transform the training and testing data."
      ]
    },
    {
      "metadata": {
        "id": "9foh760m_ycn",
        "colab_type": "code",
        "colab": {}
      },
      "cell_type": "code",
      "source": [
        "features = list(train_set.columns)\n",
        "\n",
        "pipeline = Pipeline([('imputer', Imputer(strategy = 'median')), \n",
        "                      ('scaler', MinMaxScaler())])\n",
        "\n",
        "# Fit and transform training data\n",
        "train_set = pipeline.fit_transform(train_set)\n",
        "test_set = pipeline.transform(test_set)"
      ],
      "execution_count": 0,
      "outputs": []
    },
    {
      "metadata": {
        "id": "8to-i663_ycn",
        "colab_type": "text"
      },
      "cell_type": "markdown",
      "source": [
        "The data has no missing values and is scaled between zero and one. This means it can be directly used in any Scikit-Learn model. "
      ]
    },
    {
      "metadata": {
        "id": "26vZVExO_yco",
        "colab_type": "code",
        "colab": {}
      },
      "cell_type": "code",
      "source": [
        "model = RandomForestClassifier(n_estimators=100, random_state=10, \n",
        "                               n_jobs = -1)\n",
        "# 10 fold cross validation\n",
        "cv_score = cross_val_score(model, train_set, train_labels, cv = 10, scoring = scorer)\n",
        "\n",
        "print(f'10 Fold Cross Validation F1 Score = {round(cv_score.mean(), 4)} with std = {round(cv_score.std(), 4)}')"
      ],
      "execution_count": 0,
      "outputs": []
    },
    {
      "metadata": {
        "id": "Ym7AmoQC_ycq",
        "colab_type": "text"
      },
      "cell_type": "markdown",
      "source": [
        "That score is not great, but it will serve as a baseline and leaves us plenty of room to improve! "
      ]
    },
    {
      "metadata": {
        "id": "PdcAxhJ4_ycq",
        "colab_type": "text"
      },
      "cell_type": "markdown",
      "source": [
        "## Feature Importances\n",
        "\n",
        "With a tree-based model, we can look at the feature importances which show a relative ranking of the usefulness of features in the model. These represent the sum of the reduction in impurity at nodes that used the variable for splitting, but we don't have to pay much attention to the absolute value. Instead we'll focus on relative scores.\n",
        "\n",
        "If we want to view the feature importances, we'll have to train a model on the whole training set. Cross validation does not return the feature importances. "
      ]
    },
    {
      "metadata": {
        "id": "_mZfWir__ycq",
        "colab_type": "code",
        "colab": {}
      },
      "cell_type": "code",
      "source": [
        "model.fit(train_set, train_labels)\n",
        "\n",
        "# Feature importances into a dataframe\n",
        "feature_importances = pd.DataFrame({'feature': features, 'importance': model.feature_importances_})\n",
        "feature_importances.head()"
      ],
      "execution_count": 0,
      "outputs": []
    },
    {
      "metadata": {
        "id": "Sz4O-JoY_ycs",
        "colab_type": "text"
      },
      "cell_type": "markdown",
      "source": [
        "Below is a short function we'll use to plot the feature importances. I use this function a lot and often copy and paste it between scripts. I hope the documentation makes sense! "
      ]
    },
    {
      "metadata": {
        "id": "CzYu0wZr_yct",
        "colab_type": "code",
        "colab": {}
      },
      "cell_type": "code",
      "source": [
        "def plot_feature_importances(df, n = 10, threshold = None):\n",
        "    \"\"\"Plots n most important features. Also plots the cumulative importance if\n",
        "    threshold is specified and prints the number of features needed to reach threshold cumulative importance.\n",
        "    Intended for use with any tree-based feature importances. \n",
        "    \n",
        "    Args:\n",
        "        df (dataframe): Dataframe of feature importances. Columns must be \"feature\" and \"importance\".\n",
        "    \n",
        "        n (int): Number of most important features to plot. Default is 15.\n",
        "    \n",
        "        threshold (float): Threshold for cumulative importance plot. If not provided, no plot is made. Default is None.\n",
        "        \n",
        "    Returns:\n",
        "        df (dataframe): Dataframe ordered by feature importances with a normalized column (sums to 1) \n",
        "                        and a cumulative importance column\n",
        "    \n",
        "    Note:\n",
        "    \n",
        "        * Normalization in this case means sums to 1. \n",
        "        * Cumulative importance is calculated by summing features from most to least important\n",
        "        * A threshold of 0.9 will show the most important features needed to reach 90% of cumulative importance\n",
        "    \n",
        "    \"\"\"\n",
        "    plt.style.use('fivethirtyeight')\n",
        "    \n",
        "    # Sort features with most important at the head\n",
        "    df = df.sort_values('importance', ascending = False).reset_index(drop = True)\n",
        "    \n",
        "    # Normalize the feature importances to add up to one and calculate cumulative importance\n",
        "    df['importance_normalized'] = df['importance'] / df['importance'].sum()\n",
        "    df['cumulative_importance'] = np.cumsum(df['importance_normalized'])\n",
        "    \n",
        "    plt.rcParams['font.size'] = 12\n",
        "    \n",
        "    # Bar plot of n most important features\n",
        "    df.loc[:n, :].plot.barh(y = 'importance_normalized', \n",
        "                            x = 'feature', color = 'darkgreen', \n",
        "                            edgecolor = 'k', figsize = (12, 8),\n",
        "                            legend = False, linewidth = 2)\n",
        "\n",
        "    plt.xlabel('Normalized Importance', size = 18); plt.ylabel(''); \n",
        "    plt.title(f'{n} Most Important Features', size = 18)\n",
        "    plt.gca().invert_yaxis()\n",
        "    \n",
        "    \n",
        "    if threshold:\n",
        "        # Cumulative importance plot\n",
        "        plt.figure(figsize = (8, 6))\n",
        "        plt.plot(list(range(len(df))), df['cumulative_importance'], 'b-')\n",
        "        plt.xlabel('Number of Features', size = 16); plt.ylabel('Cumulative Importance', size = 16); \n",
        "        plt.title('Cumulative Feature Importance', size = 18);\n",
        "        \n",
        "        # Number of features needed for threshold cumulative importance\n",
        "        # This is the index (will need to add 1 for the actual number)\n",
        "        importance_index = np.min(np.where(df['cumulative_importance'] > threshold))\n",
        "        \n",
        "        # Add vertical line to plot\n",
        "        plt.vlines(importance_index + 1, ymin = 0, ymax = 1.05, linestyles = '--', colors = 'red')\n",
        "        plt.show();\n",
        "        \n",
        "        print('{} features required for {:.0f}% of cumulative importance.'.format(importance_index + 1, \n",
        "                                                                                  100 * threshold))\n",
        "    \n",
        "    return df\n"
      ],
      "execution_count": 0,
      "outputs": []
    },
    {
      "metadata": {
        "id": "uKuvjW-k_yct",
        "colab_type": "code",
        "colab": {}
      },
      "cell_type": "code",
      "source": [
        "norm_fi = plot_feature_importances(feature_importances, threshold=0.95)"
      ],
      "execution_count": 0,
      "outputs": []
    },
    {
      "metadata": {
        "id": "ZJ2iGqLH_ycw",
        "colab_type": "text"
      },
      "cell_type": "markdown",
      "source": [
        "__Education reigns supreme!__ The most important variable is the average amount of education in the household, followed by the maximum education of anyone in the household.  I have a suspicion these variables are highly correlated (collinear) which means we may want to remove one of them from the data. The other most important features are a combination of variables we created and variables that were already present in the data. \n",
        "\n",
        "It's interesting that we only need 106 of the ~180 features to account for 90% of the importance. This tells us that we may be able to remove some of the features. However, feature importances don't tell us which direction of the feature is important (for example, we can't use these to tell whether more or less education leads to more severe poverty) they only tell us which features the model considered relevant. "
      ]
    },
    {
      "metadata": {
        "id": "BVVFf1oo_ycw",
        "colab_type": "code",
        "colab": {}
      },
      "cell_type": "code",
      "source": [
        "def kde_target(df, variable):\n",
        "    \"\"\"Plots the distribution of `variable` in `df` colored by the `Target` column\"\"\"\n",
        "    \n",
        "    colors = {1: 'red', 2: 'orange', 3: 'blue', 4: 'green'}\n",
        "\n",
        "    plt.figure(figsize = (12, 8))\n",
        "    \n",
        "    df = df[df['Target'].notnull()]\n",
        "    \n",
        "    for level in df['Target'].unique():\n",
        "        subset = df[df['Target'] == level].copy()\n",
        "        sns.kdeplot(subset[variable].dropna(), \n",
        "                    label = f'Poverty Level: {level}', \n",
        "                    color = colors[int(subset['Target'].unique())])\n",
        "\n",
        "    plt.xlabel(variable); plt.ylabel('Density');\n",
        "    plt.title('{} Distribution'.format(variable.capitalize()));"
      ],
      "execution_count": 0,
      "outputs": []
    },
    {
      "metadata": {
        "id": "pzSKIGlY_ycx",
        "colab_type": "code",
        "colab": {}
      },
      "cell_type": "code",
      "source": [
        "kde_target(final, 'meaneduc')"
      ],
      "execution_count": 0,
      "outputs": []
    },
    {
      "metadata": {
        "id": "sDc1CmQ__ycz",
        "colab_type": "code",
        "colab": {}
      },
      "cell_type": "code",
      "source": [
        "kde_target(final, 'escolari/age-range_')"
      ],
      "execution_count": 0,
      "outputs": []
    },
    {
      "metadata": {
        "id": "zkFSzSFz_yc0",
        "colab_type": "text"
      },
      "cell_type": "markdown",
      "source": [
        "# Model Selection\n",
        "\n",
        "Now that we have a good set of features, it's time to get into the modeling. We already tried one basic model, the Random Forest Classifier which delivered a best macro F1 of 0.35. However, in machine learning, there is no way to know ahead of time which model will work best for a given dataset. The following plot shows that __there are some problems where even Gaussian Naive Bayes will outperform a gradient boosting machine__. This is from [an excellent paper by Randal Olson that discusses many points of machine learning](https://psb.stanford.edu/psb-online/proceedings/psb18/olson.pdf)\n",
        "\n",
        "![algorithm_comparison](https://raw.githubusercontent.com/WillKoehrsen/Machine-Learning-Projects/master/algorithm_comparison.png)\n",
        "\n",
        "What this plot tells us is that we have to try out a number of different models to see which is optimal. Most people eventually settle on the __gradient boosting machine__ and we will try that out, but for now we'll take a look at some of the other options.  There are literally dozens (maybe hundreds) of multi-class machine learning models if we look at the [Scikit-Learn documentation](http://scikit-learn.org/stable/modules/multiclass.html). We don't have to try them all, but we should sample from the options.\n",
        "\n",
        "What we want to do is write a function that can evaluate a model. This will be pretty simple since we already wrote most of the code. In addition to the Random Forest Classifier, we'll try eight other Scikit-Learn models. Luckily, this dataset is relatively small and we can rapidly iterate through the models. We will make a dataframe to hold the results and the function will add a row to the dataframe for each model."
      ]
    },
    {
      "metadata": {
        "id": "zCdZ2uBv_yc0",
        "colab_type": "code",
        "colab": {}
      },
      "cell_type": "code",
      "source": [
        "# Model imports\n",
        "from sklearn.svm import LinearSVC\n",
        "from sklearn.naive_bayes import GaussianNB\n",
        "from sklearn.neural_network import MLPClassifier\n",
        "from sklearn.linear_model import LogisticRegressionCV, RidgeClassifierCV\n",
        "from sklearn.discriminant_analysis import LinearDiscriminantAnalysis\n",
        "from sklearn.neighbors import KNeighborsClassifier"
      ],
      "execution_count": 0,
      "outputs": []
    },
    {
      "metadata": {
        "id": "kS5FfRQf_yc4",
        "colab_type": "code",
        "colab": {}
      },
      "cell_type": "code",
      "source": [
        "import warnings \n",
        "from sklearn.exceptions import ConvergenceWarning\n",
        "\n",
        "# Filter out warnings from models\n",
        "warnings.filterwarnings('ignore', category = ConvergenceWarning)\n",
        "warnings.filterwarnings('ignore', category = DeprecationWarning)\n",
        "warnings.filterwarnings('ignore', category = UserWarning)\n",
        "\n",
        "# Dataframe to hold results\n",
        "model_results = pd.DataFrame(columns = ['model', 'cv_mean', 'cv_std'])\n",
        "\n",
        "def cv_model(train, train_labels, model, name, model_results=None):\n",
        "    \"\"\"Perform 10 fold cross validation of a model\"\"\"\n",
        "    \n",
        "    cv_scores = cross_val_score(model, train, train_labels, cv = 10, scoring=scorer, n_jobs = -1)\n",
        "    print(f'10 Fold CV Score: {round(cv_scores.mean(), 5)} with std: {round(cv_scores.std(), 5)}')\n",
        "    \n",
        "    if model_results is not None:\n",
        "        model_results = model_results.append(pd.DataFrame({'model': name, \n",
        "                                                           'cv_mean': cv_scores.mean(), \n",
        "                                                            'cv_std': cv_scores.std()},\n",
        "                                                           index = [0]),\n",
        "                                             ignore_index = True)\n",
        "\n",
        "        return model_results"
      ],
      "execution_count": 0,
      "outputs": []
    },
    {
      "metadata": {
        "id": "LkqfxiUO_yc5",
        "colab_type": "code",
        "colab": {}
      },
      "cell_type": "code",
      "source": [
        "model_results = cv_model(train_set, train_labels, LinearSVC(), \n",
        "                         'LSVC', model_results)"
      ],
      "execution_count": 0,
      "outputs": []
    },
    {
      "metadata": {
        "id": "odItlPAA_yc7",
        "colab_type": "text"
      },
      "cell_type": "markdown",
      "source": [
        "That's one model to cross off the list (although we didn't perform hyperparameter tuning so the actual performance could possibly be improved)."
      ]
    },
    {
      "metadata": {
        "id": "P3Vmvwwy_yc7",
        "colab_type": "code",
        "colab": {}
      },
      "cell_type": "code",
      "source": [
        "model_results = cv_model(train_set, train_labels, \n",
        "                         GaussianNB(), 'GNB', model_results)"
      ],
      "execution_count": 0,
      "outputs": []
    },
    {
      "metadata": {
        "id": "zBH4HTaM_yc7",
        "colab_type": "text"
      },
      "cell_type": "markdown",
      "source": [
        "That performance is very poor. I don't think we need to revisit the Gaussian Naive Bayes method (although there are problems on which it can outperform the Gradient Boosting Machine)."
      ]
    },
    {
      "metadata": {
        "id": "jrsgQ9If_yc8",
        "colab_type": "code",
        "colab": {}
      },
      "cell_type": "code",
      "source": [
        "model_results = cv_model(train_set, train_labels, \n",
        "                         MLPClassifier(hidden_layer_sizes=(32, 64, 128, 64, 32)),\n",
        "                         'MLP', model_results)"
      ],
      "execution_count": 0,
      "outputs": []
    },
    {
      "metadata": {
        "id": "iKjFC1lz_yc8",
        "colab_type": "text"
      },
      "cell_type": "markdown",
      "source": [
        "The multi-layer perceptron (a deep neural network) has decent performance. This might be an option if we are able to hyperparameter tune the network. However, the limited amount of data could be an issue with a neural network as these generally require hundreds of thousands of examples to learn effectively."
      ]
    },
    {
      "metadata": {
        "id": "XRMi0SXH_yc8",
        "colab_type": "code",
        "colab": {}
      },
      "cell_type": "code",
      "source": [
        "model_results = cv_model(train_set, train_labels, \n",
        "                          LinearDiscriminantAnalysis(), \n",
        "                          'LDA', model_results)"
      ],
      "execution_count": 0,
      "outputs": []
    },
    {
      "metadata": {
        "id": "uQM3njwz_yc_",
        "colab_type": "text"
      },
      "cell_type": "markdown",
      "source": [
        "__If you run `LinearDiscriminantAnalysis` without filtering out the `UserWarning`s, you get many messages saying \"Variables are collinear.\"__ This might give us a hint that we want to remove some collinear features! We might want to try this model again after removing the collinear variables because the score is comparable to the random forest."
      ]
    },
    {
      "metadata": {
        "id": "Qs6KJ__C_yc_",
        "colab_type": "code",
        "colab": {}
      },
      "cell_type": "code",
      "source": [
        "model_results = cv_model(train_set, train_labels, \n",
        "                         RidgeClassifierCV(), 'RIDGE', model_results)"
      ],
      "execution_count": 0,
      "outputs": []
    },
    {
      "metadata": {
        "id": "aHGeT4BR_ydA",
        "colab_type": "text"
      },
      "cell_type": "markdown",
      "source": [
        "The linear model (with ridge regularization) does surprisingly well. This might indicate that a simple model can go a long way in this problem (although we'll probably end up using a more powerful method)."
      ]
    },
    {
      "metadata": {
        "id": "TV7Nk1ng_ydA",
        "colab_type": "code",
        "colab": {}
      },
      "cell_type": "code",
      "source": [
        "for n in [5, 10, 20]:\n",
        "    print(f'\\nKNN with {n} neighbors\\n')\n",
        "    model_results = cv_model(train_set, train_labels, \n",
        "                             KNeighborsClassifier(n_neighbors = n),\n",
        "                             f'knn-{n}', model_results)"
      ],
      "execution_count": 0,
      "outputs": []
    },
    {
      "metadata": {
        "id": "u6yp9GaT_ydB",
        "colab_type": "text"
      },
      "cell_type": "markdown",
      "source": [
        "As one more attempt, we'll consider the ExtraTreesClassifier, a variant on the random forest using ensembles of decision trees as well."
      ]
    },
    {
      "metadata": {
        "id": "lTSSCP42_ydB",
        "colab_type": "code",
        "colab": {}
      },
      "cell_type": "code",
      "source": [
        "from sklearn.ensemble import ExtraTreesClassifier\n",
        "\n",
        "model_results = cv_model(train_set, train_labels, \n",
        "                         ExtraTreesClassifier(n_estimators = 100, random_state = 10),\n",
        "                         'EXT', model_results)"
      ],
      "execution_count": 0,
      "outputs": []
    },
    {
      "metadata": {
        "id": "KDOXOXD7_ydC",
        "colab_type": "text"
      },
      "cell_type": "markdown",
      "source": [
        "## Comparing Model Performance\n",
        "\n",
        "With the modeling results in a dataframe, we can plot them to see which model does the best."
      ]
    },
    {
      "metadata": {
        "id": "0gZbvgtj_ydC",
        "colab_type": "code",
        "colab": {}
      },
      "cell_type": "code",
      "source": [
        "model_results = cv_model(train_set, train_labels,\n",
        "                          RandomForestClassifier(100, random_state=10),\n",
        "                              'RF', model_results)"
      ],
      "execution_count": 0,
      "outputs": []
    },
    {
      "metadata": {
        "id": "fwjUggj6_ydF",
        "colab_type": "code",
        "colab": {}
      },
      "cell_type": "code",
      "source": [
        "model_results.set_index('model', inplace = True)\n",
        "model_results['cv_mean'].plot.bar(color = 'orange', figsize = (8, 6),\n",
        "                                  yerr = list(model_results['cv_std']),\n",
        "                                  edgecolor = 'k', linewidth = 2)\n",
        "plt.title('Model F1 Score Results');\n",
        "plt.ylabel('Mean F1 Score (with error bar)');\n",
        "model_results.reset_index(inplace = True)"
      ],
      "execution_count": 0,
      "outputs": []
    },
    {
      "metadata": {
        "id": "UAQzNxIY_ydG",
        "colab_type": "text"
      },
      "cell_type": "markdown",
      "source": [
        "The most likely candidate seems to be the Random Forest because it does best right out of the box.  While we didn't tune any of the hyperparameters so the comparison between models is not perfect, these results reflect those of many other Kaggle competitiors finding that tree-based ensemble methods (including the Gradient Boosting Machine) perform very well on structured datasets. Hyperparameter performance does improve the performance of machine learning models, but we don't have time to try all possible combinations of settings for all models. The graph below ([from the paper by Randal Olson](https://psb.stanford.edu/psb-online/proceedings/psb18/olson.pdf)) shows the effect of hyperparameter tuning versus the default values in Scikit-Learn.\n",
        "\n",
        "![hyperparameter_improvement](https://raw.githubusercontent.com/WillKoehrsen/Machine-Learning-Projects/master/hyperparameter_improvement.png)\n",
        "\n",
        "In most cases the accuracy gain is less than 10% so the worst model is probably not suddenly going to become the best model through tuning. "
      ]
    },
    {
      "metadata": {
        "id": "HJAGx4g2_ydH",
        "colab_type": "text"
      },
      "cell_type": "markdown",
      "source": [
        "For now we'll say the random forest does the best. Later we'll look at using the Gradient Boosting Machine, although not implemented in Scikit-Learn. Instead we'll be using the more powerful [LightGBM version](http://lightgbm.readthedocs.io/en/latest/). Now, let's turn to making a submission using the random forest."
      ]
    },
    {
      "metadata": {
        "id": "YCHkew9u_ydH",
        "colab_type": "text"
      },
      "cell_type": "markdown",
      "source": [
        "# Making a Submission\n",
        "\n",
        "In order to make a submission, we need the test data. Fortunately, we have the test data formatted in exactly the same manner as the train data. \n",
        "\n",
        "The format of a testing submission is shown below. Although we are making predictions for each household, we actually need one row per individual (identified by the `Id`) but only the prediction for the head of household is scored. \n",
        "\n",
        "```\n",
        "Id,Target\n",
        "ID_2f6873615,1\n",
        "ID_1c78846d2,2\n",
        "ID_e5442cf6a,3\n",
        "ID_a8db26a79,4\n",
        "ID_a62966799,4 \n",
        "```\n"
      ]
    },
    {
      "metadata": {
        "id": "A9CyIOnl_ydH",
        "colab_type": "text"
      },
      "cell_type": "markdown",
      "source": [
        "The `submission_base` will have all the individuals in the test set since we have to have a \"prediction\" for each individual while the `test_ids` will only contain the `idhogar` from the heads of households. When predicting, we only predict for each household and then we merge the `predictions` dataframe with all of the individuals on the household id (`idhogar`). This will set the `Target` to the same value for everyone in a household. For the test households without a head of household, we can just set these predictions to 4 since they will not be scored. "
      ]
    },
    {
      "metadata": {
        "id": "wXEwpeiS_ydJ",
        "colab_type": "code",
        "colab": {}
      },
      "cell_type": "code",
      "source": [
        "test_ids = list(final.loc[final['Target'].isnull(), 'idhogar'])"
      ],
      "execution_count": 0,
      "outputs": []
    },
    {
      "metadata": {
        "id": "kcSyBuOu_ydJ",
        "colab_type": "text"
      },
      "cell_type": "markdown",
      "source": [
        "The function below takes in a model, a training set, the training labels, and a testing set and performs the following operations:\n",
        "\n",
        "* Trains the model on the training data using `fit`\n",
        "* Makes predictions on the test data using `predict`\n",
        "* Creates a `submission` dataframe that can be saved and uploaded to the competition"
      ]
    },
    {
      "metadata": {
        "id": "q6anlr3O_ydK",
        "colab_type": "code",
        "colab": {}
      },
      "cell_type": "code",
      "source": [
        "def submit(model, train, train_labels, test, test_ids):\n",
        "    \"\"\"Train and test a model on the dataset\"\"\"\n",
        "    \n",
        "    # Train on the data\n",
        "    model.fit(train, train_labels)\n",
        "    predictions = model.predict(test)\n",
        "    predictions = pd.DataFrame({'idhogar': test_ids,\n",
        "                               'Target': predictions})\n",
        "\n",
        "     # Make a submission dataframe\n",
        "    submission = submission_base.merge(predictions, \n",
        "                                       on = 'idhogar',\n",
        "                                       how = 'left').drop(columns = ['idhogar'])\n",
        "    \n",
        "    # Fill in households missing a head\n",
        "    submission['Target'] = submission['Target'].fillna(4).astype(np.int8)\n",
        "\n",
        "    return submission "
      ],
      "execution_count": 0,
      "outputs": []
    },
    {
      "metadata": {
        "id": "5kStymPS_ydK",
        "colab_type": "text"
      },
      "cell_type": "markdown",
      "source": [
        "Let's make a submission with the Random Forest."
      ]
    },
    {
      "metadata": {
        "id": "PHgybL4W_ydK",
        "colab_type": "code",
        "colab": {}
      },
      "cell_type": "code",
      "source": [
        "rf_submission = submit(RandomForestClassifier(n_estimators = 100, \n",
        "                                              random_state=10, n_jobs = -1), \n",
        "                         train_set, train_labels, test_set, test_ids)\n",
        "\n",
        "rf_submission.to_csv('rf_submission.csv', index = False)"
      ],
      "execution_count": 0,
      "outputs": []
    },
    {
      "metadata": {
        "id": "MND1WdpZ_ydL",
        "colab_type": "text"
      },
      "cell_type": "markdown",
      "source": [
        "These predictions score __0.370__ when submitted to the competition."
      ]
    },
    {
      "metadata": {
        "id": "i5zwrmaq_ydL",
        "colab_type": "text"
      },
      "cell_type": "markdown",
      "source": [
        "# Feature Selection\n",
        "\n",
        "One potential method for improving model performance is feature selection. This is the process where we try to keep only the most useful features for our model. \"Most useful\" can mean many different things, and there are numerous heuristics for selecting the most important features. For feature selection in this notebook, we'll first remove any columns with greater than 0.95 correlation (we already did some of this during feature engineering) and then we'll apply recursive feature elimination with the Scikit-Learn library. \n",
        "\n",
        "First up are the correlations. 0.95 is an arbitrary threshold - feel free to change the values and see how the performance changes! "
      ]
    },
    {
      "metadata": {
        "id": "zvjqzJGH_ydL",
        "colab_type": "code",
        "colab": {}
      },
      "cell_type": "code",
      "source": [
        "train_set = pd.DataFrame(train_set, columns = features)\n",
        "\n",
        "# Create correlation matrix\n",
        "corr_matrix = train_set.corr()\n",
        "\n",
        "# Select upper triangle of correlation matrix\n",
        "upper = corr_matrix.where(np.triu(np.ones(corr_matrix.shape), k=1).astype(np.bool))\n",
        "\n",
        "# Find index of feature columns with correlation greater than 0.95\n",
        "to_drop = [column for column in upper.columns if any(abs(upper[column]) > 0.95)]\n",
        "\n",
        "to_drop"
      ],
      "execution_count": 0,
      "outputs": []
    },
    {
      "metadata": {
        "id": "M4SybXbR_ydM",
        "colab_type": "code",
        "colab": {}
      },
      "cell_type": "code",
      "source": [
        "train_set = train_set.drop(columns = to_drop)\n",
        "train_set.shape"
      ],
      "execution_count": 0,
      "outputs": []
    },
    {
      "metadata": {
        "id": "lLUSfbD6_ydN",
        "colab_type": "code",
        "colab": {}
      },
      "cell_type": "code",
      "source": [
        "test_set = pd.DataFrame(test_set, columns = features)\n",
        "train_set, test_set = train_set.align(test_set, axis = 1, join = 'inner')\n",
        "features = list(train_set.columns)"
      ],
      "execution_count": 0,
      "outputs": []
    },
    {
      "metadata": {
        "id": "EVKt1F41_ydO",
        "colab_type": "text"
      },
      "cell_type": "markdown",
      "source": [
        "### Recursive Feature Elimination with Random Forest\n",
        "\n",
        "The `RFECV` in Sklearn stands for Recursive Feature Elimination with Cross Validation. The selector operates using a model with feature importances in an iterative manner. At each iteration, it removes either a fraction of features or a set number of features. The iterations continue until the cross validation score no longer improves. \n",
        "\n",
        "To create the `selector` object, we pass in the the model, the number of features to remove at each iteration, the cross validation folds, our custom scorer, and any other parameters to guide the selection."
      ]
    },
    {
      "metadata": {
        "id": "-XttVT5y_ydO",
        "colab_type": "code",
        "colab": {}
      },
      "cell_type": "code",
      "source": [
        "from sklearn.feature_selection import RFECV\n",
        "\n",
        "# Create a model for feature selection\n",
        "estimator = RandomForestClassifier(random_state = 10, n_estimators = 100,  n_jobs = -1)\n",
        "\n",
        "# Create the object\n",
        "selector = RFECV(estimator, step = 1, cv = 3, scoring= scorer, n_jobs = -1)"
      ],
      "execution_count": 0,
      "outputs": []
    },
    {
      "metadata": {
        "id": "QqjqgjXn_ydO",
        "colab_type": "text"
      },
      "cell_type": "markdown",
      "source": [
        "Then we `fit` the selector on the training data as with any other sklearn model. This will continue the feature selection until the cross validation scores no longer improve. "
      ]
    },
    {
      "metadata": {
        "id": "vIrPgR34_ydO",
        "colab_type": "code",
        "colab": {}
      },
      "cell_type": "code",
      "source": [
        "selector.fit(train_set, train_labels)"
      ],
      "execution_count": 0,
      "outputs": []
    },
    {
      "metadata": {
        "id": "SHPcssVM_ydP",
        "colab_type": "text"
      },
      "cell_type": "markdown",
      "source": [
        "We can investigate the object to see the training scores for each iteration. The following code will plot the validation scores versus the number of features for the training."
      ]
    },
    {
      "metadata": {
        "id": "5l7sDpGO_ydP",
        "colab_type": "code",
        "colab": {}
      },
      "cell_type": "code",
      "source": [
        "plt.plot(selector.grid_scores_);\n",
        "\n",
        "plt.xlabel('Number of Features'); plt.ylabel('Macro F1 Score'); plt.title('Feature Selection Scores');\n",
        "selector.n_features_"
      ],
      "execution_count": 0,
      "outputs": []
    },
    {
      "metadata": {
        "id": "ADCF-Ss5_ydQ",
        "colab_type": "text"
      },
      "cell_type": "markdown",
      "source": [
        "We can see that the score improves as we add features up until 96 features. According to the selector, this is the optimal number of features.\n",
        "\n",
        "The rankings of each feature can be found by inspecting the trained object. These represent essentially the importance of features averaged over the iterations. Features can share the same ranking, and only features with a rank of 1 are retained."
      ]
    },
    {
      "metadata": {
        "id": "sNRx9-TJ_ydR",
        "colab_type": "code",
        "colab": {}
      },
      "cell_type": "code",
      "source": [
        "rankings = pd.DataFrame({'feature': list(train_set.columns), 'rank': list(selector.ranking_)}).sort_values('rank')\n",
        "rankings.head(10)"
      ],
      "execution_count": 0,
      "outputs": []
    },
    {
      "metadata": {
        "id": "XIA0ay7a_ydR",
        "colab_type": "text"
      },
      "cell_type": "markdown",
      "source": [
        "Finally, we select the features and then evaluate in cross validation."
      ]
    },
    {
      "metadata": {
        "id": "oJPqT4ef_ydR",
        "colab_type": "code",
        "colab": {}
      },
      "cell_type": "code",
      "source": [
        "train_selected = selector.transform(train_set)\n",
        "test_selected = selector.transform(test_set)"
      ],
      "execution_count": 0,
      "outputs": []
    },
    {
      "metadata": {
        "id": "P228_x64_ydS",
        "colab_type": "code",
        "colab": {}
      },
      "cell_type": "code",
      "source": [
        "# Convert back to dataframe\n",
        "selected_features = train_set.columns[np.where(selector.ranking_==1)]\n",
        "train_selected = pd.DataFrame(train_selected, columns = selected_features)\n",
        "test_selected = pd.DataFrame(test_selected, columns = selected_features)"
      ],
      "execution_count": 0,
      "outputs": []
    },
    {
      "metadata": {
        "id": "27y_n7WF_ydS",
        "colab_type": "code",
        "colab": {}
      },
      "cell_type": "code",
      "source": [
        "model_results = cv_model(train_selected, train_labels, model, 'RF-SEL', model_results)"
      ],
      "execution_count": 0,
      "outputs": []
    },
    {
      "metadata": {
        "id": "ARsv1OuO_ydU",
        "colab_type": "code",
        "colab": {}
      },
      "cell_type": "code",
      "source": [
        "model_results.set_index('model', inplace = True)\n",
        "model_results['cv_mean'].plot.bar(color = 'orange', figsize = (8, 6),\n",
        "                                  yerr = list(model_results['cv_std']),\n",
        "                                 edgecolor = 'k', linewidth = 2)\n",
        "plt.title('Model F1 Score Results');\n",
        "plt.ylabel('Mean F1 Score (with error bar)');\n",
        "model_results.reset_index(inplace = True)"
      ],
      "execution_count": 0,
      "outputs": []
    },
    {
      "metadata": {
        "id": "ae_e4R2Z_ydV",
        "colab_type": "text"
      },
      "cell_type": "markdown",
      "source": [
        "The model with selected features does slightly better in cross-validation. We can keep both sets of features for use in our next model, the Gradient Boosting Machine."
      ]
    },
    {
      "metadata": {
        "id": "2v1ckD3P_ydW",
        "colab_type": "text"
      },
      "cell_type": "markdown",
      "source": [
        "# Upgrading Our Model: Gradient Boosting Machine\n",
        "\n",
        "After using the Random Forest and getting decent scores, it's time to step up and use the gradient boosting machine. If you spend any time on Kaggle, you'll notice that the Gradient Boosting Machine (GBM) wins a high percentage of competitions where the data is structured (in tables) and the datasets are not that large (less than a million observations). \n",
        "\n",
        "I won't go too much into the details here, but instead will focus on the implementation. We'll use the GBM in LightGBM, although there are also options in Scikit-Learn, XGBOOST, and CatBoost. The first set of hyperparameters we'll use were based on those I've found have worked well for other problems.\n",
        "\n",
        "### Choosing Number of Estimators with Early Stopping\n",
        "\n",
        "To choose the number of estimators (the number of decision trees in the ensemble, called `n_estimators` or `num_boost_rounds`), we'll use early stopping with 5-fold cross validation. This will keep adding estimators until the performance as measured by the Macro F1 Score has not increased for 100 training rounds. To use this metric, we'll have to define a custom metric."
      ]
    },
    {
      "metadata": {
        "id": "6kycGdXH_ydW",
        "colab_type": "code",
        "colab": {}
      },
      "cell_type": "code",
      "source": [
        "def macro_f1_score(labels, predictions):\n",
        "    # Reshape the predictions as needed\n",
        "    predictions = predictions.reshape(len(np.unique(labels)), -1 ).argmax(axis = 0)\n",
        "    \n",
        "    metric_value = f1_score(labels, predictions, average = 'macro')\n",
        "    \n",
        "    # Return is name, value, is_higher_better\n",
        "    return 'macro_f1', metric_value, True"
      ],
      "execution_count": 0,
      "outputs": []
    },
    {
      "metadata": {
        "id": "q0yK-aql_ydW",
        "colab_type": "text"
      },
      "cell_type": "markdown",
      "source": [
        "# Light Gradient Boosting Machine Implementation\n",
        "\n",
        "The function below implements training the gradient boosting machine with Stratified Kfold cross validation and early stopping to prevent overfitting to the training data (although this can still occur). The function performs training with cross validation and records the predictions in probability for each fold. To see how this works, we can return the predictions from each fold and then we'll return a submission to upload to the competition.\n",
        "\n",
        "Choosing hyperparameters for the Gradient Boosting Machine can be tough and generally is done through model optimization. In this notebook, we'll use a set of hyperparameters that I've found work well on previous problems (although they will not necessarily translate to this competition). \n",
        "\n",
        "We set the `n_estimators` to 10000 but we won't actually reach this number because we are using early stopping which will quit training estimators when the cross validation metric does not improve for `early_stopping_rounds`. There's a lot going on in this function, and read through it carefully to make sure you have it all! I've tried to make the comments and code straightforward. (The `display` is used to show custom information during training in combination with `%%capture` so we don't have to see all the LightGBM information during training)."
      ]
    },
    {
      "metadata": {
        "id": "HQzSTPT1_ydW",
        "colab_type": "code",
        "colab": {}
      },
      "cell_type": "code",
      "source": [
        "from sklearn.model_selection import StratifiedKFold\n",
        "import lightgbm as lgb\n",
        "from IPython.display import display\n",
        "\n",
        "def model_gbm(features, labels, test_features, test_ids, \n",
        "              nfolds = 5, return_preds = False, hyp = None):\n",
        "    \"\"\"Model using the GBM and cross validation.\n",
        "       Trains with early stopping on each fold.\n",
        "       Hyperparameters probably need to be tuned.\"\"\"\n",
        "    \n",
        "    feature_names = list(features.columns)\n",
        "\n",
        "    # Option for user specified hyperparameters\n",
        "    if hyp is not None:\n",
        "        # Using early stopping so do not need number of esimators\n",
        "        if 'n_estimators' in hyp:\n",
        "            del hyp['n_estimators']\n",
        "        params = hyp\n",
        "    \n",
        "    else:\n",
        "        # Model hyperparameters\n",
        "        params = {'boosting_type': 'dart', \n",
        "                  'colsample_bytree': 0.88, \n",
        "                  'learning_rate': 0.028, \n",
        "                   'min_child_samples': 10, \n",
        "                   'num_leaves': 36, 'reg_alpha': 0.76, \n",
        "                   'reg_lambda': 0.43, \n",
        "                   'subsample_for_bin': 40000, \n",
        "                   'subsample': 0.54, \n",
        "                   'class_weight': 'balanced'}\n",
        "    \n",
        "    # Build the model\n",
        "    model = lgb.LGBMClassifier(**params, objective = 'multiclass', \n",
        "                               n_jobs = -1, n_estimators = 10000,\n",
        "                               random_state = 10)\n",
        "    \n",
        "    # Using stratified kfold cross validation\n",
        "    strkfold = StratifiedKFold(n_splits = nfolds, shuffle = True)\n",
        "    \n",
        "    # Hold all the predictions from each fold\n",
        "    predictions = pd.DataFrame()\n",
        "    importances = np.zeros(len(feature_names))\n",
        "    \n",
        "    # Convert to arrays for indexing\n",
        "    features = np.array(features)\n",
        "    test_features = np.array(test_features)\n",
        "    labels = np.array(labels).reshape((-1 ))\n",
        "    \n",
        "    valid_scores = []\n",
        "    \n",
        "    # Iterate through the folds\n",
        "    for i, (train_indices, valid_indices) in enumerate(strkfold.split(features, labels)):\n",
        "        \n",
        "        # Dataframe for fold predictions\n",
        "        fold_predictions = pd.DataFrame()\n",
        "        \n",
        "        # Training and validation data\n",
        "        X_train = features[train_indices]\n",
        "        X_valid = features[valid_indices]\n",
        "        y_train = labels[train_indices]\n",
        "        y_valid = labels[valid_indices]\n",
        "        \n",
        "        # Train with early stopping\n",
        "        model.fit(X_train, y_train, early_stopping_rounds = 100, \n",
        "                  eval_metric = macro_f1_score,\n",
        "                  eval_set = [(X_train, y_train), (X_valid, y_valid)],\n",
        "                  eval_names = ['train', 'valid'],\n",
        "                  verbose = 200)\n",
        "        \n",
        "        # Record the validation fold score\n",
        "        valid_scores.append(model.best_score_['valid']['macro_f1'])\n",
        "        \n",
        "        # Make predictions from the fold as probabilities\n",
        "        fold_probabilitites = model.predict_proba(test_features)\n",
        "        \n",
        "        # Record each prediction for each class as a separate column\n",
        "        for j in range(4):\n",
        "            fold_predictions[(j + 1)] = fold_probabilitites[:, j]\n",
        "            \n",
        "        # Add needed information for predictions \n",
        "        fold_predictions['idhogar'] = test_ids\n",
        "        fold_predictions['fold'] = (i+1)\n",
        "        \n",
        "        # Add the predictions as new rows to the existing predictions\n",
        "        predictions = predictions.append(fold_predictions)\n",
        "        \n",
        "        # Feature importances\n",
        "        importances += model.feature_importances_ / nfolds   \n",
        "        \n",
        "        # Display fold information\n",
        "        display(f'Fold {i + 1}, Validation Score: {round(valid_scores[i], 5)}, Estimators Trained: {model.best_iteration_}')\n",
        "\n",
        "    # Feature importances dataframe\n",
        "    feature_importances = pd.DataFrame({'feature': feature_names,\n",
        "                                        'importance': importances})\n",
        "    \n",
        "    valid_scores = np.array(valid_scores)\n",
        "    display(f'{nfolds} cross validation score: {round(valid_scores.mean(), 5)} with std: {round(valid_scores.std(), 5)}.')\n",
        "    \n",
        "    # If we want to examine predictions don't average over folds\n",
        "    if return_preds:\n",
        "        predictions['Target'] = predictions[[1, 2, 3, 4]].idxmax(axis = 1)\n",
        "        predictions['confidence'] = predictions[[1, 2, 3, 4]].max(axis = 1)\n",
        "        return predictions, feature_importances\n",
        "    \n",
        "    # Average the predictions over folds\n",
        "    predictions = predictions.groupby('idhogar', as_index = False).mean()\n",
        "    \n",
        "    # Find the class and associated probability\n",
        "    predictions['Target'] = predictions[[1, 2, 3, 4]].idxmax(axis = 1)\n",
        "    predictions['confidence'] = predictions[[1, 2, 3, 4]].max(axis = 1)\n",
        "    predictions = predictions.drop(columns = ['fold'])\n",
        "    \n",
        "    # Merge with the base to have one prediction for each individual\n",
        "    submission = submission_base.merge(predictions[['idhogar', 'Target']], on = 'idhogar', how = 'left').drop(columns = ['idhogar'])\n",
        "        \n",
        "    # Fill in the individuals that do not have a head of household with 4 since these will not be scored\n",
        "    submission['Target'] = submission['Target'].fillna(4).astype(np.int8)\n",
        "    \n",
        "    # return the submission and feature importances along with validation scores\n",
        "    return submission, feature_importances, valid_scores"
      ],
      "execution_count": 0,
      "outputs": []
    },
    {
      "metadata": {
        "id": "e23iAZVU_ydX",
        "colab_type": "text"
      },
      "cell_type": "markdown",
      "source": [
        "### Cross Validation with Early Stopping Notes\n",
        "\n",
        "Cross validation with early stopping is one of the most effective methods for preventing overfitting on the training set because it prevents us from continuing to add model complexity once it is clear that validation scores are not improving. Repeating this process across multiple folds helps to reduce the bias that comes from using a single fold. Early stopping also lets us train the model much quicker. Overall, __early stopping with cross validation__ is the best method to select the number of estimators in the Gradient Boosting Machine and should be our default technique when we desig an implementation."
      ]
    },
    {
      "metadata": {
        "id": "fzSH6vM0_ydX",
        "colab_type": "code",
        "colab": {}
      },
      "cell_type": "code",
      "source": [
        "%%capture --no-display\n",
        "predictions, gbm_fi = model_gbm(train_set, train_labels, test_set, test_ids, return_preds=True)"
      ],
      "execution_count": 0,
      "outputs": []
    },
    {
      "metadata": {
        "id": "pIxWhEW4_ydY",
        "colab_type": "text"
      },
      "cell_type": "markdown",
      "source": [
        "The power of the Gradient Boosting Machine can be seen here! The cross validation score blows away anything we've done previously. \n",
        "\n",
        "Let's take a look at the predictions to understand what is going on with the predictions in each fold."
      ]
    },
    {
      "metadata": {
        "id": "m5I_sGDl_ydY",
        "colab_type": "code",
        "colab": {}
      },
      "cell_type": "code",
      "source": [
        "predictions.head()"
      ],
      "execution_count": 0,
      "outputs": []
    },
    {
      "metadata": {
        "id": "3qtoURrX_ydZ",
        "colab_type": "text"
      },
      "cell_type": "markdown",
      "source": [
        "For each fold, the `1, 2, 3, 4` columns represent the probability for each `Target`. The `Target` is the maximum of these with the `confidence` the probability. We have the predictions for all 5 folds, so we can plot the confidence in each `Target` for the different folds."
      ]
    },
    {
      "metadata": {
        "id": "av39FpCh_ydZ",
        "colab_type": "code",
        "colab": {}
      },
      "cell_type": "code",
      "source": [
        "plt.rcParams['font.size'] = 18\n",
        "\n",
        "# Kdeplot\n",
        "g = sns.FacetGrid(predictions, row = 'fold', hue = 'Target', size = 3, aspect = 4)\n",
        "g.map(sns.kdeplot, 'confidence');\n",
        "g.add_legend();\n",
        "\n",
        "plt.suptitle('Distribution of Confidence by Fold and Target', y = 1.05);"
      ],
      "execution_count": 0,
      "outputs": []
    },
    {
      "metadata": {
        "id": "GSJi21RP_yda",
        "colab_type": "text"
      },
      "cell_type": "markdown",
      "source": [
        "What we see here is that the confidence for each class if relatively low. It does appear that the model has greater confidence in `Target=4` predictions which makes sense because of the _class imbalance and the high prevalence of this label._ \n",
        "\n",
        "Another way to look at the information is as a `violinplot`. This shows the same information, with the number of observations related to the width of the plot."
      ]
    },
    {
      "metadata": {
        "id": "2OUNhHRp_yda",
        "colab_type": "code",
        "colab": {}
      },
      "cell_type": "code",
      "source": [
        "plt.figure(figsize = (24, 12))\n",
        "sns.violinplot(x = 'Target', y = 'confidence', hue = 'fold', data = predictions);"
      ],
      "execution_count": 0,
      "outputs": []
    },
    {
      "metadata": {
        "id": "Gg27ZJc0_ydb",
        "colab_type": "text"
      },
      "cell_type": "markdown",
      "source": [
        "Overall, these results show the issue with imbalanced class problems: our model cannot distinguish very well between the classes that are underrepresented. Later we'll look at predictions themselves and see where our model is \"confused\". For now, we can generate a submission file and submit it to the competition.\n",
        "\n",
        "When we actually make predictions for each household, we average the predictions from each of the folds. Therefore, we are essentially using multiple models since each one is trained on a slightly different fold of the data. The gradient boosting machine is already an ensemble machine learning model, and now we are using it almost as a meta-ensemble by averaging predictions from several gbms. \n",
        "\n",
        "This process is shown in the code below."
      ]
    },
    {
      "metadata": {
        "id": "HkpAIuIh_ydb",
        "colab_type": "code",
        "colab": {}
      },
      "cell_type": "code",
      "source": [
        "# Average the predictions over folds\n",
        "predictions = predictions.groupby('idhogar', as_index = False).mean()\n",
        "\n",
        "# Find the class and associated probability\n",
        "predictions['Target'] = predictions[[1, 2, 3, 4]].idxmax(axis = 1)\n",
        "predictions['confidence'] = predictions[[1, 2, 3, 4]].max(axis = 1)\n",
        "predictions = predictions.drop(columns = ['fold'])\n",
        "\n",
        "# Plot the confidence by each target\n",
        "plt.figure(figsize = (10, 6))\n",
        "sns.boxplot(x = 'Target', y = 'confidence', data = predictions);\n",
        "plt.title('Confidence by Target');\n",
        "\n",
        "plt.figure(figsize = (10, 6))\n",
        "sns.violinplot(x = 'Target', y = 'confidence', data = predictions);\n",
        "plt.title('Confidence by Target');"
      ],
      "execution_count": 0,
      "outputs": []
    },
    {
      "metadata": {
        "id": "q5K19eiT_ydc",
        "colab_type": "text"
      },
      "cell_type": "markdown",
      "source": [
        "We can have the function instead return the actual submission file. This takes the average predictions across the five folds, in effectm combining 5 different models, each one trained on a slghtly different subset of the data."
      ]
    },
    {
      "metadata": {
        "id": "N6Ux2cbv_ydc",
        "colab_type": "code",
        "colab": {}
      },
      "cell_type": "code",
      "source": [
        "%%capture\n",
        "submission, gbm_fi, valid_scores = model_gbm(train_set, train_labels, \n",
        "                                             test_set, test_ids, return_preds=False)\n",
        "\n",
        "submission.to_csv('gbm_baseline.csv')"
      ],
      "execution_count": 0,
      "outputs": []
    },
    {
      "metadata": {
        "id": "rb_wwuCW_ydd",
        "colab_type": "code",
        "colab": {}
      },
      "cell_type": "code",
      "source": [
        "_ = plot_feature_importances(gbm_fi, threshold=0.95)"
      ],
      "execution_count": 0,
      "outputs": []
    },
    {
      "metadata": {
        "id": "lU42aBoj_ydd",
        "colab_type": "text"
      },
      "cell_type": "markdown",
      "source": [
        "The gbm seems to think the most important features are those derived from ages. The education variables also show up in the most important features. \n",
        "\n",
        "### Try Selected Features\n",
        "\n",
        "The next step with the LightGBM is to try the features that were selected through recursive feature elimination."
      ]
    },
    {
      "metadata": {
        "id": "3E7QfoLS_ydd",
        "colab_type": "code",
        "colab": {}
      },
      "cell_type": "code",
      "source": [
        "%%capture --no-display\n",
        "submission, gbm_fi_selected, valid_scores_selected = model_gbm(train_selected, train_labels, \n",
        "                                                               test_selected, test_ids)"
      ],
      "execution_count": 0,
      "outputs": []
    },
    {
      "metadata": {
        "id": "mZsHcowz_yde",
        "colab_type": "code",
        "colab": {}
      },
      "cell_type": "code",
      "source": [
        "model_results = model_results.append(pd.DataFrame({'model': [\"GBM\", \"GBM_SEL\"], \n",
        "                                                   'cv_mean': [valid_scores.mean(), valid_scores_selected.mean()],\n",
        "                                                   'cv_std':  [valid_scores.std(), valid_scores_selected.std()]}),\n",
        "                                                sort = True)"
      ],
      "execution_count": 0,
      "outputs": []
    },
    {
      "metadata": {
        "id": "_JTxs-Bl_ydf",
        "colab_type": "code",
        "colab": {}
      },
      "cell_type": "code",
      "source": [
        "model_results.set_index('model', inplace = True)\n",
        "model_results['cv_mean'].plot.bar(color = 'orange', figsize = (8, 6),\n",
        "                                  yerr = list(model_results['cv_std']),\n",
        "                                 edgecolor = 'k', linewidth = 2)\n",
        "plt.title('Model F1 Score Results');\n",
        "plt.ylabel('Mean F1 Score (with error bar)');\n",
        "model_results.reset_index(inplace = True)"
      ],
      "execution_count": 0,
      "outputs": []
    },
    {
      "metadata": {
        "id": "qwoHQjd9_ydg",
        "colab_type": "text"
      },
      "cell_type": "markdown",
      "source": [
        "The massive advantage of the gradient boosting machine is on display here. For a final step, let's try using 10-folds with both sets and add them to the plot."
      ]
    },
    {
      "metadata": {
        "id": "C7TJCRPx_ydg",
        "colab_type": "code",
        "colab": {}
      },
      "cell_type": "code",
      "source": [
        "%%capture\n",
        "submission, gbm_fi, valid_scores = model_gbm(train_set, train_labels, test_set, test_ids, \n",
        "                                             nfolds=10, return_preds=False)"
      ],
      "execution_count": 0,
      "outputs": []
    },
    {
      "metadata": {
        "id": "S0FD-jz0_ydh",
        "colab_type": "code",
        "colab": {}
      },
      "cell_type": "code",
      "source": [
        "submission.to_csv('gbm_10fold.csv', index = False)"
      ],
      "execution_count": 0,
      "outputs": []
    },
    {
      "metadata": {
        "id": "nPdnP5N__ydn",
        "colab_type": "code",
        "colab": {}
      },
      "cell_type": "code",
      "source": [
        "%%capture\n",
        "submission, gbm_fi_selected, valid_scores_selected = model_gbm(train_selected, train_labels, test_selected, test_ids,\n",
        "                                                               nfolds=10)"
      ],
      "execution_count": 0,
      "outputs": []
    },
    {
      "metadata": {
        "id": "cMPCoAqX_ydn",
        "colab_type": "code",
        "colab": {}
      },
      "cell_type": "code",
      "source": [
        "submission.to_csv('gmb_10fold_selected.csv', index = False)"
      ],
      "execution_count": 0,
      "outputs": []
    },
    {
      "metadata": {
        "id": "-LKc5HMf_ydo",
        "colab_type": "code",
        "colab": {}
      },
      "cell_type": "code",
      "source": [
        "model_results = model_results.append(pd.DataFrame({'model': [\"GBM_10Fold\", \"GBM_10Fold_SEL\"], \n",
        "                                                   'cv_mean': [valid_scores.mean(), valid_scores_selected.mean()],\n",
        "                                                   'cv_std':  [valid_scores.std(), valid_scores_selected.std()]}),\n",
        "                                    sort = True)"
      ],
      "execution_count": 0,
      "outputs": []
    },
    {
      "metadata": {
        "id": "LlIxm-mo_ydp",
        "colab_type": "code",
        "colab": {}
      },
      "cell_type": "code",
      "source": [
        "model_results.set_index('model', inplace = True)\n",
        "model_results['cv_mean'].plot.bar(color = 'orange', figsize = (8, 6), \n",
        "                                  edgecolor = 'k', linewidth = 2,\n",
        "                                  yerr = list(model_results['cv_std']))\n",
        "plt.title('Model F1 Score Results');\n",
        "plt.ylabel('Mean F1 Score (with error bar)');\n",
        "model_results.reset_index(inplace = True)"
      ],
      "execution_count": 0,
      "outputs": []
    },
    {
      "metadata": {
        "id": "A4YdT0Ms_ydq",
        "colab_type": "text"
      },
      "cell_type": "markdown",
      "source": [
        "The best model seems to be the Gradient Boosting Machine trained with 10 folds on the selected features. This model has not yet been optimized, but we might be able to get a little more performance through optimization."
      ]
    },
    {
      "metadata": {
        "id": "QtE55E1V_ydq",
        "colab_type": "code",
        "colab": {}
      },
      "cell_type": "code",
      "source": [
        "print(f\"There are {gbm_fi_selected[gbm_fi_selected['importance'] == 0].shape[0]} features with no importance.\")"
      ],
      "execution_count": 0,
      "outputs": []
    },
    {
      "metadata": {
        "id": "ba8RMUZ-_ydr",
        "colab_type": "text"
      },
      "cell_type": "markdown",
      "source": [
        "Well that should make us feel better! All of the features we are using have some importance to the Gradient Boosting Machine. It might be a good idea to go back and retry feature selection but with the GBM since that is the model we are using. \n",
        "\n",
        "The next step to take is Model Optimization, the process of getting the most from a machine learning model. "
      ]
    },
    {
      "metadata": {
        "id": "T96Z60hS_ydr",
        "colab_type": "text"
      },
      "cell_type": "markdown",
      "source": [
        "# Model Optimization\n",
        "\n",
        "Model optimization is the process of extracting the best performance from a machine learning model by tuning the hyperparameters through cross-validation. This is necessary because the best model hyperparameters are different for every dataset. \n",
        "\n",
        "In this notebook, we won't get too far into model tuning, but there are multiple options:\n",
        "\n",
        "1. Manual\n",
        "2. Grid Search\n",
        "3. Random Search\n",
        "4. Automated Optimization\n",
        "\n",
        "We will stick to 4. because it is generally the most efficient method and can easily be implemented in a number of libraries, including Hyperopt, which uses a modified version of Bayesian Optimization with the Tree Parzen Estimator. "
      ]
    },
    {
      "metadata": {
        "id": "ALKhHsyz_ydr",
        "colab_type": "text"
      },
      "cell_type": "markdown",
      "source": [
        "# Model Tuning with Hyperopt\n",
        "\n",
        "Bayesian optimization requires 4 parts:\n",
        "\n",
        "1. Objective function: what we want to maximize (or minimize)\n",
        "2. Domain space: region over which to search \n",
        "3. Algorithm for choosing next hyperparameters: uses past results to suggest next values\n",
        "4. Results history: saves the past results\n",
        "\n",
        "I've written previously about using Hyperopt, so here we'll stick to the implementation. "
      ]
    },
    {
      "metadata": {
        "id": "z5SO6-iE_ydr",
        "colab_type": "code",
        "colab": {}
      },
      "cell_type": "code",
      "source": [
        "from hyperopt import hp, tpe, Trials, fmin, STATUS_OK\n",
        "from hyperopt.pyll.stochastic import sample"
      ],
      "execution_count": 0,
      "outputs": []
    },
    {
      "metadata": {
        "id": "BLjNW1RG_ydr",
        "colab_type": "code",
        "colab": {}
      },
      "cell_type": "code",
      "source": [
        "import csv\n",
        "import ast\n",
        "from timeit import default_timer as timer"
      ],
      "execution_count": 0,
      "outputs": []
    },
    {
      "metadata": {
        "id": "SKuQQJUz_yds",
        "colab_type": "text"
      },
      "cell_type": "markdown",
      "source": [
        "### 1. Objective Function\n",
        "\n",
        "This takes in the model hyperparameters and returns the associated validation score. Hyperopt needs a score to minimize, so we return 1 - Macro F1 score. "
      ]
    },
    {
      "metadata": {
        "id": "SpBRWqpc_yds",
        "colab_type": "code",
        "colab": {}
      },
      "cell_type": "code",
      "source": [
        "def objective(hyperparameters, nfolds=5):\n",
        "    \"\"\"Return validation score from hyperparameters for LightGBM\"\"\"\n",
        "    \n",
        "    # Keep track of evals\n",
        "    global ITERATION\n",
        "    ITERATION += 1\n",
        "    \n",
        "    # Retrieve the subsample\n",
        "    subsample = hyperparameters['boosting_type'].get('subsample', 1.0)\n",
        "    subsample_freq = hyperparameters['boosting_type'].get('subsample_freq', 0)\n",
        "    \n",
        "    boosting_type = hyperparameters['boosting_type']['boosting_type']\n",
        "    \n",
        "    if boosting_type == 'dart':\n",
        "        hyperparameters['drop_rate'] = hyperparameters['boosting_type']['drop_rate']\n",
        "    \n",
        "    # Subsample and subsample frequency to top level keys\n",
        "    hyperparameters['subsample'] = subsample\n",
        "    hyperparameters['subsample_freq'] = subsample_freq\n",
        "    hyperparameters['boosting_type'] = boosting_type\n",
        "    \n",
        "    # Whether or not to use limit maximum depth\n",
        "    if not hyperparameters['limit_max_depth']:\n",
        "        hyperparameters['max_depth'] = -1\n",
        "    \n",
        "    # Make sure parameters that need to be integers are integers\n",
        "    for parameter_name in ['max_depth', 'num_leaves', 'subsample_for_bin', \n",
        "                           'min_child_samples', 'subsample_freq']:\n",
        "        hyperparameters[parameter_name] = int(hyperparameters[parameter_name])\n",
        "\n",
        "    if 'n_estimators' in hyperparameters:\n",
        "        del hyperparameters['n_estimators']\n",
        "    \n",
        "    # Using stratified kfold cross validation\n",
        "    strkfold = StratifiedKFold(n_splits = nfolds, shuffle = True)\n",
        "    \n",
        "    # Convert to arrays for indexing\n",
        "    features = np.array(train_selected)\n",
        "    labels = np.array(train_labels).reshape((-1 ))\n",
        "    \n",
        "    valid_scores = []\n",
        "    best_estimators = []\n",
        "    run_times = []\n",
        "    \n",
        "    model = lgb.LGBMClassifier(**hyperparameters, class_weight = 'balanced',\n",
        "                               n_jobs=-1, metric = 'None',\n",
        "                               n_estimators=10000)\n",
        "    \n",
        "    # Iterate through the folds\n",
        "    for i, (train_indices, valid_indices) in enumerate(strkfold.split(features, labels)):\n",
        "        \n",
        "        # Training and validation data\n",
        "        X_train = features[train_indices]\n",
        "        X_valid = features[valid_indices]\n",
        "        y_train = labels[train_indices]\n",
        "        y_valid = labels[valid_indices]\n",
        "        \n",
        "        start = timer()\n",
        "        # Train with early stopping\n",
        "        model.fit(X_train, y_train, early_stopping_rounds = 100, \n",
        "                  eval_metric = macro_f1_score, \n",
        "                  eval_set = [(X_train, y_train), (X_valid, y_valid)],\n",
        "                  eval_names = ['train', 'valid'],\n",
        "                  verbose = 400)\n",
        "        end = timer()\n",
        "        # Record the validation fold score\n",
        "        valid_scores.append(model.best_score_['valid']['macro_f1'])\n",
        "        best_estimators.append(model.best_iteration_)\n",
        "        \n",
        "        run_times.append(end - start)\n",
        "    \n",
        "    score = np.mean(valid_scores)\n",
        "    score_std = np.std(valid_scores)\n",
        "    loss = 1 - score\n",
        "    \n",
        "    run_time = np.mean(run_times)\n",
        "    run_time_std = np.std(run_times)\n",
        "    \n",
        "    estimators = int(np.mean(best_estimators))\n",
        "    hyperparameters['n_estimators'] = estimators\n",
        "    \n",
        "    # Write to the csv file ('a' means append)\n",
        "    of_connection = open(OUT_FILE, 'a')\n",
        "    writer = csv.writer(of_connection)\n",
        "    writer.writerow([loss, hyperparameters, ITERATION, run_time, score, score_std])\n",
        "    of_connection.close()\n",
        "    \n",
        "    # Display progress\n",
        "    if ITERATION % PROGRESS == 0:\n",
        "        display(f'Iteration: {ITERATION}, Current Score: {round(score, 4)}.')\n",
        "    \n",
        "    return {'loss': loss, 'hyperparameters': hyperparameters, 'iteration': ITERATION,\n",
        "            'time': run_time, 'time_std': run_time_std, 'status': STATUS_OK, \n",
        "            'score': score, 'score_std': score_std}"
      ],
      "execution_count": 0,
      "outputs": []
    },
    {
      "metadata": {
        "id": "EtGNOkAI_ydt",
        "colab_type": "text"
      },
      "cell_type": "markdown",
      "source": [
        "### 2. Search Space\n",
        "\n",
        "The domain is the entire range of values over which we want to search. The only difficult part is the `subsample` ratio which must be set to 1.0 if the `boosting_type=\"goss\"`. Feel free to play around with the values here."
      ]
    },
    {
      "metadata": {
        "id": "jnAXxPka_ydt",
        "colab_type": "code",
        "colab": {}
      },
      "cell_type": "code",
      "source": [
        "# Define the search space\n",
        "space = {\n",
        "    'boosting_type': hp.choice('boosting_type', \n",
        "                              [{'boosting_type': 'gbdt', \n",
        "                                'subsample': hp.uniform('gdbt_subsample', 0.5, 1),\n",
        "                                'subsample_freq': hp.quniform('gbdt_subsample_freq', 1, 10, 1)}, \n",
        "                               {'boosting_type': 'dart', \n",
        "                                 'subsample': hp.uniform('dart_subsample', 0.5, 1),\n",
        "                                 'subsample_freq': hp.quniform('dart_subsample_freq', 1, 10, 1),\n",
        "                                 'drop_rate': hp.uniform('dart_drop_rate', 0.1, 0.5)},\n",
        "                                {'boosting_type': 'goss',\n",
        "                                 'subsample': 1.0,\n",
        "                                 'subsample_freq': 0}]),\n",
        "    'limit_max_depth': hp.choice('limit_max_depth', [True, False]),\n",
        "    'max_depth': hp.quniform('max_depth', 1, 40, 1),\n",
        "    'num_leaves': hp.quniform('num_leaves', 3, 50, 1),\n",
        "    'learning_rate': hp.loguniform('learning_rate', \n",
        "                                   np.log(0.025), \n",
        "                                   np.log(0.25)),\n",
        "    'subsample_for_bin': hp.quniform('subsample_for_bin', 2000, 100000, 2000),\n",
        "    'min_child_samples': hp.quniform('min_child_samples', 5, 80, 5),\n",
        "    'reg_alpha': hp.uniform('reg_alpha', 0.0, 1.0),\n",
        "    'reg_lambda': hp.uniform('reg_lambda', 0.0, 1.0),\n",
        "    'colsample_bytree': hp.uniform('colsample_by_tree', 0.5, 1.0)\n",
        "}"
      ],
      "execution_count": 0,
      "outputs": []
    },
    {
      "metadata": {
        "id": "Qeopjtzp_ydu",
        "colab_type": "code",
        "colab": {}
      },
      "cell_type": "code",
      "source": [
        "sample(space)"
      ],
      "execution_count": 0,
      "outputs": []
    },
    {
      "metadata": {
        "id": "aR9RAQ_3_ydu",
        "colab_type": "text"
      },
      "cell_type": "markdown",
      "source": [
        "### 3. Algorithm\n",
        "\n",
        "The algorithm for choosing the next values is the Tree Parzen Estimator which uses Bayes rule for constructing a surrogate model of the objective function. Instead of maximizing the objective function, the algorithm maximizes the Expected Improvement (EI) of the surrogate model."
      ]
    },
    {
      "metadata": {
        "id": "Dj5Dgkjh_ydu",
        "colab_type": "code",
        "colab": {}
      },
      "cell_type": "code",
      "source": [
        "algo = tpe.suggest"
      ],
      "execution_count": 0,
      "outputs": []
    },
    {
      "metadata": {
        "id": "pxGL1UqJ_ydv",
        "colab_type": "text"
      },
      "cell_type": "markdown",
      "source": [
        "### 4. Results History\n",
        "\n",
        "We'll use two different methods for recording results:\n",
        "\n",
        "1. Trials object: stores everything returned from the objective function\n",
        "2. Write to a csv file on every iteration\n",
        "\n",
        "I like using multiple methods for tracking progress because it means redundancy. One way may fail, but hopefully both will not! The csv file can be used to monitor the method while it is running and the Trials object can be saved and then reloaded to resume optimization."
      ]
    },
    {
      "metadata": {
        "id": "z_GCjISo_ydv",
        "colab_type": "code",
        "colab": {}
      },
      "cell_type": "code",
      "source": [
        "# Record results\n",
        "trials = Trials()\n",
        "\n",
        "# Create a file and open a connection\n",
        "OUT_FILE = 'optimization.csv'\n",
        "of_connection = open(OUT_FILE, 'w')\n",
        "writer = csv.writer(of_connection)\n",
        "\n",
        "MAX_EVALS = 100\n",
        "PROGRESS = 10\n",
        "N_FOLDS = 5\n",
        "ITERATION = 0\n",
        "\n",
        "# Write column names\n",
        "headers = ['loss', 'hyperparameters', 'iteration', 'runtime', 'score', 'std']\n",
        "writer.writerow(headers)\n",
        "of_connection.close()"
      ],
      "execution_count": 0,
      "outputs": []
    },
    {
      "metadata": {
        "id": "ZHtTWJ8K_ydv",
        "colab_type": "code",
        "colab": {}
      },
      "cell_type": "code",
      "source": [
        "%%capture --no-display\n",
        "display(\"Running Optimization for {} Trials.\".format(MAX_EVALS))\n",
        "\n",
        "# Run optimization\n",
        "best = fmin(fn = objective, space = space, algo = tpe.suggest, trials = trials,\n",
        "            max_evals = MAX_EVALS)"
      ],
      "execution_count": 0,
      "outputs": []
    },
    {
      "metadata": {
        "id": "YR4wwgzm_ydw",
        "colab_type": "text"
      },
      "cell_type": "markdown",
      "source": [
        "To resume training, we can pass in the same trials object and increase the max number of iterations. For later use, the trials can be saved as json."
      ]
    },
    {
      "metadata": {
        "id": "41VbiNmE_ydw",
        "colab_type": "code",
        "colab": {}
      },
      "cell_type": "code",
      "source": [
        "import json\n",
        "\n",
        "# Save the trial results\n",
        "with open('trials.json', 'w') as f:\n",
        "    f.write(json.dumps(str(trials)))"
      ],
      "execution_count": 0,
      "outputs": []
    },
    {
      "metadata": {
        "id": "7OcC4yEQ_ydw",
        "colab_type": "text"
      },
      "cell_type": "markdown",
      "source": [
        "## Using Optimized Model\n",
        "\n",
        "Once the optimization procedure has finished, we can use the best results for modeling."
      ]
    },
    {
      "metadata": {
        "id": "SKxOW96Y_ydx",
        "colab_type": "code",
        "colab": {}
      },
      "cell_type": "code",
      "source": [
        "results = pd.read_csv(OUT_FILE).sort_values('loss', ascending = True).reset_index()\n",
        "results.head()"
      ],
      "execution_count": 0,
      "outputs": []
    },
    {
      "metadata": {
        "id": "xBRkL6Di_ydy",
        "colab_type": "code",
        "colab": {}
      },
      "cell_type": "code",
      "source": [
        "plt.figure(figsize = (8, 6))\n",
        "sns.regplot('iteration', 'score', data = results);\n",
        "plt.title(\"Optimization Scores\");\n",
        "plt.xticks(list(range(1, results['iteration'].max() + 1, 3)));"
      ],
      "execution_count": 0,
      "outputs": []
    },
    {
      "metadata": {
        "id": "LlTI9Rfw_ydy",
        "colab_type": "code",
        "colab": {}
      },
      "cell_type": "code",
      "source": [
        "best_hyp = ast.literal_eval(results.loc[0, 'hyperparameters'])\n",
        "best_hyp"
      ],
      "execution_count": 0,
      "outputs": []
    },
    {
      "metadata": {
        "id": "jLYANWro_ydy",
        "colab_type": "code",
        "colab": {}
      },
      "cell_type": "code",
      "source": [
        "%%capture\n",
        "submission, gbm_fi, valid_scores = model_gbm(train_selected, train_labels, \n",
        "                                             test_selected, test_ids, \n",
        "                                             nfolds = 10, return_preds=False)\n",
        "\n",
        "model_results = model_results.append(pd.DataFrame({'model': [\"GBM_OPT_10Fold_SEL\"], \n",
        "                                                   'cv_mean': [valid_scores.mean()],\n",
        "                                                   'cv_std':  [valid_scores.std()]}),\n",
        "                                    sort = True).sort_values('cv_mean', ascending = False)"
      ],
      "execution_count": 0,
      "outputs": []
    },
    {
      "metadata": {
        "id": "wbwtVRaF_yd1",
        "colab_type": "code",
        "colab": {}
      },
      "cell_type": "code",
      "source": [
        "%%capture\n",
        "submission, gbm_fi, valid_scores = model_gbm(train_set, train_labels, \n",
        "                                             test_set, test_ids, \n",
        "                                             nfolds = 10, return_preds=False)\n",
        "\n",
        "model_results = model_results.append(pd.DataFrame({'model': [\"GBM_OPT_10Fold\"], \n",
        "                                                   'cv_mean': [valid_scores.mean()],\n",
        "                                                   'cv_std':  [valid_scores.std()]}),\n",
        "                                    sort = True).sort_values('cv_mean', ascending = False)"
      ],
      "execution_count": 0,
      "outputs": []
    },
    {
      "metadata": {
        "id": "2iJf75s8_yd1",
        "colab_type": "code",
        "colab": {}
      },
      "cell_type": "code",
      "source": [
        "model_results.head()"
      ],
      "execution_count": 0,
      "outputs": []
    },
    {
      "metadata": {
        "id": "bjYwb0V5_yd2",
        "colab_type": "code",
        "colab": {}
      },
      "cell_type": "code",
      "source": [
        "submission.to_csv('gbm_opt_10fold_selected.csv', index = False)"
      ],
      "execution_count": 0,
      "outputs": []
    },
    {
      "metadata": {
        "id": "IoG6ilMb_yd4",
        "colab_type": "text"
      },
      "cell_type": "markdown",
      "source": [
        "At this point, to improve our performance, we can continue with the optimization, try more feature engineering, stack or ensemble additional models, or look at more experimental methods such as dimension reduction or oversampling. However, the scores we are getting are fairly good and I'm going to move on to a crucial part of machine learning: investigating the predictions to see where our model is wrong. \n",
        "\n",
        "While Kaggle is great for presenting realistic datasets, the methods needed to get to the very top of the leaderboard are not generally used in the real-world. Past some level of performance, accuracy takes a back seat to interpretability. People want to know why a model makes the predictions it does, much as they would want a human to be able to explain her decisions. We could work on squeezing some more performance from our model, but right now, our energy is better spent investigating our model. "
      ]
    },
    {
      "metadata": {
        "id": "Li-_p8v-_yd4",
        "colab_type": "code",
        "colab": {}
      },
      "cell_type": "code",
      "source": [
        "_ = plot_feature_importances(gbm_fi)"
      ],
      "execution_count": 0,
      "outputs": []
    },
    {
      "metadata": {
        "id": "16LqsjFl_yd5",
        "colab_type": "text"
      },
      "cell_type": "markdown",
      "source": [
        "# Investigate Predictions\n",
        "\n",
        "As a first attempt at looking into our model, we can visualize the distribution of predicted labels on the test data. We would expect these to show the same distribution as on the training data. Since we are concerned with household predictions, we'll look at only the predictions for each house and compare with that in the training data.\n",
        "\n",
        "The following histrograms are normalize meaning that they show the relative frequency instead of the absolute counts. This is necessary because the raw counts differ in the training and testing data."
      ]
    },
    {
      "metadata": {
        "id": "khOsmu6g_yd5",
        "colab_type": "code",
        "colab": {}
      },
      "cell_type": "code",
      "source": [
        "preds = submission_base.merge(submission, on = 'Id', how = 'left')\n",
        "preds = pd.DataFrame(preds.groupby('idhogar')['Target'].mean())\n",
        "\n",
        "# Plot the training labels distribution\n",
        "fig, axes = plt.subplots(1, 2, sharey = True, figsize = (12, 6))\n",
        "heads['Target'].sort_index().plot.hist(normed = True,\n",
        "                                       edgecolor = r'k',\n",
        "                                       linewidth = 2,\n",
        "                                       ax = axes[0])\n",
        "\n",
        "axes[0].set_xticks([1, 2, 3, 4]);\n",
        "axes[0].set_xticklabels(poverty_mapping.values(), rotation = 60)\n",
        "axes[0].set_title('Train Label Distribution')\n",
        "\n",
        "# Plot the predicted labels\n",
        "preds['Target'].sort_index().plot.hist(normed = True, \n",
        "                                       edgecolor = 'k',\n",
        "                                       linewidth = 2,\n",
        "                                       ax = axes[1])\n",
        "axes[1].set_xticks([1, 2, 3, 4]);\n",
        "axes[1].set_xticklabels(poverty_mapping.values(), rotation = 60)\n",
        "plt.subplots_adjust()\n",
        "plt.title('Predicted Label Distribution');"
      ],
      "execution_count": 0,
      "outputs": []
    },
    {
      "metadata": {
        "id": "k9dGHrfZ_yd6",
        "colab_type": "code",
        "colab": {}
      },
      "cell_type": "code",
      "source": [
        "heads['Target'].value_counts()"
      ],
      "execution_count": 0,
      "outputs": []
    },
    {
      "metadata": {
        "id": "b2qd166Q_yd7",
        "colab_type": "code",
        "colab": {}
      },
      "cell_type": "code",
      "source": [
        "preds['Target'].value_counts()"
      ],
      "execution_count": 0,
      "outputs": []
    },
    {
      "metadata": {
        "id": "kxVgM6ja_yd8",
        "colab_type": "text"
      },
      "cell_type": "markdown",
      "source": [
        "The predicted distribution looks close to the training distribution although there are some differences. Depending on the run of the notebook, the results you see may change, but for this edition, the 4s are underrepresented in the predictions and the 3s are overrepresented.\n",
        "\n",
        "One potentially method for dealing with imbalanced classification problems is [oversampling the minority class](http://contrib.scikit-learn.org/imbalanced-learn/stable/over_sampling.html), which is easy to do in Python using the imbalanced learn library. We won't explore that option here."
      ]
    },
    {
      "metadata": {
        "id": "dzLyDGsG_yd8",
        "colab_type": "text"
      },
      "cell_type": "markdown",
      "source": [
        "## Validation\n",
        "\n",
        "For the test predictions, we can only compare the distribution with that found on the training data. If we want to compare predictions to actual answers, we'll have to split the training data into a separate validation set. We'll use 1000 examples for testing and then we can do operations like make the confusion matrix because we have the right answer."
      ]
    },
    {
      "metadata": {
        "id": "DDuNJJw1_yd8",
        "colab_type": "code",
        "colab": {}
      },
      "cell_type": "code",
      "source": [
        "from sklearn.model_selection import train_test_split\n",
        "\n",
        "# Split into validation set\n",
        "X_train, X_valid, y_train, y_valid = train_test_split(train_selected,\n",
        "                                                      train_labels,\n",
        "                                                      test_size = 1000,\n",
        "                                                      random_state = 10)\n",
        "\n",
        "# Create model and train\n",
        "model = lgb.LGBMClassifier(**best_hyp, \n",
        "                           class_weight = 'balanced',\n",
        "                           random_state = 10)\n",
        "model.fit(X_train, y_train);"
      ],
      "execution_count": 0,
      "outputs": []
    },
    {
      "metadata": {
        "id": "L1DdHATx_yd8",
        "colab_type": "code",
        "colab": {}
      },
      "cell_type": "code",
      "source": [
        "# Make validation predictions\n",
        "valid_preds = model.predict_proba(X_valid)\n",
        "preds_df = pd.DataFrame(valid_preds, columns = [1, 2, 3, 4])\n",
        "\n",
        "# Convert into predictions\n",
        "preds_df['prediction'] = preds_df[[1, 2, 3, 4]].idxmax(axis = 1)\n",
        "preds_df['confidence'] = preds_df[[1, 2, 3, 4]].max(axis = 1)\n",
        "\n",
        "preds_df.head()"
      ],
      "execution_count": 0,
      "outputs": []
    },
    {
      "metadata": {
        "id": "pQdsoSYg_yd9",
        "colab_type": "code",
        "colab": {}
      },
      "cell_type": "code",
      "source": [
        "print('F1 score:', round(f1_score(y_valid, preds_df['prediction'], average = 'macro'), 5))"
      ],
      "execution_count": 0,
      "outputs": []
    },
    {
      "metadata": {
        "id": "r7dRKUUi_yd9",
        "colab_type": "text"
      },
      "cell_type": "markdown",
      "source": [
        "Let's use our predictions to plot a confusion matrix. This lets us see where the model is \"confused\" by showing the differences between predictions and true values. The code for this confusion matrix is adapted from: http://scikit-learn.org/stable/auto_examples/model_selection/plot_confusion_matrix.html"
      ]
    },
    {
      "metadata": {
        "id": "fFvxV_KZ_yd9",
        "colab_type": "code",
        "colab": {}
      },
      "cell_type": "code",
      "source": [
        "from sklearn.metrics import confusion_matrix\n",
        "import itertools\n",
        "\n",
        "def plot_confusion_matrix(cm, classes,\n",
        "                          normalize=False,\n",
        "                          title='Confusion matrix',\n",
        "                          cmap=plt.cm.Oranges):\n",
        "    \"\"\"\n",
        "    This function prints and plots the confusion matrix.\n",
        "    Normalization can be applied by setting `normalize=True`.\n",
        "    Source: http://scikit-learn.org/stable/auto_examples/model_selection/plot_confusion_matrix.html\n",
        "    \"\"\"\n",
        "    if normalize:\n",
        "        cm = cm.astype('float') / cm.sum(axis=1)[:, np.newaxis]\n",
        "        print(\"Normalized confusion matrix\")\n",
        "    else:\n",
        "        print('Confusion matrix, without normalization')\n",
        "\n",
        "    print(cm)\n",
        "\n",
        "    plt.figure(figsize = (10, 10))\n",
        "    plt.imshow(cm, interpolation='nearest', cmap=cmap)\n",
        "    plt.title(title, size = 24)\n",
        "    plt.colorbar(aspect=4)\n",
        "    tick_marks = np.arange(len(classes))\n",
        "    plt.xticks(tick_marks, classes, rotation=45, size = 14)\n",
        "    plt.yticks(tick_marks, classes, size = 14)\n",
        "\n",
        "    fmt = '.2f' if normalize else 'd'\n",
        "    thresh = cm.max() / 2.\n",
        "    \n",
        "    # Labeling the plot\n",
        "    for i, j in itertools.product(range(cm.shape[0]), range(cm.shape[1])):\n",
        "        plt.text(j, i, format(cm[i, j], fmt), fontsize = 20,\n",
        "                 horizontalalignment=\"center\",\n",
        "                 color=\"white\" if cm[i, j] > thresh else \"black\")\n",
        "        \n",
        "    plt.grid(None)\n",
        "    plt.tight_layout()\n",
        "    plt.ylabel('True label', size = 18)\n",
        "    plt.xlabel('Predicted label', size = 18)"
      ],
      "execution_count": 0,
      "outputs": []
    },
    {
      "metadata": {
        "id": "dbtKFzf0_yd-",
        "colab_type": "code",
        "colab": {}
      },
      "cell_type": "code",
      "source": [
        "cm = confusion_matrix(y_valid, preds_df['prediction'])\n",
        "\n",
        "plot_confusion_matrix(cm, classes = ['Extreme', 'Moderate', 'Vulnerable', 'Non-Vulnerable'],\n",
        "                      title = 'Poverty Confusion Matrix')"
      ],
      "execution_count": 0,
      "outputs": []
    },
    {
      "metadata": {
        "id": "h7JR2u8f_yd_",
        "colab_type": "text"
      },
      "cell_type": "markdown",
      "source": [
        "Here's how to read the confusion matrix: any of the values on the diagonal, the model got correct because the predicted value matches the true value. Anything not on the diagonal our model got wrong which we can assess by looking at the predicted value versus the actual value. \n",
        "\n",
        "For example, our model correctly predicted 25 observations where the poverty was extreme. On the other hand, for 26 cases where the poverty was extreme, our model predicted it was moderate. For 95 cases where the poverty was Non-Vulnerable, our model predicted the poverty was Vulnerable. Overall, we see that our model is only very accurate at idenifying the non-vulnerable households.\n",
        "\n",
        "To look at the percentage of each true label predicted in each class, we can normalize the confusion matrix for the true labels."
      ]
    },
    {
      "metadata": {
        "id": "nNQu47j-_yd_",
        "colab_type": "code",
        "colab": {}
      },
      "cell_type": "code",
      "source": [
        "plot_confusion_matrix(cm, normalize = True,\n",
        "                      classes = ['Extreme', 'Moderate', 'Vulnerable', 'Non-Vulnerable'],\n",
        "                      title = 'Poverty Confusion Matrix')"
      ],
      "execution_count": 0,
      "outputs": []
    },
    {
      "metadata": {
        "id": "jXDL8Vui_yeA",
        "colab_type": "text"
      },
      "cell_type": "markdown",
      "source": [
        "Now we can see that our model really does not do that well for classes other than Non Vulnerable. It only correctly identifies 15% of the Vulnerable households, classifying more of them as moderate or non vulnerable. Overall, these results show that imbalanced classification problems with relatively few observations are very difficult. There are some methods we can take to try and counter this such as oversampling or training multiple models on different sections of the data, but at the end of the day, the most effective method may be to __gather more data__. "
      ]
    },
    {
      "metadata": {
        "id": "avthX_JS_yeA",
        "colab_type": "text"
      },
      "cell_type": "markdown",
      "source": [
        "# Dimension Reduction\n",
        "\n",
        "As a final exploration of the problem, we can apply a few different dimension reductions methods to the selected data set. These methods can be used for visualization or as a preprocessing method for machine learning. We'll look at four different methods:\n",
        "\n",
        "1. [PCA: Principal Components Analysis](https://en.wikipedia.org/wiki/Principal_component_analysis). Finds the dimensions of greatest variation in the data\n",
        "2. [ICA: Independent Components Analysis](https://en.wikipedia.org/wiki/Independent_component_analysis). Attempts to separate a mutltivariate signal into independent signals. \n",
        "3. [TSNE: T-distributed Stochastic Neighbor Embedding](http://www.jmlr.org/papers/volume9/vandermaaten08a/vandermaaten08a.pdf). Maps high-dimensional data to a low-dimensional manifold attempting to maintain the local structure within the data. It is a non-linear technique and generally only used for visualization.\n",
        "4. [UMAP: Uniform Manifold Approximation and Projection](https://arxiv.org/pdf/1802.03426.pdf): A relatively new technique that also maps data to a low-dimensional manifold but tries to preserve more global structure than TSNE. \n",
        "\n",
        "All four of these methods are relatively simple to implement in Python. We'll map the selected features down to 3 dimensions for visualization and then also use PCA, ICA, and UMAP as features for modeling (TSNE has no `transform` method and hence cannot be used for preprocessing)."
      ]
    },
    {
      "metadata": {
        "id": "7Szy_wIh_yeA",
        "colab_type": "code",
        "colab": {}
      },
      "cell_type": "code",
      "source": [
        "from umap import UMAP\n",
        "from sklearn.decomposition import PCA, FastICA\n",
        "from sklearn.manifold import TSNE\n",
        "\n",
        "n_components = 3\n",
        "\n",
        "umap = UMAP(n_components=n_components)\n",
        "pca = PCA(n_components=n_components)\n",
        "ica = FastICA(n_components=n_components)\n",
        "tsne = TSNE(n_components=n_components)"
      ],
      "execution_count": 0,
      "outputs": []
    },
    {
      "metadata": {
        "id": "aCmNiPPH_yeB",
        "colab_type": "code",
        "colab": {}
      },
      "cell_type": "code",
      "source": [
        "train_df = train_selected.copy()\n",
        "test_df = test_selected.copy()\n",
        "\n",
        "for method, name in zip([umap, pca, ica, tsne], \n",
        "                        ['umap', 'pca', 'ica', 'tsne']):\n",
        "    \n",
        "    # TSNE has no transform method\n",
        "    if name == 'tsne':\n",
        "        start = timer()\n",
        "        reduction = method.fit_transform(train_selected)\n",
        "        end = timer()\n",
        "    \n",
        "    else:\n",
        "        start = timer()\n",
        "        reduction = method.fit_transform(train_selected)\n",
        "        end = timer()\n",
        "        \n",
        "        test_reduction = method.transform(test_selected)\n",
        "    \n",
        "        # Add components to test data\n",
        "        test_df['%s_c1' % name] = test_reduction[:, 0]\n",
        "        test_df['%s_c2' % name] = test_reduction[:, 1]\n",
        "        test_df['%s_c3' % name] = test_reduction[:, 2]\n",
        "\n",
        "    # Add components to training data for visualization and modeling\n",
        "    train_df['%s_c1' % name] = reduction[:, 0]\n",
        "    train_df['%s_c2' % name] = reduction[:, 1]\n",
        "    train_df['%s_c3' % name] = reduction[:, 2]\n",
        "    \n",
        "    print(f'Method: {name} {round(end - start, 2)} seconds elapsed.')"
      ],
      "execution_count": 0,
      "outputs": []
    },
    {
      "metadata": {
        "id": "2z6Y4pEV_yeB",
        "colab_type": "code",
        "colab": {}
      },
      "cell_type": "code",
      "source": [
        "from mpl_toolkits.mplot3d import Axes3D\n",
        "\n",
        "def discrete_cmap(N, base_cmap=None):\n",
        "    \"\"\"Create an N-bin discrete colormap from the specified input map\n",
        "    Source: https://gist.github.com/jakevdp/91077b0cae40f8f8244a\"\"\"\n",
        "\n",
        "    base = plt.cm.get_cmap(base_cmap)\n",
        "    color_list = base(np.linspace(0, 1, N))\n",
        "    cmap_name = base.name + str(N)\n",
        "    return base.from_list(cmap_name, color_list, N)\n",
        "\n",
        "cmap = discrete_cmap(4, base_cmap = plt.cm.RdYlBu)\n",
        "\n",
        "train_df['label'] = train_labels"
      ],
      "execution_count": 0,
      "outputs": []
    },
    {
      "metadata": {
        "id": "86_2EsqN_yeC",
        "colab_type": "code",
        "colab": {}
      },
      "cell_type": "code",
      "source": [
        "# Plot each method\n",
        "for method, name in zip([umap, pca, ica, tsne], \n",
        "                        ['umap', 'pca', 'ica', 'tsne']):\n",
        "    \n",
        "    fig = plt.figure(figsize = (8, 8))\n",
        "    ax = fig.add_subplot(111, projection='3d')\n",
        "    \n",
        "    p = ax.scatter(train_df['%s_c1' % name], train_df['%s_c2'  % name], train_df['%s_c3'  % name], \n",
        "                   c = train_df['label'].astype(int), cmap = cmap)\n",
        "    \n",
        "    plt.title(f'{name.capitalize()}', size = 22)\n",
        "    fig.colorbar(p, aspect = 4, ticks = [1, 2, 3, 4])"
      ],
      "execution_count": 0,
      "outputs": []
    },
    {
      "metadata": {
        "id": "wo7uG0Bn_yeC",
        "colab_type": "text"
      },
      "cell_type": "markdown",
      "source": [
        "It's difficult to see much clustering in these plots, which indicates that separating the poverty levels is hard given the available data. Machine learning models are only as effective as the data we give to them, and sometimes the data does not have enough information.\n",
        "\n",
        "As a final step, we can train a model using the added reductions from PCA, ICA, and UMAP. We'll use the same Light GBM hyperparameters from the optimization."
      ]
    },
    {
      "metadata": {
        "id": "8x_3oVEc_yeC",
        "colab_type": "code",
        "colab": {}
      },
      "cell_type": "code",
      "source": [
        "train_df, test_df = train_df.align(test_df, axis = 1, join = 'inner')"
      ],
      "execution_count": 0,
      "outputs": []
    },
    {
      "metadata": {
        "id": "wjYHLgN1_yeD",
        "colab_type": "code",
        "colab": {}
      },
      "cell_type": "code",
      "source": [
        "%%capture\n",
        "\n",
        "submission, gbm_fi, valid_scores = model_gbm(train_df, train_labels, \n",
        "                                             test_df, test_ids, nfolds = 10,\n",
        "                                             hyp = best_hyp)"
      ],
      "execution_count": 0,
      "outputs": []
    },
    {
      "metadata": {
        "id": "MSM7aW6o_yeE",
        "colab_type": "code",
        "colab": {}
      },
      "cell_type": "code",
      "source": [
        "submission.to_csv('gbm_opt_10fold_dr.csv', index = False)"
      ],
      "execution_count": 0,
      "outputs": []
    },
    {
      "metadata": {
        "id": "DnJED4IM_yeG",
        "colab_type": "code",
        "colab": {}
      },
      "cell_type": "code",
      "source": [
        "model_results = model_results.append(pd.DataFrame({'model': [\"GBM_OPT_10Fold_DR\"], \n",
        "                                                   'cv_mean': [valid_scores.mean()],\n",
        "                                                   'cv_std':  [valid_scores.std()]}),\n",
        "                                    sort = True)"
      ],
      "execution_count": 0,
      "outputs": []
    },
    {
      "metadata": {
        "id": "L3QNanjC_yeH",
        "colab_type": "code",
        "colab": {}
      },
      "cell_type": "code",
      "source": [
        "model_results = model_results.sort_values('cv_mean')\n",
        "model_results.set_index('model', inplace = True)\n",
        "model_results['cv_mean'].plot.bar(color = 'orange', figsize = (10, 8),\n",
        "                                  edgecolor = 'k', linewidth = 2,\n",
        "                                  yerr = list(model_results['cv_std']))\n",
        "plt.title('Model F1 Score Results');\n",
        "plt.ylabel('Mean F1 Score (with error bar)');\n",
        "model_results.reset_index(inplace = True)"
      ],
      "execution_count": 0,
      "outputs": []
    },
    {
      "metadata": {
        "id": "yuOEUhbo_yeJ",
        "colab_type": "text"
      },
      "cell_type": "markdown",
      "source": [
        "The dimensionality reduction components slightly hurt the overall score of the model. It's possible that they only lead to overfitting on the training data. "
      ]
    },
    {
      "metadata": {
        "id": "1cdIkeIP_yeJ",
        "colab_type": "code",
        "colab": {}
      },
      "cell_type": "code",
      "source": [
        "_ = plot_feature_importances(gbm_fi)"
      ],
      "execution_count": 0,
      "outputs": []
    },
    {
      "metadata": {
        "id": "PRffttH2_yeK",
        "colab_type": "text"
      },
      "cell_type": "markdown",
      "source": [
        "Given the high importance of the dimension reduction components, it looks like they may be causing overfitting. The dimension reduction methods are not using any of the label information, which means they might not necessarily have any useful information for the model."
      ]
    },
    {
      "metadata": {
        "id": "DX_54lN7_yeL",
        "colab_type": "text"
      },
      "cell_type": "markdown",
      "source": [
        "# Visualize Single Decision Tree"
      ]
    },
    {
      "metadata": {
        "id": "FGPjbmBc_yeL",
        "colab_type": "text"
      },
      "cell_type": "markdown",
      "source": [
        "As a final step, we can look at one decision tree in the random forest. First we'll limited the max depth for visability, and then we'll expand the tree all the way.\n",
        "\n",
        "The first step is simply to train a random forest and extract one tree (we could also train a single decision tree)."
      ]
    },
    {
      "metadata": {
        "id": "Qbdnty_T_yeL",
        "colab_type": "code",
        "colab": {}
      },
      "cell_type": "code",
      "source": [
        "model = RandomForestClassifier(max_depth = 3, n_estimators=10)\n",
        "model.fit(train_selected, train_labels)\n",
        "estimator_limited = model.estimators_[5]\n",
        "estimator_limited"
      ],
      "execution_count": 0,
      "outputs": []
    },
    {
      "metadata": {
        "id": "lKC3cK1V_yeM",
        "colab_type": "text"
      },
      "cell_type": "markdown",
      "source": [
        "We take the trained tree and export it as a `.dot` file using `export_graphviz`."
      ]
    },
    {
      "metadata": {
        "id": "Ac8YDe-S_yeM",
        "colab_type": "code",
        "colab": {}
      },
      "cell_type": "code",
      "source": [
        "from sklearn.tree import export_graphviz\n",
        "\n",
        "export_graphviz(estimator_limited, out_file='tree_limited.dot', feature_names = train_selected.columns,\n",
        "                class_names = ['extreme', 'moderate' , 'vulnerable', 'non-vulnerable'],\n",
        "                rounded = True, proportion = False, precision = 2, filled = True)"
      ],
      "execution_count": 0,
      "outputs": []
    },
    {
      "metadata": {
        "id": "fameOZmI_yeN",
        "colab_type": "text"
      },
      "cell_type": "markdown",
      "source": [
        "Next we use a system command to convert dot file to png."
      ]
    },
    {
      "metadata": {
        "id": "q0j_N-LZ_yeN",
        "colab_type": "code",
        "colab": {}
      },
      "cell_type": "code",
      "source": [
        "!dot -Tpng tree_limited.dot -o tree_limited.png"
      ],
      "execution_count": 0,
      "outputs": []
    },
    {
      "metadata": {
        "id": "vSG_DM2-_yeN",
        "colab_type": "text"
      },
      "cell_type": "markdown",
      "source": [
        "Finally, we can view the tree in a Jupyter Notebok using `IPython.display` (this is the nicest way to render an image. It also happens to be quite simple."
      ]
    },
    {
      "metadata": {
        "id": "bv2z3f_E_yeO",
        "colab_type": "code",
        "colab": {}
      },
      "cell_type": "code",
      "source": [
        "# Display in jupyter notebook\n",
        "from IPython.display import Image\n",
        "Image(filename = 'tree_limited.png')"
      ],
      "execution_count": 0,
      "outputs": []
    },
    {
      "metadata": {
        "id": "3rWj0yPg_yeO",
        "colab_type": "text"
      },
      "cell_type": "markdown",
      "source": [
        "#### Visualize Tree with No Maximum Depth\n",
        "\n",
        "When we don't limit the depth, the tree grows extremely deep! It's therefore usually helpful to do some limitation (unless you just like the look of the large tree)! "
      ]
    },
    {
      "metadata": {
        "id": "wOT6T-Na_yeP",
        "colab_type": "code",
        "colab": {}
      },
      "cell_type": "code",
      "source": [
        "# No maximum depth\n",
        "model = RandomForestClassifier(max_depth = None, n_estimators=10)\n",
        "model.fit(train_selected, train_labels)\n",
        "estimator_nonlimited = model.estimators_[5]\n",
        "\n",
        "export_graphviz(estimator_nonlimited, out_file='tree_nonlimited.dot', feature_names = train_selected.columns,\n",
        "                class_names = ['extreme', 'moderate' , 'vulnerable', 'non-vulnerable'],\n",
        "                rounded = True, proportion = False, precision = 2)\n",
        "\n",
        "!dot -Tpng tree_nonlimited.dot -o tree_nonlimited.png -Gdpi=600"
      ],
      "execution_count": 0,
      "outputs": []
    },
    {
      "metadata": {
        "id": "pnPLTGfE_yeP",
        "colab_type": "code",
        "colab": {}
      },
      "cell_type": "code",
      "source": [
        "Image(filename = 'tree_nonlimited.png')"
      ],
      "execution_count": 0,
      "outputs": []
    },
    {
      "metadata": {
        "id": "odAKOpa0_yeQ",
        "colab_type": "text"
      },
      "cell_type": "markdown",
      "source": [
        "# Conclusions\n",
        "\n",
        "In this notebook, we went through a step-by-step implementation of an entire data science solution to a real-world problem. Machine learning is really just a series of steps, each simple by themselves, with the overall result often extremely powerful. \n",
        "\n",
        "Our path was as follows:\n",
        "\n",
        "1. Understand the problem\n",
        "2. Exploratory Data Analysis\n",
        "    * Deal with data issues\n",
        "    * Fill in missing values\n",
        "3. Feature Engineering\n",
        "    * Aggregate data \n",
        "    * Feature selection in stages\n",
        "4. Model Selection\n",
        "    * Try many different models to see which one is most promising\n",
        "    * Feature selection can also come into play\n",
        "5. Model Optimization\n",
        "    * Choose the best performing model and tune\n",
        "6. Implementing best model\n",
        "7. Investigate predictions\n",
        "    * Identify model shortcomings\n",
        "8. Try new techniques\n",
        "    * Experiment and learn! \n",
        "  \n",
        "As stated in the introduction, while these steps do have a general order, there is nothing preventing us from repeating them based on subsequent work. For example, we often go back to feature engineering/selection after modeling if we are not satisfied with our performance. After investigating predictions, we might return to the modeling stage and re-think our approach.\n",
        "\n",
        "It's also important to keep in mind that machine learning is largely empirical: there are few established best practices so you need to constantly experiement to determine what works best. That's why we included the last step: we got to try out some new methods and even if they don't pay off for this project, they may be useful in the future. As data scientists we need to be constantly learning to do our work more effectively with the best tools possible.\n",
        "\n",
        "Our final model does well compared to others in the competition, but overall is not extremely accurate. There might be ways to improve performance, but overall, we might not have enough data to achieve exceptional metrics. That's an important point to remember: at the end of the day, the success or failure of a data science project will rest on the quality and quantity of available data. We have solved the problem of classifying household poverty in Porto Rica as well as we can with the available tools, and the next process if we were in charge would be figuring out what more data could be collected to yield a better solution.\n",
        "\n",
        "## Next Steps\n",
        "\n",
        "Although we tried many possible approaches, there are still some methods that we did not implement but might prove useful:\n",
        "\n",
        "* Further Hyperparameter tuning: we did not spend much time optimizing the model and there are other packages for optimization that we could try. \n",
        "* Further feature selection: we probably do not need to retain all of the features to get the same performance\n",
        "* [Oversampling the minority class](http://contrib.scikit-learn.org/imbalanced-learn/stable/over_sampling.html) / undersampling the majority class: an advanced techinque that might improve performance\n",
        "* Ensembling or stacking multiple models. We could train models on different sections of the data and then combine their predictions to try and better separate the classes. It might also be worthwhile to include models other than the gradient boosting machine. \n",
        "\n",
        "The most valuable part of a Kaggle competition is never the rewards, but the knowledge gained along the way. These contests are great for learning how to solve realistic problems and I approach every new problem as an opportunity to improve as a data scientist. Thanks for reading!\n",
        "\n",
        "If you're looking for more on this competition, I have a kernel using automated feature engineering for this problem: [Featuretools for Good](https://www.kaggle.com/willkoehrsen/featuretools-for-good). \n",
        "\n",
        "Best,\n",
        "\n",
        "Will \n"
      ]
    },
    {
      "metadata": {
        "id": "MK8K-Axy_yeQ",
        "colab_type": "code",
        "colab": {}
      },
      "cell_type": "code",
      "source": [
        ""
      ],
      "execution_count": 0,
      "outputs": []
    }
  ]
}