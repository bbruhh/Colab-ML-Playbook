{
  "nbformat": 4,
  "nbformat_minor": 0,
  "metadata": {
    "colab": {
      "name": "NLP_notebook.ipynb",
      "version": "0.3.2",
      "provenance": []
    },
    "kernelspec": {
      "display_name": "Python 3",
      "language": "python",
      "name": "python3"
    },
    "accelerator": "GPU"
  },
  "cells": [
    {
      "metadata": {
        "id": "nXvh6RWFYxqf",
        "colab_type": "text"
      },
      "cell_type": "markdown",
      "source": [
        "# Concrete solutions to real problems\n",
        "## An NLP workshop by Emmanuel Ameisen [(@EmmanuelAmeisen)](https://twitter.com/EmmanuelAmeisen), from Insight AI"
      ]
    },
    {
      "metadata": {
        "id": "J68RdnsSZDPN",
        "colab_type": "text"
      },
      "cell_type": "markdown",
      "source": [
        "*References:\n",
        "\n",
        "[https://blog.insightdatascience.com/how-to-solve-90-of-nlp-problems-a-step-by-step-guide-fda605278e4e](https://blog.insightdatascience.com/how-to-solve-90-of-nlp-problems-a-step-by-step-guide-fda605278e4e)"
      ]
    },
    {
      "metadata": {
        "id": "dfQwHgbJY4YN",
        "colab_type": "text"
      },
      "cell_type": "markdown",
      "source": [
        "<table class=\"tfo-notebook-buttons\" align=\"left\">\n",
        "  <td>\n",
        "    <a target=\"_blank\" href=\"https://colab.research.google.com/github/learning-stack/Colab-ML-Playbook/blob/master/How%20to%20solve%20NLP%20problems/NLP_notebook.ipynb\"><img src=\"https://www.tensorflow.org/images/colab_logo_32px.png\" />Run in Google Colab</a>\n",
        "  </td>\n",
        "  <td>\n",
        "    <a target=\"_blank\" href=\"https://github.com/learning-stack/Colab-ML-Playbook/blob/master/How%20to%20solve%20NLP%20problems/NLP_notebook.ipynb\"><img src=\"https://www.tensorflow.org/images/GitHub-Mark-32px.png\" />View source on GitHub</a>\n",
        "  </td>\n",
        "</table>"
      ]
    },
    {
      "metadata": {
        "id": "2dqIucKeYxqi",
        "colab_type": "text"
      },
      "cell_type": "markdown",
      "source": [
        "While there exist a wealth of elaborate and abstract NLP techniques, clustering and classification should always be in our toolkit as the first techniques to use when dealing with this kind of data. In addition to being amongst some of the easiest to scale in production, their ease of use can quickly help business address a set of applied problems:\n",
        "\n",
        "- How do you automatically make the distinction between different categories of sentences?\n",
        "- How can you find sentences in a dataset that are most similar to a given one?\n",
        "- How can you extract a rich and concise representation that can then be used for a range of other tasks?\n",
        "- Most importantly, how do you find quickly whether these tasks are possible on your dataset at all?\n",
        "\n",
        "While there is a vast amount of resources on classical Machine Learning, or Deep Learning applied to images, I've found that there is a lack of clear, simple guides as to what to do when one wants to find a meaningful representation for sentences (in order to classify them or group them together for examples). Here is my attempt below."
      ]
    },
    {
      "metadata": {
        "id": "-d4wyIbLYxqj",
        "colab_type": "text"
      },
      "cell_type": "markdown",
      "source": [
        "## It starts with data"
      ]
    },
    {
      "metadata": {
        "id": "nnNB4VezYxqk",
        "colab_type": "text"
      },
      "cell_type": "markdown",
      "source": [
        "### Our Dataset: Disasters on social media\n",
        "Contributors looked at over 10,000 tweets retrieved with a variety of searches like “ablaze”, “quarantine”, and “pandemonium”, then noted whether the tweet referred to a disaster event (as opposed to a joke with the word or a movie review or something non-disastrous). Thank you [Crowdflower](https://www.crowdflower.com/data-for-everyone/).\n",
        "\n",
        "### Why it matters\n",
        "We will try to correctly predict tweets that are about disasters. This is a very relevant problem, because:\n",
        "- It is actionable to anybody trying to get signal from noise (such as police departments in this case)\n",
        "- It is tricky because relying on keywords is harder than in most cases like spam"
      ]
    },
    {
      "metadata": {
        "id": "bXo0Fu5LYxql",
        "colab_type": "code",
        "colab": {}
      },
      "cell_type": "code",
      "source": [
        "import keras\n",
        "import nltk\n",
        "import pandas as pd\n",
        "import numpy as np\n",
        "import re\n",
        "import codecs"
      ],
      "execution_count": 0,
      "outputs": []
    },
    {
      "metadata": {
        "id": "jX-T0SN1Yxqp",
        "colab_type": "text"
      },
      "cell_type": "markdown",
      "source": [
        "### Sanitizing input\n",
        "Let's make sure our tweets only have characters we want. We remove '#' characters but keep the words after the '#' sign because they might be relevant (eg: #disaster)"
      ]
    },
    {
      "metadata": {
        "id": "6cLmFviJZDdq",
        "colab_type": "code",
        "colab": {
          "base_uri": "https://localhost:8080/",
          "height": 204
        },
        "outputId": "4000983e-c880-4a4b-8db0-a1c2595f54a3"
      },
      "cell_type": "code",
      "source": [
        "!wget https://raw.githubusercontent.com/hundredblocks/concrete_NLP_tutorial/master/socialmedia_relevant_cols.csv"
      ],
      "execution_count": 17,
      "outputs": [
        {
          "output_type": "stream",
          "text": [
            "--2018-08-29 16:06:44--  https://raw.githubusercontent.com/hundredblocks/concrete_NLP_tutorial/master/socialmedia_relevant_cols.csv\r\n",
            "Resolving raw.githubusercontent.com (raw.githubusercontent.com)... 151.101.0.133, 151.101.64.133, 151.101.128.133, ...\r\n",
            "Connecting to raw.githubusercontent.com (raw.githubusercontent.com)|151.101.0.133|:443... connected.\n",
            "HTTP request sent, awaiting response... 200 OK\n",
            "Length: 1270924 (1.2M) [text/plain]\n",
            "Saving to: ‘socialmedia_relevant_cols.csv’\n",
            "\n",
            "socialmedia_relevan 100%[===================>]   1.21M  6.84MB/s    in 0.2s    \n",
            "\n",
            "2018-08-29 16:06:45 (6.84 MB/s) - ‘socialmedia_relevant_cols.csv’ saved [1270924/1270924]\n",
            "\n"
          ],
          "name": "stdout"
        }
      ]
    },
    {
      "metadata": {
        "id": "1FYyPY7rYxqq",
        "colab_type": "code",
        "colab": {}
      },
      "cell_type": "code",
      "source": [
        "input_file = codecs.open(\"socialmedia_relevant_cols.csv\", \"r\",encoding='utf-8', errors='replace')\n",
        "output_file = open(\"socialmedia_relevant_cols_clean.csv\", \"w\")\n",
        "\n",
        "def sanitize_characters(raw, clean):    \n",
        "    for line in input_file:\n",
        "        out = line\n",
        "        output_file.write(line)\n",
        "sanitize_characters(input_file, output_file)"
      ],
      "execution_count": 0,
      "outputs": []
    },
    {
      "metadata": {
        "id": "gztyjpaQYxqs",
        "colab_type": "text"
      },
      "cell_type": "markdown",
      "source": [
        "### Let's inspect the data\n",
        "It looks solid, but we don't really need urls, and we would like to have our words all lowercase (Hello and HELLO are pretty similar for our task)"
      ]
    },
    {
      "metadata": {
        "id": "BFPSob53Yxqt",
        "colab_type": "code",
        "colab": {
          "base_uri": "https://localhost:8080/",
          "height": 204
        },
        "outputId": "e7c5f23a-863a-41a0-f3b7-7554ad4933be"
      },
      "cell_type": "code",
      "source": [
        "questions = pd.read_csv(\"socialmedia_relevant_cols_clean.csv\")\n",
        "questions.columns=['text', 'choose_one', 'class_label']\n",
        "questions.head()"
      ],
      "execution_count": 19,
      "outputs": [
        {
          "output_type": "execute_result",
          "data": {
            "text/html": [
              "<div>\n",
              "<style scoped>\n",
              "    .dataframe tbody tr th:only-of-type {\n",
              "        vertical-align: middle;\n",
              "    }\n",
              "\n",
              "    .dataframe tbody tr th {\n",
              "        vertical-align: top;\n",
              "    }\n",
              "\n",
              "    .dataframe thead th {\n",
              "        text-align: right;\n",
              "    }\n",
              "</style>\n",
              "<table border=\"1\" class=\"dataframe\">\n",
              "  <thead>\n",
              "    <tr style=\"text-align: right;\">\n",
              "      <th></th>\n",
              "      <th>text</th>\n",
              "      <th>choose_one</th>\n",
              "      <th>class_label</th>\n",
              "    </tr>\n",
              "  </thead>\n",
              "  <tbody>\n",
              "    <tr>\n",
              "      <th>0</th>\n",
              "      <td>Just happened a terrible car crash</td>\n",
              "      <td>Relevant</td>\n",
              "      <td>1</td>\n",
              "    </tr>\n",
              "    <tr>\n",
              "      <th>1</th>\n",
              "      <td>Our Deeds are the Reason of this #earthquake M...</td>\n",
              "      <td>Relevant</td>\n",
              "      <td>1</td>\n",
              "    </tr>\n",
              "    <tr>\n",
              "      <th>2</th>\n",
              "      <td>Heard about #earthquake is different cities, s...</td>\n",
              "      <td>Relevant</td>\n",
              "      <td>1</td>\n",
              "    </tr>\n",
              "    <tr>\n",
              "      <th>3</th>\n",
              "      <td>there is a forest fire at spot pond, geese are...</td>\n",
              "      <td>Relevant</td>\n",
              "      <td>1</td>\n",
              "    </tr>\n",
              "    <tr>\n",
              "      <th>4</th>\n",
              "      <td>Forest fire near La Ronge Sask. Canada</td>\n",
              "      <td>Relevant</td>\n",
              "      <td>1</td>\n",
              "    </tr>\n",
              "  </tbody>\n",
              "</table>\n",
              "</div>"
            ],
            "text/plain": [
              "                                                text choose_one  class_label\n",
              "0                 Just happened a terrible car crash   Relevant            1\n",
              "1  Our Deeds are the Reason of this #earthquake M...   Relevant            1\n",
              "2  Heard about #earthquake is different cities, s...   Relevant            1\n",
              "3  there is a forest fire at spot pond, geese are...   Relevant            1\n",
              "4             Forest fire near La Ronge Sask. Canada   Relevant            1"
            ]
          },
          "metadata": {
            "tags": []
          },
          "execution_count": 19
        }
      ]
    },
    {
      "metadata": {
        "id": "x8IaL7xuYxqz",
        "colab_type": "code",
        "colab": {
          "base_uri": "https://localhost:8080/",
          "height": 204
        },
        "outputId": "624d865e-199c-41cf-bbec-350766c3c517"
      },
      "cell_type": "code",
      "source": [
        "questions.tail()"
      ],
      "execution_count": 20,
      "outputs": [
        {
          "output_type": "execute_result",
          "data": {
            "text/html": [
              "<div>\n",
              "<style scoped>\n",
              "    .dataframe tbody tr th:only-of-type {\n",
              "        vertical-align: middle;\n",
              "    }\n",
              "\n",
              "    .dataframe tbody tr th {\n",
              "        vertical-align: top;\n",
              "    }\n",
              "\n",
              "    .dataframe thead th {\n",
              "        text-align: right;\n",
              "    }\n",
              "</style>\n",
              "<table border=\"1\" class=\"dataframe\">\n",
              "  <thead>\n",
              "    <tr style=\"text-align: right;\">\n",
              "      <th></th>\n",
              "      <th>text</th>\n",
              "      <th>choose_one</th>\n",
              "      <th>class_label</th>\n",
              "    </tr>\n",
              "  </thead>\n",
              "  <tbody>\n",
              "    <tr>\n",
              "      <th>10854</th>\n",
              "      <td>1.3 #Earthquake in 9Km Ssw Of Anza California ...</td>\n",
              "      <td>Relevant</td>\n",
              "      <td>1</td>\n",
              "    </tr>\n",
              "    <tr>\n",
              "      <th>10855</th>\n",
              "      <td>Evacuation order lifted for town of Roosevelt:...</td>\n",
              "      <td>Relevant</td>\n",
              "      <td>1</td>\n",
              "    </tr>\n",
              "    <tr>\n",
              "      <th>10856</th>\n",
              "      <td>See the 16yr old PKK suicide bomber who detona...</td>\n",
              "      <td>Relevant</td>\n",
              "      <td>1</td>\n",
              "    </tr>\n",
              "    <tr>\n",
              "      <th>10857</th>\n",
              "      <td>To conference attendees! The blue line from th...</td>\n",
              "      <td>Relevant</td>\n",
              "      <td>1</td>\n",
              "    </tr>\n",
              "    <tr>\n",
              "      <th>10858</th>\n",
              "      <td>The death toll in a #IS-suicide car bombing on...</td>\n",
              "      <td>Relevant</td>\n",
              "      <td>1</td>\n",
              "    </tr>\n",
              "  </tbody>\n",
              "</table>\n",
              "</div>"
            ],
            "text/plain": [
              "                                                    text choose_one  \\\n",
              "10854  1.3 #Earthquake in 9Km Ssw Of Anza California ...   Relevant   \n",
              "10855  Evacuation order lifted for town of Roosevelt:...   Relevant   \n",
              "10856  See the 16yr old PKK suicide bomber who detona...   Relevant   \n",
              "10857  To conference attendees! The blue line from th...   Relevant   \n",
              "10858  The death toll in a #IS-suicide car bombing on...   Relevant   \n",
              "\n",
              "       class_label  \n",
              "10854            1  \n",
              "10855            1  \n",
              "10856            1  \n",
              "10857            1  \n",
              "10858            1  "
            ]
          },
          "metadata": {
            "tags": []
          },
          "execution_count": 20
        }
      ]
    },
    {
      "metadata": {
        "id": "C3Op1wusYxq5",
        "colab_type": "code",
        "colab": {
          "base_uri": "https://localhost:8080/",
          "height": 297
        },
        "outputId": "625603a7-c2ee-43f6-8a62-71ad01378e14"
      },
      "cell_type": "code",
      "source": [
        "questions.describe()"
      ],
      "execution_count": 21,
      "outputs": [
        {
          "output_type": "execute_result",
          "data": {
            "text/html": [
              "<div>\n",
              "<style scoped>\n",
              "    .dataframe tbody tr th:only-of-type {\n",
              "        vertical-align: middle;\n",
              "    }\n",
              "\n",
              "    .dataframe tbody tr th {\n",
              "        vertical-align: top;\n",
              "    }\n",
              "\n",
              "    .dataframe thead th {\n",
              "        text-align: right;\n",
              "    }\n",
              "</style>\n",
              "<table border=\"1\" class=\"dataframe\">\n",
              "  <thead>\n",
              "    <tr style=\"text-align: right;\">\n",
              "      <th></th>\n",
              "      <th>class_label</th>\n",
              "    </tr>\n",
              "  </thead>\n",
              "  <tbody>\n",
              "    <tr>\n",
              "      <th>count</th>\n",
              "      <td>10859.000000</td>\n",
              "    </tr>\n",
              "    <tr>\n",
              "      <th>mean</th>\n",
              "      <td>0.431808</td>\n",
              "    </tr>\n",
              "    <tr>\n",
              "      <th>std</th>\n",
              "      <td>0.498317</td>\n",
              "    </tr>\n",
              "    <tr>\n",
              "      <th>min</th>\n",
              "      <td>0.000000</td>\n",
              "    </tr>\n",
              "    <tr>\n",
              "      <th>25%</th>\n",
              "      <td>0.000000</td>\n",
              "    </tr>\n",
              "    <tr>\n",
              "      <th>50%</th>\n",
              "      <td>0.000000</td>\n",
              "    </tr>\n",
              "    <tr>\n",
              "      <th>75%</th>\n",
              "      <td>1.000000</td>\n",
              "    </tr>\n",
              "    <tr>\n",
              "      <th>max</th>\n",
              "      <td>2.000000</td>\n",
              "    </tr>\n",
              "  </tbody>\n",
              "</table>\n",
              "</div>"
            ],
            "text/plain": [
              "        class_label\n",
              "count  10859.000000\n",
              "mean       0.431808\n",
              "std        0.498317\n",
              "min        0.000000\n",
              "25%        0.000000\n",
              "50%        0.000000\n",
              "75%        1.000000\n",
              "max        2.000000"
            ]
          },
          "metadata": {
            "tags": []
          },
          "execution_count": 21
        }
      ]
    },
    {
      "metadata": {
        "id": "A45AMScoYxq9",
        "colab_type": "text"
      },
      "cell_type": "markdown",
      "source": [
        "Let's use a few regular expressions to clean up pour data, and save it back to disk for future use"
      ]
    },
    {
      "metadata": {
        "id": "h0-gJ8YPYxq9",
        "colab_type": "code",
        "colab": {
          "base_uri": "https://localhost:8080/",
          "height": 204
        },
        "outputId": "ff9115f3-e916-4bf6-dcc3-78bffeb4332e"
      },
      "cell_type": "code",
      "source": [
        "def standardize_text(df, text_field):\n",
        "    df[text_field] = df[text_field].str.replace(r\"http\\S+\", \"\")\n",
        "    df[text_field] = df[text_field].str.replace(r\"http\", \"\")\n",
        "    df[text_field] = df[text_field].str.replace(r\"@\\S+\", \"\")\n",
        "    df[text_field] = df[text_field].str.replace(r\"[^A-Za-z0-9(),!?@\\'\\`\\\"\\_\\n]\", \" \")\n",
        "    df[text_field] = df[text_field].str.replace(r\"@\", \"at\")\n",
        "    df[text_field] = df[text_field].str.lower()\n",
        "    return df\n",
        "\n",
        "questions = standardize_text(questions, \"text\")\n",
        "\n",
        "questions.to_csv(\"clean_data.csv\")\n",
        "questions.head()"
      ],
      "execution_count": 22,
      "outputs": [
        {
          "output_type": "execute_result",
          "data": {
            "text/html": [
              "<div>\n",
              "<style scoped>\n",
              "    .dataframe tbody tr th:only-of-type {\n",
              "        vertical-align: middle;\n",
              "    }\n",
              "\n",
              "    .dataframe tbody tr th {\n",
              "        vertical-align: top;\n",
              "    }\n",
              "\n",
              "    .dataframe thead th {\n",
              "        text-align: right;\n",
              "    }\n",
              "</style>\n",
              "<table border=\"1\" class=\"dataframe\">\n",
              "  <thead>\n",
              "    <tr style=\"text-align: right;\">\n",
              "      <th></th>\n",
              "      <th>text</th>\n",
              "      <th>choose_one</th>\n",
              "      <th>class_label</th>\n",
              "    </tr>\n",
              "  </thead>\n",
              "  <tbody>\n",
              "    <tr>\n",
              "      <th>0</th>\n",
              "      <td>just happened a terrible car crash</td>\n",
              "      <td>Relevant</td>\n",
              "      <td>1</td>\n",
              "    </tr>\n",
              "    <tr>\n",
              "      <th>1</th>\n",
              "      <td>our deeds are the reason of this  earthquake m...</td>\n",
              "      <td>Relevant</td>\n",
              "      <td>1</td>\n",
              "    </tr>\n",
              "    <tr>\n",
              "      <th>2</th>\n",
              "      <td>heard about  earthquake is different cities, s...</td>\n",
              "      <td>Relevant</td>\n",
              "      <td>1</td>\n",
              "    </tr>\n",
              "    <tr>\n",
              "      <th>3</th>\n",
              "      <td>there is a forest fire at spot pond, geese are...</td>\n",
              "      <td>Relevant</td>\n",
              "      <td>1</td>\n",
              "    </tr>\n",
              "    <tr>\n",
              "      <th>4</th>\n",
              "      <td>forest fire near la ronge sask  canada</td>\n",
              "      <td>Relevant</td>\n",
              "      <td>1</td>\n",
              "    </tr>\n",
              "  </tbody>\n",
              "</table>\n",
              "</div>"
            ],
            "text/plain": [
              "                                                text choose_one  class_label\n",
              "0                 just happened a terrible car crash   Relevant            1\n",
              "1  our deeds are the reason of this  earthquake m...   Relevant            1\n",
              "2  heard about  earthquake is different cities, s...   Relevant            1\n",
              "3  there is a forest fire at spot pond, geese are...   Relevant            1\n",
              "4             forest fire near la ronge sask  canada   Relevant            1"
            ]
          },
          "metadata": {
            "tags": []
          },
          "execution_count": 22
        }
      ]
    },
    {
      "metadata": {
        "id": "yLI0iLZqYxrA",
        "colab_type": "code",
        "colab": {
          "base_uri": "https://localhost:8080/",
          "height": 204
        },
        "outputId": "526bafca-2f63-49d6-d7d4-863fa37f9d54"
      },
      "cell_type": "code",
      "source": [
        "clean_questions = pd.read_csv(\"clean_data.csv\")\n",
        "clean_questions.tail()"
      ],
      "execution_count": 23,
      "outputs": [
        {
          "output_type": "execute_result",
          "data": {
            "text/html": [
              "<div>\n",
              "<style scoped>\n",
              "    .dataframe tbody tr th:only-of-type {\n",
              "        vertical-align: middle;\n",
              "    }\n",
              "\n",
              "    .dataframe tbody tr th {\n",
              "        vertical-align: top;\n",
              "    }\n",
              "\n",
              "    .dataframe thead th {\n",
              "        text-align: right;\n",
              "    }\n",
              "</style>\n",
              "<table border=\"1\" class=\"dataframe\">\n",
              "  <thead>\n",
              "    <tr style=\"text-align: right;\">\n",
              "      <th></th>\n",
              "      <th>Unnamed: 0</th>\n",
              "      <th>text</th>\n",
              "      <th>choose_one</th>\n",
              "      <th>class_label</th>\n",
              "    </tr>\n",
              "  </thead>\n",
              "  <tbody>\n",
              "    <tr>\n",
              "      <th>10854</th>\n",
              "      <td>10854</td>\n",
              "      <td>1 3  earthquake in 9km ssw of anza california ...</td>\n",
              "      <td>Relevant</td>\n",
              "      <td>1</td>\n",
              "    </tr>\n",
              "    <tr>\n",
              "      <th>10855</th>\n",
              "      <td>10855</td>\n",
              "      <td>evacuation order lifted for town of roosevelt</td>\n",
              "      <td>Relevant</td>\n",
              "      <td>1</td>\n",
              "    </tr>\n",
              "    <tr>\n",
              "      <th>10856</th>\n",
              "      <td>10856</td>\n",
              "      <td>see the 16yr old pkk suicide bomber who detona...</td>\n",
              "      <td>Relevant</td>\n",
              "      <td>1</td>\n",
              "    </tr>\n",
              "    <tr>\n",
              "      <th>10857</th>\n",
              "      <td>10857</td>\n",
              "      <td>to conference attendees! the blue line from th...</td>\n",
              "      <td>Relevant</td>\n",
              "      <td>1</td>\n",
              "    </tr>\n",
              "    <tr>\n",
              "      <th>10858</th>\n",
              "      <td>10858</td>\n",
              "      <td>the death toll in a  is suicide car bombing on...</td>\n",
              "      <td>Relevant</td>\n",
              "      <td>1</td>\n",
              "    </tr>\n",
              "  </tbody>\n",
              "</table>\n",
              "</div>"
            ],
            "text/plain": [
              "       Unnamed: 0                                               text  \\\n",
              "10854       10854  1 3  earthquake in 9km ssw of anza california ...   \n",
              "10855       10855   evacuation order lifted for town of roosevelt      \n",
              "10856       10856  see the 16yr old pkk suicide bomber who detona...   \n",
              "10857       10857  to conference attendees! the blue line from th...   \n",
              "10858       10858  the death toll in a  is suicide car bombing on...   \n",
              "\n",
              "      choose_one  class_label  \n",
              "10854   Relevant            1  \n",
              "10855   Relevant            1  \n",
              "10856   Relevant            1  \n",
              "10857   Relevant            1  \n",
              "10858   Relevant            1  "
            ]
          },
          "metadata": {
            "tags": []
          },
          "execution_count": 23
        }
      ]
    },
    {
      "metadata": {
        "id": "F0lr8zchYxrE",
        "colab_type": "text"
      },
      "cell_type": "markdown",
      "source": [
        "### Data Overview"
      ]
    },
    {
      "metadata": {
        "id": "weFqZQ-4YxrG",
        "colab_type": "text"
      },
      "cell_type": "markdown",
      "source": [
        "Let's look at our class balance."
      ]
    },
    {
      "metadata": {
        "id": "y6NE3doCYxrH",
        "colab_type": "code",
        "colab": {
          "base_uri": "https://localhost:8080/",
          "height": 173
        },
        "outputId": "bddb2078-273f-4f05-bd09-8e2ccf3bd144"
      },
      "cell_type": "code",
      "source": [
        "clean_questions.groupby(\"class_label\").count()"
      ],
      "execution_count": 24,
      "outputs": [
        {
          "output_type": "execute_result",
          "data": {
            "text/html": [
              "<div>\n",
              "<style scoped>\n",
              "    .dataframe tbody tr th:only-of-type {\n",
              "        vertical-align: middle;\n",
              "    }\n",
              "\n",
              "    .dataframe tbody tr th {\n",
              "        vertical-align: top;\n",
              "    }\n",
              "\n",
              "    .dataframe thead th {\n",
              "        text-align: right;\n",
              "    }\n",
              "</style>\n",
              "<table border=\"1\" class=\"dataframe\">\n",
              "  <thead>\n",
              "    <tr style=\"text-align: right;\">\n",
              "      <th></th>\n",
              "      <th>Unnamed: 0</th>\n",
              "      <th>text</th>\n",
              "      <th>choose_one</th>\n",
              "    </tr>\n",
              "    <tr>\n",
              "      <th>class_label</th>\n",
              "      <th></th>\n",
              "      <th></th>\n",
              "      <th></th>\n",
              "    </tr>\n",
              "  </thead>\n",
              "  <tbody>\n",
              "    <tr>\n",
              "      <th>0</th>\n",
              "      <td>6186</td>\n",
              "      <td>6186</td>\n",
              "      <td>6186</td>\n",
              "    </tr>\n",
              "    <tr>\n",
              "      <th>1</th>\n",
              "      <td>4657</td>\n",
              "      <td>4657</td>\n",
              "      <td>4657</td>\n",
              "    </tr>\n",
              "    <tr>\n",
              "      <th>2</th>\n",
              "      <td>16</td>\n",
              "      <td>16</td>\n",
              "      <td>16</td>\n",
              "    </tr>\n",
              "  </tbody>\n",
              "</table>\n",
              "</div>"
            ],
            "text/plain": [
              "             Unnamed: 0  text  choose_one\n",
              "class_label                              \n",
              "0                  6186  6186        6186\n",
              "1                  4657  4657        4657\n",
              "2                    16    16          16"
            ]
          },
          "metadata": {
            "tags": []
          },
          "execution_count": 24
        }
      ]
    },
    {
      "metadata": {
        "id": "ZyhPgyxqYxrK",
        "colab_type": "text"
      },
      "cell_type": "markdown",
      "source": [
        "We can see our classes are pretty balanced, with a slight oversampling of the \"Irrelevant\" class."
      ]
    },
    {
      "metadata": {
        "id": "RAblRwnAYxrK",
        "colab_type": "text"
      },
      "cell_type": "markdown",
      "source": [
        "### Our data is clean, now it needs to be prepared\n",
        "Now that our inputs are more reasonable, let's transform our inputs in a way our model can understand. This implies:\n",
        "- Tokenizing sentences to a list of separate words\n",
        "- Creating a train test split\n",
        "- Inspecting our data a little more to validate results"
      ]
    },
    {
      "metadata": {
        "id": "hFfsQpBxYxrM",
        "colab_type": "code",
        "colab": {
          "base_uri": "https://localhost:8080/",
          "height": 204
        },
        "outputId": "c9f7a865-1e04-4ced-d7ef-228effd5d819"
      },
      "cell_type": "code",
      "source": [
        "from nltk.tokenize import RegexpTokenizer\n",
        "\n",
        "tokenizer = RegexpTokenizer(r'\\w+')\n",
        "\n",
        "clean_questions[\"tokens\"] = clean_questions[\"text\"].apply(tokenizer.tokenize)\n",
        "clean_questions.head()"
      ],
      "execution_count": 25,
      "outputs": [
        {
          "output_type": "execute_result",
          "data": {
            "text/html": [
              "<div>\n",
              "<style scoped>\n",
              "    .dataframe tbody tr th:only-of-type {\n",
              "        vertical-align: middle;\n",
              "    }\n",
              "\n",
              "    .dataframe tbody tr th {\n",
              "        vertical-align: top;\n",
              "    }\n",
              "\n",
              "    .dataframe thead th {\n",
              "        text-align: right;\n",
              "    }\n",
              "</style>\n",
              "<table border=\"1\" class=\"dataframe\">\n",
              "  <thead>\n",
              "    <tr style=\"text-align: right;\">\n",
              "      <th></th>\n",
              "      <th>Unnamed: 0</th>\n",
              "      <th>text</th>\n",
              "      <th>choose_one</th>\n",
              "      <th>class_label</th>\n",
              "      <th>tokens</th>\n",
              "    </tr>\n",
              "  </thead>\n",
              "  <tbody>\n",
              "    <tr>\n",
              "      <th>0</th>\n",
              "      <td>0</td>\n",
              "      <td>just happened a terrible car crash</td>\n",
              "      <td>Relevant</td>\n",
              "      <td>1</td>\n",
              "      <td>[just, happened, a, terrible, car, crash]</td>\n",
              "    </tr>\n",
              "    <tr>\n",
              "      <th>1</th>\n",
              "      <td>1</td>\n",
              "      <td>our deeds are the reason of this  earthquake m...</td>\n",
              "      <td>Relevant</td>\n",
              "      <td>1</td>\n",
              "      <td>[our, deeds, are, the, reason, of, this, earth...</td>\n",
              "    </tr>\n",
              "    <tr>\n",
              "      <th>2</th>\n",
              "      <td>2</td>\n",
              "      <td>heard about  earthquake is different cities, s...</td>\n",
              "      <td>Relevant</td>\n",
              "      <td>1</td>\n",
              "      <td>[heard, about, earthquake, is, different, citi...</td>\n",
              "    </tr>\n",
              "    <tr>\n",
              "      <th>3</th>\n",
              "      <td>3</td>\n",
              "      <td>there is a forest fire at spot pond, geese are...</td>\n",
              "      <td>Relevant</td>\n",
              "      <td>1</td>\n",
              "      <td>[there, is, a, forest, fire, at, spot, pond, g...</td>\n",
              "    </tr>\n",
              "    <tr>\n",
              "      <th>4</th>\n",
              "      <td>4</td>\n",
              "      <td>forest fire near la ronge sask  canada</td>\n",
              "      <td>Relevant</td>\n",
              "      <td>1</td>\n",
              "      <td>[forest, fire, near, la, ronge, sask, canada]</td>\n",
              "    </tr>\n",
              "  </tbody>\n",
              "</table>\n",
              "</div>"
            ],
            "text/plain": [
              "   Unnamed: 0                                               text choose_one  \\\n",
              "0           0                 just happened a terrible car crash   Relevant   \n",
              "1           1  our deeds are the reason of this  earthquake m...   Relevant   \n",
              "2           2  heard about  earthquake is different cities, s...   Relevant   \n",
              "3           3  there is a forest fire at spot pond, geese are...   Relevant   \n",
              "4           4             forest fire near la ronge sask  canada   Relevant   \n",
              "\n",
              "   class_label                                             tokens  \n",
              "0            1          [just, happened, a, terrible, car, crash]  \n",
              "1            1  [our, deeds, are, the, reason, of, this, earth...  \n",
              "2            1  [heard, about, earthquake, is, different, citi...  \n",
              "3            1  [there, is, a, forest, fire, at, spot, pond, g...  \n",
              "4            1      [forest, fire, near, la, ronge, sask, canada]  "
            ]
          },
          "metadata": {
            "tags": []
          },
          "execution_count": 25
        }
      ]
    },
    {
      "metadata": {
        "id": "igpIe1hSYxrP",
        "colab_type": "text"
      },
      "cell_type": "markdown",
      "source": [
        "### Inspecting our dataset a little more"
      ]
    },
    {
      "metadata": {
        "id": "E08G9tJCYxrP",
        "colab_type": "code",
        "colab": {
          "base_uri": "https://localhost:8080/",
          "height": 51
        },
        "outputId": "7b092bd4-859b-423d-fec7-c44f1b6c85fa"
      },
      "cell_type": "code",
      "source": [
        "from keras.preprocessing.text import Tokenizer\n",
        "from keras.preprocessing.sequence import pad_sequences\n",
        "from keras.utils import to_categorical\n",
        "\n",
        "all_words = [word for tokens in clean_questions[\"tokens\"] for word in tokens]\n",
        "sentence_lengths = [len(tokens) for tokens in clean_questions[\"tokens\"]]\n",
        "VOCAB = sorted(list(set(all_words)))\n",
        "print(\"%s words total, with a vocabulary size of %s\" % (len(all_words), len(VOCAB)))\n",
        "print(\"Max sentence length is %s\" % max(sentence_lengths))"
      ],
      "execution_count": 26,
      "outputs": [
        {
          "output_type": "stream",
          "text": [
            "154484 words total, with a vocabulary size of 18095\n",
            "Max sentence length is 34\n"
          ],
          "name": "stdout"
        }
      ]
    },
    {
      "metadata": {
        "id": "qFfNWyxjYxrT",
        "colab_type": "code",
        "colab": {
          "base_uri": "https://localhost:8080/",
          "height": 606
        },
        "outputId": "c3d1722c-474e-4f7b-ece4-7c67c7b790a2"
      },
      "cell_type": "code",
      "source": [
        "import matplotlib.pyplot as plt\n",
        "\n",
        "fig = plt.figure(figsize=(10, 10)) \n",
        "plt.xlabel('Sentence length')\n",
        "plt.ylabel('Number of sentences')\n",
        "plt.hist(sentence_lengths)\n",
        "plt.show()"
      ],
      "execution_count": 27,
      "outputs": [
        {
          "output_type": "display_data",
          "data": {
            "image/png": "[encoded data removed]",
            "text/plain": [
              "<matplotlib.figure.Figure at 0x7f727d4cf278>"
            ]
          },
          "metadata": {
            "tags": []
          }
        }
      ]
    },
    {
      "metadata": {
        "id": "-7mDZ8GCYxrW",
        "colab_type": "text"
      },
      "cell_type": "markdown",
      "source": [
        "## On to the Machine Learning\n",
        "Now that our data is clean and prepared, let's dive in to the machine learning part."
      ]
    },
    {
      "metadata": {
        "id": "fcOtPjzeYxrW",
        "colab_type": "text"
      },
      "cell_type": "markdown",
      "source": [
        "## Enter embeddings\n",
        " Machine Learning on images can use raw pixels as inputs. Fraud detection algorithms can use customer features. What can NLP use?\n",
        " \n",
        "A natural way to represent text for computers is to encode each character individually, this seems quite inadequate to represent and understand language. Our goal is to first create a useful embedding for each sentence (or tweet) in our dataset, and then use these embeddings to accurately predict the relevant category.\n",
        "\n",
        "The simplest approach we can start with is to use a bag of words model, and apply a logistic regression on top. A bag of words just associates an index to each word in our vocabulary, and embeds each sentence as a list of 0s, with a 1 at each index corresponding to a word present in the sentence."
      ]
    },
    {
      "metadata": {
        "id": "cWZMP0uoYxrY",
        "colab_type": "text"
      },
      "cell_type": "markdown",
      "source": [
        "## Bag of Words Counts"
      ]
    },
    {
      "metadata": {
        "id": "QKTx6-e7YxrZ",
        "colab_type": "code",
        "colab": {}
      },
      "cell_type": "code",
      "source": [
        "from sklearn.model_selection import train_test_split\n",
        "from sklearn.feature_extraction.text import CountVectorizer, TfidfVectorizer\n",
        "\n",
        "def cv(data):\n",
        "    count_vectorizer = CountVectorizer()\n",
        "\n",
        "    emb = count_vectorizer.fit_transform(data)\n",
        "\n",
        "    return emb, count_vectorizer\n",
        "\n",
        "list_corpus = clean_questions[\"text\"].tolist()\n",
        "list_labels = clean_questions[\"class_label\"].tolist()\n",
        "\n",
        "X_train, X_test, y_train, y_test = train_test_split(list_corpus, list_labels, test_size=0.2, \n",
        "                                                                                random_state=40)\n",
        "\n",
        "X_train_counts, count_vectorizer = cv(X_train)\n",
        "X_test_counts = count_vectorizer.transform(X_test)"
      ],
      "execution_count": 0,
      "outputs": []
    },
    {
      "metadata": {
        "id": "KxxeYP-HYxrc",
        "colab_type": "text"
      },
      "cell_type": "markdown",
      "source": [
        "### Visualizing the embeddings\n",
        "Now that we've created embeddings, let's visualize them and see if we can identify some structure. In a perfect world, our embeddings would be so distinct that are two classes would be perfectly separated. Since visualizing data in 20k dimensions is hard, let's project it down to 2."
      ]
    },
    {
      "metadata": {
        "id": "hEIAaTS2Yxre",
        "colab_type": "code",
        "colab": {}
      },
      "cell_type": "code",
      "source": [
        "from sklearn.decomposition import PCA, TruncatedSVD\n",
        "import matplotlib\n",
        "import matplotlib.patches as mpatches\n",
        "\n",
        "\n",
        "def plot_LSA(test_data, test_labels, savepath=\"PCA_demo.csv\", plot=True):\n",
        "        lsa = TruncatedSVD(n_components=2)\n",
        "        lsa.fit(test_data)\n",
        "        lsa_scores = lsa.transform(test_data)\n",
        "        color_mapper = {label:idx for idx,label in enumerate(set(test_labels))}\n",
        "        color_column = [color_mapper[label] for label in test_labels]\n",
        "        colors = ['orange','blue','blue']\n",
        "        if plot:\n",
        "            plt.scatter(lsa_scores[:,0], lsa_scores[:,1], s=8, alpha=.8, c=test_labels, cmap=matplotlib.colors.ListedColormap(colors))\n",
        "            red_patch = mpatches.Patch(color='orange', label='Irrelevant')\n",
        "            green_patch = mpatches.Patch(color='blue', label='Disaster')\n",
        "            plt.legend(handles=[red_patch, green_patch], prop={'size': 30})\n",
        "\n",
        "\n",
        "fig = plt.figure(figsize=(16, 16))          \n",
        "plot_LSA(X_train_counts, y_train)\n",
        "plt.show()"
      ],
      "execution_count": 0,
      "outputs": []
    },
    {
      "metadata": {
        "id": "RJ27KIu8Yxrh",
        "colab_type": "text"
      },
      "cell_type": "markdown",
      "source": [
        "These embeddings don't look very cleanly separated. Let's see if we can still fit a useful model on them."
      ]
    },
    {
      "metadata": {
        "id": "wHpa9NguYxri",
        "colab_type": "text"
      },
      "cell_type": "markdown",
      "source": [
        "### Fitting a classifier\n",
        "Starting with a logistic regression is a good idea. It is simple, often gets the job done, and is easy to interpret."
      ]
    },
    {
      "metadata": {
        "id": "qqT9vuzJYxrj",
        "colab_type": "code",
        "colab": {}
      },
      "cell_type": "code",
      "source": [
        "from sklearn.linear_model import LogisticRegression\n",
        "\n",
        "clf = LogisticRegression(C=30.0, class_weight='balanced', solver='newton-cg', \n",
        "                         multi_class='multinomial', n_jobs=-1, random_state=40)\n",
        "clf.fit(X_train_counts, y_train)\n",
        "\n",
        "y_predicted_counts = clf.predict(X_test_counts)"
      ],
      "execution_count": 0,
      "outputs": []
    },
    {
      "metadata": {
        "id": "gNfmAo6SYxrl",
        "colab_type": "text"
      },
      "cell_type": "markdown",
      "source": [
        "### Evaluation\n",
        "Let's start by looking at some metrics to see if our classifier performed well at all."
      ]
    },
    {
      "metadata": {
        "id": "_b8fNdt7Yxrm",
        "colab_type": "code",
        "colab": {}
      },
      "cell_type": "code",
      "source": [
        "from sklearn.metrics import accuracy_score, f1_score, precision_score, recall_score, classification_report\n",
        "\n",
        "def get_metrics(y_test, y_predicted):  \n",
        "    # true positives / (true positives+false positives)\n",
        "    precision = precision_score(y_test, y_predicted, pos_label=None,\n",
        "                                    average='weighted')             \n",
        "    # true positives / (true positives + false negatives)\n",
        "    recall = recall_score(y_test, y_predicted, pos_label=None,\n",
        "                              average='weighted')\n",
        "    \n",
        "    # harmonic mean of precision and recall\n",
        "    f1 = f1_score(y_test, y_predicted, pos_label=None, average='weighted')\n",
        "    \n",
        "    # true positives + true negatives/ total\n",
        "    accuracy = accuracy_score(y_test, y_predicted)\n",
        "    return accuracy, precision, recall, f1\n",
        "\n",
        "accuracy, precision, recall, f1 = get_metrics(y_test, y_predicted_counts)\n",
        "print(\"accuracy = %.3f, precision = %.3f, recall = %.3f, f1 = %.3f\" % (accuracy, precision, recall, f1))"
      ],
      "execution_count": 0,
      "outputs": []
    },
    {
      "metadata": {
        "id": "Bf3nDhq3Yxrp",
        "colab_type": "text"
      },
      "cell_type": "markdown",
      "source": [
        "### Inspection\n",
        "A metric is one thing, but in order to make an actionnable decision, we need to actually inspect the kind of mistakes our classifier is making. Let's start by looking at the confusion matrix."
      ]
    },
    {
      "metadata": {
        "id": "ivElsKi2Yxrp",
        "colab_type": "code",
        "colab": {}
      },
      "cell_type": "code",
      "source": [
        "import numpy as np\n",
        "import itertools\n",
        "from sklearn.metrics import confusion_matrix\n",
        "\n",
        "def plot_confusion_matrix(cm, classes,\n",
        "                          normalize=False,\n",
        "                          title='Confusion matrix',\n",
        "                          cmap=plt.cm.winter):\n",
        "    if normalize:\n",
        "        cm = cm.astype('float') / cm.sum(axis=1)[:, np.newaxis]\n",
        "    plt.imshow(cm, interpolation='nearest', cmap=cmap)\n",
        "    plt.title(title, fontsize=30)\n",
        "    plt.colorbar()\n",
        "    tick_marks = np.arange(len(classes))\n",
        "    plt.xticks(tick_marks, classes, fontsize=20)\n",
        "    plt.yticks(tick_marks, classes, fontsize=20)\n",
        "    \n",
        "    fmt = '.2f' if normalize else 'd'\n",
        "    thresh = cm.max() / 2.\n",
        "\n",
        "    for i, j in itertools.product(range(cm.shape[0]), range(cm.shape[1])):\n",
        "        plt.text(j, i, format(cm[i, j], fmt), horizontalalignment=\"center\", \n",
        "                 color=\"white\" if cm[i, j] < thresh else \"black\", fontsize=40)\n",
        "    \n",
        "    plt.tight_layout()\n",
        "    plt.ylabel('True label', fontsize=30)\n",
        "    plt.xlabel('Predicted label', fontsize=30)\n",
        "\n",
        "    return plt"
      ],
      "execution_count": 0,
      "outputs": []
    },
    {
      "metadata": {
        "id": "kX6qhvTcYxrs",
        "colab_type": "code",
        "colab": {}
      },
      "cell_type": "code",
      "source": [
        "cm = confusion_matrix(y_test, y_predicted_counts)\n",
        "fig = plt.figure(figsize=(10, 10))\n",
        "plot = plot_confusion_matrix(cm, classes=['Irrelevant','Disaster','Unsure'], normalize=False, title='Confusion matrix')\n",
        "plt.show()\n",
        "print(cm)"
      ],
      "execution_count": 0,
      "outputs": []
    },
    {
      "metadata": {
        "id": "sn143wYCYxrv",
        "colab_type": "text"
      },
      "cell_type": "markdown",
      "source": [
        "Our classifier never predicts class 3, which is not surprising, seeing as it is critically undersampled. This is not very important here, as the label is not very meaningful. Our classifier creates more false negatives than false positives (proportionally). Depending on the use case, this seems desirable (a false positive is quite a high cost for law enforcement for example).\n",
        "\n",
        "### Further inspection\n",
        "Let's look at the features our classifier is using to make decisions."
      ]
    },
    {
      "metadata": {
        "id": "gg2kPpkeYxrv",
        "colab_type": "code",
        "colab": {}
      },
      "cell_type": "code",
      "source": [
        "def get_most_important_features(vectorizer, model, n=5):\n",
        "    index_to_word = {v:k for k,v in vectorizer.vocabulary_.items()}\n",
        "    \n",
        "    # loop for each class\n",
        "    classes ={}\n",
        "    for class_index in range(model.coef_.shape[0]):\n",
        "        word_importances = [(el, index_to_word[i]) for i,el in enumerate(model.coef_[class_index])]\n",
        "        sorted_coeff = sorted(word_importances, key = lambda x : x[0], reverse=True)\n",
        "        tops = sorted(sorted_coeff[:n], key = lambda x : x[0])\n",
        "        bottom = sorted_coeff[-n:]\n",
        "        classes[class_index] = {\n",
        "            'tops':tops,\n",
        "            'bottom':bottom\n",
        "        }\n",
        "    return classes\n",
        "\n",
        "importance = get_most_important_features(count_vectorizer, clf, 10)"
      ],
      "execution_count": 0,
      "outputs": []
    },
    {
      "metadata": {
        "id": "nNGFpTRLYxry",
        "colab_type": "code",
        "colab": {}
      },
      "cell_type": "code",
      "source": [
        "def plot_important_words(top_scores, top_words, bottom_scores, bottom_words, name):\n",
        "    y_pos = np.arange(len(top_words))\n",
        "    top_pairs = [(a,b) for a,b in zip(top_words, top_scores)]\n",
        "    top_pairs = sorted(top_pairs, key=lambda x: x[1])\n",
        "    \n",
        "    bottom_pairs = [(a,b) for a,b in zip(bottom_words, bottom_scores)]\n",
        "    bottom_pairs = sorted(bottom_pairs, key=lambda x: x[1], reverse=True)\n",
        "    \n",
        "    top_words = [a[0] for a in top_pairs]\n",
        "    top_scores = [a[1] for a in top_pairs]\n",
        "    \n",
        "    bottom_words = [a[0] for a in bottom_pairs]\n",
        "    bottom_scores = [a[1] for a in bottom_pairs]\n",
        "    \n",
        "    fig = plt.figure(figsize=(10, 10))  \n",
        "\n",
        "    plt.subplot(121)\n",
        "    plt.barh(y_pos,bottom_scores, align='center', alpha=0.5)\n",
        "    plt.title('Irrelevant', fontsize=20)\n",
        "    plt.yticks(y_pos, bottom_words, fontsize=14)\n",
        "    plt.suptitle('Key words', fontsize=16)\n",
        "    plt.xlabel('Importance', fontsize=20)\n",
        "    \n",
        "    plt.subplot(122)\n",
        "    plt.barh(y_pos,top_scores, align='center', alpha=0.5)\n",
        "    plt.title('Disaster', fontsize=20)\n",
        "    plt.yticks(y_pos, top_words, fontsize=14)\n",
        "    plt.suptitle(name, fontsize=16)\n",
        "    plt.xlabel('Importance', fontsize=20)\n",
        "    \n",
        "    plt.subplots_adjust(wspace=0.8)\n",
        "    plt.show()\n",
        "\n",
        "top_scores = [a[0] for a in importance[1]['tops']]\n",
        "top_words = [a[1] for a in importance[1]['tops']]\n",
        "bottom_scores = [a[0] for a in importance[1]['bottom']]\n",
        "bottom_words = [a[1] for a in importance[1]['bottom']]\n",
        "\n",
        "plot_important_words(top_scores, top_words, bottom_scores, bottom_words, \"Most important words for relevance\")"
      ],
      "execution_count": 0,
      "outputs": []
    },
    {
      "metadata": {
        "id": "0liZnmSVYxr1",
        "colab_type": "text"
      },
      "cell_type": "markdown",
      "source": [
        "Our classifier correctly picks up on some patterns (hiroshima, massacre), but clearly seems to be overfitting on some irellevant terms (heyoo, x1392)"
      ]
    },
    {
      "metadata": {
        "id": "-XMB14IqYxr2",
        "colab_type": "text"
      },
      "cell_type": "markdown",
      "source": [
        "### TFIDF Bag of Words\n",
        "Let's try a slightly more subtle approach. On top of our bag of words model, we use a TF-IDF (Term Frequency, Inverse Document Frequency) which means weighing words by how frequent they are in our dataset, discounting words that are too frequent, as they just add to the noise."
      ]
    },
    {
      "metadata": {
        "id": "6NVvqOp_Yxr4",
        "colab_type": "code",
        "colab": {}
      },
      "cell_type": "code",
      "source": [
        "def tfidf(data):\n",
        "    tfidf_vectorizer = TfidfVectorizer()\n",
        "\n",
        "    train = tfidf_vectorizer.fit_transform(data)\n",
        "\n",
        "    return train, tfidf_vectorizer\n",
        "\n",
        "X_train_tfidf, tfidf_vectorizer = tfidf(X_train)\n",
        "X_test_tfidf = tfidf_vectorizer.transform(X_test)"
      ],
      "execution_count": 0,
      "outputs": []
    },
    {
      "metadata": {
        "id": "6w9PxDFFYxr6",
        "colab_type": "code",
        "colab": {}
      },
      "cell_type": "code",
      "source": [
        "fig = plt.figure(figsize=(16, 16))          \n",
        "plot_LSA(X_train_tfidf, y_train)\n",
        "plt.show()"
      ],
      "execution_count": 0,
      "outputs": []
    },
    {
      "metadata": {
        "id": "V4owzTohYxr-",
        "colab_type": "text"
      },
      "cell_type": "markdown",
      "source": [
        "These embeddings look much more separated, let's see if it leads to better performance."
      ]
    },
    {
      "metadata": {
        "id": "HE9632NcYxr-",
        "colab_type": "code",
        "colab": {}
      },
      "cell_type": "code",
      "source": [
        "clf_tfidf = LogisticRegression(C=30.0, class_weight='balanced', solver='newton-cg', \n",
        "                         multi_class='multinomial', n_jobs=-1, random_state=40)\n",
        "clf_tfidf.fit(X_train_tfidf, y_train)\n",
        "\n",
        "y_predicted_tfidf = clf_tfidf.predict(X_test_tfidf)"
      ],
      "execution_count": 0,
      "outputs": []
    },
    {
      "metadata": {
        "id": "Wr2NEyayYxsA",
        "colab_type": "code",
        "colab": {}
      },
      "cell_type": "code",
      "source": [
        "accuracy_tfidf, precision_tfidf, recall_tfidf, f1_tfidf = get_metrics(y_test, y_predicted_tfidf)\n",
        "print(\"accuracy = %.3f, precision = %.3f, recall = %.3f, f1 = %.3f\" % (accuracy_tfidf, precision_tfidf, \n",
        "                                                                       recall_tfidf, f1_tfidf))"
      ],
      "execution_count": 0,
      "outputs": []
    },
    {
      "metadata": {
        "id": "VOnMD-ylYxsD",
        "colab_type": "text"
      },
      "cell_type": "markdown",
      "source": [
        "The results are a little better, let's see if they translate to an actual difference in our use case."
      ]
    },
    {
      "metadata": {
        "id": "7dAc22YLYxsE",
        "colab_type": "code",
        "colab": {}
      },
      "cell_type": "code",
      "source": [
        "cm2 = confusion_matrix(y_test, y_predicted_tfidf)\n",
        "fig = plt.figure(figsize=(10, 10))\n",
        "plot = plot_confusion_matrix(cm2, classes=['Irrelevant','Disaster','Unsure'], normalize=False, title='Confusion matrix')\n",
        "plt.show()\n",
        "print(\"TFIDF confusion matrix\")\n",
        "print(cm2)\n",
        "print(\"BoW confusion matrix\")\n",
        "print(cm)"
      ],
      "execution_count": 0,
      "outputs": []
    },
    {
      "metadata": {
        "id": "dAZM1FbVYxsH",
        "colab_type": "text"
      },
      "cell_type": "markdown",
      "source": [
        "Our False positives have decreased, as this model is more conservative about choosing the positive class."
      ]
    },
    {
      "metadata": {
        "id": "ZvbZhZDqYxsJ",
        "colab_type": "text"
      },
      "cell_type": "markdown",
      "source": [
        "# Looking at important coefficients for linear regression\n",
        "Insert details here"
      ]
    },
    {
      "metadata": {
        "id": "91tKk8IhYxsK",
        "colab_type": "code",
        "colab": {}
      },
      "cell_type": "code",
      "source": [
        "importance_tfidf = get_most_important_features(tfidf_vectorizer, clf_tfidf, 10)"
      ],
      "execution_count": 0,
      "outputs": []
    },
    {
      "metadata": {
        "id": "__TLB0ayYxsM",
        "colab_type": "code",
        "colab": {}
      },
      "cell_type": "code",
      "source": [
        "top_scores = [a[0] for a in importance_tfidf[1]['tops']]\n",
        "top_words = [a[1] for a in importance_tfidf[1]['tops']]\n",
        "bottom_scores = [a[0] for a in importance_tfidf[1]['bottom']]\n",
        "bottom_words = [a[1] for a in importance_tfidf[1]['bottom']]\n",
        "\n",
        "plot_important_words(top_scores, top_words, bottom_scores, bottom_words, \"Most important words for relevance\")"
      ],
      "execution_count": 0,
      "outputs": []
    },
    {
      "metadata": {
        "id": "RcjNb4nqYxsP",
        "colab_type": "text"
      },
      "cell_type": "markdown",
      "source": [
        "The words it picked up look much more relevant! Although our metrics on our held out validation set haven't increased much, we have much more confidence in the terms our model is using, and thus would feel more comfortable deploying it in a system that would interact with customers."
      ]
    },
    {
      "metadata": {
        "id": "izdfOSTGYxsQ",
        "colab_type": "text"
      },
      "cell_type": "markdown",
      "source": [
        "### Capturing semantic meaning\n",
        "Our first models have managed to pick up on high signal words. However, it is unlikely that we will have a training set containing all relevant words. To solve this problem, we need to capture the semantic meaning of words. Meaning we need to understand that words like 'good' and 'positive' are closer than apricot and 'continent'.\n",
        "\n",
        "### Enter word2vec\n",
        "Word2vec is a model that was pre-trained on a very large corpus, and provides embeddings that map words that are similar close to each other. A quick way to get a sentence embedding for our classifier, is to average word2vec scores of all words in our sentence."
      ]
    },
    {
      "metadata": {
        "id": "kAJc5SKNYxsR",
        "colab_type": "code",
        "colab": {}
      },
      "cell_type": "code",
      "source": [
        "import gensim\n",
        "\n",
        "word2vec_path = \"GoogleNews-vectors-negative300.bin.gz\"\n",
        "word2vec = gensim.models.KeyedVectors.load_word2vec_format(word2vec_path, binary=True)"
      ],
      "execution_count": 0,
      "outputs": []
    },
    {
      "metadata": {
        "id": "8f2NGGcKYxsV",
        "colab_type": "code",
        "colab": {}
      },
      "cell_type": "code",
      "source": [
        "def get_average_word2vec(tokens_list, vector, generate_missing=False, k=300):\n",
        "    if len(tokens_list)<1:\n",
        "        return np.zeros(k)\n",
        "    if generate_missing:\n",
        "        vectorized = [vector[word] if word in vector else np.random.rand(k) for word in tokens_list]\n",
        "    else:\n",
        "        vectorized = [vector[word] if word in vector else np.zeros(k) for word in tokens_list]\n",
        "    length = len(vectorized)\n",
        "    summed = np.sum(vectorized, axis=0)\n",
        "    averaged = np.divide(summed, length)\n",
        "    return averaged\n",
        "\n",
        "def get_word2vec_embeddings(vectors, clean_questions, generate_missing=False):\n",
        "    embeddings = clean_questions['tokens'].apply(lambda x: get_average_word2vec(x, vectors, \n",
        "                                                                                generate_missing=generate_missing))\n",
        "    return list(embeddings)"
      ],
      "execution_count": 0,
      "outputs": []
    },
    {
      "metadata": {
        "id": "rS4HzGqHYxsX",
        "colab_type": "code",
        "colab": {}
      },
      "cell_type": "code",
      "source": [
        "embeddings = get_word2vec_embeddings(word2vec, clean_questions)\n",
        "X_train_word2vec, X_test_word2vec, y_train_word2vec, y_test_word2vec = train_test_split(embeddings, list_labels, \n",
        "                                                                                        test_size=0.2, random_state=40)"
      ],
      "execution_count": 0,
      "outputs": []
    },
    {
      "metadata": {
        "id": "gUSHBpBqYxsY",
        "colab_type": "code",
        "colab": {}
      },
      "cell_type": "code",
      "source": [
        "fig = plt.figure(figsize=(16, 16))          \n",
        "plot_LSA(embeddings, list_labels)\n",
        "plt.show()"
      ],
      "execution_count": 0,
      "outputs": []
    },
    {
      "metadata": {
        "id": "MStaiBSMYxsb",
        "colab_type": "text"
      },
      "cell_type": "markdown",
      "source": [
        "These look much more separated, let's see how our logistic regression does on them!"
      ]
    },
    {
      "metadata": {
        "id": "sNmMPrehYxsc",
        "colab_type": "code",
        "colab": {}
      },
      "cell_type": "code",
      "source": [
        "clf_w2v = LogisticRegression(C=30.0, class_weight='balanced', solver='newton-cg', \n",
        "                         multi_class='multinomial', random_state=40)\n",
        "clf_w2v.fit(X_train_word2vec, y_train_word2vec)\n",
        "y_predicted_word2vec = clf_w2v.predict(X_test_word2vec)"
      ],
      "execution_count": 0,
      "outputs": []
    },
    {
      "metadata": {
        "id": "-VevQ-KLYxsi",
        "colab_type": "code",
        "colab": {}
      },
      "cell_type": "code",
      "source": [
        "accuracy_word2vec, precision_word2vec, recall_word2vec, f1_word2vec = get_metrics(y_test_word2vec, y_predicted_word2vec)\n",
        "print(\"accuracy = %.3f, precision = %.3f, recall = %.3f, f1 = %.3f\" % (accuracy_word2vec, precision_word2vec, \n",
        "                                                                       recall_word2vec, f1_word2vec))"
      ],
      "execution_count": 0,
      "outputs": []
    },
    {
      "metadata": {
        "id": "ASD25hT9Yxsn",
        "colab_type": "text"
      },
      "cell_type": "markdown",
      "source": [
        "Still getting better, let's plot the confusion matrix"
      ]
    },
    {
      "metadata": {
        "id": "wtyYgxuGYxso",
        "colab_type": "code",
        "colab": {}
      },
      "cell_type": "code",
      "source": [
        "cm_w2v = confusion_matrix(y_test_word2vec, y_predicted_word2vec)\n",
        "fig = plt.figure(figsize=(10, 10))\n",
        "plot = plot_confusion_matrix(cm, classes=['Irrelevant','Disaster','Unsure'], normalize=False, title='Confusion matrix')\n",
        "plt.show()\n",
        "print(\"Word2Vec confusion matrix\")\n",
        "print(cm_w2v)\n",
        "print(\"TFIDF confusion matrix\")\n",
        "print(cm2)\n",
        "print(\"BoW confusion matrix\")\n",
        "print(cm)"
      ],
      "execution_count": 0,
      "outputs": []
    },
    {
      "metadata": {
        "id": "gaEy-MFEYxst",
        "colab_type": "text"
      },
      "cell_type": "markdown",
      "source": [
        "Our model is strictly better in all regards than the first two models, this is promissing!"
      ]
    },
    {
      "metadata": {
        "id": "j42B0ny_Yxsu",
        "colab_type": "text"
      },
      "cell_type": "markdown",
      "source": [
        "### Further inspection\n",
        "Since our model does not use a vector with one dimension per word, it gets much harder to directly see which words are most relevant to our classification. In order to provide some explainability, we can leverage a black box explainer such as LIME."
      ]
    },
    {
      "metadata": {
        "id": "PpEkB3M0Yxsw",
        "colab_type": "code",
        "colab": {}
      },
      "cell_type": "code",
      "source": [
        "from lime import lime_text\n",
        "from sklearn.pipeline import make_pipeline\n",
        "from lime.lime_text import LimeTextExplainer\n",
        "\n",
        "X_train_data, X_test_data, y_train_data, y_test_data = train_test_split(list_corpus, list_labels, test_size=0.2, \n",
        "                                                                                random_state=40)\n",
        "vector_store = word2vec\n",
        "def word2vec_pipeline(examples):\n",
        "    global vector_store\n",
        "    tokenizer = RegexpTokenizer(r'\\w+')\n",
        "    tokenized_list = []\n",
        "    for example in examples:\n",
        "        example_tokens = tokenizer.tokenize(example)\n",
        "        vectorized_example = get_average_word2vec(example_tokens, vector_store, generate_missing=False, k=300)\n",
        "        tokenized_list.append(vectorized_example)\n",
        "    return clf_w2v.predict_proba(tokenized_list)\n",
        "\n",
        "c = make_pipeline(count_vectorizer, clf)"
      ],
      "execution_count": 0,
      "outputs": []
    },
    {
      "metadata": {
        "id": "RLx22M6FYxsy",
        "colab_type": "code",
        "colab": {}
      },
      "cell_type": "code",
      "source": [
        "def explain_one_instance(instance, class_names):\n",
        "    explainer = LimeTextExplainer(class_names=class_names)\n",
        "    exp = explainer.explain_instance(instance, word2vec_pipeline, num_features=6)\n",
        "    return exp\n",
        "\n",
        "def visualize_one_exp(features, labels, index, class_names = [\"irrelevant\",\"relevant\", \"unknown\"]):\n",
        "    exp = explain_one_instance(features[index], class_names = class_names)\n",
        "    print('Index: %d' % index)\n",
        "    print('True class: %s' % class_names[labels[index]])\n",
        "    exp.show_in_notebook(text=True)"
      ],
      "execution_count": 0,
      "outputs": []
    },
    {
      "metadata": {
        "id": "CBJCz5v3Yxs1",
        "colab_type": "code",
        "colab": {}
      },
      "cell_type": "code",
      "source": [
        "visualize_one_exp(X_test_data, y_test_data, 65)"
      ],
      "execution_count": 0,
      "outputs": []
    },
    {
      "metadata": {
        "id": "z86ISWC0Yxs-",
        "colab_type": "code",
        "colab": {}
      },
      "cell_type": "code",
      "source": [
        "visualize_one_exp(X_test_data, y_test_data, 60)"
      ],
      "execution_count": 0,
      "outputs": []
    },
    {
      "metadata": {
        "id": "r0-U8wdbYxtJ",
        "colab_type": "code",
        "colab": {}
      },
      "cell_type": "code",
      "source": [
        "import random\n",
        "from collections import defaultdict\n",
        "\n",
        "random.seed(40)\n",
        "\n",
        "def get_statistical_explanation(test_set, sample_size, word2vec_pipeline, label_dict):\n",
        "    sample_sentences = random.sample(test_set, sample_size)\n",
        "    explainer = LimeTextExplainer()\n",
        "    \n",
        "    labels_to_sentences = defaultdict(list)\n",
        "    contributors = defaultdict(dict)\n",
        "    \n",
        "    # First, find contributing words to each class\n",
        "    for sentence in sample_sentences:\n",
        "        probabilities = word2vec_pipeline([sentence])\n",
        "        curr_label = probabilities[0].argmax()\n",
        "        labels_to_sentences[curr_label].append(sentence)\n",
        "        exp = explainer.explain_instance(sentence, word2vec_pipeline, num_features=6, labels=[curr_label])\n",
        "        listed_explanation = exp.as_list(label=curr_label)\n",
        "        \n",
        "        for word,contributing_weight in listed_explanation:\n",
        "            if word in contributors[curr_label]:\n",
        "                contributors[curr_label][word].append(contributing_weight)\n",
        "            else:\n",
        "                contributors[curr_label][word] = [contributing_weight]    \n",
        "    \n",
        "    # average each word's contribution to a class, and sort them by impact\n",
        "    average_contributions = {}\n",
        "    sorted_contributions = {}\n",
        "    for label,lexica in contributors.items():\n",
        "        curr_label = label\n",
        "        curr_lexica = lexica\n",
        "        average_contributions[curr_label] = pd.Series(index=curr_lexica.keys())\n",
        "        for word,scores in curr_lexica.items():\n",
        "            average_contributions[curr_label].loc[word] = np.sum(np.array(scores))/sample_size\n",
        "        detractors = average_contributions[curr_label].sort_values()\n",
        "        supporters = average_contributions[curr_label].sort_values(ascending=False)\n",
        "        sorted_contributions[label_dict[curr_label]] = {\n",
        "            'detractors':detractors,\n",
        "             'supporters': supporters\n",
        "        }\n",
        "    return sorted_contributions\n",
        "\n",
        "label_to_text = {\n",
        "    0: 'Irrelevant',\n",
        "    1: 'Relevant',\n",
        "    2: 'Unsure'\n",
        "}\n",
        "sorted_contributions = get_statistical_explanation(X_test_data, 100, word2vec_pipeline, label_to_text)"
      ],
      "execution_count": 0,
      "outputs": []
    },
    {
      "metadata": {
        "id": "L4ux995sYxtN",
        "colab_type": "code",
        "colab": {}
      },
      "cell_type": "code",
      "source": [
        "# First index is the class (Disaster)\n",
        "# Second index is 0 for detractors, 1 for supporters\n",
        "# Third is how many words we sample\n",
        "top_words = sorted_contributions['Relevant']['supporters'][:10].index.tolist()\n",
        "top_scores = sorted_contributions['Relevant']['supporters'][:10].tolist()\n",
        "bottom_words = sorted_contributions['Relevant']['detractors'][:10].index.tolist()\n",
        "bottom_scores = sorted_contributions['Relevant']['detractors'][:10].tolist()\n",
        "\n",
        "plot_important_words(top_scores, top_words, bottom_scores, bottom_words, \"Most important words for relevance\")"
      ],
      "execution_count": 0,
      "outputs": []
    },
    {
      "metadata": {
        "id": "DEVs7c6hYxtQ",
        "colab_type": "text"
      },
      "cell_type": "markdown",
      "source": [
        "Looks like very relevant words are picked up! This model definitely seems to make decisions in a very understandable way."
      ]
    },
    {
      "metadata": {
        "id": "dwkF-gf0YxtR",
        "colab_type": "text"
      },
      "cell_type": "markdown",
      "source": [
        "# Leveraging text structure\n",
        "Our models have been performing better, but they completely ignore the structure. To see whether capturing some more sense of structure would help, we will try a final, more complex model.\n",
        "\n",
        "### CNNs for text classification\n",
        "Here, we will be using a Convolutional Neural Network for sentence classification. While not as popular as RNNs, they have been proven to get competitive results (sometimes beating the best models), and are very fast to train, making them a perfect choice for this tutorial."
      ]
    },
    {
      "metadata": {
        "id": "3XNudNpmYxtR",
        "colab_type": "text"
      },
      "cell_type": "markdown",
      "source": [
        "First, let's embed our text!"
      ]
    },
    {
      "metadata": {
        "id": "y63Ksjk4YxtR",
        "colab_type": "code",
        "colab": {}
      },
      "cell_type": "code",
      "source": [
        "from keras.preprocessing.text import Tokenizer\n",
        "from keras.preprocessing.sequence import pad_sequences\n",
        "from keras.utils import to_categorical\n",
        "\n",
        "EMBEDDING_DIM = 300\n",
        "MAX_SEQUENCE_LENGTH = 35\n",
        "VOCAB_SIZE = len(VOCAB)\n",
        "\n",
        "VALIDATION_SPLIT=.2\n",
        "tokenizer = Tokenizer(num_words=VOCAB_SIZE)\n",
        "tokenizer.fit_on_texts(clean_questions[\"text\"].tolist())\n",
        "sequences = tokenizer.texts_to_sequences(clean_questions[\"text\"].tolist())\n",
        "\n",
        "word_index = tokenizer.word_index\n",
        "print('Found %s unique tokens.' % len(word_index))\n",
        "\n",
        "cnn_data = pad_sequences(sequences, maxlen=MAX_SEQUENCE_LENGTH)\n",
        "labels = to_categorical(np.asarray(clean_questions[\"class_label\"]))\n",
        "\n",
        "indices = np.arange(cnn_data.shape[0])\n",
        "np.random.shuffle(indices)\n",
        "cnn_data = cnn_data[indices]\n",
        "labels = labels[indices]\n",
        "num_validation_samples = int(VALIDATION_SPLIT * cnn_data.shape[0])\n",
        "\n",
        "embedding_weights = np.zeros((len(word_index)+1, EMBEDDING_DIM))\n",
        "for word,index in word_index.items():\n",
        "    embedding_weights[index,:] = word2vec[word] if word in word2vec else np.random.rand(EMBEDDING_DIM)\n",
        "print(embedding_weights.shape)"
      ],
      "execution_count": 0,
      "outputs": []
    },
    {
      "metadata": {
        "id": "hLf4fifWYxtU",
        "colab_type": "text"
      },
      "cell_type": "markdown",
      "source": [
        "Now, we will define a simple Convolutional Neural Network"
      ]
    },
    {
      "metadata": {
        "id": "susCIQmtYxtV",
        "colab_type": "code",
        "colab": {}
      },
      "cell_type": "code",
      "source": [
        "from keras.layers import Dense, Input, Flatten, Dropout, Merge\n",
        "from keras.layers import Conv1D, MaxPooling1D, Embedding\n",
        "from keras.layers import LSTM, Bidirectional\n",
        "from keras.models import Model\n",
        "\n",
        "def ConvNet(embeddings, max_sequence_length, num_words, embedding_dim, labels_index, trainable=False, extra_conv=True):\n",
        "    \n",
        "    embedding_layer = Embedding(num_words,\n",
        "                            embedding_dim,\n",
        "                            weights=[embeddings],\n",
        "                            input_length=max_sequence_length,\n",
        "                            trainable=trainable)\n",
        "\n",
        "    sequence_input = Input(shape=(max_sequence_length,), dtype='int32')\n",
        "    embedded_sequences = embedding_layer(sequence_input)\n",
        "\n",
        "    # Yoon Kim model (https://arxiv.org/abs/1408.5882)\n",
        "    convs = []\n",
        "    filter_sizes = [3,4,5]\n",
        "\n",
        "    for filter_size in filter_sizes:\n",
        "        l_conv = Conv1D(filters=128, kernel_size=filter_size, activation='relu')(embedded_sequences)\n",
        "        l_pool = MaxPooling1D(pool_size=3)(l_conv)\n",
        "        convs.append(l_pool)\n",
        "\n",
        "    l_merge = Merge(mode='concat', concat_axis=1)(convs)\n",
        "\n",
        "    # add a 1D convnet with global maxpooling, instead of Yoon Kim model\n",
        "    conv = Conv1D(filters=128, kernel_size=3, activation='relu')(embedded_sequences)\n",
        "    pool = MaxPooling1D(pool_size=3)(conv)\n",
        "\n",
        "    if extra_conv==True:\n",
        "        x = Dropout(0.5)(l_merge)  \n",
        "    else:\n",
        "        # Original Yoon Kim model\n",
        "        x = Dropout(0.5)(pool)\n",
        "    x = Flatten()(x)\n",
        "    x = Dense(128, activation='relu')(x)\n",
        "    #x = Dropout(0.5)(x)\n",
        "\n",
        "    preds = Dense(labels_index, activation='softmax')(x)\n",
        "\n",
        "    model = Model(sequence_input, preds)\n",
        "    model.compile(loss='categorical_crossentropy',\n",
        "                  optimizer='adam',\n",
        "                  metrics=['acc'])\n",
        "\n",
        "    return model"
      ],
      "execution_count": 0,
      "outputs": []
    },
    {
      "metadata": {
        "id": "C04zB0T2YxtX",
        "colab_type": "text"
      },
      "cell_type": "markdown",
      "source": [
        "Now let's train our Neural Network"
      ]
    },
    {
      "metadata": {
        "id": "k4CTsYRtYxta",
        "colab_type": "code",
        "colab": {}
      },
      "cell_type": "code",
      "source": [
        "x_train = cnn_data[:-num_validation_samples]\n",
        "y_train = labels[:-num_validation_samples]\n",
        "x_val = cnn_data[-num_validation_samples:]\n",
        "y_val = labels[-num_validation_samples:]\n",
        "\n",
        "model = ConvNet(embedding_weights, MAX_SEQUENCE_LENGTH, len(word_index)+1, EMBEDDING_DIM, \n",
        "                len(list(clean_questions[\"class_label\"].unique())), False)"
      ],
      "execution_count": 0,
      "outputs": []
    },
    {
      "metadata": {
        "id": "KpaRdfTZYxtf",
        "colab_type": "code",
        "colab": {}
      },
      "cell_type": "code",
      "source": [
        "model.fit(x_train, y_train, validation_data=(x_val, y_val), epochs=3, batch_size=128)"
      ],
      "execution_count": 0,
      "outputs": []
    },
    {
      "metadata": {
        "id": "3YToQRSyYxtj",
        "colab_type": "text"
      },
      "cell_type": "markdown",
      "source": [
        "Our best model yet, at least on the surface. Exploring whether it is really performing as expected using the previous method is left to the reader."
      ]
    },
    {
      "metadata": {
        "id": "2ypfP5iNYxtk",
        "colab_type": "text"
      },
      "cell_type": "markdown",
      "source": [
        "## Bonus: What about text generation?\n",
        "Most practical problems fall within the buckets of organizing or classifying text data. However, in some cases like automated support systems, or translation, generating text is necessary. One of the best methods to accomplish this is to use a Recurrent Neural Network as a language model. Training these models is quite difficult, and usually very long. Since we will not have time to train one here, below is an example of a pre-trained model."
      ]
    },
    {
      "metadata": {
        "id": "Ga8rWZiZYxtk",
        "colab_type": "text"
      },
      "cell_type": "markdown",
      "source": [
        "## Yelp review generation\n",
        "This is a character-level Recurrent Neural Network model trained by Andrew Manser (an Insight Fellow), during his time at insight. He trained it exclusively on 5 star reviews from the open Yelp dataset for multiple weeks, to get to the demonstrated level of fluency"
      ]
    },
    {
      "metadata": {
        "id": "zGOOF5FSYxtl",
        "colab_type": "code",
        "colab": {}
      },
      "cell_type": "code",
      "source": [
        "# code from https://github.com/ajmanser/Yelp\n",
        "\n",
        "from keras import layers\n",
        "import sys\n",
        "\n",
        "# Dictionary mapping unique characters to their index in `chars`\n",
        "text=open('seed_text.txt').read()\n",
        "chars=['\\n', ' ', '!', '\"', '#', '$', '%', '&', \"'\", '(', ')', '*', ',', '-', '.', '/', '0', '1', '2', '3', '4', '5', '6', '7', '8', '9', ':', ';', '<', '=', '>', '?', '@', 'A', 'B', 'C', 'D', 'E', 'F', 'G', 'H', 'I', 'J', 'K', 'L', 'M', 'N', 'O', 'P', 'Q', 'R', 'S', 'T', 'U', 'V', 'W', 'X', 'Y', 'Z', '[', '\\\\', ']', '^', '_', '`', 'a', 'b', 'c', 'd', 'e', 'f', 'g', 'h', 'i', 'j', 'k', 'l', 'm', 'n', 'o', 'p', 'q', 'r', 's', 't', 'u', 'v', 'w', 'x', 'y', 'z', '{', '|', '}', '~']\n",
        "\n",
        "char_indices = dict((char, chars.index(char)) for char in chars)\n",
        "maxlen=60\n",
        "step=1\n",
        "\n",
        "model = keras.models.Sequential()\n",
        "model.add(layers.LSTM(1024, input_shape=(maxlen, len(chars)),return_sequences=True))\n",
        "model.add(layers.LSTM(1024, input_shape=(maxlen, len(chars))))\n",
        "model.add(layers.Dense(len(chars), activation='softmax'))\n",
        "model.load_weights(\"pretrained-yelp.hdf5\")\n",
        "\n",
        "optimizer = keras.optimizers.Adam(lr=0.0002)\n",
        "model.compile(loss='categorical_crossentropy', optimizer=optimizer)"
      ],
      "execution_count": 0,
      "outputs": []
    },
    {
      "metadata": {
        "id": "FkbprvPtYxtq",
        "colab_type": "code",
        "colab": {}
      },
      "cell_type": "code",
      "source": [
        "def sample(preds, temperature=1.0):\n",
        "    preds = np.asarray(preds).astype('float64')\n",
        "    preds = np.log(preds) / temperature\n",
        "    exp_preds = np.exp(preds)\n",
        "    preds = exp_preds / np.sum(exp_preds)\n",
        "    probas = np.random.multinomial(1, preds, 1)\n",
        "    return np.argmax(probas)\n",
        "\n",
        "def random_reviews():\n",
        "    start_index = np.random.randint(0, len(text) - maxlen - 1)\n",
        "    generated_text = text[start_index: start_index + maxlen]\n",
        "    print('Coming up with several reviews for you...')\n",
        "\n",
        "    for temperature in [0.8]:\n",
        "        sys.stdout.write(generated_text)\n",
        "\n",
        "        # We generate 600 characters\n",
        "        for i in range(600):\n",
        "            sampled = np.zeros((1, maxlen, len(chars)))\n",
        "            for t, char in enumerate(generated_text):\n",
        "                sampled[0, t, char_indices[char]] = 1.\n",
        "\n",
        "            preds = model.predict(sampled, verbose=0)[0]\n",
        "            next_index = sample(preds, temperature)\n",
        "            next_char = chars[next_index]\n",
        "\n",
        "            generated_text += next_char\n",
        "            generated_text = generated_text[1:]\n",
        "\n",
        "            sys.stdout.write(next_char)\n",
        "            sys.stdout.flush()\n",
        "        print(generated_text)"
      ],
      "execution_count": 0,
      "outputs": []
    },
    {
      "metadata": {
        "id": "47hJ4Wa0Yxts",
        "colab_type": "code",
        "colab": {}
      },
      "cell_type": "code",
      "source": [
        "random_reviews()"
      ],
      "execution_count": 0,
      "outputs": []
    },
    {
      "metadata": {
        "id": "3NLEt_eRYxtx",
        "colab_type": "text"
      },
      "cell_type": "markdown",
      "source": [
        "### Making Deep Learning models better\n",
        "To help elaborate deep learning models get to a polished state, it is usually useful to add hand-crafter rules on top. Here, we substitute food words in the generated reviews for ones from a pre-established list."
      ]
    },
    {
      "metadata": {
        "id": "xiSre0aGYxty",
        "colab_type": "code",
        "colab": {}
      },
      "cell_type": "code",
      "source": [
        "from nltk.corpus import wordnet as wn\n",
        "\n",
        "def food_related(nouns):\n",
        "\n",
        "    food=wn.synset('food.n.01')\n",
        "    final_list=[]\n",
        "    for word in nouns:\n",
        "        temp=word\n",
        "        word=word+'.n.01'\n",
        "        try:\n",
        "            if food.wup_similarity(wn.synset(word))>0.20 and temp!='food':\n",
        "                final_list.append(temp)\n",
        "        except:\n",
        "            pass\n",
        "\n",
        "    return final_list\n",
        "\n",
        "def user_custom(foods):\n",
        "    # enter foods as a string separated by commas. For example 'sushi, sashimi, maki'\n",
        "    start_index = np.random.randint(0, len(text) - maxlen - 1)\n",
        "    generated_text = text[start_index: start_index + maxlen]\n",
        "    print('Coming up with two ideas for you...')\n",
        "\n",
        "    final=generated_text+''\n",
        "\n",
        "    for temperature in [0.8]:\n",
        "\n",
        "\n",
        "        # We generate 600 characters\n",
        "        for i in range(600):\n",
        "            sampled = np.zeros((1, maxlen, len(chars)))\n",
        "            for t, char in enumerate(generated_text):\n",
        "                sampled[0, t, char_indices[char]] = 1.\n",
        "\n",
        "            preds = model.predict(sampled, verbose=0)[0]\n",
        "            next_index = sample(preds, temperature)\n",
        "            next_char = chars[next_index]\n",
        "            final+=next_char\n",
        "\n",
        "            generated_text += next_char\n",
        "            generated_text = generated_text[1:]\n",
        "    \n",
        "    #print first review, then second via SOR/EOR\n",
        "    temp=personalized_clean_up(final, foods)\n",
        "    start=temp.find('SOR')\n",
        "    stop=findStrAfterStr(temp, 'EOR', 'SOR')\n",
        "    end_first=temp[start+4:stop]\n",
        "\n",
        "    new=temp[get_second_index(temp, 'SOR')+4:]\n",
        "    ending=new.find('EOR')\n",
        "    print(temp[start+4:stop])\n",
        "    print(\"\")\n",
        "    print(new[:ending])\n",
        "    \n",
        "def personalized_clean_up(review,user_items):\n",
        "    #take generic review, and replace with user generated words\n",
        "    generic_nouns=review_to_nouns(review)\n",
        "    food_generic=food_related(generic_nouns)\n",
        "\n",
        "    user_picked_items=user_items.split(\",\")\n",
        "\n",
        "    final=[]\n",
        "    for word in re.findall(r\"[\\w']+|[.,!?;]\", review):\n",
        "        if word in food_generic and len(user_picked_items)>1:\n",
        "            word=np.random.choice(user_picked_items)\n",
        "            final.append(word)\n",
        "        else:\n",
        "            final.append(word)\n",
        "\n",
        "    new_review=\" \".join(final)\n",
        "    return re.sub(r'\\s+([?.!\",])', r'\\1', new_review)\n",
        "\n",
        "def review_to_nouns(review):\n",
        "    is_noun = lambda pos: pos[:2] == 'NN'\n",
        "    token=nltk.word_tokenize(review)\n",
        "    nouns=[word for (word, pos) in nltk.pos_tag(token) if is_noun(pos)]\n",
        "    return nouns\n",
        "\n",
        "def findStrAfterStr(myString, searchText, afterText):\n",
        "    after_index = myString.index(afterText)\n",
        "    return myString.find(searchText, after_index)\n",
        "\n",
        "def get_second_index(input_string, sub_string):\n",
        "    return input_string.index(sub_string, input_string.index(sub_string) + 1)"
      ],
      "execution_count": 0,
      "outputs": []
    },
    {
      "metadata": {
        "id": "yuAp5tn8Yxtz",
        "colab_type": "code",
        "colab": {}
      },
      "cell_type": "code",
      "source": [
        "user_custom('burrito, taco, guac')"
      ],
      "execution_count": 0,
      "outputs": []
    },
    {
      "metadata": {
        "id": "YWAI2DQKYxt1",
        "colab_type": "text"
      },
      "cell_type": "markdown",
      "source": [
        "# Takeaways\n",
        "We now have a solid framework for organizing text data, and training classifiers while efficiently inspecting their results. While we've started to get some interesting results for text generation, we are far from having solved NLP!\n",
        "\n",
        "# Thank you!\n",
        "Feel free to follow me on [Twitter](https://twitter.com/EmmanuelAmeisen), and find out more about Insight on [our website](insightdatascience.com) and check out our [blog](blog.insightdatascience.com) for more content like this. "
      ]
    }
  ]
}