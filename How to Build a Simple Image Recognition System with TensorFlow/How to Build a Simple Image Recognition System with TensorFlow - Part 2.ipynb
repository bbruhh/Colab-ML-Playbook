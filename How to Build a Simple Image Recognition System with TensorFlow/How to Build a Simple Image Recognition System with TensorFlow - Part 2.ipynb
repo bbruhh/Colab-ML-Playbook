{
  "nbformat": 4,
  "nbformat_minor": 0,
  "metadata": {
    "colab": {
      "name": "How to Build a Simple Image Recognition System with TensorFlow - Part 2.ipynb",
      "version": "0.3.2",
      "provenance": []
    },
    "kernelspec": {
      "display_name": "Python 3",
      "language": "python",
      "name": "python3"
    }
  },
  "cells": [
    {
      "metadata": {
        "id": "V3OEEzWgDVzJ",
        "colab_type": "text"
      },
      "cell_type": "markdown",
      "source": [
        "<img height=\"60px\" src=\"https://colab.research.google.com/img/colab_favicon.ico\" align=\"left\" hspace=\"20px\" vspace=\"5px\">\n",
        "\n",
        "# Simple Image Classification Models for the CIFAR-10 dataset using TensorFlow"
      ]
    },
    {
      "metadata": {
        "id": "-Ot56ZH5Dd7j",
        "colab_type": "text"
      },
      "cell_type": "markdown",
      "source": [
        "<table class=\"tfo-notebook-buttons\" align=\"left\">\n",
        "  <td>\n",
        "    <a target=\"_blank\" href=\"https://colab.research.google.com/github/learning-stack/Colab-ML-Playbook/blob/master/How%20to%20Build%20a%20Simple%20Image%20Recognition%20System%20with%20TensorFlow/How%20to%20Build%20a%20Simple%20Image%20Recognition%20System%20with%20TensorFlow%20-%20Part%202.ipynb\"><img src=\"https://www.tensorflow.org/images/colab_logo_32px.png\" />Run in Google Colab</a>\n",
        "  </td>\n",
        "  <td>\n",
        "    <a target=\"_blank\" href=\"https://github.com/learning-stack/Colab-ML-Playbook/blob/master/How%20to%20Build%20a%20Simple%20Image%20Recognition%20System%20with%20TensorFlow/How%20to%20Build%20a%20Simple%20Image%20Recognition%20System%20with%20TensorFlow%20-%20Part%202.ipynb\"><img src=\"https://www.tensorflow.org/images/GitHub-Mark-32px.png\" />View source on GitHub</a>\n",
        "  </td>\n",
        "</table>"
      ]
    },
    {
      "metadata": {
        "id": "Mm0UwfH-DVzN",
        "colab_type": "code",
        "colab": {}
      },
      "cell_type": "code",
      "source": [
        "from __future__ import absolute_import\n",
        "from __future__ import division\n",
        "from __future__ import print_function\n",
        "\n",
        "import numpy as np\n",
        "import tensorflow as tf\n",
        "import time\n",
        "from datetime import datetime\n",
        "import os.path\n",
        "import data_helpers\n",
        "import two_layer_fc\n",
        "import sys\n"
      ],
      "execution_count": 0,
      "outputs": []
    },
    {
      "metadata": {
        "id": "j_gDNesXDVzT",
        "colab_type": "text"
      },
      "cell_type": "markdown",
      "source": [
        "## Model parameters as external flags"
      ]
    },
    {
      "metadata": {
        "id": "H1sgRX7EDVzT",
        "colab_type": "code",
        "colab": {},
        "outputId": "772cc9c4-4bbb-4abd-e207-60d37edf22f9"
      },
      "cell_type": "code",
      "source": [
        "flags = tf.flags\n",
        "FLAGS = flags.FLAGS\n",
        "flags.DEFINE_float('learning_rate', 0.001, 'Learning rate for the training.')\n",
        "flags.DEFINE_integer('max_steps', 2000, 'Number of steps to run trainer.')\n",
        "flags.DEFINE_integer('hidden1', 120, 'Number of units in hidden layer 1.')\n",
        "flags.DEFINE_integer('batch_size', 400,\n",
        "  'Batch size. Must divide dataset sizes without remainder.')\n",
        "flags.DEFINE_string('train_dir', 'tf_logs',\n",
        "  'Directory to put the training data.')\n",
        "flags.DEFINE_float('reg_constant', 0.1, 'Regularization constant.')\n",
        "tf.app.flags.DEFINE_string('f', '', 'kernel')\n",
        "FLAGS(sys.argv)\n",
        "\n",
        "print('\\nParameters:')\n",
        "for attr, value in sorted(FLAGS.__flags.items()):\n",
        "  print('{} = {}'.format(attr, value))\n",
        "print()\n",
        "\n",
        "IMAGE_PIXELS = 3072\n",
        "CLASSES = 10\n",
        "\n",
        "beginTime = time.time()"
      ],
      "execution_count": 0,
      "outputs": [
        {
          "output_type": "stream",
          "text": [
            "\n",
            "Parameters:\n",
            "batch_size = <absl.flags._flag.Flag object at 0x000002CBF70240B8>\n",
            "f = <absl.flags._flag.Flag object at 0x000002CBF70241D0>\n",
            "hidden1 = <absl.flags._flag.Flag object at 0x000002CBF7027EF0>\n",
            "learning_rate = <absl.flags._flag.Flag object at 0x000002CBF7027EB8>\n",
            "max_steps = <absl.flags._flag.Flag object at 0x000002CBF7027F60>\n",
            "reg_constant = <absl.flags._flag.Flag object at 0x000002CBF7024128>\n",
            "train_dir = <absl.flags._flag.Flag object at 0x000002CBF7024080>\n",
            "\n"
          ],
          "name": "stdout"
        }
      ]
    },
    {
      "metadata": {
        "id": "1xti_m1dDVza",
        "colab_type": "text"
      },
      "cell_type": "markdown",
      "source": [
        "## Put logs for each run in separate directory"
      ]
    },
    {
      "metadata": {
        "id": "2poTwf-QDVzb",
        "colab_type": "code",
        "colab": {}
      },
      "cell_type": "code",
      "source": [
        "logdir = FLAGS.train_dir + '/' + datetime.now().strftime('%Y%m%d-%H%M%S') + '/'"
      ],
      "execution_count": 0,
      "outputs": []
    },
    {
      "metadata": {
        "id": "eoOvA2g3DVzd",
        "colab_type": "code",
        "colab": {}
      },
      "cell_type": "code",
      "source": [
        "# Uncommenting these lines removes randomness\n",
        "# You'll get exactly the same result on each run\n",
        "# np.random.seed(1)\n",
        "# tf.set_random_seed(1)"
      ],
      "execution_count": 0,
      "outputs": []
    },
    {
      "metadata": {
        "id": "73pK-Rv7DVzh",
        "colab_type": "text"
      },
      "cell_type": "markdown",
      "source": [
        "## Load CIFAR-10 data"
      ]
    },
    {
      "metadata": {
        "id": "RFnh7qr5DVzi",
        "colab_type": "code",
        "colab": {}
      },
      "cell_type": "code",
      "source": [
        "data_sets = data_helpers.load_data()"
      ],
      "execution_count": 0,
      "outputs": []
    },
    {
      "metadata": {
        "id": "_L7hFjcXDVzr",
        "colab_type": "text"
      },
      "cell_type": "markdown",
      "source": [
        "## Prepare the Tensorflow graph"
      ]
    },
    {
      "metadata": {
        "id": "9LzUDTn6DVzs",
        "colab_type": "text"
      },
      "cell_type": "markdown",
      "source": [
        "## Define input placeholders"
      ]
    },
    {
      "metadata": {
        "id": "oVwWOmGFDVzt",
        "colab_type": "code",
        "colab": {}
      },
      "cell_type": "code",
      "source": [
        "images_placeholder = tf.placeholder(tf.float32, shape=[None, IMAGE_PIXELS],\n",
        "  name='images')\n",
        "labels_placeholder = tf.placeholder(tf.int64, shape=[None], name='image-labels')"
      ],
      "execution_count": 0,
      "outputs": []
    },
    {
      "metadata": {
        "id": "IpD6ToDTDVzv",
        "colab_type": "text"
      },
      "cell_type": "markdown",
      "source": [
        "## Operation for the classifier's result"
      ]
    },
    {
      "metadata": {
        "id": "QFj41ku8DVzw",
        "colab_type": "code",
        "colab": {}
      },
      "cell_type": "code",
      "source": [
        "logits = two_layer_fc.inference(images_placeholder, IMAGE_PIXELS,\n",
        "  FLAGS.hidden1, CLASSES, reg_constant=FLAGS.reg_constant)"
      ],
      "execution_count": 0,
      "outputs": []
    },
    {
      "metadata": {
        "id": "TaP7BuSLDVzz",
        "colab_type": "text"
      },
      "cell_type": "markdown",
      "source": [
        "## Operation for the loss function"
      ]
    },
    {
      "metadata": {
        "id": "Eq7bMcydDVz1",
        "colab_type": "code",
        "colab": {}
      },
      "cell_type": "code",
      "source": [
        "loss = two_layer_fc.loss(logits, labels_placeholder)"
      ],
      "execution_count": 0,
      "outputs": []
    },
    {
      "metadata": {
        "id": "DXdKvciUDVz4",
        "colab_type": "text"
      },
      "cell_type": "markdown",
      "source": [
        "## Operation for the training step"
      ]
    },
    {
      "metadata": {
        "id": "lpTY5_XoDVz5",
        "colab_type": "code",
        "colab": {}
      },
      "cell_type": "code",
      "source": [
        "train_step = two_layer_fc.training(loss, FLAGS.learning_rate)"
      ],
      "execution_count": 0,
      "outputs": []
    },
    {
      "metadata": {
        "id": "Rrb-6GvEDVz7",
        "colab_type": "text"
      },
      "cell_type": "markdown",
      "source": [
        "## Operation calculating the accuracy of our predictions"
      ]
    },
    {
      "metadata": {
        "id": "3Ys843fFDVz7",
        "colab_type": "code",
        "colab": {}
      },
      "cell_type": "code",
      "source": [
        "accuracy = two_layer_fc.evaluation(logits, labels_placeholder)"
      ],
      "execution_count": 0,
      "outputs": []
    },
    {
      "metadata": {
        "id": "5jhIBXkYDVz-",
        "colab_type": "text"
      },
      "cell_type": "markdown",
      "source": [
        "## Operation merging summary data for TensorBoard"
      ]
    },
    {
      "metadata": {
        "id": "0WPYvqjMDVz_",
        "colab_type": "code",
        "colab": {}
      },
      "cell_type": "code",
      "source": [
        "summary = tf.summary.merge_all()"
      ],
      "execution_count": 0,
      "outputs": []
    },
    {
      "metadata": {
        "id": "BtSkUwUeDV0B",
        "colab_type": "text"
      },
      "cell_type": "markdown",
      "source": [
        "## Define saver to save model state at checkpoints\n"
      ]
    },
    {
      "metadata": {
        "id": "v2IZz3JNDV0C",
        "colab_type": "code",
        "colab": {}
      },
      "cell_type": "code",
      "source": [
        "saver = tf.train.Saver()"
      ],
      "execution_count": 0,
      "outputs": []
    },
    {
      "metadata": {
        "id": "EYFRVsugDV0F",
        "colab_type": "text"
      },
      "cell_type": "markdown",
      "source": [
        "## Run the TensorFlow graph"
      ]
    },
    {
      "metadata": {
        "id": "MNANUXPPDV0G",
        "colab_type": "code",
        "colab": {},
        "outputId": "889e9de2-0678-4f37-e6ef-e40d5bef0907"
      },
      "cell_type": "code",
      "source": [
        "with tf.Session() as sess:\n",
        "  # Initialize variables and create summary-writer\n",
        "  sess.run(tf.global_variables_initializer())\n",
        "  summary_writer = tf.summary.FileWriter(logdir, sess.graph)\n",
        "\n",
        "  # Generate input data batches\n",
        "  zipped_data = zip(data_sets['images_train'], data_sets['labels_train'])\n",
        "  batches = data_helpers.gen_batch(list(zipped_data), FLAGS.batch_size,\n",
        "    FLAGS.max_steps)\n",
        "\n",
        "  for i in range(FLAGS.max_steps):\n",
        "\n",
        "    # Get next input data batch\n",
        "    batch = next(batches)\n",
        "    images_batch, labels_batch = zip(*batch)\n",
        "    feed_dict = {\n",
        "      images_placeholder: images_batch,\n",
        "      labels_placeholder: labels_batch\n",
        "    }\n",
        "\n",
        "    # Periodically print out the model's current accuracy\n",
        "    if i % 100 == 0:\n",
        "      train_accuracy = sess.run(accuracy, feed_dict=feed_dict)\n",
        "      print('Step {:d}, training accuracy {:g}'.format(i, train_accuracy))\n",
        "      summary_str = sess.run(summary, feed_dict=feed_dict)\n",
        "      summary_writer.add_summary(summary_str, i)\n",
        "\n",
        "    # Perform a single training step\n",
        "    sess.run([train_step, loss], feed_dict=feed_dict)\n",
        "\n",
        "    # Periodically save checkpoint\n",
        "    if (i + 1) % 1000 == 0:\n",
        "      checkpoint_file = os.path.join(FLAGS.train_dir, 'checkpoint')\n",
        "      saver.save(sess, checkpoint_file, global_step=i)\n",
        "      print('Saved checkpoint')\n",
        "\n",
        "  # After finishing the training, evaluate on the test set\n",
        "  test_accuracy = sess.run(accuracy, feed_dict={\n",
        "    images_placeholder: data_sets['images_test'],\n",
        "    labels_placeholder: data_sets['labels_test']})\n",
        "  print('Test accuracy {:g}'.format(test_accuracy))\n",
        "\n",
        "endTime = time.time()\n",
        "print('Total time: {:5.2f}s'.format(endTime - beginTime))"
      ],
      "execution_count": 0,
      "outputs": [
        {
          "output_type": "stream",
          "text": [
            "Step 0, training accuracy 0.13\n",
            "Step 100, training accuracy 0.3125\n",
            "Step 200, training accuracy 0.335\n",
            "Step 300, training accuracy 0.4075\n",
            "Step 400, training accuracy 0.4225\n",
            "Step 500, training accuracy 0.425\n",
            "Step 600, training accuracy 0.4475\n",
            "Step 700, training accuracy 0.495\n",
            "Step 800, training accuracy 0.525\n",
            "Step 900, training accuracy 0.4675\n",
            "Saved checkpoint\n",
            "Step 1000, training accuracy 0.5\n",
            "Step 1100, training accuracy 0.5125\n",
            "Step 1200, training accuracy 0.5175\n",
            "Step 1300, training accuracy 0.465\n",
            "Step 1400, training accuracy 0.51\n",
            "Step 1500, training accuracy 0.5475\n",
            "Step 1600, training accuracy 0.525\n",
            "Step 1700, training accuracy 0.5225\n",
            "Step 1800, training accuracy 0.575\n",
            "Step 1900, training accuracy 0.5275\n",
            "Saved checkpoint\n",
            "Test accuracy 0.4526\n",
            "Total time: 69.60s\n"
          ],
          "name": "stdout"
        }
      ]
    }
  ]
}