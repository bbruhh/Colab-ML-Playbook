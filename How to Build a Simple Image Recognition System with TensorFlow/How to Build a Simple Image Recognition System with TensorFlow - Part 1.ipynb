{
  "nbformat": 4,
  "nbformat_minor": 0,
  "metadata": {
    "colab": {
      "name": "How to Build a Simple Image Recognition System with TensorFlow - Part 1.ipynb",
      "version": "0.3.2",
      "provenance": []
    },
    "kernelspec": {
      "display_name": "Python 3",
      "language": "python",
      "name": "python3"
    }
  },
  "cells": [
    {
      "metadata": {
        "id": "XEtgYaErCwwE",
        "colab_type": "text"
      },
      "cell_type": "markdown",
      "source": [
        "<img height=\"60px\" src=\"https://colab.research.google.com/img/colab_favicon.ico\" align=\"left\" hspace=\"20px\" vspace=\"5px\">\n",
        "\n",
        "# Softmax-Classifier for CIFAR-10"
      ]
    },
    {
      "metadata": {
        "id": "doR28-vXC7zI",
        "colab_type": "text"
      },
      "cell_type": "markdown",
      "source": [
        "<table class=\"tfo-notebook-buttons\" align=\"left\">\n",
        "  <td>\n",
        "    <a target=\"_blank\" href=\"https://colab.research.google.com/github/learning-stack/Colab-ML-Playbook/blob/master/How%20to%20Build%20a%20Simple%20Image%20Recognition%20System%20with%20TensorFlow/How%20to%20Build%20a%20Simple%20Image%20Recognition%20System%20with%20TensorFlow%20-%20Part%201.ipynb\"><img src=\"https://www.tensorflow.org/images/colab_logo_32px.png\" />Run in Google Colab</a>\n",
        "  </td>\n",
        "  <td>\n",
        "    <a target=\"_blank\" href=\"https://github.com/learning-stack/Colab-ML-Playbook/blob/master/How%20to%20Build%20a%20Simple%20Image%20Recognition%20System%20with%20TensorFlow/How%20to%20Build%20a%20Simple%20Image%20Recognition%20System%20with%20TensorFlow%20-%20Part%201.ipynb\"><img src=\"https://www.tensorflow.org/images/GitHub-Mark-32px.png\" />View source on GitHub</a>\n",
        "  </td>\n",
        "</table>"
      ]
    },
    {
      "metadata": {
        "id": "8ywVCiw0CwwH",
        "colab_type": "code",
        "colab": {}
      },
      "cell_type": "code",
      "source": [
        "from __future__ import absolute_import\n",
        "from __future__ import division\n",
        "from __future__ import print_function\n",
        "\n",
        "import numpy as np\n",
        "import tensorflow as tf\n",
        "import time"
      ],
      "execution_count": 0,
      "outputs": []
    },
    {
      "metadata": {
        "id": "s9zuGVTrEL8K",
        "colab_type": "code",
        "colab": {
          "base_uri": "https://localhost:8080/",
          "height": 34
        },
        "outputId": "d24199b2-447d-412e-fe37-c709f16c8163"
      },
      "cell_type": "code",
      "source": [
        "# Import custom library from my github\n",
        "\n",
        "import urllib.request\n",
        "\n",
        "def download(url):\n",
        "    filename = url.split('/')[-1]\n",
        "    print ('Downloading', filename)\n",
        "    f =  urllib.request.urlopen(url)\n",
        "    data = f.read()\n",
        "    f.close()\n",
        "    with open(filename, 'wb') as myfile:\n",
        "        myfile.write(data)\n",
        "\n",
        "# get .py file from repository\n",
        "download('https://raw.githubusercontent.com/learning-stack/Colab-ML-Playbook/master/How%20to%20Build%20a%20Simple%20Image%20Recognition%20System%20with%20TensorFlow/data_helpers.py')\n",
        "\n",
        "# verify the file if necessary\n",
        "# print(open('data_helpers.py').read())\n",
        "\n",
        "import data_helpers\n"
      ],
      "execution_count": 15,
      "outputs": [
        {
          "output_type": "stream",
          "text": [
            "Downloading data_helpers.py\n"
          ],
          "name": "stdout"
        }
      ]
    },
    {
      "metadata": {
        "id": "AtJzIFbMCwwK",
        "colab_type": "text"
      },
      "cell_type": "markdown",
      "source": [
        "## Parameter definitions"
      ]
    },
    {
      "metadata": {
        "id": "hyQjYOvOCwwL",
        "colab_type": "code",
        "colab": {}
      },
      "cell_type": "code",
      "source": [
        "batch_size = 1000\n",
        "learning_rate = 0.005\n",
        "max_steps = 1000\n",
        "\n",
        "\n",
        "beginTime = time.time()\n",
        "\n",
        "# Uncommenting this line removes randomness\n",
        "# You'll get exactly the same result on each run\n",
        "# np.random.seed(1)"
      ],
      "execution_count": 0,
      "outputs": []
    },
    {
      "metadata": {
        "id": "52_D9i8eCwwO",
        "colab_type": "text"
      },
      "cell_type": "markdown",
      "source": [
        "## Prepare data"
      ]
    },
    {
      "metadata": {
        "id": "P52njMHqCwwP",
        "colab_type": "code",
        "colab": {
          "base_uri": "https://localhost:8080/",
          "height": 401
        },
        "outputId": "d1e59a21-b1eb-4d58-b828-e732b78d72f0"
      },
      "cell_type": "code",
      "source": [
        "data_sets = data_helpers.load_data()"
      ],
      "execution_count": 17,
      "outputs": [
        {
          "output_type": "error",
          "ename": "FileNotFoundError",
          "evalue": "ignored",
          "traceback": [
            "\u001b[0;31m---------------------------------------------------------------------------\u001b[0m",
            "\u001b[0;31mFileNotFoundError\u001b[0m                         Traceback (most recent call last)",
            "\u001b[0;32m<ipython-input-17-a2a1185c3465>\u001b[0m in \u001b[0;36m<module>\u001b[0;34m()\u001b[0m\n\u001b[0;32m----> 1\u001b[0;31m \u001b[0mdata_sets\u001b[0m \u001b[0;34m=\u001b[0m \u001b[0mdata_helpers\u001b[0m\u001b[0;34m.\u001b[0m\u001b[0mload_data\u001b[0m\u001b[0;34m(\u001b[0m\u001b[0;34m)\u001b[0m\u001b[0;34m\u001b[0m\u001b[0m\n\u001b[0m",
            "\u001b[0;32m/content/data_helpers.py\u001b[0m in \u001b[0;36mload_data\u001b[0;34m()\u001b[0m\n\u001b[1;32m     26\u001b[0m   \u001b[0;32mfor\u001b[0m \u001b[0mi\u001b[0m \u001b[0;32min\u001b[0m \u001b[0mrange\u001b[0m\u001b[0;34m(\u001b[0m\u001b[0;36m1\u001b[0m\u001b[0;34m,\u001b[0m \u001b[0;36m6\u001b[0m\u001b[0;34m)\u001b[0m\u001b[0;34m:\u001b[0m\u001b[0;34m\u001b[0m\u001b[0m\n\u001b[1;32m     27\u001b[0m     \u001b[0mfilename\u001b[0m \u001b[0;34m=\u001b[0m \u001b[0;34m'cifar-10-batches-py/data_batch_'\u001b[0m \u001b[0;34m+\u001b[0m \u001b[0mstr\u001b[0m\u001b[0;34m(\u001b[0m\u001b[0mi\u001b[0m\u001b[0;34m)\u001b[0m\u001b[0;34m\u001b[0m\u001b[0m\n\u001b[0;32m---> 28\u001b[0;31m     \u001b[0mX\u001b[0m\u001b[0;34m,\u001b[0m \u001b[0mY\u001b[0m \u001b[0;34m=\u001b[0m \u001b[0mload_CIFAR10_batch\u001b[0m\u001b[0;34m(\u001b[0m\u001b[0mfilename\u001b[0m\u001b[0;34m)\u001b[0m\u001b[0;34m\u001b[0m\u001b[0m\n\u001b[0m\u001b[1;32m     29\u001b[0m     \u001b[0mxs\u001b[0m\u001b[0;34m.\u001b[0m\u001b[0mappend\u001b[0m\u001b[0;34m(\u001b[0m\u001b[0mX\u001b[0m\u001b[0;34m)\u001b[0m\u001b[0;34m\u001b[0m\u001b[0m\n\u001b[1;32m     30\u001b[0m     \u001b[0mys\u001b[0m\u001b[0;34m.\u001b[0m\u001b[0mappend\u001b[0m\u001b[0;34m(\u001b[0m\u001b[0mY\u001b[0m\u001b[0;34m)\u001b[0m\u001b[0;34m\u001b[0m\u001b[0m\n",
            "\u001b[0;32m/content/data_helpers.py\u001b[0m in \u001b[0;36mload_CIFAR10_batch\u001b[0;34m(filename)\u001b[0m\n\u001b[1;32m      8\u001b[0m   \u001b[0;34m'''load data from single CIFAR-10 file'''\u001b[0m\u001b[0;34m\u001b[0m\u001b[0m\n\u001b[1;32m      9\u001b[0m \u001b[0;34m\u001b[0m\u001b[0m\n\u001b[0;32m---> 10\u001b[0;31m   \u001b[0;32mwith\u001b[0m \u001b[0mopen\u001b[0m\u001b[0;34m(\u001b[0m\u001b[0mfilename\u001b[0m\u001b[0;34m,\u001b[0m \u001b[0;34m'rb'\u001b[0m\u001b[0;34m)\u001b[0m \u001b[0;32mas\u001b[0m \u001b[0mf\u001b[0m\u001b[0;34m:\u001b[0m\u001b[0;34m\u001b[0m\u001b[0m\n\u001b[0m\u001b[1;32m     11\u001b[0m     \u001b[0;32mif\u001b[0m \u001b[0msys\u001b[0m\u001b[0;34m.\u001b[0m\u001b[0mversion_info\u001b[0m\u001b[0;34m[\u001b[0m\u001b[0;36m0\u001b[0m\u001b[0;34m]\u001b[0m \u001b[0;34m<\u001b[0m \u001b[0;36m3\u001b[0m\u001b[0;34m:\u001b[0m\u001b[0;34m\u001b[0m\u001b[0m\n\u001b[1;32m     12\u001b[0m       \u001b[0mdict\u001b[0m \u001b[0;34m=\u001b[0m \u001b[0mpickle\u001b[0m\u001b[0;34m.\u001b[0m\u001b[0mload\u001b[0m\u001b[0;34m(\u001b[0m\u001b[0mf\u001b[0m\u001b[0;34m)\u001b[0m\u001b[0;34m\u001b[0m\u001b[0m\n",
            "\u001b[0;31mFileNotFoundError\u001b[0m: [Errno 2] No such file or directory: 'cifar-10-batches-py/data_batch_1'"
          ]
        }
      ]
    },
    {
      "metadata": {
        "id": "2HLXVnXpCwwR",
        "colab_type": "text"
      },
      "cell_type": "markdown",
      "source": [
        "## Prepare the TensorFlow graph"
      ]
    },
    {
      "metadata": {
        "id": "Qat2I1JkCwwS",
        "colab_type": "code",
        "colab": {}
      },
      "cell_type": "code",
      "source": [
        "# Define input placeholders\n",
        "images_placeholder = tf.placeholder(tf.float32, shape=[None, 3072])\n",
        "labels_placeholder = tf.placeholder(tf.int64, shape=[None])"
      ],
      "execution_count": 0,
      "outputs": []
    },
    {
      "metadata": {
        "id": "emoTs6oUCwwV",
        "colab_type": "code",
        "colab": {}
      },
      "cell_type": "code",
      "source": [
        "# Define variables (these are the values we want to optimize)\n",
        "weights = tf.Variable(tf.zeros([3072, 10]))\n",
        "biases = tf.Variable(tf.zeros([10]))"
      ],
      "execution_count": 0,
      "outputs": []
    },
    {
      "metadata": {
        "id": "FfhqEhlLCwwX",
        "colab_type": "code",
        "colab": {}
      },
      "cell_type": "code",
      "source": [
        "# Define the classifier's result\n",
        "logits = tf.matmul(images_placeholder, weights) + biases"
      ],
      "execution_count": 0,
      "outputs": []
    },
    {
      "metadata": {
        "id": "o50I-AB2Cwwa",
        "colab_type": "code",
        "colab": {}
      },
      "cell_type": "code",
      "source": [
        "# Define the loss function\n",
        "loss = tf.reduce_mean(tf.nn.sparse_softmax_cross_entropy_with_logits(logits=logits,\n",
        "  labels=labels_placeholder))"
      ],
      "execution_count": 0,
      "outputs": []
    },
    {
      "metadata": {
        "id": "XTshjokhCwwd",
        "colab_type": "code",
        "colab": {}
      },
      "cell_type": "code",
      "source": [
        "# Define the training operation\n",
        "train_step = tf.train.GradientDescentOptimizer(learning_rate).minimize(loss)"
      ],
      "execution_count": 0,
      "outputs": []
    },
    {
      "metadata": {
        "id": "AsZexhx4Cwwf",
        "colab_type": "code",
        "colab": {}
      },
      "cell_type": "code",
      "source": [
        "# Operation comparing prediction with true label\n",
        "correct_prediction = tf.equal(tf.argmax(logits, 1), labels_placeholder)"
      ],
      "execution_count": 0,
      "outputs": []
    },
    {
      "metadata": {
        "id": "3WnwjUHECwwi",
        "colab_type": "code",
        "colab": {}
      },
      "cell_type": "code",
      "source": [
        "# Operation calculating the accuracy of our predictions\n",
        "accuracy = tf.reduce_mean(tf.cast(correct_prediction, tf.float32))"
      ],
      "execution_count": 0,
      "outputs": []
    },
    {
      "metadata": {
        "id": "ZUNVNFkFCwwl",
        "colab_type": "text"
      },
      "cell_type": "markdown",
      "source": [
        "## Run the TensorFlow graph"
      ]
    },
    {
      "metadata": {
        "id": "6l7cb0c9Cwwm",
        "colab_type": "code",
        "colab": {},
        "outputId": "d16d4fb6-83eb-486d-f1d2-a29712b63aee"
      },
      "cell_type": "code",
      "source": [
        "with tf.Session() as sess:\n",
        "  # Initialize variables\n",
        "  sess.run(tf.global_variables_initializer())\n",
        "    \n",
        "  # Repeat max_steps times\n",
        "  for i in range(max_steps):\n",
        "\n",
        "    # Generate input data batch\n",
        "    indices = np.random.choice(data_sets['images_train'].shape[0], batch_size)\n",
        "    images_batch = data_sets['images_train'][indices]\n",
        "    labels_batch = data_sets['labels_train'][indices]\n",
        "\n",
        "    # Periodically print out the model's current accuracy\n",
        "    if i % 100 == 0:\n",
        "      train_accuracy = sess.run(accuracy, feed_dict={\n",
        "        images_placeholder: images_batch, labels_placeholder: labels_batch})\n",
        "      print('Step {:5d}: training accuracy {:g}'.format(i, train_accuracy))\n",
        "\n",
        "    # Perform a single training step\n",
        "    sess.run(train_step, feed_dict={images_placeholder: images_batch,\n",
        "      labels_placeholder: labels_batch})\n",
        "\n",
        "  # After finishing the training, evaluate on the test set\n",
        "  test_accuracy = sess.run(accuracy, feed_dict={\n",
        "    images_placeholder: data_sets['images_test'],\n",
        "    labels_placeholder: data_sets['labels_test']})\n",
        "  print('Test accuracy {:g}'.format(test_accuracy))\n",
        "\n",
        "endTime = time.time()"
      ],
      "execution_count": 0,
      "outputs": [
        {
          "output_type": "stream",
          "text": [
            "Step     0: training accuracy 0.108\n",
            "Step   100: training accuracy 0.282\n",
            "Step   200: training accuracy 0.229\n",
            "Step   300: training accuracy 0.281\n",
            "Step   400: training accuracy 0.293\n",
            "Step   500: training accuracy 0.297\n",
            "Step   600: training accuracy 0.318\n",
            "Step   700: training accuracy 0.313\n",
            "Step   800: training accuracy 0.272\n",
            "Step   900: training accuracy 0.281\n",
            "Test accuracy 0.2715\n"
          ],
          "name": "stdout"
        }
      ]
    },
    {
      "metadata": {
        "id": "7ce0FdGcCwwq",
        "colab_type": "code",
        "colab": {},
        "outputId": "c0e8ea9f-f81c-4654-943e-b1f3289d0312"
      },
      "cell_type": "code",
      "source": [
        "print('Total time: {:5.2f}s'.format(endTime - beginTime))"
      ],
      "execution_count": 0,
      "outputs": [
        {
          "output_type": "stream",
          "text": [
            "Total time: 44.58s\n"
          ],
          "name": "stdout"
        }
      ]
    },
    {
      "metadata": {
        "id": "0Aolvy0QCwwu",
        "colab_type": "code",
        "colab": {}
      },
      "cell_type": "code",
      "source": [
        ""
      ],
      "execution_count": 0,
      "outputs": []
    }
  ]
}