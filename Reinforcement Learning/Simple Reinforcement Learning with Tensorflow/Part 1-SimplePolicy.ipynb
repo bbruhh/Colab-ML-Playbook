{
  "nbformat": 4,
  "nbformat_minor": 0,
  "metadata": {
    "colab": {
      "name": "Part 1-SimplePolicy.ipynb",
      "version": "0.3.2",
      "provenance": []
    },
    "kernelspec": {
      "display_name": "Python 2",
      "language": "python",
      "name": "python2"
    }
  },
  "cells": [
    {
      "metadata": {
        "id": "qiNlEfe5ZPH6",
        "colab_type": "text"
      },
      "cell_type": "markdown",
      "source": [
        "<img height=\"60px\" src=\"https://colab.research.google.com/img/colab_favicon.ico\" align=\"left\" hspace=\"20px\" vspace=\"5px\">\n",
        "\n",
        "# Simple Reinforcement Learning in Tensorflow Part 1: \n",
        "## The Multi-armed bandit\n",
        "This tutorial contains a simple example of how to build a policy-gradient based agent that can solve the multi-armed bandit problem. For more information, see this [Medium post](https://medium.com/@awjuliani/super-simple-reinforcement-learning-tutorial-part-1-fd544fab149).\n",
        "\n",
        "For more Reinforcement Learning algorithms, including DQN and Model-based learning in Tensorflow, see my Github repo, [DeepRL-Agents](https://github.com/awjuliani/DeepRL-Agents). "
      ]
    },
    {
      "metadata": {
        "id": "MrBHgr2kZYzU",
        "colab_type": "text"
      },
      "cell_type": "markdown",
      "source": [
        "<table class=\"tfo-notebook-buttons\" align=\"left\">\n",
        "  <td>\n",
        "    <a target=\"_blank\" href=\"https://colab.research.google.com/github/learning-stack/Colab-ML-Playbook/blob/master/Reinforcement%20Learning/Simple%20Reinforcement%20Learning%20with%20Tensorflow/Part%201-SimplePolicy.ipynb\"><img src=\"https://www.tensorflow.org/images/colab_logo_32px.png\" />Run in Google Colab</a>\n",
        "  </td>\n",
        "  <td>\n",
        "    <a target=\"_blank\" href=\"https://github.com/learning-stack/Colab-ML-Playbook/blob/master/Reinforcement%20Learning/Simple%20Reinforcement%20Learning%20with%20Tensorflow/Part%201-SimplePolicy.ipynb\"><img src=\"https://www.tensorflow.org/images/GitHub-Mark-32px.png\" />View source on GitHub</a>\n",
        "  </td>\n",
        "</table>"
      ]
    },
    {
      "metadata": {
        "id": "zylBDRC9ZPH-",
        "colab_type": "code",
        "colab": {}
      },
      "cell_type": "code",
      "source": [
        "import tensorflow as tf\n",
        "import numpy as np"
      ],
      "execution_count": 0,
      "outputs": []
    },
    {
      "metadata": {
        "id": "bCtMYyuhZPIF",
        "colab_type": "text"
      },
      "cell_type": "markdown",
      "source": [
        "### The Bandits\n",
        "Here we define our bandits. For this example we are using a four-armed bandit. The pullBandit function generates a random number from a normal distribution with a mean of 0. The lower the bandit number, the more likely a positive reward will be returned. We want our agent to learn to always choose the bandit that will give that positive reward."
      ]
    },
    {
      "metadata": {
        "id": "swyPw1cIZPIH",
        "colab_type": "code",
        "colab": {}
      },
      "cell_type": "code",
      "source": [
        "#List out our bandits. Currently bandit 4 (index#3) is set to most often provide a positive reward.\n",
        "bandits = [0.2,0,-0.2,-5]\n",
        "num_bandits = len(bandits)\n",
        "def pullBandit(bandit):\n",
        "    #Get a random number.\n",
        "    result = np.random.randn(1)\n",
        "    if result > bandit:\n",
        "        #return a positive reward.\n",
        "        return 1\n",
        "    else:\n",
        "        #return a negative reward.\n",
        "        return -1"
      ],
      "execution_count": 0,
      "outputs": []
    },
    {
      "metadata": {
        "id": "-c5DAA_wZPIL",
        "colab_type": "text"
      },
      "cell_type": "markdown",
      "source": [
        "### The Agent\n",
        "The code below established our simple neural agent. It consists of a set of values for each of the bandits. Each value is an estimate of the value of the return from choosing the bandit. We use a policy gradient method to update the agent by moving the value for the selected action toward the recieved reward."
      ]
    },
    {
      "metadata": {
        "id": "9bwcBHLNZPIM",
        "colab_type": "code",
        "colab": {}
      },
      "cell_type": "code",
      "source": [
        "tf.reset_default_graph()\n",
        "\n",
        "#These two lines established the feed-forward part of the network. This does the actual choosing.\n",
        "weights = tf.Variable(tf.ones([num_bandits]))\n",
        "chosen_action = tf.argmax(weights,0)\n",
        "\n",
        "#The next six lines establish the training procedure. We feed the reward and chosen action into the network\n",
        "#to compute the loss, and use it to update the network.\n",
        "reward_holder = tf.placeholder(shape=[1],dtype=tf.float32)\n",
        "action_holder = tf.placeholder(shape=[1],dtype=tf.int32)\n",
        "responsible_weight = tf.slice(weights,action_holder,[1])\n",
        "loss = -(tf.log(responsible_weight)*reward_holder)\n",
        "optimizer = tf.train.GradientDescentOptimizer(learning_rate=0.001)\n",
        "update = optimizer.minimize(loss)"
      ],
      "execution_count": 0,
      "outputs": []
    },
    {
      "metadata": {
        "id": "51Zk866tZPIP",
        "colab_type": "text"
      },
      "cell_type": "markdown",
      "source": [
        "### Training the Agent"
      ]
    },
    {
      "metadata": {
        "id": "EAEf5OaEZPIQ",
        "colab_type": "text"
      },
      "cell_type": "markdown",
      "source": [
        "We will train our agent by taking actions in our environment, and recieving rewards. Using the rewards and actions, we can know how to properly update our network in order to more often choose actions that will yield the highest rewards over time."
      ]
    },
    {
      "metadata": {
        "id": "s6OaO1XGZPIQ",
        "colab_type": "code",
        "colab": {
          "base_uri": "https://localhost:8080/",
          "height": 391
        },
        "outputId": "977cd775-ef4b-4171-e467-5582a840b8ba"
      },
      "cell_type": "code",
      "source": [
        "total_episodes = 1000 #Set total number of episodes to train agent on.\n",
        "total_reward = np.zeros(num_bandits) #Set scoreboard for bandits to 0.\n",
        "e = 0.1 #Set the chance of taking a random action.\n",
        "\n",
        "init = tf.initialize_all_variables()\n",
        "\n",
        "# Launch the tensorflow graph\n",
        "with tf.Session() as sess:\n",
        "    sess.run(init)\n",
        "    i = 0\n",
        "    while i < total_episodes:\n",
        "        \n",
        "        #Choose either a random action or one from our network.\n",
        "        if np.random.rand(1) < e:\n",
        "            action = np.random.randint(num_bandits)\n",
        "        else:\n",
        "            action = sess.run(chosen_action)\n",
        "        \n",
        "        reward = pullBandit(bandits[action]) #Get our reward from picking one of the bandits.\n",
        "        \n",
        "        #Update the network.\n",
        "        _,resp,ww = sess.run([update,responsible_weight,weights], feed_dict={reward_holder:[reward],action_holder:[action]})\n",
        "        \n",
        "        #Update our running tally of scores.\n",
        "        total_reward[action] += reward\n",
        "        if i % 50 == 0:\n",
        "            print \"Running reward for the \" + str(num_bandits) + \" bandits: \" + str(total_reward)\n",
        "        i+=1\n",
        "print \"The agent thinks bandit \" + str(np.argmax(ww)+1) + \" is the most promising....\"\n",
        "if np.argmax(ww) == np.argmax(-np.array(bandits)):\n",
        "    print \"...and it was right!\"\n",
        "else:\n",
        "    print \"...and it was wrong!\""
      ],
      "execution_count": 16,
      "outputs": [
        {
          "output_type": "stream",
          "text": [
            "Running reward for the 4 bandits: [1. 0. 0. 0.]\n",
            "Running reward for the 4 bandits: [-1. -2. -1. 37.]\n",
            "Running reward for the 4 bandits: [-2. -1.  0. 84.]\n",
            "Running reward for the 4 bandits: [ -1.  -1.   0. 133.]\n",
            "Running reward for the 4 bandits: [ -3.  -2.  -1. 175.]\n",
            "Running reward for the 4 bandits: [ -3.  -3.  -2. 217.]\n",
            "Running reward for the 4 bandits: [ -4.  -3.  -2. 264.]\n",
            "Running reward for the 4 bandits: [ -4.  -4.  -2. 303.]\n",
            "Running reward for the 4 bandits: [ -4.  -4.  -3. 346.]\n",
            "Running reward for the 4 bandits: [ -5.  -3.  -4. 387.]\n",
            "Running reward for the 4 bandits: [ -7.  -1.  -4. 429.]\n",
            "Running reward for the 4 bandits: [ -9.   0.  -4. 476.]\n",
            "Running reward for the 4 bandits: [ -9.   0.  -3. 523.]\n",
            "Running reward for the 4 bandits: [ -7.   1.  -4. 567.]\n",
            "Running reward for the 4 bandits: [ -9.   3.  -4. 613.]\n",
            "Running reward for the 4 bandits: [ -9.   3.  -4. 651.]\n",
            "Running reward for the 4 bandits: [-12.   3.  -1. 693.]\n",
            "Running reward for the 4 bandits: [-12.   5.   1. 739.]\n",
            "Running reward for the 4 bandits: [-12.   4.   2. 785.]\n",
            "Running reward for the 4 bandits: [-11.   3.   1. 830.]\n",
            "The agent thinks bandit 4 is the most promising....\n",
            "...and it was right!\n"
          ],
          "name": "stdout"
        }
      ]
    }
  ]
}