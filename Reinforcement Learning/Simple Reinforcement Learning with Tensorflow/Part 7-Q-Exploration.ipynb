{
  "nbformat": 4,
  "nbformat_minor": 0,
  "metadata": {
    "colab": {
      "name": "Part 7-Q-Exploration.ipynb",
      "version": "0.3.2",
      "provenance": []
    },
    "kernelspec": {
      "name": "python3",
      "display_name": "Python 3"
    },
    "accelerator": "GPU"
  },
  "cells": [
    {
      "metadata": {
        "id": "ZaZLzE-HNPBp",
        "colab_type": "text"
      },
      "cell_type": "markdown",
      "source": [
        "<img height=\"60px\" src=\"https://colab.research.google.com/img/colab_favicon.ico\" align=\"left\" hspace=\"20px\" vspace=\"5px\">\n",
        "# Simple Reinforcement Learning: Exploration Strategies\n",
        "This notebook contains implementations of various action-selections methods that can be used to encourage exploration during the learning process. To learn more about these methods, see the accompanying [Medium post](https://medium.com/p/d3a97b7cceaf/). Also see the interactive visualization: [here](http://awjuliani.github.io/exploration/index.html).\n",
        "\n",
        "For more reinforcment learning tutorials see:\n",
        "https://github.com/awjuliani/DeepRL-Agents"
      ]
    },
    {
      "metadata": {
        "id": "w_LRbgzyNR1O",
        "colab_type": "text"
      },
      "cell_type": "markdown",
      "source": [
        "<table class=\"tfo-notebook-buttons\" align=\"left\">\n",
        "  <td>\n",
        "    <a target=\"_blank\" href=\"https://colab.research.google.com/github/learning-stack/Colab-ML-Playbook/blob/master/Reinforcement%20Learning/Simple%20Reinforcement%20Learning%20with%20Tensorflow/Part%207-Q-Exploration.ipynb\"><img src=\"https://www.tensorflow.org/images/colab_logo_32px.png\" />Run in Google Colab</a>\n",
        "  </td>\n",
        "  <td>\n",
        "    <a target=\"_blank\" href=\"https://github.com/learning-stack/Colab-ML-Playbook/blob/master/Reinforcement%20Learning/Simple%20Reinforcement%20Learning%20with%20Tensorflow/Part%207-Q-Exploration.ipynb\"><img src=\"https://www.tensorflow.org/images/GitHub-Mark-32px.png\" />View source on GitHub</a>\n",
        "  </td>\n",
        "</table>"
      ]
    },
    {
      "metadata": {
        "id": "TW3mAou6NkK1",
        "colab_type": "code",
        "colab": {
          "base_uri": "https://localhost:8080/",
          "height": 34
        },
        "outputId": "4aeefcd2-e8dc-45b5-f267-3ec89038acf4"
      },
      "cell_type": "code",
      "source": [
        "#installing dependencies\n",
        "!apt-get -qq -y install libcusparse8.0 libnvrtc8.0 libnvtoolsext1 > /dev/null\n",
        "!ln -snf /usr/lib/x86_64-linux-gnu/libnvrtc-builtins.so.8.0 /usr/lib/x86_64-linux-gnu/libnvrtc-builtins.so\n",
        "!apt-get -qq -y install xvfb freeglut3-dev ffmpeg> /dev/null\n",
        "!pip -q install gym\n",
        "!pip -q install pyglet\n",
        "!pip -q install pyopengl\n",
        "!pip -q install pyvirtualdisplay"
      ],
      "execution_count": 1,
      "outputs": [
        {
          "output_type": "stream",
          "text": [
            "Extracting templates from packages: 100%\n"
          ],
          "name": "stdout"
        }
      ]
    },
    {
      "metadata": {
        "id": "kuS_QNNcNPBu",
        "colab_type": "code",
        "colab": {}
      },
      "cell_type": "code",
      "source": [
        "import gym\n",
        "import numpy as np\n",
        "import random\n",
        "import tensorflow as tf\n",
        "import matplotlib.pyplot as plt\n",
        "%matplotlib inline\n",
        "\n",
        "import tensorflow.contrib.slim as slim"
      ],
      "execution_count": 0,
      "outputs": []
    },
    {
      "metadata": {
        "id": "ngzCzOGYNPBz",
        "colab_type": "text"
      },
      "cell_type": "markdown",
      "source": [
        "### Load the environment"
      ]
    },
    {
      "metadata": {
        "id": "JsrZiIlmNPB1",
        "colab_type": "code",
        "colab": {
          "base_uri": "https://localhost:8080/",
          "height": 34
        },
        "outputId": "24fd483d-ff48-40b2-b75e-290bc257ee8a"
      },
      "cell_type": "code",
      "source": [
        "env = gym.make('CartPole-v0')"
      ],
      "execution_count": 3,
      "outputs": [
        {
          "output_type": "stream",
          "text": [
            "\u001b[33mWARN: gym.spaces.Box autodetected dtype as <class 'numpy.float32'>. Please provide explicit dtype.\u001b[0m\n"
          ],
          "name": "stdout"
        }
      ]
    },
    {
      "metadata": {
        "id": "wHC0O_AvNPB3",
        "colab_type": "text"
      },
      "cell_type": "markdown",
      "source": [
        "## The Deep Q-Network "
      ]
    },
    {
      "metadata": {
        "id": "HQQrz4WRNPB4",
        "colab_type": "text"
      },
      "cell_type": "markdown",
      "source": [
        "### Helper functions"
      ]
    },
    {
      "metadata": {
        "id": "129YyZn7NPB5",
        "colab_type": "code",
        "colab": {}
      },
      "cell_type": "code",
      "source": [
        "class experience_buffer():\n",
        "    def __init__(self, buffer_size = 10000):\n",
        "        self.buffer = []\n",
        "        self.buffer_size = buffer_size\n",
        "    \n",
        "    def add(self,experience):\n",
        "        if len(self.buffer) + len(experience) >= self.buffer_size:\n",
        "            self.buffer[0:(len(experience)+len(self.buffer))-self.buffer_size] = []\n",
        "        self.buffer.extend(experience)\n",
        "            \n",
        "    def sample(self,size):\n",
        "        return np.reshape(np.array(random.sample(self.buffer,size)),[size,5])\n",
        "    \n",
        "def updateTargetGraph(tfVars,tau):\n",
        "    total_vars = len(tfVars)\n",
        "    op_holder = []\n",
        "    for idx,var in enumerate(tfVars[0:int(total_vars/2)]):\n",
        "        op_holder.append(tfVars[idx+int(total_vars/2)].assign((var.value()*tau) + ((1-tau)*tfVars[idx+int(total_vars/2)].value())))\n",
        "    return op_holder\n",
        "\n",
        "def updateTarget(op_holder,sess):\n",
        "    for op in op_holder:\n",
        "        sess.run(op)"
      ],
      "execution_count": 0,
      "outputs": []
    },
    {
      "metadata": {
        "id": "ew7f8elkNPB7",
        "colab_type": "text"
      },
      "cell_type": "markdown",
      "source": [
        "### Implementing the network itself"
      ]
    },
    {
      "metadata": {
        "id": "mmBcRGqBNPCF",
        "colab_type": "code",
        "colab": {}
      },
      "cell_type": "code",
      "source": [
        "class Q_Network():\n",
        "    def __init__(self):\n",
        "        #These lines establish the feed-forward part of the network used to choose actions\n",
        "        self.inputs = tf.placeholder(shape=[None,4],dtype=tf.float32)\n",
        "        self.Temp = tf.placeholder(shape=None,dtype=tf.float32)\n",
        "        self.keep_per = tf.placeholder(shape=None,dtype=tf.float32)\n",
        "\n",
        "        hidden = slim.fully_connected(self.inputs,64,activation_fn=tf.nn.tanh,biases_initializer=None)\n",
        "        hidden = slim.dropout(hidden,self.keep_per)\n",
        "        self.Q_out = slim.fully_connected(hidden,2,activation_fn=None,biases_initializer=None)\n",
        "        \n",
        "        self.predict = tf.argmax(self.Q_out,1)\n",
        "        self.Q_dist = tf.nn.softmax(self.Q_out/self.Temp)\n",
        "        \n",
        "        \n",
        "        #Below we obtain the loss by taking the sum of squares difference between the target and prediction Q values.\n",
        "        self.actions = tf.placeholder(shape=[None],dtype=tf.int32)\n",
        "        self.actions_onehot = tf.one_hot(self.actions,2,dtype=tf.float32)\n",
        "        \n",
        "        self.Q = tf.reduce_sum(tf.multiply(self.Q_out, self.actions_onehot), reduction_indices=1)\n",
        "        \n",
        "        self.nextQ = tf.placeholder(shape=[None],dtype=tf.float32)\n",
        "        loss = tf.reduce_sum(tf.square(self.nextQ - self.Q))\n",
        "        trainer = tf.train.GradientDescentOptimizer(learning_rate=0.0005)\n",
        "        self.updateModel = trainer.minimize(loss)"
      ],
      "execution_count": 0,
      "outputs": []
    },
    {
      "metadata": {
        "id": "5hoPxIHUNPCH",
        "colab_type": "text"
      },
      "cell_type": "markdown",
      "source": [
        "### Training the network"
      ]
    },
    {
      "metadata": {
        "id": "xgO1nTcYNPCI",
        "colab_type": "code",
        "colab": {}
      },
      "cell_type": "code",
      "source": [
        "# Set learning parameters\n",
        "exploration = \"boltzmann\" #Exploration method. Choose between: greedy, random, e-greedy, boltzmann, bayesian.\n",
        "y = .99 #Discount factor.\n",
        "num_episodes = 20000 #Total number of episodes to train network for.\n",
        "tau = 0.001 #Amount to update target network at each step.\n",
        "batch_size = 32 #Size of training batch\n",
        "startE = 1 #Starting chance of random action\n",
        "endE = 0.1 #Final chance of random action\n",
        "anneling_steps = 200000 #How many steps of training to reduce startE to endE.\n",
        "pre_train_steps = 50000 #Number of steps used before training updates begin."
      ],
      "execution_count": 0,
      "outputs": []
    },
    {
      "metadata": {
        "id": "eLu-BL94NPCL",
        "colab_type": "code",
        "colab": {
          "base_uri": "https://localhost:8080/",
          "height": 3417
        },
        "outputId": "fa8dcf76-bf87-4e7b-a88c-1d696f2f3696"
      },
      "cell_type": "code",
      "source": [
        "tf.reset_default_graph()\n",
        "\n",
        "q_net = Q_Network()\n",
        "target_net = Q_Network()\n",
        "\n",
        "init = tf.initialize_all_variables()\n",
        "trainables = tf.trainable_variables()\n",
        "targetOps = updateTargetGraph(trainables,tau)\n",
        "myBuffer = experience_buffer()\n",
        "\n",
        "\n",
        "#create lists to contain total rewards and steps per episode\n",
        "jList = []\n",
        "jMeans = []\n",
        "rList = []\n",
        "rMeans = []\n",
        "with tf.Session() as sess:\n",
        "    sess.run(init)\n",
        "    updateTarget(targetOps,sess)\n",
        "    e = startE\n",
        "    stepDrop = (startE - endE)/anneling_steps\n",
        "    total_steps = 0\n",
        "    \n",
        "    for i in range(num_episodes):\n",
        "        s = env.reset()\n",
        "        rAll = 0\n",
        "        d = False\n",
        "        j = 0\n",
        "        while j < 999:\n",
        "            j+=1\n",
        "            if exploration == \"greedy\":\n",
        "                #Choose an action with the maximum expected value.\n",
        "                a,allQ = sess.run([q_net.predict,q_net.Q_out],feed_dict={q_net.inputs:[s],q_net.keep_per:1.0})\n",
        "                a = a[0]\n",
        "            if exploration == \"random\":\n",
        "                #Choose an action randomly.\n",
        "                a = env.action_space.sample()\n",
        "            if exploration == \"e-greedy\":\n",
        "                #Choose an action by greedily (with e chance of random action) from the Q-network\n",
        "                if np.random.rand(1) < e or total_steps < pre_train_steps:\n",
        "                    a = env.action_space.sample()\n",
        "                else:\n",
        "                    a,allQ = sess.run([q_net.predict,q_net.Q_out],feed_dict={q_net.inputs:[s],q_net.keep_per:1.0})\n",
        "                    a = a[0]\n",
        "            if exploration == \"boltzmann\":\n",
        "                #Choose an action probabilistically, with weights relative to the Q-values.\n",
        "                Q_d,allQ = sess.run([q_net.Q_dist,q_net.Q_out],feed_dict={q_net.inputs:[s],q_net.Temp:e,q_net.keep_per:1.0})\n",
        "                a = np.random.choice(Q_d[0],p=Q_d[0])\n",
        "                a = np.argmax(Q_d[0] == a)\n",
        "            if exploration == \"bayesian\":\n",
        "                #Choose an action using a sample from a dropout approximation of a bayesian q-network.\n",
        "                a,allQ = sess.run([q_net.predict,q_net.Q_out],feed_dict={q_net.inputs:[s],q_net.keep_per:(1-e)+0.1})\n",
        "                a = a[0]\n",
        "                \n",
        "            #Get new state and reward from environment\n",
        "            s1,r,d,_ = env.step(a)\n",
        "            myBuffer.add(np.reshape(np.array([s,a,r,s1,d]),[1,5]))\n",
        "            \n",
        "            if e > endE and total_steps > pre_train_steps:\n",
        "                e -= stepDrop\n",
        "            \n",
        "            if total_steps > pre_train_steps and total_steps % 5 == 0:\n",
        "                #We use Double-DQN training algorithm\n",
        "                trainBatch = myBuffer.sample(batch_size)\n",
        "                Q1 = sess.run(q_net.predict,feed_dict={q_net.inputs:np.vstack(trainBatch[:,3]),q_net.keep_per:1.0})\n",
        "                Q2 = sess.run(target_net.Q_out,feed_dict={target_net.inputs:np.vstack(trainBatch[:,3]),target_net.keep_per:1.0})\n",
        "                end_multiplier = -(trainBatch[:,4] - 1)\n",
        "                doubleQ = Q2[range(batch_size),Q1]\n",
        "                targetQ = trainBatch[:,2] + (y*doubleQ * end_multiplier)\n",
        "                _ = sess.run(q_net.updateModel,feed_dict={q_net.inputs:np.vstack(trainBatch[:,0]),q_net.nextQ:targetQ,q_net.keep_per:1.0,q_net.actions:trainBatch[:,1]})\n",
        "                updateTarget(targetOps,sess)\n",
        "\n",
        "            rAll += r\n",
        "            s = s1\n",
        "            total_steps += 1\n",
        "            if d == True:\n",
        "                break\n",
        "        jList.append(j)\n",
        "        rList.append(rAll)\n",
        "        if i % 100 == 0 and i != 0:\n",
        "            r_mean = np.mean(rList[-100:])\n",
        "            j_mean = np.mean(jList[-100:])\n",
        "            if exploration == 'e-greedy':\n",
        "                print (\"Mean Reward: \" + str(r_mean) + \" Total Steps: \" + str(total_steps) + \" e: \" + str(e))\n",
        "            if exploration == 'boltzmann':\n",
        "                print (\"Mean Reward: \" + str(r_mean) + \" Total Steps: \" + str(total_steps) + \" t: \" + str(e))\n",
        "            if exploration == 'bayesian':\n",
        "                print (\"Mean Reward: \" + str(r_mean) + \" Total Steps: \" + str(total_steps) + \" p: \" + str(e))\n",
        "            if exploration == 'random' or exploration == 'greedy':\n",
        "                print (\"Mean Reward: \" + str(r_mean) + \" Total Steps: \" + str(total_steps))\n",
        "            rMeans.append(r_mean)\n",
        "            jMeans.append(j_mean)\n",
        "print (\"Percent of succesful episodes: \" + str(sum(rList)/num_episodes) + \"%\")"
      ],
      "execution_count": 11,
      "outputs": [
        {
          "output_type": "stream",
          "text": [
            "Mean Reward: 26.96 Total Steps: 2714 t: 1\n",
            "Mean Reward: 25.57 Total Steps: 5271 t: 1\n",
            "Mean Reward: 24.03 Total Steps: 7674 t: 1\n",
            "Mean Reward: 23.73 Total Steps: 10047 t: 1\n",
            "Mean Reward: 25.21 Total Steps: 12568 t: 1\n",
            "Mean Reward: 23.43 Total Steps: 14911 t: 1\n",
            "Mean Reward: 25.15 Total Steps: 17426 t: 1\n",
            "Mean Reward: 21.95 Total Steps: 19621 t: 1\n",
            "Mean Reward: 24.06 Total Steps: 22027 t: 1\n",
            "Mean Reward: 22.86 Total Steps: 24313 t: 1\n",
            "Mean Reward: 24.81 Total Steps: 26794 t: 1\n",
            "Mean Reward: 21.39 Total Steps: 28933 t: 1\n",
            "Mean Reward: 23.2 Total Steps: 31253 t: 1\n",
            "Mean Reward: 24.65 Total Steps: 33718 t: 1\n",
            "Mean Reward: 22.95 Total Steps: 36013 t: 1\n",
            "Mean Reward: 22.85 Total Steps: 38298 t: 1\n",
            "Mean Reward: 23.58 Total Steps: 40656 t: 1\n",
            "Mean Reward: 25.29 Total Steps: 43185 t: 1\n",
            "Mean Reward: 23.34 Total Steps: 45519 t: 1\n",
            "Mean Reward: 23.5 Total Steps: 47869 t: 1\n",
            "Mean Reward: 23.13 Total Steps: 50182 t: 0.9991855000000067\n",
            "Mean Reward: 22.59 Total Steps: 52441 t: 0.9890200000000906\n",
            "Mean Reward: 23.05 Total Steps: 54746 t: 0.9786475000001762\n",
            "Mean Reward: 23.94 Total Steps: 57140 t: 0.9678745000002651\n",
            "Mean Reward: 22.54 Total Steps: 59394 t: 0.9577315000003488\n",
            "Mean Reward: 21.2 Total Steps: 61514 t: 0.9481915000004275\n",
            "Mean Reward: 23.69 Total Steps: 63883 t: 0.9375310000005155\n",
            "Mean Reward: 22.39 Total Steps: 66122 t: 0.9274555000005986\n",
            "Mean Reward: 22.5 Total Steps: 68372 t: 0.9173305000006822\n",
            "Mean Reward: 22.67 Total Steps: 70639 t: 0.9071290000007664\n",
            "Mean Reward: 21.1 Total Steps: 72749 t: 0.8976340000008447\n",
            "Mean Reward: 23.54 Total Steps: 75103 t: 0.8870410000009321\n",
            "Mean Reward: 21.81 Total Steps: 77284 t: 0.8772265000010131\n",
            "Mean Reward: 20.79 Total Steps: 79363 t: 0.8678710000010903\n",
            "Mean Reward: 20.0 Total Steps: 81363 t: 0.8588710000011646\n",
            "Mean Reward: 20.55 Total Steps: 83418 t: 0.8496235000012409\n",
            "Mean Reward: 19.52 Total Steps: 85370 t: 0.8408395000013134\n",
            "Mean Reward: 18.65 Total Steps: 87235 t: 0.8324470000013826\n",
            "Mean Reward: 17.59 Total Steps: 88994 t: 0.8245315000014479\n",
            "Mean Reward: 16.7 Total Steps: 90664 t: 0.8170165000015099\n",
            "Mean Reward: 15.16 Total Steps: 92180 t: 0.8101945000015662\n",
            "Mean Reward: 14.14 Total Steps: 93594 t: 0.8038315000016187\n",
            "Mean Reward: 13.47 Total Steps: 94941 t: 0.7977700000016688\n",
            "Mean Reward: 13.33 Total Steps: 96274 t: 0.7917715000017183\n",
            "Mean Reward: 12.23 Total Steps: 97497 t: 0.7862680000017637\n",
            "Mean Reward: 11.68 Total Steps: 98665 t: 0.781012000001807\n",
            "Mean Reward: 11.21 Total Steps: 99786 t: 0.7759675000018487\n",
            "Mean Reward: 10.41 Total Steps: 100827 t: 0.7712830000018873\n",
            "Mean Reward: 10.34 Total Steps: 101861 t: 0.7666300000019257\n",
            "Mean Reward: 9.87 Total Steps: 102848 t: 0.7621885000019624\n",
            "Mean Reward: 9.8 Total Steps: 103828 t: 0.7577785000019988\n",
            "Mean Reward: 9.69 Total Steps: 104797 t: 0.7534180000020347\n",
            "Mean Reward: 9.67 Total Steps: 105764 t: 0.7490665000020706\n",
            "Mean Reward: 9.67 Total Steps: 106731 t: 0.7447150000021066\n",
            "Mean Reward: 9.65 Total Steps: 107696 t: 0.7403725000021424\n",
            "Mean Reward: 9.57 Total Steps: 108653 t: 0.7360660000021779\n",
            "Mean Reward: 9.41 Total Steps: 109594 t: 0.7318315000022129\n",
            "Mean Reward: 9.45 Total Steps: 110539 t: 0.727579000002248\n",
            "Mean Reward: 9.54 Total Steps: 111493 t: 0.7232860000022834\n",
            "Mean Reward: 9.44 Total Steps: 112437 t: 0.7190380000023184\n",
            "Mean Reward: 9.49 Total Steps: 113386 t: 0.7147675000023537\n",
            "Mean Reward: 9.5 Total Steps: 114336 t: 0.710492500002389\n",
            "Mean Reward: 9.39 Total Steps: 115275 t: 0.7062670000024238\n",
            "Mean Reward: 9.62 Total Steps: 116237 t: 0.7019380000024595\n",
            "Mean Reward: 9.6 Total Steps: 117197 t: 0.6976180000024952\n",
            "Mean Reward: 9.46 Total Steps: 118143 t: 0.6933610000025303\n",
            "Mean Reward: 9.52 Total Steps: 119095 t: 0.6890770000025657\n",
            "Mean Reward: 9.59 Total Steps: 120054 t: 0.6847615000026013\n",
            "Mean Reward: 9.45 Total Steps: 120999 t: 0.6805090000026364\n",
            "Mean Reward: 9.51 Total Steps: 121950 t: 0.6762295000026717\n",
            "Mean Reward: 9.43 Total Steps: 122893 t: 0.6719860000027067\n",
            "Mean Reward: 9.61 Total Steps: 123854 t: 0.6676615000027424\n",
            "Mean Reward: 9.63 Total Steps: 124817 t: 0.6633280000027781\n",
            "Mean Reward: 9.61 Total Steps: 125778 t: 0.6590035000028138\n",
            "Mean Reward: 9.66 Total Steps: 126744 t: 0.6546565000028497\n",
            "Mean Reward: 9.47 Total Steps: 127691 t: 0.6503950000028849\n",
            "Mean Reward: 9.55 Total Steps: 128646 t: 0.6460975000029203\n",
            "Mean Reward: 9.43 Total Steps: 129589 t: 0.6418540000029553\n",
            "Mean Reward: 9.55 Total Steps: 130544 t: 0.6375565000029908\n",
            "Mean Reward: 9.69 Total Steps: 131513 t: 0.6331960000030268\n",
            "Mean Reward: 9.5 Total Steps: 132463 t: 0.6289210000030621\n",
            "Mean Reward: 9.55 Total Steps: 133418 t: 0.6246235000030975\n",
            "Mean Reward: 9.58 Total Steps: 134376 t: 0.6203125000031331\n",
            "Mean Reward: 9.6 Total Steps: 135336 t: 0.6159925000031687\n",
            "Mean Reward: 9.58 Total Steps: 136294 t: 0.6116815000032043\n",
            "Mean Reward: 9.54 Total Steps: 137248 t: 0.6073885000032397\n",
            "Mean Reward: 9.57 Total Steps: 138205 t: 0.6030820000032753\n",
            "Mean Reward: 9.53 Total Steps: 139158 t: 0.5987935000033107\n",
            "Mean Reward: 9.67 Total Steps: 140125 t: 0.5944420000033466\n",
            "Mean Reward: 9.62 Total Steps: 141087 t: 0.5901130000033823\n",
            "Mean Reward: 9.64 Total Steps: 142051 t: 0.5857750000034181\n",
            "Mean Reward: 9.52 Total Steps: 143003 t: 0.5814910000034534\n",
            "Mean Reward: 9.5 Total Steps: 143953 t: 0.5772160000034887\n",
            "Mean Reward: 9.64 Total Steps: 144917 t: 0.5728780000035245\n",
            "Mean Reward: 9.49 Total Steps: 145866 t: 0.5686075000035598\n",
            "Mean Reward: 9.65 Total Steps: 146831 t: 0.5642650000035956\n",
            "Mean Reward: 9.51 Total Steps: 147782 t: 0.5599855000036309\n",
            "Mean Reward: 9.68 Total Steps: 148750 t: 0.5556295000036668\n",
            "Mean Reward: 9.52 Total Steps: 149702 t: 0.5513455000037022\n",
            "Mean Reward: 9.59 Total Steps: 150661 t: 0.5470300000037378\n",
            "Mean Reward: 9.72 Total Steps: 151633 t: 0.5426560000037739\n",
            "Mean Reward: 9.68 Total Steps: 152601 t: 0.5383000000038098\n",
            "Mean Reward: 9.54 Total Steps: 153555 t: 0.5340070000038453\n",
            "Mean Reward: 9.62 Total Steps: 154517 t: 0.529678000003881\n",
            "Mean Reward: 9.65 Total Steps: 155482 t: 0.5253355000039168\n",
            "Mean Reward: 9.67 Total Steps: 156449 t: 0.5209840000039527\n",
            "Mean Reward: 9.55 Total Steps: 157404 t: 0.5166865000039882\n",
            "Mean Reward: 9.63 Total Steps: 158367 t: 0.512353000004024\n",
            "Mean Reward: 9.69 Total Steps: 159336 t: 0.5079925000040599\n",
            "Mean Reward: 9.68 Total Steps: 160304 t: 0.5036365000040959\n",
            "Mean Reward: 9.61 Total Steps: 161265 t: 0.49931200000412307\n",
            "Mean Reward: 9.63 Total Steps: 162228 t: 0.49497850000410537\n",
            "Mean Reward: 9.51 Total Steps: 163179 t: 0.4906990000040879\n",
            "Mean Reward: 9.61 Total Steps: 164140 t: 0.48637450000407023\n",
            "Mean Reward: 9.68 Total Steps: 165108 t: 0.48201850000405244\n",
            "Mean Reward: 9.71 Total Steps: 166079 t: 0.4776490000040346\n",
            "Mean Reward: 9.67 Total Steps: 167046 t: 0.4732975000040168\n",
            "Mean Reward: 9.65 Total Steps: 168011 t: 0.4689550000039991\n",
            "Mean Reward: 9.57 Total Steps: 168968 t: 0.4646485000039815\n",
            "Mean Reward: 9.71 Total Steps: 169939 t: 0.46027900000396366\n",
            "Mean Reward: 9.53 Total Steps: 170892 t: 0.45599050000394614\n",
            "Mean Reward: 9.56 Total Steps: 171848 t: 0.4516885000039286\n",
            "Mean Reward: 9.65 Total Steps: 172813 t: 0.44734600000391084\n",
            "Mean Reward: 9.61 Total Steps: 173774 t: 0.4430215000038932\n",
            "Mean Reward: 9.66 Total Steps: 174740 t: 0.4386745000038754\n",
            "Mean Reward: 9.57 Total Steps: 175697 t: 0.43436800000385783\n",
            "Mean Reward: 9.6 Total Steps: 176657 t: 0.4300480000038402\n",
            "Mean Reward: 9.58 Total Steps: 177615 t: 0.4257370000038226\n",
            "Mean Reward: 9.69 Total Steps: 178584 t: 0.4213765000038048\n",
            "Mean Reward: 9.55 Total Steps: 179539 t: 0.4170790000037872\n",
            "Mean Reward: 9.56 Total Steps: 180495 t: 0.41277700000376966\n",
            "Mean Reward: 9.51 Total Steps: 181446 t: 0.4084975000037522\n",
            "Mean Reward: 9.55 Total Steps: 182401 t: 0.4042000000037346\n",
            "Mean Reward: 9.6 Total Steps: 183361 t: 0.399880000003717\n",
            "Mean Reward: 9.52 Total Steps: 184313 t: 0.3955960000036995\n",
            "Mean Reward: 9.65 Total Steps: 185278 t: 0.39125350000368175\n",
            "Mean Reward: 9.71 Total Steps: 186249 t: 0.3868840000036639\n",
            "Mean Reward: 9.54 Total Steps: 187203 t: 0.3825910000036464\n",
            "Mean Reward: 9.53 Total Steps: 188156 t: 0.37830250000362886\n",
            "Mean Reward: 9.61 Total Steps: 189117 t: 0.3739780000036112\n",
            "Mean Reward: 9.59 Total Steps: 190076 t: 0.3696625000035936\n",
            "Mean Reward: 9.53 Total Steps: 191029 t: 0.36537400000357606\n",
            "Mean Reward: 9.56 Total Steps: 191985 t: 0.3610720000035585\n",
            "Mean Reward: 9.6 Total Steps: 192945 t: 0.35675200000354085\n",
            "Mean Reward: 9.71 Total Steps: 193916 t: 0.352382500003523\n",
            "Mean Reward: 9.61 Total Steps: 194877 t: 0.34805800000350534\n",
            "Mean Reward: 9.62 Total Steps: 195839 t: 0.34372900000348766\n",
            "Mean Reward: 9.62 Total Steps: 196801 t: 0.33940000000347\n",
            "Mean Reward: 9.61 Total Steps: 197762 t: 0.3350755000034523\n",
            "Mean Reward: 9.44 Total Steps: 198706 t: 0.33082750000343497\n",
            "Mean Reward: 9.49 Total Steps: 199655 t: 0.32655700000341753\n",
            "Mean Reward: 9.56 Total Steps: 200611 t: 0.32225500000339996\n",
            "Mean Reward: 9.72 Total Steps: 201583 t: 0.3178810000033821\n",
            "Mean Reward: 9.56 Total Steps: 202539 t: 0.3135790000033645\n",
            "Mean Reward: 9.62 Total Steps: 203501 t: 0.30925000000334685\n",
            "Mean Reward: 9.66 Total Steps: 204467 t: 0.3049030000033291\n",
            "Mean Reward: 9.61 Total Steps: 205428 t: 0.30057850000331143\n",
            "Mean Reward: 9.58 Total Steps: 206386 t: 0.2962675000032938\n",
            "Mean Reward: 9.62 Total Steps: 207348 t: 0.29193850000327615\n",
            "Mean Reward: 9.52 Total Steps: 208300 t: 0.28765450000325865\n",
            "Mean Reward: 9.69 Total Steps: 209269 t: 0.28329400000324084\n",
            "Mean Reward: 9.52 Total Steps: 210221 t: 0.27901000000322335\n",
            "Mean Reward: 9.59 Total Steps: 211180 t: 0.2746945000032057\n",
            "Mean Reward: 9.6 Total Steps: 212140 t: 0.2703745000031881\n",
            "Mean Reward: 9.49 Total Steps: 213089 t: 0.26610400000317064\n",
            "Mean Reward: 9.72 Total Steps: 214061 t: 0.2617300000031528\n",
            "Mean Reward: 9.54 Total Steps: 215015 t: 0.25743700000313524\n",
            "Mean Reward: 9.5 Total Steps: 215965 t: 0.2531620000031178\n",
            "Mean Reward: 9.58 Total Steps: 216923 t: 0.24885100000310728\n",
            "Mean Reward: 9.56 Total Steps: 217879 t: 0.24454900000311625\n",
            "Mean Reward: 9.6 Total Steps: 218839 t: 0.24022900000312525\n",
            "Mean Reward: 9.56 Total Steps: 219795 t: 0.2359270000031342\n",
            "Mean Reward: 9.6 Total Steps: 220755 t: 0.23160700000314322\n",
            "Mean Reward: 9.53 Total Steps: 221708 t: 0.22731850000315215\n",
            "Mean Reward: 9.59 Total Steps: 222667 t: 0.22300300000316114\n",
            "Mean Reward: 9.5 Total Steps: 223617 t: 0.21872800000317005\n",
            "Mean Reward: 9.53 Total Steps: 224570 t: 0.214439500003179\n",
            "Mean Reward: 9.61 Total Steps: 225531 t: 0.210115000003188\n",
            "Mean Reward: 9.68 Total Steps: 226499 t: 0.20575900000319708\n",
            "Mean Reward: 9.59 Total Steps: 227458 t: 0.20144350000320607\n",
            "Mean Reward: 9.46 Total Steps: 228404 t: 0.19718650000321494\n",
            "Mean Reward: 9.53 Total Steps: 229357 t: 0.19289800000322388\n",
            "Mean Reward: 9.5 Total Steps: 230307 t: 0.1886230000032328\n",
            "Mean Reward: 9.58 Total Steps: 231265 t: 0.18431200000324177\n",
            "Mean Reward: 9.54 Total Steps: 232219 t: 0.18001900000325072\n",
            "Mean Reward: 9.56 Total Steps: 233175 t: 0.17571700000325968\n",
            "Mean Reward: 9.46 Total Steps: 234121 t: 0.17146000000326855\n",
            "Mean Reward: 9.58 Total Steps: 235079 t: 0.16714900000327754\n",
            "Mean Reward: 9.6 Total Steps: 236039 t: 0.16282900000328654\n",
            "Mean Reward: 9.57 Total Steps: 236996 t: 0.1585225000032955\n",
            "Mean Reward: 9.51 Total Steps: 237947 t: 0.15424300000330443\n",
            "Mean Reward: 9.51 Total Steps: 238898 t: 0.14996350000331335\n",
            "Mean Reward: 9.63 Total Steps: 239861 t: 0.14563000000332238\n",
            "Mean Reward: 9.65 Total Steps: 240826 t: 0.14128750000333143\n",
            "Mean Reward: 9.54 Total Steps: 241780 t: 0.13699450000334037\n",
            "Mean Reward: 9.53 Total Steps: 242733 t: 0.1327060000033493\n",
            "Mean Reward: 9.59 Total Steps: 243692 t: 0.1283905000033583\n",
            "Mean Reward: 9.54 Total Steps: 244646 t: 0.12409750000336446\n",
            "Mean Reward: 9.59 Total Steps: 245605 t: 0.11978200000336015\n",
            "Percent of succesful episodes: 12.32765%\n"
          ],
          "name": "stdout"
        }
      ]
    },
    {
      "metadata": {
        "id": "4KwEdTRrNPCP",
        "colab_type": "text"
      },
      "cell_type": "markdown",
      "source": [
        "### Some statistics on network performance"
      ]
    },
    {
      "metadata": {
        "id": "JaLYY-dkNPCR",
        "colab_type": "code",
        "colab": {
          "base_uri": "https://localhost:8080/",
          "height": 285
        },
        "outputId": "59e67571-8b63-4d39-a7fc-599c31196f53"
      },
      "cell_type": "code",
      "source": [
        "plt.plot(rMeans)"
      ],
      "execution_count": 8,
      "outputs": [
        {
          "output_type": "execute_result",
          "data": {
            "text/plain": [
              "[<matplotlib.lines.Line2D at 0x7f19fe9dc908>]"
            ]
          },
          "metadata": {
            "tags": []
          },
          "execution_count": 8
        },
        {
          "output_type": "display_data",
          "data": {
            "image/png": "[encoded data removed]",
            "text/plain": [
              "<matplotlib.figure.Figure at 0x7f1a243df550>"
            ]
          },
          "metadata": {
            "tags": []
          }
        }
      ]
    },
    {
      "metadata": {
        "id": "4ukFt7R5NPCV",
        "colab_type": "code",
        "colab": {
          "base_uri": "https://localhost:8080/",
          "height": 285
        },
        "outputId": "6d90447d-2f98-485b-d68a-964a749a31f1"
      },
      "cell_type": "code",
      "source": [
        "plt.plot(jMeans)"
      ],
      "execution_count": 9,
      "outputs": [
        {
          "output_type": "execute_result",
          "data": {
            "text/plain": [
              "[<matplotlib.lines.Line2D at 0x7f19fc7fe710>]"
            ]
          },
          "metadata": {
            "tags": []
          },
          "execution_count": 9
        },
        {
          "output_type": "display_data",
          "data": {
            "image/png": "[encoded data removed]",
            "text/plain": [
              "<matplotlib.figure.Figure at 0x7f19fe98b390>"
            ]
          },
          "metadata": {
            "tags": []
          }
        }
      ]
    },
    {
      "metadata": {
        "id": "6UGmdwGONPCa",
        "colab_type": "code",
        "colab": {}
      },
      "cell_type": "code",
      "source": [
        ""
      ],
      "execution_count": 0,
      "outputs": []
    }
  ]
}