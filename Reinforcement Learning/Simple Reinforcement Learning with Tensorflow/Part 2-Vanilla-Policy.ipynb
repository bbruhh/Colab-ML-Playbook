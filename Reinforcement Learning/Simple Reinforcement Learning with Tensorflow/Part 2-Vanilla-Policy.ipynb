{
  "nbformat": 4,
  "nbformat_minor": 0,
  "metadata": {
    "colab": {
      "name": "Part 2-Vanilla-Policy.ipynb",
      "version": "0.3.2",
      "provenance": []
    },
    "kernelspec": {
      "display_name": "Python [conda env:py2]",
      "language": "python",
      "name": "conda-env-py2-py"
    }
  },
  "cells": [
    {
      "metadata": {
        "id": "2rMd8XWBWe6Q",
        "colab_type": "text"
      },
      "cell_type": "markdown",
      "source": [
        "<img height=\"60px\" src=\"https://colab.research.google.com/img/colab_favicon.ico\" align=\"left\" hspace=\"20px\" vspace=\"5px\">\n",
        "\n",
        "# Simple Reinforcement Learning in Tensorflow Part 2-b: \n",
        "## Vanilla Policy Gradient Agent\n",
        "This tutorial contains a simple example of how to build a policy-gradient based agent that can solve the CartPole problem. For more information, see this [Medium post](https://medium.com/@awjuliani/super-simple-reinforcement-learning-tutorial-part-2-ded33892c724#.mtwpvfi8b). This implementation is generalizable to more than two actions.\n",
        "\n",
        "For more Reinforcement Learning algorithms, including DQN and Model-based learning in Tensorflow, see my Github repo, [DeepRL-Agents](https://github.com/awjuliani/DeepRL-Agents). "
      ]
    },
    {
      "metadata": {
        "id": "nAN7lFKrWkL1",
        "colab_type": "text"
      },
      "cell_type": "markdown",
      "source": [
        "<table class=\"tfo-notebook-buttons\" align=\"left\">\n",
        "  <td>\n",
        "    <a target=\"_blank\" href=\"https://colab.research.google.com/github/learning-stack/Colab-ML-Playbook/blob/master/Reinforcement%20Learning/Simple%20Reinforcement%20Learning%20with%20Tensorflow/Part%202-Vanilla-Policy.ipynb\"><img src=\"https://www.tensorflow.org/images/colab_logo_32px.png\" />Run in Google Colab</a>\n",
        "  </td>\n",
        "  <td>\n",
        "    <a target=\"_blank\" href=\"https://github.com/learning-stack/Colab-ML-Playbook/blob/master/Reinforcement%20Learning/Simple%20Reinforcement%20Learning%20with%20Tensorflow/Part%202-Vanilla-Policy.ipynb\"><img src=\"https://www.tensorflow.org/images/GitHub-Mark-32px.png\" />View source on GitHub</a>\n",
        "  </td>\n",
        "</table>"
      ]
    },
    {
      "metadata": {
        "id": "2yYosl870svq",
        "colab_type": "code",
        "colab": {
          "base_uri": "https://localhost:8080/",
          "height": 34
        },
        "outputId": "4dab2667-6a8c-4e64-8907-565e49cd93d4"
      },
      "cell_type": "code",
      "source": [
        "\n",
        "#installing dependencies#instal \n",
        "!apt-get -qq -y install libcusparse8.0 libnvrtc8.0 libnvtoolsext1 > /dev/null\n",
        "!ln -snf /usr/lib/x86_64-linux-gnu/libnvrtc-builtins.so.8.0 /usr/lib/x86_64-linux-gnu/libnvrtc-builtins.so\n",
        "!apt-get -qq -y install xvfb freeglut3-dev ffmpeg> /dev/null\n",
        "!pip -q install gym\n",
        "!pip -q install pyglet\n",
        "!pip -q install pyopengl\n",
        "!pip -q install pyvirtualdisplay"
      ],
      "execution_count": 1,
      "outputs": [
        {
          "output_type": "stream",
          "text": [
            "Extracting templates from packages: 100%\n"
          ],
          "name": "stdout"
        }
      ]
    },
    {
      "metadata": {
        "id": "4YllDkldWe6Y",
        "colab_type": "code",
        "colab": {}
      },
      "cell_type": "code",
      "source": [
        "import tensorflow as tf\n",
        "import tensorflow.contrib.slim as slim\n",
        "import numpy as np\n",
        "import gym\n",
        "import matplotlib.pyplot as plt\n",
        "%matplotlib inline\n",
        "\n",
        "try:\n",
        "    xrange = xrange\n",
        "except:\n",
        "    xrange = range"
      ],
      "execution_count": 0,
      "outputs": []
    },
    {
      "metadata": {
        "id": "LACio0jiWe6h",
        "colab_type": "code",
        "colab": {
          "base_uri": "https://localhost:8080/",
          "height": 34
        },
        "outputId": "2f6badba-e630-45c3-9ba3-65a1b8fede05"
      },
      "cell_type": "code",
      "source": [
        "env = gym.make('CartPole-v0')"
      ],
      "execution_count": 3,
      "outputs": [
        {
          "output_type": "stream",
          "text": [
            "\u001b[33mWARN: gym.spaces.Box autodetected dtype as <type 'numpy.float32'>. Please provide explicit dtype.\u001b[0m\n"
          ],
          "name": "stdout"
        }
      ]
    },
    {
      "metadata": {
        "id": "Jv9ke4yXWe61",
        "colab_type": "text"
      },
      "cell_type": "markdown",
      "source": [
        "### The Policy-Based Agent"
      ]
    },
    {
      "metadata": {
        "id": "0AO2G4OUWe62",
        "colab_type": "code",
        "colab": {}
      },
      "cell_type": "code",
      "source": [
        "gamma = 0.99\n",
        "\n",
        "def discount_rewards(r):\n",
        "    \"\"\" take 1D float array of rewards and compute discounted reward \"\"\"\n",
        "    discounted_r = np.zeros_like(r)\n",
        "    running_add = 0\n",
        "    for t in reversed(xrange(0, r.size)):\n",
        "        running_add = running_add * gamma + r[t]\n",
        "        discounted_r[t] = running_add\n",
        "    return discounted_r"
      ],
      "execution_count": 0,
      "outputs": []
    },
    {
      "metadata": {
        "id": "vW62btZnWe7Q",
        "colab_type": "code",
        "colab": {}
      },
      "cell_type": "code",
      "source": [
        "class agent():\n",
        "    def __init__(self, lr, s_size,a_size,h_size):\n",
        "        #These lines established the feed-forward part of the network. The agent takes a state and produces an action.\n",
        "        self.state_in= tf.placeholder(shape=[None,s_size],dtype=tf.float32)\n",
        "        hidden = slim.fully_connected(self.state_in,h_size,biases_initializer=None,activation_fn=tf.nn.relu)\n",
        "        self.output = slim.fully_connected(hidden,a_size,activation_fn=tf.nn.softmax,biases_initializer=None)\n",
        "        self.chosen_action = tf.argmax(self.output,1)\n",
        "\n",
        "        #The next six lines establish the training proceedure. We feed the reward and chosen action into the network\n",
        "        #to compute the loss, and use it to update the network.\n",
        "        self.reward_holder = tf.placeholder(shape=[None],dtype=tf.float32)\n",
        "        self.action_holder = tf.placeholder(shape=[None],dtype=tf.int32)\n",
        "        \n",
        "        self.indexes = tf.range(0, tf.shape(self.output)[0]) * tf.shape(self.output)[1] + self.action_holder\n",
        "        self.responsible_outputs = tf.gather(tf.reshape(self.output, [-1]), self.indexes)\n",
        "\n",
        "        self.loss = -tf.reduce_mean(tf.log(self.responsible_outputs)*self.reward_holder)\n",
        "        \n",
        "        tvars = tf.trainable_variables()\n",
        "        self.gradient_holders = []\n",
        "        for idx,var in enumerate(tvars):\n",
        "            placeholder = tf.placeholder(tf.float32,name=str(idx)+'_holder')\n",
        "            self.gradient_holders.append(placeholder)\n",
        "        \n",
        "        self.gradients = tf.gradients(self.loss,tvars)\n",
        "        \n",
        "        optimizer = tf.train.AdamOptimizer(learning_rate=lr)\n",
        "        self.update_batch = optimizer.apply_gradients(zip(self.gradient_holders,tvars))"
      ],
      "execution_count": 0,
      "outputs": []
    },
    {
      "metadata": {
        "id": "yXhmlh77We7g",
        "colab_type": "text"
      },
      "cell_type": "markdown",
      "source": [
        "### Training the Agent"
      ]
    },
    {
      "metadata": {
        "id": "596p277ZWe8X",
        "colab_type": "code",
        "colab": {
          "base_uri": "https://localhost:8080/",
          "height": 921
        },
        "outputId": "af84e21d-c31b-4ec1-9227-36736ab41e6c"
      },
      "cell_type": "code",
      "source": [
        "tf.reset_default_graph() #Clear the Tensorflow graph.\n",
        "\n",
        "myAgent = agent(lr=1e-2,s_size=4,a_size=2,h_size=8) #Load the agent.\n",
        "\n",
        "total_episodes = 5000 #Set total number of episodes to train agent on.\n",
        "max_ep = 999\n",
        "update_frequency = 5\n",
        "\n",
        "init = tf.global_variables_initializer()\n",
        "\n",
        "# Launch the tensorflow graph\n",
        "with tf.Session() as sess:\n",
        "    sess.run(init)\n",
        "    i = 0\n",
        "    total_reward = []\n",
        "    total_lenght = []\n",
        "        \n",
        "    gradBuffer = sess.run(tf.trainable_variables())\n",
        "    for ix,grad in enumerate(gradBuffer):\n",
        "        gradBuffer[ix] = grad * 0\n",
        "        \n",
        "    while i < total_episodes:\n",
        "        s = env.reset()\n",
        "        running_reward = 0\n",
        "        ep_history = []\n",
        "        for j in range(max_ep):\n",
        "            #Probabilistically pick an action given our network outputs.\n",
        "            a_dist = sess.run(myAgent.output,feed_dict={myAgent.state_in:[s]})\n",
        "            a = np.random.choice(a_dist[0],p=a_dist[0])\n",
        "            a = np.argmax(a_dist == a)\n",
        "\n",
        "            s1,r,d,_ = env.step(a) #Get our reward for taking an action given a bandit.\n",
        "            ep_history.append([s,a,r,s1])\n",
        "            s = s1\n",
        "            running_reward += r\n",
        "            if d == True:\n",
        "                #Update the network.\n",
        "                ep_history = np.array(ep_history)\n",
        "                ep_history[:,2] = discount_rewards(ep_history[:,2])\n",
        "                feed_dict={myAgent.reward_holder:ep_history[:,2],\n",
        "                        myAgent.action_holder:ep_history[:,1],myAgent.state_in:np.vstack(ep_history[:,0])}\n",
        "                grads = sess.run(myAgent.gradients, feed_dict=feed_dict)\n",
        "                for idx,grad in enumerate(grads):\n",
        "                    gradBuffer[idx] += grad\n",
        "\n",
        "                if i % update_frequency == 0 and i != 0:\n",
        "                    feed_dict= dictionary = dict(zip(myAgent.gradient_holders, gradBuffer))\n",
        "                    _ = sess.run(myAgent.update_batch, feed_dict=feed_dict)\n",
        "                    for ix,grad in enumerate(gradBuffer):\n",
        "                        gradBuffer[ix] = grad * 0\n",
        "                \n",
        "                total_reward.append(running_reward)\n",
        "                total_lenght.append(j)\n",
        "                break\n",
        "\n",
        "        \n",
        "            #Update our running tally of scores.\n",
        "        if i % 100 == 0:\n",
        "            print(np.mean(total_reward[-100:]))\n",
        "        i += 1"
      ],
      "execution_count": 6,
      "outputs": [
        {
          "output_type": "stream",
          "text": [
            "/usr/local/lib/python2.7/dist-packages/tensorflow/python/ops/gradients_impl.py:108: UserWarning: Converting sparse IndexedSlices to a dense Tensor of unknown shape. This may consume a large amount of memory.\n",
            "  \"Converting sparse IndexedSlices to a dense Tensor of unknown shape. \"\n"
          ],
          "name": "stderr"
        },
        {
          "output_type": "stream",
          "text": [
            "16.0\n",
            "21.71\n",
            "24.21\n",
            "23.06\n",
            "24.52\n",
            "35.21\n",
            "59.99\n",
            "83.64\n",
            "128.13\n",
            "163.91\n",
            "171.68\n",
            "184.46\n",
            "180.16\n",
            "186.83\n",
            "189.48\n",
            "185.36\n",
            "194.39\n",
            "197.04\n",
            "197.89\n",
            "198.19\n",
            "198.5\n",
            "199.77\n",
            "199.02\n",
            "198.14\n",
            "199.24\n",
            "199.01\n",
            "199.21\n",
            "199.37\n",
            "195.83\n",
            "191.82\n",
            "192.81\n",
            "189.08\n",
            "194.97\n",
            "191.8\n",
            "175.26\n",
            "168.09\n",
            "178.52\n",
            "191.15\n",
            "200.0\n",
            "197.97\n",
            "193.91\n",
            "170.04\n",
            "157.92\n",
            "163.31\n",
            "177.68\n",
            "190.73\n",
            "189.2\n",
            "191.64\n",
            "193.4\n",
            "197.89\n"
          ],
          "name": "stdout"
        }
      ]
    },
    {
      "metadata": {
        "id": "Jkz4F6lMWe8t",
        "colab_type": "code",
        "colab": {}
      },
      "cell_type": "code",
      "source": [
        ""
      ],
      "execution_count": 0,
      "outputs": []
    },
    {
      "metadata": {
        "id": "E6Kx5451We86",
        "colab_type": "code",
        "colab": {}
      },
      "cell_type": "code",
      "source": [
        ""
      ],
      "execution_count": 0,
      "outputs": []
    }
  ]
}