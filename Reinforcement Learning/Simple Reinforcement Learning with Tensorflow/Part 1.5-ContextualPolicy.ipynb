{
  "nbformat": 4,
  "nbformat_minor": 0,
  "metadata": {
    "colab": {
      "name": "Part 1.5-ContextualPolicy.ipynb",
      "version": "0.3.2",
      "provenance": []
    },
    "kernelspec": {
      "display_name": "Python 2",
      "language": "python",
      "name": "python2"
    }
  },
  "cells": [
    {
      "metadata": {
        "id": "077os46UFtHb",
        "colab_type": "text"
      },
      "cell_type": "markdown",
      "source": [
        "<img height=\"60px\" src=\"https://colab.research.google.com/img/colab_favicon.ico\" align=\"left\" hspace=\"20px\" vspace=\"5px\">\n",
        "\n",
        "# Simple Reinforcement Learning in Tensorflow Part 1.5: \n",
        "## The Contextual Bandits\n",
        "This tutorial contains a simple example of how to build a policy-gradient based agent that can solve the contextual bandit problem. For more information, see this [Medium post](https://medium.com/p/bff01d1aad9c).\n",
        "\n",
        "For more Reinforcement Learning algorithms, including DQN and Model-based learning in Tensorflow, see my Github repo, [DeepRL-Agents](https://github.com/awjuliani/DeepRL-Agents). "
      ]
    },
    {
      "metadata": {
        "id": "t37v22OgF0w9",
        "colab_type": "text"
      },
      "cell_type": "markdown",
      "source": [
        "<table class=\"tfo-notebook-buttons\" align=\"left\">\n",
        "  <td>\n",
        "    <a target=\"_blank\" href=\"https://colab.research.google.com/github/learning-stack/Colab-ML-Playbook/blob/master/Reinforcement%20Learning/Simple%20Reinforcement%20Learning%20with%20Tensorflow/Part%201.5-ContextualPolicy.ipynb\"><img src=\"https://www.tensorflow.org/images/colab_logo_32px.png\" />Run in Google Colab</a>\n",
        "  </td>\n",
        "  <td>\n",
        "    <a target=\"_blank\" href=\"https://github.com/learning-stack/Colab-ML-Playbook/blob/master/Reinforcement%20Learning/Simple%20Reinforcement%20Learning%20with%20Tensorflow/Part%201.5-ContextualPolicy.ipynb\"><img src=\"https://www.tensorflow.org/images/GitHub-Mark-32px.png\" />View source on GitHub</a>\n",
        "  </td>\n",
        "</table>"
      ]
    },
    {
      "metadata": {
        "id": "IbeDWGTxFtHe",
        "colab_type": "code",
        "colab": {}
      },
      "cell_type": "code",
      "source": [
        "import tensorflow as tf\n",
        "import tensorflow.contrib.slim as slim\n",
        "import numpy as np"
      ],
      "execution_count": 0,
      "outputs": []
    },
    {
      "metadata": {
        "id": "FIyL4YStFtHi",
        "colab_type": "text"
      },
      "cell_type": "markdown",
      "source": [
        "### The Contextual Bandits\n",
        "Here we define our contextual bandits. In this example, we are using three four-armed bandit. What this means is that each bandit has four arms that can be pulled. Each bandit has different success probabilities for each arm, and as such requires different actions to obtain the best result. The pullBandit function generates a random number from a normal distribution with a mean of 0. The lower the bandit number, the more likely a positive reward will be returned. We want our agent to learn to always choose the bandit-arm that will most often give a positive reward, depending on the Bandit presented."
      ]
    },
    {
      "metadata": {
        "id": "_2OwDEkqFtHk",
        "colab_type": "code",
        "colab": {}
      },
      "cell_type": "code",
      "source": [
        "class contextual_bandit():\n",
        "    def __init__(self):\n",
        "        self.state = 0\n",
        "        #List out our bandits. Currently arms 4, 2, and 1 (respectively) are the most optimal.\n",
        "        self.bandits = np.array([[0.2,0,-0.0,-5],[0.1,-5,1,0.25],[-5,5,5,5]])\n",
        "        self.num_bandits = self.bandits.shape[0]\n",
        "        self.num_actions = self.bandits.shape[1]\n",
        "        \n",
        "    def getBandit(self):\n",
        "        self.state = np.random.randint(0,len(self.bandits)) #Returns a random state for each episode.\n",
        "        return self.state\n",
        "        \n",
        "    def pullArm(self,action):\n",
        "        #Get a random number.\n",
        "        bandit = self.bandits[self.state,action]\n",
        "        result = np.random.randn(1)\n",
        "        if result > bandit:\n",
        "            #return a positive reward.\n",
        "            return 1\n",
        "        else:\n",
        "            #return a negative reward.\n",
        "            return -1"
      ],
      "execution_count": 0,
      "outputs": []
    },
    {
      "metadata": {
        "id": "vUii7JYUFtHm",
        "colab_type": "text"
      },
      "cell_type": "markdown",
      "source": [
        "### The Policy-Based Agent\n",
        "The code below established our simple neural agent. It takes as input the current state, and returns an action. This allows the agent to take actions which are conditioned on the state of the environment, a critical step toward being able to solve full RL problems. The agent uses a single set of weights, within which each value is an estimate of the value of the return from choosing a particular arm given a bandit. We use a policy gradient method to update the agent by moving the value for the selected action toward the recieved reward."
      ]
    },
    {
      "metadata": {
        "id": "pFzIq3bAFtHn",
        "colab_type": "code",
        "colab": {}
      },
      "cell_type": "code",
      "source": [
        "class agent():\n",
        "    def __init__(self, lr, s_size,a_size):\n",
        "        #These lines established the feed-forward part of the network. The agent takes a state and produces an action.\n",
        "        self.state_in= tf.placeholder(shape=[1],dtype=tf.int32)\n",
        "        state_in_OH = slim.one_hot_encoding(self.state_in,s_size)\n",
        "        output = slim.fully_connected(state_in_OH,a_size,\\\n",
        "            biases_initializer=None,activation_fn=tf.nn.sigmoid,weights_initializer=tf.ones_initializer())\n",
        "        self.output = tf.reshape(output,[-1])\n",
        "        self.chosen_action = tf.argmax(self.output,0)\n",
        "\n",
        "        #The next six lines establish the training proceedure. We feed the reward and chosen action into the network\n",
        "        #to compute the loss, and use it to update the network.\n",
        "        self.reward_holder = tf.placeholder(shape=[1],dtype=tf.float32)\n",
        "        self.action_holder = tf.placeholder(shape=[1],dtype=tf.int32)\n",
        "        self.responsible_weight = tf.slice(self.output,self.action_holder,[1])\n",
        "        self.loss = -(tf.log(self.responsible_weight)*self.reward_holder)\n",
        "        optimizer = tf.train.GradientDescentOptimizer(learning_rate=lr)\n",
        "        self.update = optimizer.minimize(self.loss)"
      ],
      "execution_count": 0,
      "outputs": []
    },
    {
      "metadata": {
        "id": "DbR7TQ2OFtHq",
        "colab_type": "text"
      },
      "cell_type": "markdown",
      "source": [
        "### Training the Agent"
      ]
    },
    {
      "metadata": {
        "id": "pMqmUWL0FtHq",
        "colab_type": "text"
      },
      "cell_type": "markdown",
      "source": [
        "We will train our agent by getting a state from the environment, take an action, and recieve a reward. Using these three things, we can know how to properly update our network in order to more often choose actions given states that will yield the highest rewards over time."
      ]
    },
    {
      "metadata": {
        "id": "ndHElyKyFtHr",
        "colab_type": "code",
        "colab": {
          "base_uri": "https://localhost:8080/",
          "height": 530
        },
        "outputId": "f6867e3c-27f5-443d-b972-fd6cc85cfc6b"
      },
      "cell_type": "code",
      "source": [
        "tf.reset_default_graph() #Clear the Tensorflow graph.\n",
        "\n",
        "cBandit = contextual_bandit() #Load the bandits.\n",
        "myAgent = agent(lr=0.001,s_size=cBandit.num_bandits,a_size=cBandit.num_actions) #Load the agent.\n",
        "weights = tf.trainable_variables()[0] #The weights we will evaluate to look into the network.\n",
        "\n",
        "total_episodes = 10000 #Set total number of episodes to train agent on.\n",
        "total_reward = np.zeros([cBandit.num_bandits,cBandit.num_actions]) #Set scoreboard for bandits to 0.\n",
        "e = 0.1 #Set the chance of taking a random action.\n",
        "\n",
        "init = tf.initialize_all_variables()\n",
        "\n",
        "# Launch the tensorflow graph\n",
        "with tf.Session() as sess:\n",
        "    sess.run(init)\n",
        "    i = 0\n",
        "    while i < total_episodes:\n",
        "        s = cBandit.getBandit() #Get a state from the environment.\n",
        "        \n",
        "        #Choose either a random action or one from our network.\n",
        "        if np.random.rand(1) < e:\n",
        "            action = np.random.randint(cBandit.num_actions)\n",
        "        else:\n",
        "            action = sess.run(myAgent.chosen_action,feed_dict={myAgent.state_in:[s]})\n",
        "        \n",
        "        reward = cBandit.pullArm(action) #Get our reward for taking an action given a bandit.\n",
        "        \n",
        "        #Update the network.\n",
        "        feed_dict={myAgent.reward_holder:[reward],myAgent.action_holder:[action],myAgent.state_in:[s]}\n",
        "        _,ww = sess.run([myAgent.update,weights], feed_dict=feed_dict)\n",
        "        \n",
        "        #Update our running tally of scores.\n",
        "        total_reward[s,action] += reward\n",
        "        if i % 500 == 0:\n",
        "            print \"Mean reward for each of the \" + str(cBandit.num_bandits) + \" bandits: \" + str(np.mean(total_reward,axis=1))\n",
        "        i+=1\n",
        "for a in range(cBandit.num_bandits):\n",
        "    print \"The agent thinks action \" + str(np.argmax(ww[a])+1) + \" for bandit \" + str(a+1) + \" is the most promising....\"\n",
        "    if np.argmax(ww[a]) == np.argmin(cBandit.bandits[a]):\n",
        "        print \"...and it was right!\"\n",
        "    else:\n",
        "        print \"...and it was wrong!\""
      ],
      "execution_count": 4,
      "outputs": [
        {
          "output_type": "stream",
          "text": [
            "WARNING:tensorflow:From /usr/local/lib/python2.7/dist-packages/tensorflow/python/util/tf_should_use.py:118: initialize_all_variables (from tensorflow.python.ops.variables) is deprecated and will be removed after 2017-03-02.\n",
            "Instructions for updating:\n",
            "Use `tf.global_variables_initializer` instead.\n",
            "Mean reward for each of the 3 bandits: [0.   0.   0.25]\n",
            "Mean reward for each of the 3 bandits: [34.25 41.25 32.25]\n",
            "Mean reward for each of the 3 bandits: [69.5  78.   67.25]\n",
            "Mean reward for each of the 3 bandits: [113.   115.   103.25]\n",
            "Mean reward for each of the 3 bandits: [152.   149.75 139.5 ]\n",
            "Mean reward for each of the 3 bandits: [196.   188.5  170.25]\n",
            "Mean reward for each of the 3 bandits: [232.   227.   205.25]\n",
            "Mean reward for each of the 3 bandits: [269.25 262.   241.  ]\n",
            "Mean reward for each of the 3 bandits: [312.25 298.   275.5 ]\n",
            "Mean reward for each of the 3 bandits: [345.   337.5  308.75]\n",
            "Mean reward for each of the 3 bandits: [384.25 374.   349.  ]\n",
            "Mean reward for each of the 3 bandits: [421.5  410.25 385.5 ]\n",
            "Mean reward for each of the 3 bandits: [461.25 446.25 420.25]\n",
            "Mean reward for each of the 3 bandits: [499.   481.5  455.25]\n",
            "Mean reward for each of the 3 bandits: [537.25 516.25 492.75]\n",
            "Mean reward for each of the 3 bandits: [575.5  555.   526.25]\n",
            "Mean reward for each of the 3 bandits: [611.25 592.75 561.75]\n",
            "Mean reward for each of the 3 bandits: [651.75 628.   593.5 ]\n",
            "Mean reward for each of the 3 bandits: [689.25 663.25 628.25]\n",
            "Mean reward for each of the 3 bandits: [727.   698.   662.25]\n",
            "The agent thinks action 4 for bandit 1 is the most promising....\n",
            "...and it was right!\n",
            "The agent thinks action 2 for bandit 2 is the most promising....\n",
            "...and it was right!\n",
            "The agent thinks action 1 for bandit 3 is the most promising....\n",
            "...and it was right!\n"
          ],
          "name": "stdout"
        }
      ]
    }
  ]
}