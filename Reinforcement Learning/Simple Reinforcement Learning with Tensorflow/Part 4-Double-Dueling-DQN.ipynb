{
  "nbformat": 4,
  "nbformat_minor": 0,
  "metadata": {
    "colab": {
      "name": "Part 4-Double-Dueling-DQN.ipynb",
      "version": "0.3.2",
      "provenance": []
    },
    "kernelspec": {
      "name": "python3",
      "display_name": "Python 3"
    },
    "accelerator": "GPU"
  },
  "cells": [
    {
      "metadata": {
        "id": "2UUDPrFMffH0",
        "colab_type": "text"
      },
      "cell_type": "markdown",
      "source": [
        "<img height=\"60px\" src=\"https://colab.research.google.com/img/colab_favicon.ico\" align=\"left\" hspace=\"20px\" vspace=\"5px\">\n",
        "\n",
        "# Simple Reinforcement Learning with Tensorflow Part 4: Deep Q-Networks and Beyond\n",
        "\n",
        "In this iPython notebook I implement a Deep Q-Network using both Double DQN and Dueling DQN. The agent learn to solve a navigation task in a basic grid world. To learn more, read here: https://medium.com/p/8438a3e2b8df\n",
        "\n",
        "For more reinforcment learning tutorials, see:\n",
        "https://github.com/awjuliani/DeepRL-Agents"
      ]
    },
    {
      "metadata": {
        "id": "msurvnp-fkt0",
        "colab_type": "text"
      },
      "cell_type": "markdown",
      "source": [
        "<table class=\"tfo-notebook-buttons\" align=\"left\">\n",
        "  <td>\n",
        "    <a target=\"_blank\" href=\"https://colab.research.google.com/github/learning-stack/Colab-ML-Playbook/blob/master/Reinforcement%20Learning/Simple%20Reinforcement%20Learning%20with%20Tensorflow/Part%204-Double-Dueling-DQN.ipynb\"><img src=\"https://www.tensorflow.org/images/colab_logo_32px.png\" />Run in Google Colab</a>\n",
        "  </td>\n",
        "  <td>\n",
        "    <a target=\"_blank\" href=\"https://github.com/learning-stack/Colab-ML-Playbook/blob/master/Reinforcement%20Learning/Simple%20Reinforcement%20Learning%20with%20Tensorflow/Part%204-Double-Dueling-DQN.ipynb\"><img src=\"https://www.tensorflow.org/images/GitHub-Mark-32px.png\" />View source on GitHub</a>\n",
        "  </td>\n",
        "</table>"
      ]
    },
    {
      "metadata": {
        "id": "JmDFZny35T-V",
        "colab_type": "code",
        "colab": {
          "base_uri": "https://localhost:8080/",
          "height": 34
        },
        "outputId": "ea9f003c-7ce3-4034-9ffc-1081b12439b5"
      },
      "cell_type": "code",
      "source": [
        "#installing dependencies\n",
        "!apt-get -qq -y install libcusparse8.0 libnvrtc8.0 libnvtoolsext1 > /dev/null\n",
        "!ln -snf /usr/lib/x86_64-linux-gnu/libnvrtc-builtins.so.8.0 /usr/lib/x86_64-linux-gnu/libnvrtc-builtins.so\n",
        "!apt-get -qq -y install xvfb freeglut3-dev ffmpeg> /dev/null\n",
        "!pip -q install gym\n",
        "!pip -q install pyglet\n",
        "!pip -q install pyopengl\n",
        "!pip -q install pyvirtualdisplay"
      ],
      "execution_count": 1,
      "outputs": [
        {
          "output_type": "stream",
          "text": [
            "Extracting templates from packages: 100%\n"
          ],
          "name": "stdout"
        }
      ]
    },
    {
      "metadata": {
        "id": "uMeg2SRZffH2",
        "colab_type": "code",
        "colab": {}
      },
      "cell_type": "code",
      "source": [
        "from __future__ import division\n",
        "\n",
        "import gym\n",
        "import numpy as np\n",
        "import random\n",
        "import tensorflow as tf\n",
        "import tensorflow.contrib.slim as slim\n",
        "import matplotlib.pyplot as plt\n",
        "import scipy.misc\n",
        "import os\n",
        "%matplotlib inline"
      ],
      "execution_count": 0,
      "outputs": []
    },
    {
      "metadata": {
        "id": "Tv0vzm6qffH7",
        "colab_type": "text"
      },
      "cell_type": "markdown",
      "source": [
        "### Load the game environment"
      ]
    },
    {
      "metadata": {
        "id": "kNSCTkT6ffH8",
        "colab_type": "text"
      },
      "cell_type": "markdown",
      "source": [
        "Feel free to adjust the size of the gridworld. Making it smaller provides an easier task for our DQN agent, while making the world larger increases the challenge."
      ]
    },
    {
      "metadata": {
        "id": "rgNQ724m7VYr",
        "colab_type": "code",
        "colab": {
          "base_uri": "https://localhost:8080/",
          "height": 34
        },
        "outputId": "4c38998b-97ad-47e5-96c3-703817321f84"
      },
      "cell_type": "code",
      "source": [
        "# Import custom library from my github\n",
        "\n",
        "import urllib.request\n",
        "\n",
        "def download(url):\n",
        "    filename = url.split('/')[-1]\n",
        "    print ('Downloading', filename)\n",
        "    f =  urllib.request.urlopen(url)\n",
        "    data = f.read()\n",
        "    f.close()\n",
        "    with open(filename, 'wb') as myfile:\n",
        "        myfile.write(data)\n",
        "\n",
        "# get .py file from repository\n",
        "download('https://raw.githubusercontent.com/learning-stack/Colab-ML-Playbook/master/Reinforcement%20Learning/Simple%20Reinforcement%20Learning%20with%20Tensorflow/gridworld.py')\n",
        "\n",
        "# verify the file if necessary\n",
        "# print(open('data_helpers.py').read())\n",
        "\n",
        "import gridworld\n"
      ],
      "execution_count": 3,
      "outputs": [
        {
          "output_type": "stream",
          "text": [
            "Downloading gridworld.py\n"
          ],
          "name": "stdout"
        }
      ]
    },
    {
      "metadata": {
        "id": "Ny0sHYosffH8",
        "colab_type": "code",
        "colab": {
          "base_uri": "https://localhost:8080/",
          "height": 356
        },
        "outputId": "01656d48-0bd2-47fe-87e4-96923f64cf1a"
      },
      "cell_type": "code",
      "source": [
        "from gridworld import gameEnv\n",
        "\n",
        "env = gameEnv(partial=False,size=5)"
      ],
      "execution_count": 4,
      "outputs": [
        {
          "output_type": "stream",
          "text": [
            "/usr/local/lib/python3.6/dist-packages/scipy/misc/pilutil.py:482: FutureWarning: Conversion of the second argument of issubdtype from `int` to `np.signedinteger` is deprecated. In future, it will be treated as `np.int64 == np.dtype(int).type`.\n",
            "  if issubdtype(ts, int):\n",
            "/usr/local/lib/python3.6/dist-packages/scipy/misc/pilutil.py:485: FutureWarning: Conversion of the second argument of issubdtype from `float` to `np.floating` is deprecated. In future, it will be treated as `np.float64 == np.dtype(float).type`.\n",
            "  elif issubdtype(type(size), float):\n"
          ],
          "name": "stderr"
        },
        {
          "output_type": "display_data",
          "data": {
            "image/png": "[encoded data removed]",
            "text/plain": [
              "<matplotlib.figure.Figure at 0x7f78eda89160>"
            ]
          },
          "metadata": {
            "tags": []
          }
        }
      ]
    },
    {
      "metadata": {
        "id": "8Pd9jSf7ffIC",
        "colab_type": "text"
      },
      "cell_type": "markdown",
      "source": [
        "Above is an example of a starting environment in our simple game. The agent controls the blue square, and can move up, down, left, or right. The goal is to move to the green square (for +1 reward) and avoid the red square (for -1 reward). The position of the three blocks is randomized every episode."
      ]
    },
    {
      "metadata": {
        "id": "4_y4-2ifffIC",
        "colab_type": "text"
      },
      "cell_type": "markdown",
      "source": [
        "### Implementing the network itself"
      ]
    },
    {
      "metadata": {
        "id": "f9HR7yj3ffIE",
        "colab_type": "code",
        "colab": {}
      },
      "cell_type": "code",
      "source": [
        "class Qnetwork():\n",
        "    def __init__(self,h_size):\n",
        "        #The network recieves a frame from the game, flattened into an array.\n",
        "        #It then resizes it and processes it through four convolutional layers.\n",
        "        self.scalarInput =  tf.placeholder(shape=[None,21168],dtype=tf.float32)\n",
        "        self.imageIn = tf.reshape(self.scalarInput,shape=[-1,84,84,3])\n",
        "        self.conv1 = slim.conv2d( \\\n",
        "            inputs=self.imageIn,num_outputs=32,kernel_size=[8,8],stride=[4,4],padding='VALID', biases_initializer=None)\n",
        "        self.conv2 = slim.conv2d( \\\n",
        "            inputs=self.conv1,num_outputs=64,kernel_size=[4,4],stride=[2,2],padding='VALID', biases_initializer=None)\n",
        "        self.conv3 = slim.conv2d( \\\n",
        "            inputs=self.conv2,num_outputs=64,kernel_size=[3,3],stride=[1,1],padding='VALID', biases_initializer=None)\n",
        "        self.conv4 = slim.conv2d( \\\n",
        "            inputs=self.conv3,num_outputs=h_size,kernel_size=[7,7],stride=[1,1],padding='VALID', biases_initializer=None)\n",
        "        \n",
        "        #We take the output from the final convolutional layer and split it into separate advantage and value streams.\n",
        "        self.streamAC,self.streamVC = tf.split(self.conv4,2,3)\n",
        "        self.streamA = slim.flatten(self.streamAC)\n",
        "        self.streamV = slim.flatten(self.streamVC)\n",
        "        xavier_init = tf.contrib.layers.xavier_initializer()\n",
        "        self.AW = tf.Variable(xavier_init([h_size//2,env.actions]))\n",
        "        self.VW = tf.Variable(xavier_init([h_size//2,1]))\n",
        "        self.Advantage = tf.matmul(self.streamA,self.AW)\n",
        "        self.Value = tf.matmul(self.streamV,self.VW)\n",
        "        \n",
        "        #Then combine them together to get our final Q-values.\n",
        "        self.Qout = self.Value + tf.subtract(self.Advantage,tf.reduce_mean(self.Advantage,axis=1,keep_dims=True))\n",
        "        self.predict = tf.argmax(self.Qout,1)\n",
        "        \n",
        "        #Below we obtain the loss by taking the sum of squares difference between the target and prediction Q values.\n",
        "        self.targetQ = tf.placeholder(shape=[None],dtype=tf.float32)\n",
        "        self.actions = tf.placeholder(shape=[None],dtype=tf.int32)\n",
        "        self.actions_onehot = tf.one_hot(self.actions,env.actions,dtype=tf.float32)\n",
        "        \n",
        "        self.Q = tf.reduce_sum(tf.multiply(self.Qout, self.actions_onehot), axis=1)\n",
        "        \n",
        "        self.td_error = tf.square(self.targetQ - self.Q)\n",
        "        self.loss = tf.reduce_mean(self.td_error)\n",
        "        self.trainer = tf.train.AdamOptimizer(learning_rate=0.0001)\n",
        "        self.updateModel = self.trainer.minimize(self.loss)"
      ],
      "execution_count": 0,
      "outputs": []
    },
    {
      "metadata": {
        "id": "_pM_96dJffIH",
        "colab_type": "text"
      },
      "cell_type": "markdown",
      "source": [
        "### Experience Replay"
      ]
    },
    {
      "metadata": {
        "id": "qdGCN-50ffII",
        "colab_type": "text"
      },
      "cell_type": "markdown",
      "source": [
        "This class allows us to store experies and sample then randomly to train the network."
      ]
    },
    {
      "metadata": {
        "id": "gJSc8UsQffIK",
        "colab_type": "code",
        "colab": {}
      },
      "cell_type": "code",
      "source": [
        "class experience_buffer():\n",
        "    def __init__(self, buffer_size = 50000):\n",
        "        self.buffer = []\n",
        "        self.buffer_size = buffer_size\n",
        "    \n",
        "    def add(self,experience):\n",
        "        if len(self.buffer) + len(experience) >= self.buffer_size:\n",
        "            self.buffer[0:(len(experience)+len(self.buffer))-self.buffer_size] = []\n",
        "        self.buffer.extend(experience)\n",
        "            \n",
        "    def sample(self,size):\n",
        "        return np.reshape(np.array(random.sample(self.buffer,size)),[size,5])"
      ],
      "execution_count": 0,
      "outputs": []
    },
    {
      "metadata": {
        "id": "IIEm7Dc6ffIN",
        "colab_type": "text"
      },
      "cell_type": "markdown",
      "source": [
        "This is a simple function to resize our game frames."
      ]
    },
    {
      "metadata": {
        "id": "Kyf12O3jffIN",
        "colab_type": "code",
        "colab": {}
      },
      "cell_type": "code",
      "source": [
        "def processState(states):\n",
        "    return np.reshape(states,[21168])"
      ],
      "execution_count": 0,
      "outputs": []
    },
    {
      "metadata": {
        "id": "QL0Vy5btffIQ",
        "colab_type": "text"
      },
      "cell_type": "markdown",
      "source": [
        "These functions allow us to update the parameters of our target network with those of the primary network."
      ]
    },
    {
      "metadata": {
        "id": "gnpfXpxwffIR",
        "colab_type": "code",
        "colab": {}
      },
      "cell_type": "code",
      "source": [
        "def updateTargetGraph(tfVars,tau):\n",
        "    total_vars = len(tfVars)\n",
        "    op_holder = []\n",
        "    for idx,var in enumerate(tfVars[0:total_vars//2]):\n",
        "        op_holder.append(tfVars[idx+total_vars//2].assign((var.value()*tau) + ((1-tau)*tfVars[idx+total_vars//2].value())))\n",
        "    return op_holder\n",
        "\n",
        "def updateTarget(op_holder,sess):\n",
        "    for op in op_holder:\n",
        "        sess.run(op)"
      ],
      "execution_count": 0,
      "outputs": []
    },
    {
      "metadata": {
        "id": "K2M4tZoTffIU",
        "colab_type": "text"
      },
      "cell_type": "markdown",
      "source": [
        "### Training the network"
      ]
    },
    {
      "metadata": {
        "id": "3B610TB3ffIW",
        "colab_type": "text"
      },
      "cell_type": "markdown",
      "source": [
        "Setting all the training parameters"
      ]
    },
    {
      "metadata": {
        "id": "CTPZlsH0ffIZ",
        "colab_type": "code",
        "colab": {}
      },
      "cell_type": "code",
      "source": [
        "batch_size = 32 #How many experiences to use for each training step.\n",
        "update_freq = 4 #How often to perform a training step.\n",
        "y = .99 #Discount factor on the target Q-values\n",
        "startE = 1 #Starting chance of random action\n",
        "endE = 0.1 #Final chance of random action\n",
        "annealing_steps = 10000. #How many steps of training to reduce startE to endE.\n",
        "num_episodes = 10000 #How many episodes of game environment to train network with.\n",
        "pre_train_steps = 10000 #How many steps of random actions before training begins.\n",
        "max_epLength = 50 #The max allowed length of our episode.\n",
        "load_model = False #Whether to load a saved model.\n",
        "path = \"./dqn\" #The path to save our model to.\n",
        "h_size = 512 #The size of the final convolutional layer before splitting it into Advantage and Value streams.\n",
        "tau = 0.001 #Rate to update target network toward primary network"
      ],
      "execution_count": 0,
      "outputs": []
    },
    {
      "metadata": {
        "id": "NTdUv__SffIc",
        "colab_type": "code",
        "colab": {
          "base_uri": "https://localhost:8080/",
          "height": 2886
        },
        "outputId": "6db1a6a5-44de-4608-b3b5-a238b95cfa94"
      },
      "cell_type": "code",
      "source": [
        "tf.reset_default_graph()\n",
        "mainQN = Qnetwork(h_size)\n",
        "targetQN = Qnetwork(h_size)\n",
        "\n",
        "init = tf.global_variables_initializer()\n",
        "\n",
        "saver = tf.train.Saver()\n",
        "\n",
        "trainables = tf.trainable_variables()\n",
        "\n",
        "targetOps = updateTargetGraph(trainables,tau)\n",
        "\n",
        "myBuffer = experience_buffer()\n",
        "\n",
        "#Set the rate of random action decrease. \n",
        "e = startE\n",
        "stepDrop = (startE - endE)/annealing_steps\n",
        "\n",
        "#create lists to contain total rewards and steps per episode\n",
        "jList = []\n",
        "rList = []\n",
        "total_steps = 0\n",
        "\n",
        "#Make a path for our model to be saved in.\n",
        "if not os.path.exists(path):\n",
        "    os.makedirs(path)\n",
        "\n",
        "with tf.Session() as sess:\n",
        "    sess.run(init)\n",
        "    if load_model == True:\n",
        "        print('Loading Model...')\n",
        "        ckpt = tf.train.get_checkpoint_state(path)\n",
        "        saver.restore(sess,ckpt.model_checkpoint_path)\n",
        "    for i in range(num_episodes):\n",
        "        episodeBuffer = experience_buffer()\n",
        "        #Reset environment and get first new observation\n",
        "        s = env.reset()\n",
        "        s = processState(s)\n",
        "        d = False\n",
        "        rAll = 0\n",
        "        j = 0\n",
        "        #The Q-Network\n",
        "        while j < max_epLength: #If the agent takes longer than 200 moves to reach either of the blocks, end the trial.\n",
        "            j+=1\n",
        "            #Choose an action by greedily (with e chance of random action) from the Q-network\n",
        "            if np.random.rand(1) < e or total_steps < pre_train_steps:\n",
        "                a = np.random.randint(0,4)\n",
        "            else:\n",
        "                a = sess.run(mainQN.predict,feed_dict={mainQN.scalarInput:[s]})[0]\n",
        "            s1,r,d = env.step(a)\n",
        "            s1 = processState(s1)\n",
        "            total_steps += 1\n",
        "            episodeBuffer.add(np.reshape(np.array([s,a,r,s1,d]),[1,5])) #Save the experience to our episode buffer.\n",
        "            \n",
        "            if total_steps > pre_train_steps:\n",
        "                if e > endE:\n",
        "                    e -= stepDrop\n",
        "                \n",
        "                if total_steps % (update_freq) == 0:\n",
        "                    trainBatch = myBuffer.sample(batch_size) #Get a random batch of experiences.\n",
        "                    #Below we perform the Double-DQN update to the target Q-values\n",
        "                    Q1 = sess.run(mainQN.predict,feed_dict={mainQN.scalarInput:np.vstack(trainBatch[:,3])})\n",
        "                    Q2 = sess.run(targetQN.Qout,feed_dict={targetQN.scalarInput:np.vstack(trainBatch[:,3])})\n",
        "                    end_multiplier = -(trainBatch[:,4] - 1)\n",
        "                    doubleQ = Q2[range(batch_size),Q1]\n",
        "                    targetQ = trainBatch[:,2] + (y*doubleQ * end_multiplier)\n",
        "                    #Update the network with our target values.\n",
        "                    _ = sess.run(mainQN.updateModel, \\\n",
        "                        feed_dict={mainQN.scalarInput:np.vstack(trainBatch[:,0]),mainQN.targetQ:targetQ, mainQN.actions:trainBatch[:,1]})\n",
        "                    \n",
        "                    updateTarget(targetOps,sess) #Update the target network toward the primary network.\n",
        "            rAll += r\n",
        "            s = s1\n",
        "            \n",
        "            if d == True:\n",
        "\n",
        "                break\n",
        "        \n",
        "        myBuffer.add(episodeBuffer.buffer)\n",
        "        jList.append(j)\n",
        "        rList.append(rAll)\n",
        "        #Periodically save the model. \n",
        "        if i % 1000 == 0:\n",
        "            saver.save(sess,path+'/model-'+str(i)+'.ckpt')\n",
        "            print(\"Saved Model\")\n",
        "        if len(rList) % 10 == 0:\n",
        "            print(total_steps,np.mean(rList[-10:]), e)\n",
        "    saver.save(sess,path+'/model-'+str(i)+'.ckpt')\n",
        "print(\"Percent of succesful episodes: \" + str(sum(rList)/num_episodes) + \"%\")"
      ],
      "execution_count": 10,
      "outputs": [
        {
          "output_type": "stream",
          "text": [
            "WARNING:tensorflow:From <ipython-input-5-a690ebb74b4d>:23: calling reduce_mean (from tensorflow.python.ops.math_ops) with keep_dims is deprecated and will be removed in a future version.\n",
            "Instructions for updating:\n",
            "keep_dims is deprecated, use keepdims instead\n"
          ],
          "name": "stdout"
        },
        {
          "output_type": "stream",
          "text": [
            "/usr/local/lib/python3.6/dist-packages/scipy/misc/pilutil.py:482: FutureWarning: Conversion of the second argument of issubdtype from `int` to `np.signedinteger` is deprecated. In future, it will be treated as `np.int64 == np.dtype(int).type`.\n",
            "  if issubdtype(ts, int):\n",
            "/usr/local/lib/python3.6/dist-packages/scipy/misc/pilutil.py:485: FutureWarning: Conversion of the second argument of issubdtype from `float` to `np.floating` is deprecated. In future, it will be treated as `np.float64 == np.dtype(float).type`.\n",
            "  elif issubdtype(type(size), float):\n"
          ],
          "name": "stderr"
        },
        {
          "output_type": "stream",
          "text": [
            "Saved Model\n",
            "500 0.2 1\n",
            "1000 3.1 1\n",
            "1500 2.7 1\n",
            "2000 1.5 1\n",
            "2500 2.2 1\n",
            "3000 2.1 1\n",
            "3500 1.3 1\n",
            "4000 1.7 1\n",
            "4500 3.6 1\n",
            "5000 1.6 1\n",
            "5500 2.5 1\n",
            "6000 2.0 1\n",
            "6500 1.4 1\n",
            "7000 2.2 1\n",
            "7500 1.5 1\n",
            "8000 2.4 1\n",
            "8500 3.5 1\n",
            "9000 3.0 1\n",
            "9500 2.7 1\n",
            "10000 2.1 1\n",
            "10500 2.2 0.9549999999999828\n",
            "11000 2.7 0.9099999999999655\n",
            "11500 2.2 0.8649999999999483\n",
            "12000 2.6 0.819999999999931\n",
            "12500 2.7 0.7749999999999138\n",
            "13000 1.2 0.7299999999998965\n",
            "13500 0.6 0.6849999999998793\n",
            "14000 2.0 0.639999999999862\n",
            "14500 2.0 0.5949999999998448\n",
            "15000 2.5 0.5499999999998275\n",
            "15500 2.3 0.5049999999998103\n",
            "16000 1.4 0.4599999999998177\n",
            "16500 1.8 0.41499999999982823\n",
            "17000 2.1 0.36999999999983874\n",
            "17500 3.2 0.32499999999984924\n",
            "18000 1.9 0.27999999999985975\n",
            "18500 5.8 0.23499999999986562\n",
            "19000 3.4 0.18999999999986225\n",
            "19500 4.0 0.14499999999985888\n",
            "20000 3.5 0.09999999999985551\n",
            "20500 1.9 0.09999999999985551\n",
            "21000 5.9 0.09999999999985551\n",
            "21500 3.3 0.09999999999985551\n",
            "22000 5.0 0.09999999999985551\n",
            "22500 5.6 0.09999999999985551\n",
            "23000 2.9 0.09999999999985551\n",
            "23500 4.1 0.09999999999985551\n",
            "24000 3.6 0.09999999999985551\n",
            "24500 2.7 0.09999999999985551\n",
            "25000 8.1 0.09999999999985551\n",
            "25500 4.4 0.09999999999985551\n",
            "26000 5.7 0.09999999999985551\n",
            "26500 8.4 0.09999999999985551\n",
            "27000 6.6 0.09999999999985551\n",
            "27500 6.8 0.09999999999985551\n",
            "28000 9.6 0.09999999999985551\n",
            "28500 8.8 0.09999999999985551\n",
            "29000 10.5 0.09999999999985551\n",
            "29500 7.1 0.09999999999985551\n",
            "30000 6.8 0.09999999999985551\n",
            "30500 13.0 0.09999999999985551\n",
            "31000 8.6 0.09999999999985551\n",
            "31500 10.0 0.09999999999985551\n",
            "32000 11.5 0.09999999999985551\n",
            "32500 14.3 0.09999999999985551\n",
            "33000 17.1 0.09999999999985551\n",
            "33500 12.3 0.09999999999985551\n",
            "34000 11.9 0.09999999999985551\n",
            "34500 13.5 0.09999999999985551\n",
            "35000 13.3 0.09999999999985551\n",
            "35500 15.8 0.09999999999985551\n",
            "36000 13.4 0.09999999999985551\n",
            "36500 18.3 0.09999999999985551\n",
            "37000 13.4 0.09999999999985551\n",
            "37500 15.3 0.09999999999985551\n",
            "38000 15.2 0.09999999999985551\n",
            "38500 15.1 0.09999999999985551\n",
            "39000 19.8 0.09999999999985551\n",
            "39500 17.0 0.09999999999985551\n",
            "40000 19.2 0.09999999999985551\n",
            "40500 18.7 0.09999999999985551\n",
            "41000 20.7 0.09999999999985551\n",
            "41500 15.3 0.09999999999985551\n",
            "42000 18.5 0.09999999999985551\n",
            "42500 19.1 0.09999999999985551\n",
            "43000 15.3 0.09999999999985551\n",
            "43500 21.0 0.09999999999985551\n",
            "44000 21.1 0.09999999999985551\n",
            "44500 19.4 0.09999999999985551\n",
            "45000 21.7 0.09999999999985551\n",
            "45500 20.0 0.09999999999985551\n",
            "46000 17.5 0.09999999999985551\n",
            "46500 18.0 0.09999999999985551\n",
            "47000 19.1 0.09999999999985551\n",
            "47500 19.5 0.09999999999985551\n",
            "48000 18.9 0.09999999999985551\n",
            "48500 18.2 0.09999999999985551\n",
            "49000 18.4 0.09999999999985551\n",
            "49500 18.7 0.09999999999985551\n",
            "50000 21.3 0.09999999999985551\n",
            "Saved Model\n",
            "50500 19.7 0.09999999999985551\n",
            "51000 22.3 0.09999999999985551\n",
            "51500 22.0 0.09999999999985551\n",
            "52000 22.9 0.09999999999985551\n",
            "52500 19.7 0.09999999999985551\n",
            "53000 21.6 0.09999999999985551\n",
            "53500 21.1 0.09999999999985551\n",
            "54000 22.1 0.09999999999985551\n",
            "54500 22.5 0.09999999999985551\n",
            "55000 22.5 0.09999999999985551\n",
            "55500 22.2 0.09999999999985551\n"
          ],
          "name": "stdout"
        },
        {
          "output_type": "error",
          "ename": "KeyboardInterrupt",
          "evalue": "ignored",
          "traceback": [
            "\u001b[0;31m---------------------------------------------------------------------------\u001b[0m",
            "\u001b[0;31mKeyboardInterrupt\u001b[0m                         Traceback (most recent call last)",
            "\u001b[0;32m<ipython-input-10-79f506f45d70>\u001b[0m in \u001b[0;36m<module>\u001b[0;34m()\u001b[0m\n\u001b[1;32m     48\u001b[0m             \u001b[0;32melse\u001b[0m\u001b[0;34m:\u001b[0m\u001b[0;34m\u001b[0m\u001b[0m\n\u001b[1;32m     49\u001b[0m                 \u001b[0ma\u001b[0m \u001b[0;34m=\u001b[0m \u001b[0msess\u001b[0m\u001b[0;34m.\u001b[0m\u001b[0mrun\u001b[0m\u001b[0;34m(\u001b[0m\u001b[0mmainQN\u001b[0m\u001b[0;34m.\u001b[0m\u001b[0mpredict\u001b[0m\u001b[0;34m,\u001b[0m\u001b[0mfeed_dict\u001b[0m\u001b[0;34m=\u001b[0m\u001b[0;34m{\u001b[0m\u001b[0mmainQN\u001b[0m\u001b[0;34m.\u001b[0m\u001b[0mscalarInput\u001b[0m\u001b[0;34m:\u001b[0m\u001b[0;34m[\u001b[0m\u001b[0ms\u001b[0m\u001b[0;34m]\u001b[0m\u001b[0;34m}\u001b[0m\u001b[0;34m)\u001b[0m\u001b[0;34m[\u001b[0m\u001b[0;36m0\u001b[0m\u001b[0;34m]\u001b[0m\u001b[0;34m\u001b[0m\u001b[0m\n\u001b[0;32m---> 50\u001b[0;31m             \u001b[0ms1\u001b[0m\u001b[0;34m,\u001b[0m\u001b[0mr\u001b[0m\u001b[0;34m,\u001b[0m\u001b[0md\u001b[0m \u001b[0;34m=\u001b[0m \u001b[0menv\u001b[0m\u001b[0;34m.\u001b[0m\u001b[0mstep\u001b[0m\u001b[0;34m(\u001b[0m\u001b[0ma\u001b[0m\u001b[0;34m)\u001b[0m\u001b[0;34m\u001b[0m\u001b[0m\n\u001b[0m\u001b[1;32m     51\u001b[0m             \u001b[0ms1\u001b[0m \u001b[0;34m=\u001b[0m \u001b[0mprocessState\u001b[0m\u001b[0;34m(\u001b[0m\u001b[0ms1\u001b[0m\u001b[0;34m)\u001b[0m\u001b[0;34m\u001b[0m\u001b[0m\n\u001b[1;32m     52\u001b[0m             \u001b[0mtotal_steps\u001b[0m \u001b[0;34m+=\u001b[0m \u001b[0;36m1\u001b[0m\u001b[0;34m\u001b[0m\u001b[0m\n",
            "\u001b[0;32m/content/gridworld.py\u001b[0m in \u001b[0;36mstep\u001b[0;34m(self, action)\u001b[0m\n\u001b[1;32m    119\u001b[0m         \u001b[0mpenalty\u001b[0m \u001b[0;34m=\u001b[0m \u001b[0mself\u001b[0m\u001b[0;34m.\u001b[0m\u001b[0mmoveChar\u001b[0m\u001b[0;34m(\u001b[0m\u001b[0maction\u001b[0m\u001b[0;34m)\u001b[0m\u001b[0;34m\u001b[0m\u001b[0m\n\u001b[1;32m    120\u001b[0m         \u001b[0mreward\u001b[0m\u001b[0;34m,\u001b[0m\u001b[0mdone\u001b[0m \u001b[0;34m=\u001b[0m \u001b[0mself\u001b[0m\u001b[0;34m.\u001b[0m\u001b[0mcheckGoal\u001b[0m\u001b[0;34m(\u001b[0m\u001b[0;34m)\u001b[0m\u001b[0;34m\u001b[0m\u001b[0m\n\u001b[0;32m--> 121\u001b[0;31m         \u001b[0mstate\u001b[0m \u001b[0;34m=\u001b[0m \u001b[0mself\u001b[0m\u001b[0;34m.\u001b[0m\u001b[0mrenderEnv\u001b[0m\u001b[0;34m(\u001b[0m\u001b[0;34m)\u001b[0m\u001b[0;34m\u001b[0m\u001b[0m\n\u001b[0m\u001b[1;32m    122\u001b[0m         \u001b[0;32mif\u001b[0m \u001b[0mreward\u001b[0m \u001b[0;34m==\u001b[0m \u001b[0;32mNone\u001b[0m\u001b[0;34m:\u001b[0m\u001b[0;34m\u001b[0m\u001b[0m\n\u001b[1;32m    123\u001b[0m             \u001b[0mprint\u001b[0m\u001b[0;34m(\u001b[0m\u001b[0mdone\u001b[0m\u001b[0;34m)\u001b[0m\u001b[0;34m\u001b[0m\u001b[0m\n",
            "\u001b[0;32m/content/gridworld.py\u001b[0m in \u001b[0;36mrenderEnv\u001b[0;34m(self)\u001b[0m\n\u001b[1;32m    111\u001b[0m             \u001b[0ma\u001b[0m \u001b[0;34m=\u001b[0m \u001b[0ma\u001b[0m\u001b[0;34m[\u001b[0m\u001b[0mhero\u001b[0m\u001b[0;34m.\u001b[0m\u001b[0my\u001b[0m\u001b[0;34m:\u001b[0m\u001b[0mhero\u001b[0m\u001b[0;34m.\u001b[0m\u001b[0my\u001b[0m\u001b[0;34m+\u001b[0m\u001b[0;36m3\u001b[0m\u001b[0;34m,\u001b[0m\u001b[0mhero\u001b[0m\u001b[0;34m.\u001b[0m\u001b[0mx\u001b[0m\u001b[0;34m:\u001b[0m\u001b[0mhero\u001b[0m\u001b[0;34m.\u001b[0m\u001b[0mx\u001b[0m\u001b[0;34m+\u001b[0m\u001b[0;36m3\u001b[0m\u001b[0;34m,\u001b[0m\u001b[0;34m:\u001b[0m\u001b[0;34m]\u001b[0m\u001b[0;34m\u001b[0m\u001b[0m\n\u001b[1;32m    112\u001b[0m         \u001b[0mb\u001b[0m \u001b[0;34m=\u001b[0m \u001b[0mscipy\u001b[0m\u001b[0;34m.\u001b[0m\u001b[0mmisc\u001b[0m\u001b[0;34m.\u001b[0m\u001b[0mimresize\u001b[0m\u001b[0;34m(\u001b[0m\u001b[0ma\u001b[0m\u001b[0;34m[\u001b[0m\u001b[0;34m:\u001b[0m\u001b[0;34m,\u001b[0m\u001b[0;34m:\u001b[0m\u001b[0;34m,\u001b[0m\u001b[0;36m0\u001b[0m\u001b[0;34m]\u001b[0m\u001b[0;34m,\u001b[0m\u001b[0;34m[\u001b[0m\u001b[0;36m84\u001b[0m\u001b[0;34m,\u001b[0m\u001b[0;36m84\u001b[0m\u001b[0;34m,\u001b[0m\u001b[0;36m1\u001b[0m\u001b[0;34m]\u001b[0m\u001b[0;34m,\u001b[0m\u001b[0minterp\u001b[0m\u001b[0;34m=\u001b[0m\u001b[0;34m'nearest'\u001b[0m\u001b[0;34m)\u001b[0m\u001b[0;34m\u001b[0m\u001b[0m\n\u001b[0;32m--> 113\u001b[0;31m         \u001b[0mc\u001b[0m \u001b[0;34m=\u001b[0m \u001b[0mscipy\u001b[0m\u001b[0;34m.\u001b[0m\u001b[0mmisc\u001b[0m\u001b[0;34m.\u001b[0m\u001b[0mimresize\u001b[0m\u001b[0;34m(\u001b[0m\u001b[0ma\u001b[0m\u001b[0;34m[\u001b[0m\u001b[0;34m:\u001b[0m\u001b[0;34m,\u001b[0m\u001b[0;34m:\u001b[0m\u001b[0;34m,\u001b[0m\u001b[0;36m1\u001b[0m\u001b[0;34m]\u001b[0m\u001b[0;34m,\u001b[0m\u001b[0;34m[\u001b[0m\u001b[0;36m84\u001b[0m\u001b[0;34m,\u001b[0m\u001b[0;36m84\u001b[0m\u001b[0;34m,\u001b[0m\u001b[0;36m1\u001b[0m\u001b[0;34m]\u001b[0m\u001b[0;34m,\u001b[0m\u001b[0minterp\u001b[0m\u001b[0;34m=\u001b[0m\u001b[0;34m'nearest'\u001b[0m\u001b[0;34m)\u001b[0m\u001b[0;34m\u001b[0m\u001b[0m\n\u001b[0m\u001b[1;32m    114\u001b[0m         \u001b[0md\u001b[0m \u001b[0;34m=\u001b[0m \u001b[0mscipy\u001b[0m\u001b[0;34m.\u001b[0m\u001b[0mmisc\u001b[0m\u001b[0;34m.\u001b[0m\u001b[0mimresize\u001b[0m\u001b[0;34m(\u001b[0m\u001b[0ma\u001b[0m\u001b[0;34m[\u001b[0m\u001b[0;34m:\u001b[0m\u001b[0;34m,\u001b[0m\u001b[0;34m:\u001b[0m\u001b[0;34m,\u001b[0m\u001b[0;36m2\u001b[0m\u001b[0;34m]\u001b[0m\u001b[0;34m,\u001b[0m\u001b[0;34m[\u001b[0m\u001b[0;36m84\u001b[0m\u001b[0;34m,\u001b[0m\u001b[0;36m84\u001b[0m\u001b[0;34m,\u001b[0m\u001b[0;36m1\u001b[0m\u001b[0;34m]\u001b[0m\u001b[0;34m,\u001b[0m\u001b[0minterp\u001b[0m\u001b[0;34m=\u001b[0m\u001b[0;34m'nearest'\u001b[0m\u001b[0;34m)\u001b[0m\u001b[0;34m\u001b[0m\u001b[0m\n\u001b[1;32m    115\u001b[0m         \u001b[0ma\u001b[0m \u001b[0;34m=\u001b[0m \u001b[0mnp\u001b[0m\u001b[0;34m.\u001b[0m\u001b[0mstack\u001b[0m\u001b[0;34m(\u001b[0m\u001b[0;34m[\u001b[0m\u001b[0mb\u001b[0m\u001b[0;34m,\u001b[0m\u001b[0mc\u001b[0m\u001b[0;34m,\u001b[0m\u001b[0md\u001b[0m\u001b[0;34m]\u001b[0m\u001b[0;34m,\u001b[0m\u001b[0maxis\u001b[0m\u001b[0;34m=\u001b[0m\u001b[0;36m2\u001b[0m\u001b[0;34m)\u001b[0m\u001b[0;34m\u001b[0m\u001b[0m\n",
            "\u001b[0;32m/usr/local/lib/python3.6/dist-packages/scipy/misc/pilutil.py\u001b[0m in \u001b[0;36mimresize\u001b[0;34m(arr, size, interp, mode)\u001b[0m\n\u001b[1;32m    488\u001b[0m         \u001b[0msize\u001b[0m \u001b[0;34m=\u001b[0m \u001b[0;34m(\u001b[0m\u001b[0msize\u001b[0m\u001b[0;34m[\u001b[0m\u001b[0;36m1\u001b[0m\u001b[0;34m]\u001b[0m\u001b[0;34m,\u001b[0m \u001b[0msize\u001b[0m\u001b[0;34m[\u001b[0m\u001b[0;36m0\u001b[0m\u001b[0;34m]\u001b[0m\u001b[0;34m)\u001b[0m\u001b[0;34m\u001b[0m\u001b[0m\n\u001b[1;32m    489\u001b[0m     \u001b[0mfunc\u001b[0m \u001b[0;34m=\u001b[0m \u001b[0;34m{\u001b[0m\u001b[0;34m'nearest'\u001b[0m\u001b[0;34m:\u001b[0m \u001b[0;36m0\u001b[0m\u001b[0;34m,\u001b[0m \u001b[0;34m'lanczos'\u001b[0m\u001b[0;34m:\u001b[0m \u001b[0;36m1\u001b[0m\u001b[0;34m,\u001b[0m \u001b[0;34m'bilinear'\u001b[0m\u001b[0;34m:\u001b[0m \u001b[0;36m2\u001b[0m\u001b[0;34m,\u001b[0m \u001b[0;34m'bicubic'\u001b[0m\u001b[0;34m:\u001b[0m \u001b[0;36m3\u001b[0m\u001b[0;34m,\u001b[0m \u001b[0;34m'cubic'\u001b[0m\u001b[0;34m:\u001b[0m \u001b[0;36m3\u001b[0m\u001b[0;34m}\u001b[0m\u001b[0;34m\u001b[0m\u001b[0m\n\u001b[0;32m--> 490\u001b[0;31m     \u001b[0mimnew\u001b[0m \u001b[0;34m=\u001b[0m \u001b[0mim\u001b[0m\u001b[0;34m.\u001b[0m\u001b[0mresize\u001b[0m\u001b[0;34m(\u001b[0m\u001b[0msize\u001b[0m\u001b[0;34m,\u001b[0m \u001b[0mresample\u001b[0m\u001b[0;34m=\u001b[0m\u001b[0mfunc\u001b[0m\u001b[0;34m[\u001b[0m\u001b[0minterp\u001b[0m\u001b[0;34m]\u001b[0m\u001b[0;34m)\u001b[0m\u001b[0;34m\u001b[0m\u001b[0m\n\u001b[0m\u001b[1;32m    491\u001b[0m     \u001b[0;32mreturn\u001b[0m \u001b[0mfromimage\u001b[0m\u001b[0;34m(\u001b[0m\u001b[0mimnew\u001b[0m\u001b[0;34m)\u001b[0m\u001b[0;34m\u001b[0m\u001b[0m\n\u001b[1;32m    492\u001b[0m \u001b[0;34m\u001b[0m\u001b[0m\n",
            "\u001b[0;32m/usr/local/lib/python3.6/dist-packages/PIL/Image.py\u001b[0m in \u001b[0;36mresize\u001b[0;34m(self, size, resample)\u001b[0m\n\u001b[1;32m   1539\u001b[0m             \u001b[0;32mraise\u001b[0m \u001b[0mValueError\u001b[0m\u001b[0;34m(\u001b[0m\u001b[0;34m\"unknown resampling filter\"\u001b[0m\u001b[0;34m)\u001b[0m\u001b[0;34m\u001b[0m\u001b[0m\n\u001b[1;32m   1540\u001b[0m \u001b[0;34m\u001b[0m\u001b[0m\n\u001b[0;32m-> 1541\u001b[0;31m         \u001b[0mself\u001b[0m\u001b[0;34m.\u001b[0m\u001b[0mload\u001b[0m\u001b[0;34m(\u001b[0m\u001b[0;34m)\u001b[0m\u001b[0;34m\u001b[0m\u001b[0m\n\u001b[0m\u001b[1;32m   1542\u001b[0m \u001b[0;34m\u001b[0m\u001b[0m\n\u001b[1;32m   1543\u001b[0m         \u001b[0msize\u001b[0m \u001b[0;34m=\u001b[0m \u001b[0mtuple\u001b[0m\u001b[0;34m(\u001b[0m\u001b[0msize\u001b[0m\u001b[0;34m)\u001b[0m\u001b[0;34m\u001b[0m\u001b[0m\n",
            "\u001b[0;32m/usr/local/lib/python3.6/dist-packages/PIL/Image.py\u001b[0m in \u001b[0;36mload\u001b[0;34m(self)\u001b[0m\n\u001b[1;32m    780\u001b[0m                 \u001b[0;32mif\u001b[0m \u001b[0mself\u001b[0m\u001b[0;34m.\u001b[0m\u001b[0mpyaccess\u001b[0m\u001b[0;34m:\u001b[0m\u001b[0;34m\u001b[0m\u001b[0m\n\u001b[1;32m    781\u001b[0m                     \u001b[0;32mreturn\u001b[0m \u001b[0mself\u001b[0m\u001b[0;34m.\u001b[0m\u001b[0mpyaccess\u001b[0m\u001b[0;34m\u001b[0m\u001b[0m\n\u001b[0;32m--> 782\u001b[0;31m             \u001b[0;32mreturn\u001b[0m \u001b[0mself\u001b[0m\u001b[0;34m.\u001b[0m\u001b[0mim\u001b[0m\u001b[0;34m.\u001b[0m\u001b[0mpixel_access\u001b[0m\u001b[0;34m(\u001b[0m\u001b[0mself\u001b[0m\u001b[0;34m.\u001b[0m\u001b[0mreadonly\u001b[0m\u001b[0;34m)\u001b[0m\u001b[0;34m\u001b[0m\u001b[0m\n\u001b[0m\u001b[1;32m    783\u001b[0m \u001b[0;34m\u001b[0m\u001b[0m\n\u001b[1;32m    784\u001b[0m     \u001b[0;32mdef\u001b[0m \u001b[0mverify\u001b[0m\u001b[0;34m(\u001b[0m\u001b[0mself\u001b[0m\u001b[0;34m)\u001b[0m\u001b[0;34m:\u001b[0m\u001b[0;34m\u001b[0m\u001b[0m\n",
            "\u001b[0;31mKeyboardInterrupt\u001b[0m: "
          ]
        }
      ]
    },
    {
      "metadata": {
        "id": "6ZsqNuODffIg",
        "colab_type": "text"
      },
      "cell_type": "markdown",
      "source": [
        "### Checking network learning"
      ]
    },
    {
      "metadata": {
        "id": "0qm3VPvQffIh",
        "colab_type": "text"
      },
      "cell_type": "markdown",
      "source": [
        "Mean reward over time"
      ]
    },
    {
      "metadata": {
        "id": "9k2LUcpnffIh",
        "colab_type": "code",
        "colab": {
          "base_uri": "https://localhost:8080/",
          "height": 285
        },
        "outputId": "24a93aa1-363d-4ce4-e4ad-0482ff00a000"
      },
      "cell_type": "code",
      "source": [
        "rMat = np.resize(np.array(rList),[len(rList)//100,100])\n",
        "rMean = np.average(rMat,1)\n",
        "plt.plot(rMean)"
      ],
      "execution_count": 11,
      "outputs": [
        {
          "output_type": "execute_result",
          "data": {
            "text/plain": [
              "[<matplotlib.lines.Line2D at 0x7f77fa2f17b8>]"
            ]
          },
          "metadata": {
            "tags": []
          },
          "execution_count": 11
        },
        {
          "output_type": "display_data",
          "data": {
            "image/png": "[encoded data removed]",
            "text/plain": [
              "<matplotlib.figure.Figure at 0x7f78594deeb8>"
            ]
          },
          "metadata": {
            "tags": []
          }
        }
      ]
    }
  ]
}